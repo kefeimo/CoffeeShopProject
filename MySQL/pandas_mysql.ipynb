{
 "cells": [
  {
   "cell_type": "code",
   "execution_count": 1,
   "id": "27d62332",
   "metadata": {},
   "outputs": [],
   "source": [
    "import pandas as pd\n",
    "import mysql.connector #package: mysql-connector-python"
   ]
  },
  {
   "cell_type": "code",
   "execution_count": 32,
   "id": "f7ecfccd",
   "metadata": {},
   "outputs": [
    {
     "data": {
      "text/html": [
       "<div>\n",
       "<style scoped>\n",
       "    .dataframe tbody tr th:only-of-type {\n",
       "        vertical-align: middle;\n",
       "    }\n",
       "\n",
       "    .dataframe tbody tr th {\n",
       "        vertical-align: top;\n",
       "    }\n",
       "\n",
       "    .dataframe thead th {\n",
       "        text-align: right;\n",
       "    }\n",
       "</style>\n",
       "<table border=\"1\" class=\"dataframe\">\n",
       "  <thead>\n",
       "    <tr style=\"text-align: right;\">\n",
       "      <th></th>\n",
       "      <th>Measurement date</th>\n",
       "      <th>Station code</th>\n",
       "      <th>Item code</th>\n",
       "      <th>Average value</th>\n",
       "      <th>Instrument status</th>\n",
       "    </tr>\n",
       "  </thead>\n",
       "  <tbody>\n",
       "    <tr>\n",
       "      <th>0</th>\n",
       "      <td>2017-01-01 00:00</td>\n",
       "      <td>101</td>\n",
       "      <td>1</td>\n",
       "      <td>0.004</td>\n",
       "      <td>0</td>\n",
       "    </tr>\n",
       "    <tr>\n",
       "      <th>1</th>\n",
       "      <td>2017-01-01 00:00</td>\n",
       "      <td>101</td>\n",
       "      <td>3</td>\n",
       "      <td>0.059</td>\n",
       "      <td>0</td>\n",
       "    </tr>\n",
       "    <tr>\n",
       "      <th>2</th>\n",
       "      <td>2017-01-01 00:00</td>\n",
       "      <td>101</td>\n",
       "      <td>5</td>\n",
       "      <td>1.200</td>\n",
       "      <td>0</td>\n",
       "    </tr>\n",
       "    <tr>\n",
       "      <th>3</th>\n",
       "      <td>2017-01-01 00:00</td>\n",
       "      <td>101</td>\n",
       "      <td>6</td>\n",
       "      <td>0.002</td>\n",
       "      <td>0</td>\n",
       "    </tr>\n",
       "    <tr>\n",
       "      <th>4</th>\n",
       "      <td>2017-01-01 00:00</td>\n",
       "      <td>101</td>\n",
       "      <td>8</td>\n",
       "      <td>73.000</td>\n",
       "      <td>0</td>\n",
       "    </tr>\n",
       "  </tbody>\n",
       "</table>\n",
       "</div>"
      ],
      "text/plain": [
       "   Measurement date  Station code  Item code  Average value  Instrument status\n",
       "0  2017-01-01 00:00           101          1          0.004                  0\n",
       "1  2017-01-01 00:00           101          3          0.059                  0\n",
       "2  2017-01-01 00:00           101          5          1.200                  0\n",
       "3  2017-01-01 00:00           101          6          0.002                  0\n",
       "4  2017-01-01 00:00           101          8         73.000                  0"
      ]
     },
     "execution_count": 32,
     "metadata": {},
     "output_type": "execute_result"
    }
   ],
   "source": [
    "df = pd.read_csv(\"/home/hadoop/Desktop/SharedFolder/Measurement_info.csv\",sep=\",\")\n",
    "df.head()"
   ]
  },
  {
   "cell_type": "code",
   "execution_count": 3,
   "id": "8c93f19a",
   "metadata": {},
   "outputs": [
    {
     "name": "stdout",
     "output_type": "stream",
     "text": [
      "<class 'pandas.core.frame.DataFrame'>\n",
      "RangeIndex: 3885066 entries, 0 to 3885065\n",
      "Data columns (total 5 columns):\n",
      " #   Column             Dtype  \n",
      "---  ------             -----  \n",
      " 0   Measurement date   object \n",
      " 1   Station code       int64  \n",
      " 2   Item code          int64  \n",
      " 3   Average value      float64\n",
      " 4   Instrument status  int64  \n",
      "dtypes: float64(1), int64(3), object(1)\n",
      "memory usage: 148.2+ MB\n"
     ]
    }
   ],
   "source": [
    "df.info()"
   ]
  },
  {
   "cell_type": "code",
   "execution_count": 35,
   "id": "f45b4ff2",
   "metadata": {},
   "outputs": [],
   "source": [
    "df.columns = [col.lower().replace(\" \", \"_\") for col in list(df.columns)]"
   ]
  },
  {
   "cell_type": "code",
   "execution_count": 36,
   "id": "f11c0932",
   "metadata": {},
   "outputs": [
    {
     "name": "stdout",
     "output_type": "stream",
     "text": [
      "measurement_date :  ['2017-01-01 00:00' '2017-01-01 01:00' '2017-01-01 02:00' ...\n",
      " '2019-12-31 21:00' '2019-12-31 22:00' '2019-12-31 23:00']\n",
      "station_code :  [101 102 103 104 105 106 107 108 109 110 111 112 113 114 115 116 117 118\n",
      " 119 120 121 122 123 124 125]\n",
      "item_code :  [1 3 5 6 8 9]\n",
      "average_value :  [4.00e-03 5.90e-02 1.20e+00 ... 5.50e+00 1.72e+01 1.76e-01]\n",
      "instrument_status :  [0 9 4 8 1 2]\n"
     ]
    }
   ],
   "source": [
    "for col in df.columns:\n",
    "    print(col, \": \", df[col].unique())\n",
    "# df.unique()"
   ]
  },
  {
   "cell_type": "code",
   "execution_count": 25,
   "id": "2949f1f4",
   "metadata": {},
   "outputs": [
    {
     "name": "stdout",
     "output_type": "stream",
     "text": [
      "6256.0 -1.0\n"
     ]
    }
   ],
   "source": [
    "print(df[\"average_value\"].max(), df[\"average_value\"].min())"
   ]
  },
  {
   "cell_type": "code",
   "execution_count": null,
   "id": "4a0681f3",
   "metadata": {},
   "outputs": [],
   "source": [
    "# part zero: prep the schema with sqlalchemy"
   ]
  },
  {
   "cell_type": "code",
   "execution_count": 22,
   "id": "368252b8",
   "metadata": {},
   "outputs": [],
   "source": [
    "from sqlalchemy import create_engine, MetaData, Table, Column\n",
    "from sqlalchemy import Integer, Numeric, String, ForeignKey, DateTime"
   ]
  },
  {
   "cell_type": "code",
   "execution_count": 38,
   "id": "02da6bff",
   "metadata": {},
   "outputs": [],
   "source": [
    "# a minimal schema\n",
    "metadata = MetaData()\n",
    "\n",
    "schema_station = Table('station', metadata,\n",
    "    Column('measurement_date', DateTime() ),\n",
    "    Column('station_code', Integer()),\n",
    "    Column('item_code', Integer()),\n",
    "    Column('average_value', Numeric(8, 3)),\n",
    "    Column('instrument_status', Integer()),\n",
    ")"
   ]
  },
  {
   "cell_type": "code",
   "execution_count": 54,
   "id": "e5ad7749",
   "metadata": {},
   "outputs": [],
   "source": [
    "engine_memory = create_engine('sqlite://')\n",
    "\n",
    "metadata.create_all(engine_memory)"
   ]
  },
  {
   "cell_type": "code",
   "execution_count": 56,
   "id": "e76e9bd7",
   "metadata": {},
   "outputs": [],
   "source": [
    "df.to_sql(\"station\", con=engine_memory, index=False, if_exists=\"replace\")"
   ]
  },
  {
   "cell_type": "code",
   "execution_count": 58,
   "id": "ccb239a8",
   "metadata": {},
   "outputs": [
    {
     "data": {
      "text/plain": [
       "array(['CREATE TABLE station (\\n\\tmeasurement_date TEXT, \\n\\tstation_code BIGINT, \\n\\titem_code BIGINT, \\n\\taverage_value FLOAT, \\n\\tinstrument_status BIGINT\\n)'],\n",
       "      dtype=object)"
      ]
     },
     "execution_count": 58,
     "metadata": {},
     "output_type": "execute_result"
    }
   ],
   "source": [
    "# check schema\n",
    "sql_str = \"\"\"\n",
    "SELECT sql FROM sqlite_master WHERE name='station';  \n",
    "\"\"\"\n",
    "results = pd.read_sql(sql_str, engine_memory)\n",
    "results.sql.values"
   ]
  },
  {
   "cell_type": "code",
   "execution_count": 49,
   "id": "07bedd0d",
   "metadata": {},
   "outputs": [
    {
     "data": {
      "text/plain": [
       "array(['CREATE TABLE station1 (\\n\\tmeasurement_date TEXT, \\n\\tstation_code BIGINT, \\n\\titem_code BIGINT, \\n\\taverage_value FLOAT, \\n\\tinstrument_status BIGINT\\n)'],\n",
       "      dtype=object)"
      ]
     },
     "execution_count": 49,
     "metadata": {},
     "output_type": "execute_result"
    }
   ],
   "source": [
    "sql_str = \"\"\"\n",
    "SELECT sql FROM sqlite_master WHERE name='station1';  \n",
    "\"\"\"\n",
    "results = pd.read_sql(sql_str, engine_memory)\n",
    "results.sql.values"
   ]
  },
  {
   "cell_type": "code",
   "execution_count": 41,
   "id": "b9a05620",
   "metadata": {},
   "outputs": [
    {
     "data": {
      "text/html": [
       "<div>\n",
       "<style scoped>\n",
       "    .dataframe tbody tr th:only-of-type {\n",
       "        vertical-align: middle;\n",
       "    }\n",
       "\n",
       "    .dataframe tbody tr th {\n",
       "        vertical-align: top;\n",
       "    }\n",
       "\n",
       "    .dataframe thead th {\n",
       "        text-align: right;\n",
       "    }\n",
       "</style>\n",
       "<table border=\"1\" class=\"dataframe\">\n",
       "  <thead>\n",
       "    <tr style=\"text-align: right;\">\n",
       "      <th></th>\n",
       "      <th>index</th>\n",
       "      <th>measurement_date</th>\n",
       "      <th>station_code</th>\n",
       "      <th>item_code</th>\n",
       "      <th>average_value</th>\n",
       "      <th>instrument_status</th>\n",
       "    </tr>\n",
       "  </thead>\n",
       "  <tbody>\n",
       "    <tr>\n",
       "      <th>0</th>\n",
       "      <td>0</td>\n",
       "      <td>2017-01-01 00:00</td>\n",
       "      <td>101</td>\n",
       "      <td>1</td>\n",
       "      <td>0.004</td>\n",
       "      <td>0</td>\n",
       "    </tr>\n",
       "    <tr>\n",
       "      <th>1</th>\n",
       "      <td>1</td>\n",
       "      <td>2017-01-01 00:00</td>\n",
       "      <td>101</td>\n",
       "      <td>3</td>\n",
       "      <td>0.059</td>\n",
       "      <td>0</td>\n",
       "    </tr>\n",
       "    <tr>\n",
       "      <th>2</th>\n",
       "      <td>2</td>\n",
       "      <td>2017-01-01 00:00</td>\n",
       "      <td>101</td>\n",
       "      <td>5</td>\n",
       "      <td>1.200</td>\n",
       "      <td>0</td>\n",
       "    </tr>\n",
       "    <tr>\n",
       "      <th>3</th>\n",
       "      <td>3</td>\n",
       "      <td>2017-01-01 00:00</td>\n",
       "      <td>101</td>\n",
       "      <td>6</td>\n",
       "      <td>0.002</td>\n",
       "      <td>0</td>\n",
       "    </tr>\n",
       "    <tr>\n",
       "      <th>4</th>\n",
       "      <td>4</td>\n",
       "      <td>2017-01-01 00:00</td>\n",
       "      <td>101</td>\n",
       "      <td>8</td>\n",
       "      <td>73.000</td>\n",
       "      <td>0</td>\n",
       "    </tr>\n",
       "  </tbody>\n",
       "</table>\n",
       "</div>"
      ],
      "text/plain": [
       "   index  measurement_date  station_code  item_code  average_value  \\\n",
       "0      0  2017-01-01 00:00           101          1          0.004   \n",
       "1      1  2017-01-01 00:00           101          3          0.059   \n",
       "2      2  2017-01-01 00:00           101          5          1.200   \n",
       "3      3  2017-01-01 00:00           101          6          0.002   \n",
       "4      4  2017-01-01 00:00           101          8         73.000   \n",
       "\n",
       "   instrument_status  \n",
       "0                  0  \n",
       "1                  0  \n",
       "2                  0  \n",
       "3                  0  \n",
       "4                  0  "
      ]
     },
     "execution_count": 41,
     "metadata": {},
     "output_type": "execute_result"
    }
   ],
   "source": [
    "sql_str = \"\"\"\n",
    "select * from station\n",
    "\"\"\"\n",
    "results = pd.read_sql(sql_str, engine_memory)\n",
    "results.head()"
   ]
  },
  {
   "cell_type": "code",
   "execution_count": 42,
   "id": "0311e808",
   "metadata": {},
   "outputs": [
    {
     "name": "stdout",
     "output_type": "stream",
     "text": [
      "<class 'pandas.core.frame.DataFrame'>\n",
      "RangeIndex: 3885066 entries, 0 to 3885065\n",
      "Data columns (total 6 columns):\n",
      " #   Column             Dtype  \n",
      "---  ------             -----  \n",
      " 0   index              int64  \n",
      " 1   measurement_date   object \n",
      " 2   station_code       int64  \n",
      " 3   item_code          int64  \n",
      " 4   average_value      float64\n",
      " 5   instrument_status  int64  \n",
      "dtypes: float64(1), int64(4), object(1)\n",
      "memory usage: 177.8+ MB\n"
     ]
    }
   ],
   "source": [
    "results.info()"
   ]
  },
  {
   "cell_type": "code",
   "execution_count": null,
   "id": "353e81ba",
   "metadata": {},
   "outputs": [],
   "source": []
  },
  {
   "cell_type": "code",
   "execution_count": 4,
   "id": "9d7c4b4c",
   "metadata": {},
   "outputs": [],
   "source": [
    "# part I: mysql-connector-python \n",
    "# https://dev.mysql.com/doc/connector-python/en/"
   ]
  },
  {
   "cell_type": "code",
   "execution_count": 5,
   "id": "7c40b811",
   "metadata": {},
   "outputs": [],
   "source": [
    "# prep for connection\n",
    "host = \"sql450.main-hosting.eu\"\n",
    "db = \"u820202695_dev1\"\n",
    "user = \"u820202695_root\"\n",
    "passwd = \"Root0000\"###SHOULD BE KEPT HIGHLY SECRETIVE!!!!"
   ]
  },
  {
   "cell_type": "code",
   "execution_count": 6,
   "id": "1b8caaab",
   "metadata": {},
   "outputs": [
    {
     "name": "stdout",
     "output_type": "stream",
     "text": [
      "{'Tables_in_u820202695_dev1': 'first_test'}\n"
     ]
    }
   ],
   "source": [
    "mydb = mysql.connector.connect(\n",
    "  host=host,\n",
    "  user=user,\n",
    "  password=passwd,\n",
    "  database=db\n",
    ")\n",
    "\n",
    "mycursor = mydb.cursor(dictionary=True) # allow return column names\n",
    "\n",
    "mycursor.execute(\"SHOW TABLES\")\n",
    "\n",
    "myresult = mycursor.fetchall()\n",
    "\n",
    "for x in myresult:\n",
    "  print(x)\n",
    "\n",
    "mycursor.close()\n",
    "mydb.close()"
   ]
  },
  {
   "cell_type": "code",
   "execution_count": 7,
   "id": "ac37683a",
   "metadata": {},
   "outputs": [
    {
     "name": "stdout",
     "output_type": "stream",
     "text": [
      "[{'Tables_in_u820202695_dev1': 'first_test'}]\n"
     ]
    },
    {
     "data": {
      "text/html": [
       "<div>\n",
       "<style scoped>\n",
       "    .dataframe tbody tr th:only-of-type {\n",
       "        vertical-align: middle;\n",
       "    }\n",
       "\n",
       "    .dataframe tbody tr th {\n",
       "        vertical-align: top;\n",
       "    }\n",
       "\n",
       "    .dataframe thead th {\n",
       "        text-align: right;\n",
       "    }\n",
       "</style>\n",
       "<table border=\"1\" class=\"dataframe\">\n",
       "  <thead>\n",
       "    <tr style=\"text-align: right;\">\n",
       "      <th></th>\n",
       "      <th>Tables_in_u820202695_dev1</th>\n",
       "    </tr>\n",
       "  </thead>\n",
       "  <tbody>\n",
       "    <tr>\n",
       "      <th>0</th>\n",
       "      <td>first_test</td>\n",
       "    </tr>\n",
       "  </tbody>\n",
       "</table>\n",
       "</div>"
      ],
      "text/plain": [
       "  Tables_in_u820202695_dev1\n",
       "0                first_test"
      ]
     },
     "execution_count": 7,
     "metadata": {},
     "output_type": "execute_result"
    }
   ],
   "source": [
    "# note the connect need to establish everytime when execute a query\n",
    "# write an wrapper for the connection init\n",
    "def mysql_executor(conn_para, sql_str):\n",
    "\n",
    "    mydb = mysql.connector.connect(**conn_para)\n",
    "    mycursor = mydb.cursor(dictionary=True) \n",
    "    mycursor.execute(sql_str)\n",
    "    myresult = mycursor.fetchall()\n",
    "#     for x in myresult:\n",
    "#       print(x)\n",
    "\n",
    "    mycursor.close()\n",
    "    mydb.close()\n",
    "    return myresult\n",
    "\n",
    "# test #1   \n",
    "para_dict = dict(host = \"sql450.main-hosting.eu\",\n",
    "                 db = \"u820202695_dev1\",\n",
    "                 user = \"u820202695_root\",\n",
    "                 passwd = \"Root0000\")\n",
    "result = mysql_executor(para_dict, \"SHOW TABLES\")\n",
    "print(result)\n",
    "pd.DataFrame(result)\n",
    "# mysql_connector()"
   ]
  },
  {
   "cell_type": "code",
   "execution_count": 8,
   "id": "228ea3b4",
   "metadata": {},
   "outputs": [
    {
     "data": {
      "text/html": [
       "<div>\n",
       "<style scoped>\n",
       "    .dataframe tbody tr th:only-of-type {\n",
       "        vertical-align: middle;\n",
       "    }\n",
       "\n",
       "    .dataframe tbody tr th {\n",
       "        vertical-align: top;\n",
       "    }\n",
       "\n",
       "    .dataframe thead th {\n",
       "        text-align: right;\n",
       "    }\n",
       "</style>\n",
       "<table border=\"1\" class=\"dataframe\">\n",
       "  <thead>\n",
       "    <tr style=\"text-align: right;\">\n",
       "      <th></th>\n",
       "      <th>recipe_id</th>\n",
       "      <th>recipe_name</th>\n",
       "    </tr>\n",
       "  </thead>\n",
       "  <tbody>\n",
       "    <tr>\n",
       "      <th>0</th>\n",
       "      <td>3</td>\n",
       "      <td>Grilled Cheese</td>\n",
       "    </tr>\n",
       "    <tr>\n",
       "      <th>1</th>\n",
       "      <td>1</td>\n",
       "      <td>Tacos</td>\n",
       "    </tr>\n",
       "  </tbody>\n",
       "</table>\n",
       "</div>"
      ],
      "text/plain": [
       "   recipe_id     recipe_name\n",
       "0          3  Grilled Cheese\n",
       "1          1           Tacos"
      ]
     },
     "execution_count": 8,
     "metadata": {},
     "output_type": "execute_result"
    }
   ],
   "source": [
    "# test #2\n",
    "sql_str = \"\"\"\n",
    "select * from first_test\n",
    "limit 2;\n",
    "\"\"\"\n",
    "result = mysql_executor(para_dict, sql_str)\n",
    "pd.DataFrame(result)"
   ]
  },
  {
   "cell_type": "code",
   "execution_count": 9,
   "id": "2a7f7f8f",
   "metadata": {},
   "outputs": [],
   "source": [
    "# part II use sqlalchemy\n",
    "\n",
    "# ref: SQLAlchemy 1.4 Documentation: MySQL and MariaDB\n",
    "# https://docs.sqlalchemy.org/en/14/dialects/mysql.html"
   ]
  },
  {
   "cell_type": "code",
   "execution_count": 10,
   "id": "edca7bed",
   "metadata": {},
   "outputs": [],
   "source": [
    "from sqlalchemy import create_engine\n",
    "import pymysql \n",
    "#https://anaconda.org/anaconda/pymysql\n",
    "\n",
    "# pymysql is light-weighted comapring to mysql-connector-python\n",
    "# we add another layer of abstraction (sqlalchemy) to handle error and transaction"
   ]
  },
  {
   "cell_type": "code",
   "execution_count": 11,
   "id": "b26cafd1",
   "metadata": {},
   "outputs": [
    {
     "data": {
      "text/html": [
       "<div>\n",
       "<style scoped>\n",
       "    .dataframe tbody tr th:only-of-type {\n",
       "        vertical-align: middle;\n",
       "    }\n",
       "\n",
       "    .dataframe tbody tr th {\n",
       "        vertical-align: top;\n",
       "    }\n",
       "\n",
       "    .dataframe thead th {\n",
       "        text-align: right;\n",
       "    }\n",
       "</style>\n",
       "<table border=\"1\" class=\"dataframe\">\n",
       "  <thead>\n",
       "    <tr style=\"text-align: right;\">\n",
       "      <th></th>\n",
       "      <th>recipe_id</th>\n",
       "      <th>recipe_name</th>\n",
       "    </tr>\n",
       "  </thead>\n",
       "  <tbody>\n",
       "    <tr>\n",
       "      <th>0</th>\n",
       "      <td>3</td>\n",
       "      <td>Grilled Cheese</td>\n",
       "    </tr>\n",
       "    <tr>\n",
       "      <th>1</th>\n",
       "      <td>1</td>\n",
       "      <td>Tacos</td>\n",
       "    </tr>\n",
       "  </tbody>\n",
       "</table>\n",
       "</div>"
      ],
      "text/plain": [
       "   recipe_id     recipe_name\n",
       "0          3  Grilled Cheese\n",
       "1          1           Tacos"
      ]
     },
     "execution_count": 11,
     "metadata": {},
     "output_type": "execute_result"
    }
   ],
   "source": [
    "host = \"sql450.main-hosting.eu\"\n",
    "db = \"u820202695_dev1\"\n",
    "user = \"u820202695_root\"\n",
    "passwd = \"Root0000\"\n",
    "\n",
    "sql_str = \"\"\"\n",
    "select * from first_test\n",
    "limit 2;\n",
    "\"\"\"\n",
    "\n",
    "# the syntax is mysql+pymysql://<user>:<password>@<host>[:<port>]/<dbname>\n",
    "conn_para = f\"mysql+pymysql://{user}:{passwd}@{host}/{db}\" \n",
    "engine = create_engine(conn_para, pool_recycle=3600, pool_pre_ping=True)\n",
    "my_data = pd.read_sql(sql_str,engine)\n",
    "my_data"
   ]
  },
  {
   "cell_type": "code",
   "execution_count": 12,
   "id": "14351dba",
   "metadata": {},
   "outputs": [
    {
     "data": {
      "text/html": [
       "<div>\n",
       "<style scoped>\n",
       "    .dataframe tbody tr th:only-of-type {\n",
       "        vertical-align: middle;\n",
       "    }\n",
       "\n",
       "    .dataframe tbody tr th {\n",
       "        vertical-align: top;\n",
       "    }\n",
       "\n",
       "    .dataframe thead th {\n",
       "        text-align: right;\n",
       "    }\n",
       "</style>\n",
       "<table border=\"1\" class=\"dataframe\">\n",
       "  <thead>\n",
       "    <tr style=\"text-align: right;\">\n",
       "      <th></th>\n",
       "      <th>recipe_id</th>\n",
       "      <th>recipe_name</th>\n",
       "    </tr>\n",
       "  </thead>\n",
       "  <tbody>\n",
       "    <tr>\n",
       "      <th>0</th>\n",
       "      <td>2</td>\n",
       "      <td>Tomato Soup</td>\n",
       "    </tr>\n",
       "  </tbody>\n",
       "</table>\n",
       "</div>"
      ],
      "text/plain": [
       "   recipe_id  recipe_name\n",
       "0          2  Tomato Soup"
      ]
     },
     "execution_count": 12,
     "metadata": {},
     "output_type": "execute_result"
    }
   ],
   "source": [
    "# By default, MySQL closes connections idle for more than eight\n",
    "# hours. To work around this issue, use pool_recycle=3600 when\n",
    "# creating an engine, as shown in the example.\n",
    "\n",
    "# The create_engine function returns an instance of an engine;\n",
    "# however, it does not actually open a connection until an action is\n",
    "# called that would require a connection, such as a query.\n",
    "# In other words, we don't have establish connection everytime we query\n",
    "\n",
    "\n",
    "sql_str = \"\"\"\n",
    "select * from first_test\n",
    "where recipe_id=2\n",
    "limit 3;\n",
    "\"\"\"\n",
    "# engine = create_engine(conn_para, pool_recycle=3600, pool_pre_ping=True)\n",
    "results = engine.execute(sql_str)\n",
    "# results.fetchall()\n",
    "# results.keys()\n",
    "pd.DataFrame(data=results.fetchall(), columns=results.keys())\n"
   ]
  },
  {
   "cell_type": "code",
   "execution_count": 14,
   "id": "d1f5660b",
   "metadata": {},
   "outputs": [
    {
     "data": {
      "text/plain": [
       "Table('first_test', MetaData(), Column('recipe_id', INTEGER(display_width=11), table=<first_test>, primary_key=True, nullable=False), Column('recipe_name', VARCHAR(collation='utf8mb4_unicode_ci', length=30), table=<first_test>, nullable=False), schema=None)"
      ]
     },
     "execution_count": 14,
     "metadata": {},
     "output_type": "execute_result"
    }
   ],
   "source": [
    "# retieve schema (method 1)\n",
    "from sqlalchemy import MetaData, Table\n",
    "metadata = MetaData()\n",
    "table = Table('first_test', metadata, autoload_with=engine)\n",
    "table"
   ]
  },
  {
   "cell_type": "code",
   "execution_count": 15,
   "id": "fffbf090",
   "metadata": {},
   "outputs": [
    {
     "data": {
      "text/plain": [
       "[Column('recipe_id', INTEGER(display_width=11), table=<first_test>, primary_key=True, nullable=False),\n",
       " Column('recipe_name', VARCHAR(collation='utf8mb4_unicode_ci', length=30), table=<first_test>, nullable=False)]"
      ]
     },
     "execution_count": 15,
     "metadata": {},
     "output_type": "execute_result"
    }
   ],
   "source": [
    "# retrieve schema method 2 (recommanded)\n",
    "metadata = MetaData()\n",
    "metadata.reflect(bind=engine)\n",
    "# metadata.create_all(engine)\n",
    "\n",
    "show_tables = metadata.tables.keys()\n",
    "show_tables\n",
    "\n",
    "# view schema of the \"1st\" table\n",
    "table_1st = list(show_tables)[0]\n",
    "Table(table_1st, metadata, autoload_with=engine).columns.values()"
   ]
  },
  {
   "cell_type": "code",
   "execution_count": 16,
   "id": "d8d70b95",
   "metadata": {},
   "outputs": [
    {
     "data": {
      "text/html": [
       "<div>\n",
       "<style scoped>\n",
       "    .dataframe tbody tr th:only-of-type {\n",
       "        vertical-align: middle;\n",
       "    }\n",
       "\n",
       "    .dataframe tbody tr th {\n",
       "        vertical-align: top;\n",
       "    }\n",
       "\n",
       "    .dataframe thead th {\n",
       "        text-align: right;\n",
       "    }\n",
       "</style>\n",
       "<table border=\"1\" class=\"dataframe\">\n",
       "  <thead>\n",
       "    <tr style=\"text-align: right;\">\n",
       "      <th></th>\n",
       "      <th>Field</th>\n",
       "      <th>Type</th>\n",
       "      <th>Null</th>\n",
       "      <th>Key</th>\n",
       "      <th>Default</th>\n",
       "      <th>Extra</th>\n",
       "    </tr>\n",
       "  </thead>\n",
       "  <tbody>\n",
       "    <tr>\n",
       "      <th>0</th>\n",
       "      <td>recipe_id</td>\n",
       "      <td>int(11)</td>\n",
       "      <td>NO</td>\n",
       "      <td>PRI</td>\n",
       "      <td>None</td>\n",
       "      <td></td>\n",
       "    </tr>\n",
       "    <tr>\n",
       "      <th>1</th>\n",
       "      <td>recipe_name</td>\n",
       "      <td>varchar(30)</td>\n",
       "      <td>NO</td>\n",
       "      <td>UNI</td>\n",
       "      <td>None</td>\n",
       "      <td></td>\n",
       "    </tr>\n",
       "  </tbody>\n",
       "</table>\n",
       "</div>"
      ],
      "text/plain": [
       "         Field         Type Null  Key Default Extra\n",
       "0    recipe_id      int(11)   NO  PRI    None      \n",
       "1  recipe_name  varchar(30)   NO  UNI    None      "
      ]
     },
     "execution_count": 16,
     "metadata": {},
     "output_type": "execute_result"
    }
   ],
   "source": [
    "# verify using legacy sql method\n",
    "sql_str = \"\"\"\n",
    "describe first_test;\n",
    "\"\"\"\n",
    "results = engine.execute(sql_str)\n",
    "# results.fetchall()\n",
    "# results.keys()\n",
    "pd.DataFrame(data=results.fetchall(), columns=results.keys())"
   ]
  },
  {
   "cell_type": "markdown",
   "id": "518e2de3",
   "metadata": {},
   "source": [
    "# SQLAlchemy Essential"
   ]
  },
  {
   "cell_type": "code",
   "execution_count": null,
   "id": "27593b2c",
   "metadata": {},
   "outputs": [],
   "source": []
  },
  {
   "cell_type": "code",
   "execution_count": null,
   "id": "f03a80da",
   "metadata": {},
   "outputs": [],
   "source": [
    "# Types\n",
    "# ....\n"
   ]
  },
  {
   "cell_type": "code",
   "execution_count": 17,
   "id": "d1bcb999",
   "metadata": {},
   "outputs": [],
   "source": [
    "# Metadata\n",
    "# Metadata is used to tie together the database structure so it can be quickly accessed\n",
    "# inside SQLAlchemy.\n",
    "from sqlalchemy import MetaData\n",
    "metadata = MetaData()"
   ]
  },
  {
   "cell_type": "code",
   "execution_count": 18,
   "id": "4cb4434c",
   "metadata": {},
   "outputs": [],
   "source": [
    "# Tables\n",
    "# Table objects are initialized in SQLAlchemy Core in a supplied MetaData object by\n",
    "# calling the Table constructor with the table name and metadata; any additional arguments\n",
    "# are assumed to be column objects.\n",
    "\n",
    "from sqlalchemy import Table, Column, Integer, Numeric, String, ForeignKey\n",
    "\n",
    "# example 1\n",
    "cookies = Table('cookies', metadata,\n",
    "Column('cookie_id', Integer(), primary_key=True),\n",
    "Column('cookie_name', String(50), index=True),\n",
    "Column('cookie_recipe_url', String(255)),\n",
    "Column('cookie_sku', String(55)),\n",
    "Column('quantity', Integer()),\n",
    "Column('unit_cost', Numeric(12, 2))\n",
    ")"
   ]
  },
  {
   "cell_type": "code",
   "execution_count": 19,
   "id": "51e14991",
   "metadata": {},
   "outputs": [
    {
     "name": "stdout",
     "output_type": "stream",
     "text": [
      "INSERT INTO cookies (cookie_name, cookie_recipe_url, cookie_sku, quantity, unit_cost) VALUES (:cookie_name, :cookie_recipe_url, :cookie_sku, :quantity, :unit_cost)\n"
     ]
    }
   ],
   "source": [
    "ins = cookies.insert().values(\n",
    "cookie_name=\"chocolate chip\",\n",
    "cookie_recipe_url=\"http://some.aweso.me/cookie/recipe.html\",\n",
    "cookie_sku=\"CC01\",\n",
    "quantity=\"12\",\n",
    "unit_cost=\"0.50\"\n",
    ")\n",
    "print(str(ins))"
   ]
  },
  {
   "cell_type": "code",
   "execution_count": null,
   "id": "2c303956",
   "metadata": {},
   "outputs": [],
   "source": []
  },
  {
   "cell_type": "markdown",
   "id": "b00b972b",
   "metadata": {},
   "source": [
    "# what's next\n",
    "\n",
    "- [Transaction Isolation Level](https://docs.sqlalchemy.org/en/14/dialects/mysql.html#transaction-isolation-level)\n"
   ]
  },
  {
   "cell_type": "code",
   "execution_count": null,
   "id": "d686779a",
   "metadata": {},
   "outputs": [],
   "source": []
  }
 ],
 "metadata": {
  "kernelspec": {
   "display_name": "Python 3",
   "language": "python",
   "name": "python3"
  },
  "language_info": {
   "codemirror_mode": {
    "name": "ipython",
    "version": 3
   },
   "file_extension": ".py",
   "mimetype": "text/x-python",
   "name": "python",
   "nbconvert_exporter": "python",
   "pygments_lexer": "ipython3",
   "version": "3.8.8"
  }
 },
 "nbformat": 4,
 "nbformat_minor": 5
}
