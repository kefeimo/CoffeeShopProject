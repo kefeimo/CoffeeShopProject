{
 "cells": [
  {
   "cell_type": "code",
   "execution_count": 1,
   "id": "7f032cba",
   "metadata": {},
   "outputs": [],
   "source": [
    "from sqlalchemy import MetaData\n",
    "metadata = MetaData()"
   ]
  },
  {
   "cell_type": "code",
   "execution_count": 2,
   "id": "0c1e39fd",
   "metadata": {},
   "outputs": [],
   "source": [
    "from datetime import datetime\n",
    "from sqlalchemy import Table, Column, Integer, Numeric, String, ForeignKey, DateTime\n",
    "from sqlalchemy import create_engine"
   ]
  },
  {
   "cell_type": "code",
   "execution_count": 3,
   "id": "169bba36",
   "metadata": {},
   "outputs": [],
   "source": [
    "# in memory\n",
    "engine = create_engine('sqlite:///:memory:')"
   ]
  },
  {
   "cell_type": "code",
   "execution_count": 4,
   "id": "4a37eceb",
   "metadata": {},
   "outputs": [],
   "source": [
    "cookies = Table('cookies', metadata,\n",
    "    Column('cookie_id', Integer(), primary_key=True),\n",
    "    Column('cookie_name', String(50), index=True),\n",
    "    Column('cookie_recipe_url', String(255)),\n",
    "    Column('cookie_sku', String(55)),\n",
    "    Column('quantity', Integer()),\n",
    "    Column('unit_cost', Numeric(12, 2))\n",
    ")"
   ]
  },
  {
   "cell_type": "code",
   "execution_count": 5,
   "id": "c2bd121a",
   "metadata": {},
   "outputs": [],
   "source": [
    "users = Table('users', metadata,\n",
    "    Column('user_id', Integer(), primary_key=True),\n",
    "    Column('username', String(15), nullable=False, unique=True),\n",
    "    Column('email_address', String(255), nullable=False),\n",
    "    Column('phone', String(20), nullable=False),\n",
    "    Column('password', String(25), nullable=False),\n",
    "    Column('created_on', DateTime(), default=datetime.now),\n",
    "    Column('updated_on', DateTime(), default=datetime.now, onupdate=datetime.now)\n",
    ")"
   ]
  },
  {
   "cell_type": "code",
   "execution_count": 6,
   "id": "61ce1233",
   "metadata": {},
   "outputs": [],
   "source": [
    "orders = Table('orders', metadata,\n",
    "    Column('order_id', Integer(), primary_key=True),\n",
    "    Column('user_id', ForeignKey('users.user_id')),\n",
    ")\n",
    "\n",
    "line_items = Table('line_items', metadata,\n",
    "    Column('line_items_id', Integer(), primary_key=True),\n",
    "    Column('order_id', ForeignKey('orders.order_id')),\n",
    "    Column('cookie_id', ForeignKey('cookies.cookie_id')),\n",
    "    Column('quantity', Integer()),\n",
    "    Column('extended_cost', Numeric(12, 2))\n",
    ")"
   ]
  },
  {
   "cell_type": "code",
   "execution_count": 7,
   "id": "a9c9ca77",
   "metadata": {},
   "outputs": [],
   "source": [
    "# persistent the tables associated with the metadata\n",
    "metadata.create_all(engine)"
   ]
  },
  {
   "cell_type": "code",
   "execution_count": 8,
   "id": "d2159346",
   "metadata": {},
   "outputs": [
    {
     "data": {
      "text/plain": [
       "dict_keys(['cookies', 'users', 'orders', 'line_items'])"
      ]
     },
     "execution_count": 8,
     "metadata": {},
     "output_type": "execute_result"
    }
   ],
   "source": [
    "# view schema\n",
    "show_tables = metadata.tables.keys()\n",
    "show_tables"
   ]
  },
  {
   "cell_type": "code",
   "execution_count": 9,
   "id": "730f7a88",
   "metadata": {},
   "outputs": [
    {
     "data": {
      "text/plain": [
       "[Column('cookie_id', Integer(), table=<cookies>, primary_key=True, nullable=False),\n",
       " Column('cookie_name', String(length=50), table=<cookies>),\n",
       " Column('cookie_recipe_url', String(length=255), table=<cookies>),\n",
       " Column('cookie_sku', String(length=55), table=<cookies>),\n",
       " Column('quantity', Integer(), table=<cookies>),\n",
       " Column('unit_cost', Numeric(precision=12, scale=2), table=<cookies>)]"
      ]
     },
     "execution_count": 9,
     "metadata": {},
     "output_type": "execute_result"
    }
   ],
   "source": [
    "# view schema cont'd\n",
    "some_table = Table(\"cookies\", metadata, autoload_with=engine)\n",
    "some_table\n",
    "Table(\"cookies\", metadata, autoload_with=engine).columns.values()\n",
    "\n",
    "# autoload is optional\n",
    "# Table(\"cookies\", metadata).columns.values()\n"
   ]
  },
  {
   "cell_type": "code",
   "execution_count": 11,
   "id": "02432589",
   "metadata": {},
   "outputs": [
    {
     "data": {
      "text/plain": [
       "[('CREATE TABLE cookies (\\n\\tcookie_id INTEGER NOT NULL, \\n\\tcookie_name VARCHAR(50), \\n\\tcookie_recipe_url VARCHAR(255), \\n\\tcookie_sku VARCHAR(55), \\n\\tquantity INTEGER, \\n\\tunit_cost NUMERIC(12, 2), \\n\\tPRIMARY KEY (cookie_id)\\n)',)]"
      ]
     },
     "execution_count": 11,
     "metadata": {},
     "output_type": "execute_result"
    }
   ],
   "source": [
    "# verify using legacy sql method (sqlite show schema is a bit ugly)\n",
    "sql_str = \"\"\"\n",
    "SELECT sql FROM sqlite_master WHERE name='cookies';\n",
    "\"\"\"\n",
    "results = engine.execute(sql_str)\n",
    "results.fetchall()\n"
   ]
  },
  {
   "cell_type": "code",
   "execution_count": 12,
   "id": "18962838",
   "metadata": {},
   "outputs": [
    {
     "data": {
      "text/html": [
       "<div>\n",
       "<style scoped>\n",
       "    .dataframe tbody tr th:only-of-type {\n",
       "        vertical-align: middle;\n",
       "    }\n",
       "\n",
       "    .dataframe tbody tr th {\n",
       "        vertical-align: top;\n",
       "    }\n",
       "\n",
       "    .dataframe thead th {\n",
       "        text-align: right;\n",
       "    }\n",
       "</style>\n",
       "<table border=\"1\" class=\"dataframe\">\n",
       "  <thead>\n",
       "    <tr style=\"text-align: right;\">\n",
       "      <th></th>\n",
       "      <th>cookie_id</th>\n",
       "      <th>cookie_name</th>\n",
       "      <th>cookie_recipe_url</th>\n",
       "      <th>cookie_sku</th>\n",
       "      <th>quantity</th>\n",
       "      <th>unit_cost</th>\n",
       "    </tr>\n",
       "  </thead>\n",
       "  <tbody>\n",
       "  </tbody>\n",
       "</table>\n",
       "</div>"
      ],
      "text/plain": [
       "Empty DataFrame\n",
       "Columns: [cookie_id, cookie_name, cookie_recipe_url, cookie_sku, quantity, unit_cost]\n",
       "Index: []"
      ]
     },
     "execution_count": 12,
     "metadata": {},
     "output_type": "execute_result"
    }
   ],
   "source": [
    "# sqlalchemy with pandas (note: there is no data yet)\n",
    "table_df = pd.read_sql_table(\n",
    "    \"cookies\",\n",
    "    con=engine\n",
    ")\n",
    "table_df"
   ]
  },
  {
   "cell_type": "code",
   "execution_count": 13,
   "id": "eb2e3542",
   "metadata": {},
   "outputs": [
    {
     "name": "stdout",
     "output_type": "stream",
     "text": [
      "<class 'pandas.core.frame.DataFrame'>\n",
      "Index: 0 entries\n",
      "Data columns (total 6 columns):\n",
      " #   Column             Non-Null Count  Dtype \n",
      "---  ------             --------------  ----- \n",
      " 0   cookie_id          0 non-null      int64 \n",
      " 1   cookie_name        0 non-null      object\n",
      " 2   cookie_recipe_url  0 non-null      object\n",
      " 3   cookie_sku         0 non-null      object\n",
      " 4   quantity           0 non-null      int64 \n",
      " 5   unit_cost          0 non-null      object\n",
      "dtypes: int64(2), object(4)\n",
      "memory usage: 0.0+ bytes\n"
     ]
    }
   ],
   "source": [
    "# note the pd.read_sql_table didn't reserve schema data type \n",
    "table_df.info()"
   ]
  },
  {
   "cell_type": "markdown",
   "id": "720f12b5",
   "metadata": {},
   "source": [
    "# Psrt II connect to an existing database remotely (MySQL)\n",
    "note: need to update engine (aka the connection)"
   ]
  },
  {
   "cell_type": "code",
   "execution_count": 22,
   "id": "6eb3ea20",
   "metadata": {},
   "outputs": [
    {
     "data": {
      "text/html": [
       "<div>\n",
       "<style scoped>\n",
       "    .dataframe tbody tr th:only-of-type {\n",
       "        vertical-align: middle;\n",
       "    }\n",
       "\n",
       "    .dataframe tbody tr th {\n",
       "        vertical-align: top;\n",
       "    }\n",
       "\n",
       "    .dataframe thead th {\n",
       "        text-align: right;\n",
       "    }\n",
       "</style>\n",
       "<table border=\"1\" class=\"dataframe\">\n",
       "  <thead>\n",
       "    <tr style=\"text-align: right;\">\n",
       "      <th></th>\n",
       "      <th>recipe_id</th>\n",
       "      <th>recipe_name</th>\n",
       "    </tr>\n",
       "  </thead>\n",
       "  <tbody>\n",
       "    <tr>\n",
       "      <th>0</th>\n",
       "      <td>3</td>\n",
       "      <td>Grilled Cheese</td>\n",
       "    </tr>\n",
       "    <tr>\n",
       "      <th>1</th>\n",
       "      <td>1</td>\n",
       "      <td>Tacos</td>\n",
       "    </tr>\n",
       "  </tbody>\n",
       "</table>\n",
       "</div>"
      ],
      "text/plain": [
       "   recipe_id     recipe_name\n",
       "0          3  Grilled Cheese\n",
       "1          1           Tacos"
      ]
     },
     "execution_count": 22,
     "metadata": {},
     "output_type": "execute_result"
    }
   ],
   "source": [
    "host = \"sql450.main-hosting.eu\"\n",
    "db = \"u820202695_dev1\"\n",
    "user = \"u820202695_root\"\n",
    "passwd = \"Root0000\"\n",
    "\n",
    "sql_str = \"\"\"\n",
    "select * from first_test\n",
    "limit 2;\n",
    "\"\"\"\n",
    "\n",
    "# the syntax is mysql+pymysql://<user>:<password>@<host>[:<port>]/<dbname>\n",
    "conn_para = f\"mysql+pymysql://{user}:{passwd}@{host}/{db}\" \n",
    "engine_remote = create_engine(conn_para, pool_recycle=3600, pool_pre_ping=True)\n",
    "my_data = pd.read_sql(sql_str,engine_remote)\n",
    "my_data"
   ]
  },
  {
   "cell_type": "code",
   "execution_count": 25,
   "id": "d020c224",
   "metadata": {},
   "outputs": [
    {
     "data": {
      "text/html": [
       "<div>\n",
       "<style scoped>\n",
       "    .dataframe tbody tr th:only-of-type {\n",
       "        vertical-align: middle;\n",
       "    }\n",
       "\n",
       "    .dataframe tbody tr th {\n",
       "        vertical-align: top;\n",
       "    }\n",
       "\n",
       "    .dataframe thead th {\n",
       "        text-align: right;\n",
       "    }\n",
       "</style>\n",
       "<table border=\"1\" class=\"dataframe\">\n",
       "  <thead>\n",
       "    <tr style=\"text-align: right;\">\n",
       "      <th></th>\n",
       "      <th>recipe_id</th>\n",
       "      <th>recipe_name</th>\n",
       "    </tr>\n",
       "  </thead>\n",
       "  <tbody>\n",
       "    <tr>\n",
       "      <th>0</th>\n",
       "      <td>3</td>\n",
       "      <td>Grilled Cheese</td>\n",
       "    </tr>\n",
       "    <tr>\n",
       "      <th>1</th>\n",
       "      <td>1</td>\n",
       "      <td>Tacos</td>\n",
       "    </tr>\n",
       "    <tr>\n",
       "      <th>2</th>\n",
       "      <td>2</td>\n",
       "      <td>Tomato Soup</td>\n",
       "    </tr>\n",
       "  </tbody>\n",
       "</table>\n",
       "</div>"
      ],
      "text/plain": [
       "   recipe_id     recipe_name\n",
       "0          3  Grilled Cheese\n",
       "1          1           Tacos\n",
       "2          2     Tomato Soup"
      ]
     },
     "execution_count": 25,
     "metadata": {},
     "output_type": "execute_result"
    }
   ],
   "source": [
    "# or pd.read_sql_table\n",
    "table_df = pd.read_sql_table(\n",
    "    \"first_test\",\n",
    "    con=engine_remote\n",
    ")\n",
    "table_df"
   ]
  },
  {
   "cell_type": "code",
   "execution_count": 16,
   "id": "bb1fe7dc",
   "metadata": {},
   "outputs": [
    {
     "data": {
      "text/plain": [
       "[Column('recipe_id', INTEGER(display_width=11), table=<first_test>, primary_key=True, nullable=False),\n",
       " Column('recipe_name', VARCHAR(collation='utf8mb4_unicode_ci', length=30), table=<first_test>, nullable=False)]"
      ]
     },
     "execution_count": 16,
     "metadata": {},
     "output_type": "execute_result"
    }
   ],
   "source": [
    "# view schema from existing metadata\n",
    "metadata_remote = MetaData()\n",
    "metadata_remote.reflect(bind=engine_remote)\n",
    "\n",
    "show_tables = metadata_remote.tables.keys()\n",
    "show_tables\n",
    "\n",
    "# view schema of the \"1st\" table\n",
    "table_1st = list(show_tables)[0]\n",
    "Table(table_1st, metadata, autoload_with=engine_remote).columns.values()"
   ]
  },
  {
   "cell_type": "code",
   "execution_count": 17,
   "id": "3753edcb",
   "metadata": {},
   "outputs": [
    {
     "data": {
      "text/html": [
       "<div>\n",
       "<style scoped>\n",
       "    .dataframe tbody tr th:only-of-type {\n",
       "        vertical-align: middle;\n",
       "    }\n",
       "\n",
       "    .dataframe tbody tr th {\n",
       "        vertical-align: top;\n",
       "    }\n",
       "\n",
       "    .dataframe thead th {\n",
       "        text-align: right;\n",
       "    }\n",
       "</style>\n",
       "<table border=\"1\" class=\"dataframe\">\n",
       "  <thead>\n",
       "    <tr style=\"text-align: right;\">\n",
       "      <th></th>\n",
       "      <th>Field</th>\n",
       "      <th>Type</th>\n",
       "      <th>Null</th>\n",
       "      <th>Key</th>\n",
       "      <th>Default</th>\n",
       "      <th>Extra</th>\n",
       "    </tr>\n",
       "  </thead>\n",
       "  <tbody>\n",
       "    <tr>\n",
       "      <th>0</th>\n",
       "      <td>recipe_id</td>\n",
       "      <td>int(11)</td>\n",
       "      <td>NO</td>\n",
       "      <td>PRI</td>\n",
       "      <td>None</td>\n",
       "      <td></td>\n",
       "    </tr>\n",
       "    <tr>\n",
       "      <th>1</th>\n",
       "      <td>recipe_name</td>\n",
       "      <td>varchar(30)</td>\n",
       "      <td>NO</td>\n",
       "      <td>UNI</td>\n",
       "      <td>None</td>\n",
       "      <td></td>\n",
       "    </tr>\n",
       "  </tbody>\n",
       "</table>\n",
       "</div>"
      ],
      "text/plain": [
       "         Field         Type Null  Key Default Extra\n",
       "0    recipe_id      int(11)   NO  PRI    None      \n",
       "1  recipe_name  varchar(30)   NO  UNI    None      "
      ]
     },
     "execution_count": 17,
     "metadata": {},
     "output_type": "execute_result"
    }
   ],
   "source": [
    "# verify using legacy sql method\n",
    "sql_str = \"\"\"\n",
    "describe first_test;\n",
    "\"\"\"\n",
    "results = engine_remote.execute(sql_str)\n",
    "# results.fetchall()\n",
    "# results.keys()\n",
    "pd.DataFrame(data=results.fetchall(), columns=results.keys())"
   ]
  },
  {
   "cell_type": "code",
   "execution_count": 19,
   "id": "9e6f091c",
   "metadata": {},
   "outputs": [
    {
     "data": {
      "text/plain": [
       "[Column('cookie_id', Integer(), table=<cookies>, primary_key=True, nullable=False),\n",
       " Column('cookie_name', String(length=50), table=<cookies>),\n",
       " Column('cookie_recipe_url', String(length=255), table=<cookies>),\n",
       " Column('cookie_sku', String(length=55), table=<cookies>),\n",
       " Column('quantity', Integer(), table=<cookies>),\n",
       " Column('unit_cost', Numeric(precision=12, scale=2), table=<cookies>)]"
      ]
     },
     "execution_count": 19,
     "metadata": {},
     "output_type": "execute_result"
    }
   ],
   "source": [
    "# note: the \n",
    "some_table = Table(\"cookies\", metadata, autoload_with=engine)\n",
    "some_table\n",
    "Table(\"cookies\", metadata, autoload_with=engine).columns.values()"
   ]
  },
  {
   "cell_type": "code",
   "execution_count": 20,
   "id": "8ba13dc4",
   "metadata": {},
   "outputs": [
    {
     "data": {
      "text/plain": [
       "[Column('cookie_id', Integer(), table=<cookies>, primary_key=True, nullable=False),\n",
       " Column('cookie_name', String(length=50), table=<cookies>),\n",
       " Column('cookie_recipe_url', String(length=255), table=<cookies>),\n",
       " Column('cookie_sku', String(length=55), table=<cookies>),\n",
       " Column('quantity', Integer(), table=<cookies>),\n",
       " Column('unit_cost', Numeric(precision=12, scale=2), table=<cookies>)]"
      ]
     },
     "execution_count": 20,
     "metadata": {},
     "output_type": "execute_result"
    }
   ],
   "source": [
    "some_table = Table(\"cookies\", metadata)\n",
    "some_table\n",
    "Table(\"cookies\", metadata).columns.values()"
   ]
  },
  {
   "cell_type": "code",
   "execution_count": 27,
   "id": "37469e13",
   "metadata": {},
   "outputs": [],
   "source": [
    "# persistent table\n",
    "# this time persistent tables associated with metadata (e.g., cookies, line_items, orders, users)\n",
    "# to remote database\n",
    "metadata.create_all(engine_remote)"
   ]
  },
  {
   "cell_type": "code",
   "execution_count": 28,
   "id": "e2daf9e7",
   "metadata": {},
   "outputs": [
    {
     "data": {
      "text/plain": [
       "dict_keys(['first_test', 'cookies', 'line_items', 'orders', 'users'])"
      ]
     },
     "execution_count": 28,
     "metadata": {},
     "output_type": "execute_result"
    }
   ],
   "source": [
    "# refresh the metadata (aka reflect)\n",
    "metadata_remote.reflect(bind=engine_remote)\n",
    "\n",
    "show_tables = metadata_remote.tables.keys()\n",
    "show_tables"
   ]
  },
  {
   "cell_type": "code",
   "execution_count": null,
   "id": "f47693be",
   "metadata": {},
   "outputs": [],
   "source": []
  }
 ],
 "metadata": {
  "kernelspec": {
   "display_name": "Python 3",
   "language": "python",
   "name": "python3"
  },
  "language_info": {
   "codemirror_mode": {
    "name": "ipython",
    "version": 3
   },
   "file_extension": ".py",
   "mimetype": "text/x-python",
   "name": "python",
   "nbconvert_exporter": "python",
   "pygments_lexer": "ipython3",
   "version": "3.8.8"
  }
 },
 "nbformat": 4,
 "nbformat_minor": 5
}
