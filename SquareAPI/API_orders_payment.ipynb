{
 "cells": [
  {
   "cell_type": "markdown",
   "id": "8319fc61",
   "metadata": {},
   "source": [
    "Content\n",
    "* 0. introduction\n",
    "* 1. sub-pipeline design: from simulator output (a spread sheet) to payments created\n",
    "* 2. details of the sub-pipeline:\n",
    "    * 2.1 load the spread sheet\n",
    "    * 2.2 create orders (with line-items ids)\n",
    "    * 2.3 pay the orders\n",
    "    * 2.4 relavant module (list orders, list payments, list items)\n",
    "* 3. Reflection and Discussion, what's next"
   ]
  },
  {
   "cell_type": "markdown",
   "id": "dc2327d7",
   "metadata": {},
   "source": [
    "# 0. Introduction\n",
    "The Orders API integrate parts of the Square ecosystem to track and manage the lifecycle of a purchase. The API can record purchase items, calculate totals, confirm payment, track an order's progress through fulfillment, and update a catalog inventory.\n",
    "\n",
    "Orders API sits in between catalog api and payments api in our pipeline. Historically, orders api and payments api together function as a transaction API (depreciated). So we will look closely at orders api and payments api.\n",
    "\n",
    "The Payments API provides the CreatePayment endpoint to take a payment. In this project we are implementing itemized transaction. In other words, we can not only track transaction amount but also the items involved in each transaction. This means we will need the order_id to for the CreatePayment endpoint.\n",
    "\n",
    "API and endpoint list in this notebook\n",
    "* locations.list_locations()\n",
    "* orders.create_order()\n",
    "* payments.create_payment()\n",
    "\n",
    "* catalog.list_catalog()\n",
    "* payments.list_payments()\n",
    "\n",
    "## Outcome\n",
    "At the end, we will provide a framework to wrap createOrder and createPayment in one function."
   ]
  },
  {
   "cell_type": "code",
   "execution_count": 1,
   "id": "eef6b5c1",
   "metadata": {},
   "outputs": [],
   "source": [
    "import pandas as pd"
   ]
  },
  {
   "cell_type": "code",
   "execution_count": 2,
   "id": "d926f7ee",
   "metadata": {},
   "outputs": [],
   "source": [
    "## Add this to the first block in your note book to display json\n",
    "import uuid\n",
    "from IPython.core.display import display, HTML\n",
    "\n",
    "import json\n",
    "\n",
    "class RenderJSON(object):\n",
    "    def __init__(self, json_data):\n",
    "        if isinstance(json_data, dict):\n",
    "            self.json_str = json.dumps(json_data)\n",
    "        else:\n",
    "            self.json_str = json_data\n",
    "        self.uuid = str(uuid.uuid4())\n",
    "        # This line is missed out in most of the versions of this script across the web, it is essential for this to work interleaved with print statements\n",
    "#         self._ipython_display_()\n",
    "        \n",
    "    def _ipython_display_(self):\n",
    "        display(HTML('<div id=\"{}\" style=\"height: auto; width:100%;\"></div>'.format(self.uuid)))\n",
    "        display(HTML(\"\"\"<script>\n",
    "        require([\"https://rawgit.com/caldwell/renderjson/master/renderjson.js\"], function() {\n",
    "          renderjson.set_show_to_level(1)\n",
    "          document.getElementById('%s').appendChild(renderjson(%s))\n",
    "        });</script>\n",
    "        \"\"\" % (self.uuid, self.json_str)))\n",
    "\n",
    "# Since this is copy-pasted wrongly(mostly) at a lot of places across the web, i'm putting the fixed, updated version here, mainly for self-reference\n",
    "\n",
    "\n",
    "## To use this function, call this, this now works even when you have a print statement before or after the RenderJSON call\n",
    "# RenderJSON(your_json)\n",
    "# RenderJSON(json.loads(result.text))"
   ]
  },
  {
   "cell_type": "markdown",
   "id": "68556235",
   "metadata": {},
   "source": [
    "# 1. Pipeline design\n",
    "The pipeline:\n",
    "create Items -> create Orders -> create Payments\n",
    "# 2. about the pipeline\n",
    "* 2.0 recap: the upstream: Items\n",
    "* 2.1 load the spread sheet (from simulator output)\n",
    "* 2.2 create orders (with line-items ids)\n",
    "* 2.3 pay the orders\n",
    "* 2.4 relavant module"
   ]
  },
  {
   "cell_type": "code",
   "execution_count": 3,
   "id": "fde5fe6a",
   "metadata": {},
   "outputs": [],
   "source": [
    "# module connection\n",
    "# sandbox connection to \"Square SandBox no2\"\n",
    "\n",
    "from square.client import Client\n",
    "sandbox_token = \"EAAAELeY2Gk_kgDuX7SFsmt-d3UzMTsdB9nRf2ew8EjO1wDdnpI1LwOV0KobTx4g\"\n",
    "\n",
    "client = Client(\n",
    "    access_token = sandbox_token,\n",
    "    environment='sandbox',\n",
    ")"
   ]
  },
  {
   "cell_type": "markdown",
   "id": "83e5823b",
   "metadata": {},
   "source": [
    "## 2.0 recap: retrieve items info"
   ]
  },
  {
   "cell_type": "code",
   "execution_count": 4,
   "id": "4aa9bd36",
   "metadata": {},
   "outputs": [
    {
     "data": {
      "text/html": [
       "<div>\n",
       "<style scoped>\n",
       "    .dataframe tbody tr th:only-of-type {\n",
       "        vertical-align: middle;\n",
       "    }\n",
       "\n",
       "    .dataframe tbody tr th {\n",
       "        vertical-align: top;\n",
       "    }\n",
       "\n",
       "    .dataframe thead th {\n",
       "        text-align: right;\n",
       "    }\n",
       "</style>\n",
       "<table border=\"1\" class=\"dataframe\">\n",
       "  <thead>\n",
       "    <tr style=\"text-align: right;\">\n",
       "      <th></th>\n",
       "      <th>id_x</th>\n",
       "      <th>item_variation_data.name</th>\n",
       "      <th>item_variation_data.price_money.amount</th>\n",
       "      <th>item_variation_data.item_id</th>\n",
       "      <th>item_data.name</th>\n",
       "    </tr>\n",
       "  </thead>\n",
       "  <tbody>\n",
       "    <tr>\n",
       "      <th>0</th>\n",
       "      <td>FJAR6IET4UZB6UUPZJCIV4GU</td>\n",
       "      <td>Regular</td>\n",
       "      <td>NaN</td>\n",
       "      <td>2S33CD4247XXEORTAT5XYOQB</td>\n",
       "      <td>Hat</td>\n",
       "    </tr>\n",
       "    <tr>\n",
       "      <th>1</th>\n",
       "      <td>S5UX6NLNGU6RM6HEG2BPGH6D</td>\n",
       "      <td>Regular</td>\n",
       "      <td>NaN</td>\n",
       "      <td>THBCUS7E6THY4UVPKZJU7VSJ</td>\n",
       "      <td>Scarf</td>\n",
       "    </tr>\n",
       "    <tr>\n",
       "      <th>2</th>\n",
       "      <td>UEVMQVNCUMKX5TL7KMA6FFVU</td>\n",
       "      <td>Regular</td>\n",
       "      <td>NaN</td>\n",
       "      <td>JQKHXVTRQQUJC4OWF5F6HQFK</td>\n",
       "      <td>Shirt</td>\n",
       "    </tr>\n",
       "    <tr>\n",
       "      <th>3</th>\n",
       "      <td>3FG3W4BFXUWML6UFUSFZMN7N</td>\n",
       "      <td>Regular</td>\n",
       "      <td>NaN</td>\n",
       "      <td>Z63NWS6BEBKNPDSR6AXPUSYV</td>\n",
       "      <td>Sunglasses</td>\n",
       "    </tr>\n",
       "    <tr>\n",
       "      <th>4</th>\n",
       "      <td>J3VQOGJD4WETWRZIGJV4Z6P7</td>\n",
       "      <td>Small red</td>\n",
       "      <td>2500.0</td>\n",
       "      <td>JQKHXVTRQQUJC4OWF5F6HQFK</td>\n",
       "      <td>Shirt</td>\n",
       "    </tr>\n",
       "    <tr>\n",
       "      <th>5</th>\n",
       "      <td>724F4WGRJEXUTK6WUC2SKM6Z</td>\n",
       "      <td>Small blue</td>\n",
       "      <td>2500.0</td>\n",
       "      <td>JQKHXVTRQQUJC4OWF5F6HQFK</td>\n",
       "      <td>Shirt</td>\n",
       "    </tr>\n",
       "    <tr>\n",
       "      <th>6</th>\n",
       "      <td>METCIVRJ3HTZ5QQUU2YQTSTJ</td>\n",
       "      <td>Large red</td>\n",
       "      <td>3000.0</td>\n",
       "      <td>JQKHXVTRQQUJC4OWF5F6HQFK</td>\n",
       "      <td>Shirt</td>\n",
       "    </tr>\n",
       "    <tr>\n",
       "      <th>7</th>\n",
       "      <td>W3G4W5LRBJ65LKTMLDM2SIB5</td>\n",
       "      <td>Large blue</td>\n",
       "      <td>3000.0</td>\n",
       "      <td>JQKHXVTRQQUJC4OWF5F6HQFK</td>\n",
       "      <td>Shirt</td>\n",
       "    </tr>\n",
       "    <tr>\n",
       "      <th>8</th>\n",
       "      <td>6B7HUOAHA4T37Y4HCNBH3JRK</td>\n",
       "      <td>Blue</td>\n",
       "      <td>1000.0</td>\n",
       "      <td>2S33CD4247XXEORTAT5XYOQB</td>\n",
       "      <td>Hat</td>\n",
       "    </tr>\n",
       "    <tr>\n",
       "      <th>9</th>\n",
       "      <td>5Y2WYUW246EEZURQMHX2SKI5</td>\n",
       "      <td>Red</td>\n",
       "      <td>1000.0</td>\n",
       "      <td>2S33CD4247XXEORTAT5XYOQB</td>\n",
       "      <td>Hat</td>\n",
       "    </tr>\n",
       "    <tr>\n",
       "      <th>10</th>\n",
       "      <td>EMFBRVV54DDDQPVA32SUQUST</td>\n",
       "      <td>Green</td>\n",
       "      <td>700.0</td>\n",
       "      <td>THBCUS7E6THY4UVPKZJU7VSJ</td>\n",
       "      <td>Scarf</td>\n",
       "    </tr>\n",
       "    <tr>\n",
       "      <th>11</th>\n",
       "      <td>WG77ONG6TJ63MCVJSJT5XMFZ</td>\n",
       "      <td>Red</td>\n",
       "      <td>700.0</td>\n",
       "      <td>THBCUS7E6THY4UVPKZJU7VSJ</td>\n",
       "      <td>Scarf</td>\n",
       "    </tr>\n",
       "    <tr>\n",
       "      <th>12</th>\n",
       "      <td>RROX5BQWFMGYR5BV444XRDG6</td>\n",
       "      <td>Default</td>\n",
       "      <td>1500.0</td>\n",
       "      <td>Z63NWS6BEBKNPDSR6AXPUSYV</td>\n",
       "      <td>Sunglasses</td>\n",
       "    </tr>\n",
       "  </tbody>\n",
       "</table>\n",
       "</div>"
      ],
      "text/plain": [
       "                        id_x item_variation_data.name  \\\n",
       "0   FJAR6IET4UZB6UUPZJCIV4GU                  Regular   \n",
       "1   S5UX6NLNGU6RM6HEG2BPGH6D                  Regular   \n",
       "2   UEVMQVNCUMKX5TL7KMA6FFVU                  Regular   \n",
       "3   3FG3W4BFXUWML6UFUSFZMN7N                  Regular   \n",
       "4   J3VQOGJD4WETWRZIGJV4Z6P7                Small red   \n",
       "5   724F4WGRJEXUTK6WUC2SKM6Z               Small blue   \n",
       "6   METCIVRJ3HTZ5QQUU2YQTSTJ                Large red   \n",
       "7   W3G4W5LRBJ65LKTMLDM2SIB5               Large blue   \n",
       "8   6B7HUOAHA4T37Y4HCNBH3JRK                     Blue   \n",
       "9   5Y2WYUW246EEZURQMHX2SKI5                      Red   \n",
       "10  EMFBRVV54DDDQPVA32SUQUST                    Green   \n",
       "11  WG77ONG6TJ63MCVJSJT5XMFZ                      Red   \n",
       "12  RROX5BQWFMGYR5BV444XRDG6                  Default   \n",
       "\n",
       "    item_variation_data.price_money.amount item_variation_data.item_id  \\\n",
       "0                                      NaN    2S33CD4247XXEORTAT5XYOQB   \n",
       "1                                      NaN    THBCUS7E6THY4UVPKZJU7VSJ   \n",
       "2                                      NaN    JQKHXVTRQQUJC4OWF5F6HQFK   \n",
       "3                                      NaN    Z63NWS6BEBKNPDSR6AXPUSYV   \n",
       "4                                   2500.0    JQKHXVTRQQUJC4OWF5F6HQFK   \n",
       "5                                   2500.0    JQKHXVTRQQUJC4OWF5F6HQFK   \n",
       "6                                   3000.0    JQKHXVTRQQUJC4OWF5F6HQFK   \n",
       "7                                   3000.0    JQKHXVTRQQUJC4OWF5F6HQFK   \n",
       "8                                   1000.0    2S33CD4247XXEORTAT5XYOQB   \n",
       "9                                   1000.0    2S33CD4247XXEORTAT5XYOQB   \n",
       "10                                   700.0    THBCUS7E6THY4UVPKZJU7VSJ   \n",
       "11                                   700.0    THBCUS7E6THY4UVPKZJU7VSJ   \n",
       "12                                  1500.0    Z63NWS6BEBKNPDSR6AXPUSYV   \n",
       "\n",
       "   item_data.name  \n",
       "0             Hat  \n",
       "1           Scarf  \n",
       "2           Shirt  \n",
       "3      Sunglasses  \n",
       "4           Shirt  \n",
       "5           Shirt  \n",
       "6           Shirt  \n",
       "7           Shirt  \n",
       "8             Hat  \n",
       "9             Hat  \n",
       "10          Scarf  \n",
       "11          Scarf  \n",
       "12     Sunglasses  "
      ]
     },
     "execution_count": 4,
     "metadata": {},
     "output_type": "execute_result"
    }
   ],
   "source": [
    "# retrieve item and variation from API\n",
    "result_variation = client.catalog.list_catalog(types=\"ITEM_VARIATION\")\n",
    "result_item = client.catalog.list_catalog(types=\"ITEM\")\n",
    "\n",
    "df_left = pd.json_normalize(result_variation.body.get(\"objects\"))[[\"id\", \n",
    "                                               \"item_variation_data.name\", \n",
    "                                               \"item_variation_data.price_money.amount\",\n",
    "                                               \"item_variation_data.item_id\"]]\n",
    "df_right = pd.json_normalize(result_item.body.get(\"objects\"))[[\"id\", \"item_data.name\"]]\n",
    "\n",
    "pd.merge(df_left,\n",
    "         df_right,\n",
    "         left_on=\"item_variation_data.item_id\", right_on=\"id\",\n",
    "         how=\"left\").drop(\"id_y\", axis=1)\n"
   ]
  },
  {
   "cell_type": "markdown",
   "id": "94fb6764",
   "metadata": {},
   "source": [
    "## 2.1 load spreadsheet\n",
    "The spread sheet provides information in each order.\n",
    "Note: the spread sheet in this notebook is just for demonstration purpose. The actual \"spread-sheet\" in production will be created on the fly. (more details, see Simulator design notebook)"
   ]
  },
  {
   "cell_type": "code",
   "execution_count": 5,
   "id": "c088e658",
   "metadata": {},
   "outputs": [
    {
     "data": {
      "text/html": [
       "<div>\n",
       "<style scoped>\n",
       "    .dataframe tbody tr th:only-of-type {\n",
       "        vertical-align: middle;\n",
       "    }\n",
       "\n",
       "    .dataframe tbody tr th {\n",
       "        vertical-align: top;\n",
       "    }\n",
       "\n",
       "    .dataframe thead th {\n",
       "        text-align: right;\n",
       "    }\n",
       "</style>\n",
       "<table border=\"1\" class=\"dataframe\">\n",
       "  <thead>\n",
       "    <tr style=\"text-align: right;\">\n",
       "      <th></th>\n",
       "      <th>timestamp_input</th>\n",
       "      <th>timestamp_execute</th>\n",
       "      <th>FJAR6IET4UZB6UUPZJCIV4GU</th>\n",
       "      <th>S5UX6NLNGU6RM6HEG2BPGH6D</th>\n",
       "      <th>UEVMQVNCUMKX5TL7KMA6FFVU</th>\n",
       "      <th>3FG3W4BFXUWML6UFUSFZMN7N</th>\n",
       "      <th>J3VQOGJD4WETWRZIGJV4Z6P7</th>\n",
       "      <th>724F4WGRJEXUTK6WUC2SKM6Z</th>\n",
       "      <th>METCIVRJ3HTZ5QQUU2YQTSTJ</th>\n",
       "      <th>W3G4W5LRBJ65LKTMLDM2SIB5</th>\n",
       "      <th>6B7HUOAHA4T37Y4HCNBH3JRK</th>\n",
       "      <th>5Y2WYUW246EEZURQMHX2SKI5</th>\n",
       "      <th>EMFBRVV54DDDQPVA32SUQUST</th>\n",
       "      <th>WG77ONG6TJ63MCVJSJT5XMFZ</th>\n",
       "      <th>RROX5BQWFMGYR5BV444XRDG6</th>\n",
       "    </tr>\n",
       "  </thead>\n",
       "  <tbody>\n",
       "    <tr>\n",
       "      <th>0</th>\n",
       "      <td>6/6/2021 15:10</td>\n",
       "      <td>6/6/2021 15:14</td>\n",
       "      <td>0</td>\n",
       "      <td>0</td>\n",
       "      <td>0</td>\n",
       "      <td>0</td>\n",
       "      <td>0</td>\n",
       "      <td>0</td>\n",
       "      <td>0</td>\n",
       "      <td>0</td>\n",
       "      <td>0</td>\n",
       "      <td>0</td>\n",
       "      <td>0</td>\n",
       "      <td>4</td>\n",
       "      <td>1</td>\n",
       "    </tr>\n",
       "    <tr>\n",
       "      <th>1</th>\n",
       "      <td>6/6/2021 15:20</td>\n",
       "      <td>6/6/2021 15:18</td>\n",
       "      <td>0</td>\n",
       "      <td>0</td>\n",
       "      <td>0</td>\n",
       "      <td>0</td>\n",
       "      <td>0</td>\n",
       "      <td>0</td>\n",
       "      <td>0</td>\n",
       "      <td>0</td>\n",
       "      <td>0</td>\n",
       "      <td>10</td>\n",
       "      <td>5</td>\n",
       "      <td>0</td>\n",
       "      <td>0</td>\n",
       "    </tr>\n",
       "    <tr>\n",
       "      <th>2</th>\n",
       "      <td>6/6/2021 15:30</td>\n",
       "      <td>6/6/2021 15:21</td>\n",
       "      <td>0</td>\n",
       "      <td>0</td>\n",
       "      <td>0</td>\n",
       "      <td>0</td>\n",
       "      <td>0</td>\n",
       "      <td>0</td>\n",
       "      <td>0</td>\n",
       "      <td>0</td>\n",
       "      <td>0</td>\n",
       "      <td>0</td>\n",
       "      <td>2</td>\n",
       "      <td>3</td>\n",
       "      <td>2</td>\n",
       "    </tr>\n",
       "  </tbody>\n",
       "</table>\n",
       "</div>"
      ],
      "text/plain": [
       "  timestamp_input timestamp_execute  FJAR6IET4UZB6UUPZJCIV4GU  \\\n",
       "0  6/6/2021 15:10    6/6/2021 15:14                         0   \n",
       "1  6/6/2021 15:20    6/6/2021 15:18                         0   \n",
       "2  6/6/2021 15:30    6/6/2021 15:21                         0   \n",
       "\n",
       "   S5UX6NLNGU6RM6HEG2BPGH6D  UEVMQVNCUMKX5TL7KMA6FFVU  \\\n",
       "0                         0                         0   \n",
       "1                         0                         0   \n",
       "2                         0                         0   \n",
       "\n",
       "   3FG3W4BFXUWML6UFUSFZMN7N  J3VQOGJD4WETWRZIGJV4Z6P7  \\\n",
       "0                         0                         0   \n",
       "1                         0                         0   \n",
       "2                         0                         0   \n",
       "\n",
       "   724F4WGRJEXUTK6WUC2SKM6Z  METCIVRJ3HTZ5QQUU2YQTSTJ  \\\n",
       "0                         0                         0   \n",
       "1                         0                         0   \n",
       "2                         0                         0   \n",
       "\n",
       "   W3G4W5LRBJ65LKTMLDM2SIB5  6B7HUOAHA4T37Y4HCNBH3JRK  \\\n",
       "0                         0                         0   \n",
       "1                         0                         0   \n",
       "2                         0                         0   \n",
       "\n",
       "   5Y2WYUW246EEZURQMHX2SKI5  EMFBRVV54DDDQPVA32SUQUST  \\\n",
       "0                         0                         0   \n",
       "1                        10                         5   \n",
       "2                         0                         2   \n",
       "\n",
       "   WG77ONG6TJ63MCVJSJT5XMFZ  RROX5BQWFMGYR5BV444XRDG6  \n",
       "0                         4                         1  \n",
       "1                         0                         0  \n",
       "2                         3                         2  "
      ]
     },
     "execution_count": 5,
     "metadata": {},
     "output_type": "execute_result"
    }
   ],
   "source": [
    "# read simulator as input\n",
    "df_sim = pd.read_csv(\"/home/hadoop/Desktop/SharedFolder/simulator_output_0606.csv\")\n",
    "df_sim"
   ]
  },
  {
   "cell_type": "markdown",
   "id": "1787c5ba",
   "metadata": {},
   "source": [
    "## explain: \n",
    "(without going into details), the simulator-output is an execution plan that we will rely on to create order through Square API.\n",
    "e.g., at timestamp_execute==6/6/2021 15:14, we we will create order \"WG77ONG6TJ63MCVJSJT5XMFZ\" x 4 + \"RROX5BQWFMGYR5BV444XRDG6\", where the tokens are variation id:\n",
    "* WG77ONG6TJ63MCVJSJT5XMFZ: red scarf\n",
    "* RROX5BQWFMGYR5BV444XRDG6: sunglasses\n",
    "\n",
    "(We will describe how to design simulator in details in simulator notebook)\n",
    "\n",
    "Note: assuming all the orders will come from only one location, then we only need to consider sending one order at each execution timestamp."
   ]
  },
  {
   "cell_type": "markdown",
   "id": "04be4ea2",
   "metadata": {},
   "source": [
    "## 2.2 create orders (with line-items ids)\n",
    "We will focus on orders.create_order endpoint in this session. The arguments we will feed in the endpoints are:\n",
    "* location_id\n",
    "* line_items: a list consist of item_variations information (e.g., quantity, object_id)\n",
    "\n",
    "ref: https://developer.squareup.com/docs/orders-api/create-orders\n"
   ]
  },
  {
   "cell_type": "code",
   "execution_count": 6,
   "id": "913af117",
   "metadata": {},
   "outputs": [
    {
     "data": {
      "text/html": [
       "<div id=\"487630ad-750d-442b-bd93-e864ee79e4c8\" style=\"height: auto; width:100%;\"></div>"
      ],
      "text/plain": [
       "<IPython.core.display.HTML object>"
      ]
     },
     "metadata": {},
     "output_type": "display_data"
    },
    {
     "data": {
      "text/html": [
       "<script>\n",
       "        require([\"https://rawgit.com/caldwell/renderjson/master/renderjson.js\"], function() {\n",
       "          renderjson.set_show_to_level(1)\n",
       "          document.getElementById('487630ad-750d-442b-bd93-e864ee79e4c8').appendChild(renderjson({\"locations\": [{\"address\": {\"address_line_1\": \"1600 Pennsylvania Ave NW\", \"administrative_district_level_1\": \"DC\", \"country\": \"US\", \"locality\": \"Washington\", \"postal_code\": \"20500\"}, \"business_hours\": {}, \"business_name\": \"CoffeeSucre\", \"capabilities\": [\"CREDIT_CARD_PROCESSING\"], \"country\": \"US\", \"created_at\": \"2021-06-05T18:27:13Z\", \"currency\": \"USD\", \"id\": \"LMEZPE5D735NY\", \"language_code\": \"en-US\", \"mcc\": \"7299\", \"merchant_id\": \"MLXWTHCTYPCRV\", \"name\": \"CoffeeSucre\", \"status\": \"ACTIVE\", \"timezone\": \"UTC\", \"type\": \"PHYSICAL\"}]}))\n",
       "        });</script>\n",
       "        "
      ],
      "text/plain": [
       "<IPython.core.display.HTML object>"
      ]
     },
     "metadata": {},
     "output_type": "display_data"
    }
   ],
   "source": [
    "# little detour: about location_id\n",
    "# api location.list_locations\n",
    "# ref: https://developer.squareup.com/docs/locations-api\n",
    "\n",
    "result_location = client.locations.list_locations()\n",
    "RenderJSON(result_location.body)\n",
    "\n",
    "# print(result_location.body.get(\"locations\")[0].get(\"id\"))"
   ]
  },
  {
   "cell_type": "code",
   "execution_count": 7,
   "id": "62f8f949",
   "metadata": {},
   "outputs": [
    {
     "data": {
      "text/plain": [
       "[{'catalog_object_id': 'WG77ONG6TJ63MCVJSJT5XMFZ', 'quantity': '4'},\n",
       " {'catalog_object_id': 'RROX5BQWFMGYR5BV444XRDG6', 'quantity': '1'}]"
      ]
     },
     "execution_count": 7,
     "metadata": {},
     "output_type": "execute_result"
    }
   ],
   "source": [
    "# construct the line_items formula (again, one row at a time)\n",
    "# Note: two things:\n",
    "#  line_itmes need to be pure list (not np.array)\n",
    "#  the quantity value need to be String (not Int)\n",
    "# example choose row 0\n",
    "\n",
    "df_row_to_exe = df_sim.iloc[0, 2:].apply(str)\n",
    "\n",
    "# df_row_to_exe[df_row_to_exe>0].to_dict()\n",
    "# df_row_to_exe[df_row_to_exe>0].reset_index()\\\n",
    "# .rename(columns = {'index':'catalog_object_id', 0:'quantity'})\n",
    "# df_tmp = df_row_to_exe[df_row_to_exe>0].reset_index()\\\n",
    "# .rename(columns = {'index':'catalog_object_id', 0:'quantity'})\n",
    "# line_items = df_tmp.apply(lambda x: x.to_dict(), axis=1).values\n",
    "\n",
    "line_items = df_row_to_exe[df_row_to_exe!=\"0\"].reset_index()\\\n",
    "                .rename(columns = {'index':'catalog_object_id', 0:'quantity'})\\\n",
    "                .apply(lambda x: x.to_dict(), axis=1).values\n",
    "line_items = list(line_items)\n",
    "line_items"
   ]
  },
  {
   "cell_type": "code",
   "execution_count": 13,
   "id": "8ffcaf4c",
   "metadata": {},
   "outputs": [
    {
     "data": {
      "text/plain": [
       "[{'FJAR6IET4UZB6UUPZJCIV4GU': 0,\n",
       "  'S5UX6NLNGU6RM6HEG2BPGH6D': 0,\n",
       "  'UEVMQVNCUMKX5TL7KMA6FFVU': 0,\n",
       "  '3FG3W4BFXUWML6UFUSFZMN7N': 0,\n",
       "  'J3VQOGJD4WETWRZIGJV4Z6P7': 0,\n",
       "  '724F4WGRJEXUTK6WUC2SKM6Z': 0,\n",
       "  'METCIVRJ3HTZ5QQUU2YQTSTJ': 0,\n",
       "  'W3G4W5LRBJ65LKTMLDM2SIB5': 0,\n",
       "  '6B7HUOAHA4T37Y4HCNBH3JRK': 0,\n",
       "  '5Y2WYUW246EEZURQMHX2SKI5': 0,\n",
       "  'EMFBRVV54DDDQPVA32SUQUST': 0,\n",
       "  'WG77ONG6TJ63MCVJSJT5XMFZ': 4,\n",
       "  'RROX5BQWFMGYR5BV444XRDG6': 1}]"
      ]
     },
     "execution_count": 13,
     "metadata": {},
     "output_type": "execute_result"
    }
   ],
   "source": [
    "# Update: There is actually a one-line code to achieve this\n",
    "df_sim.iloc[[0], 2:].to_dict(\"records\")"
   ]
  },
  {
   "cell_type": "code",
   "execution_count": 69,
   "id": "63263a73",
   "metadata": {},
   "outputs": [
    {
     "data": {
      "text/html": [
       "<div id=\"c16f9162-4dd0-4f0f-a8bc-f6bacdc6a7c5\" style=\"height: auto; width:100%;\"></div>"
      ],
      "text/plain": [
       "<IPython.core.display.HTML object>"
      ]
     },
     "metadata": {},
     "output_type": "display_data"
    },
    {
     "data": {
      "text/html": [
       "<script>\n",
       "        require([\"https://rawgit.com/caldwell/renderjson/master/renderjson.js\"], function() {\n",
       "          renderjson.set_show_to_level(1)\n",
       "          document.getElementById('c16f9162-4dd0-4f0f-a8bc-f6bacdc6a7c5').appendChild(renderjson({\"order\": {\"created_at\": \"2021-06-07T00:14:01.021Z\", \"id\": \"zZRgedJ0m37LIHfXmsVDlS3aqZ4F\", \"line_items\": [{\"base_price_money\": {\"amount\": 700, \"currency\": \"USD\"}, \"catalog_object_id\": \"WG77ONG6TJ63MCVJSJT5XMFZ\", \"gross_sales_money\": {\"amount\": 2800, \"currency\": \"USD\"}, \"item_type\": \"ITEM\", \"name\": \"Scarf\", \"quantity\": \"4\", \"total_discount_money\": {\"amount\": 0, \"currency\": \"USD\"}, \"total_money\": {\"amount\": 2800, \"currency\": \"USD\"}, \"total_tax_money\": {\"amount\": 0, \"currency\": \"USD\"}, \"uid\": \"n0xUrZQP7qLsSD93SiorbB\", \"variation_name\": \"Red\", \"variation_total_price_money\": {\"amount\": 2800, \"currency\": \"USD\"}}, {\"base_price_money\": {\"amount\": 1500, \"currency\": \"USD\"}, \"catalog_object_id\": \"RROX5BQWFMGYR5BV444XRDG6\", \"gross_sales_money\": {\"amount\": 1500, \"currency\": \"USD\"}, \"item_type\": \"ITEM\", \"name\": \"Sunglasses\", \"quantity\": \"1\", \"total_discount_money\": {\"amount\": 0, \"currency\": \"USD\"}, \"total_money\": {\"amount\": 1500, \"currency\": \"USD\"}, \"total_tax_money\": {\"amount\": 0, \"currency\": \"USD\"}, \"uid\": \"K99erbIjqPH7T9jjylxdn\", \"variation_name\": \"Default\", \"variation_total_price_money\": {\"amount\": 1500, \"currency\": \"USD\"}}], \"location_id\": \"LMEZPE5D735NY\", \"net_amounts\": {\"discount_money\": {\"amount\": 0, \"currency\": \"USD\"}, \"service_charge_money\": {\"amount\": 0, \"currency\": \"USD\"}, \"tax_money\": {\"amount\": 0, \"currency\": \"USD\"}, \"tip_money\": {\"amount\": 0, \"currency\": \"USD\"}, \"total_money\": {\"amount\": 4300, \"currency\": \"USD\"}}, \"source\": {\"name\": \"Sandbox for sq0idp-q-jQNn-ZiEgDPmsbTDllhg\"}, \"state\": \"OPEN\", \"total_discount_money\": {\"amount\": 0, \"currency\": \"USD\"}, \"total_money\": {\"amount\": 4300, \"currency\": \"USD\"}, \"total_service_charge_money\": {\"amount\": 0, \"currency\": \"USD\"}, \"total_tax_money\": {\"amount\": 0, \"currency\": \"USD\"}, \"total_tip_money\": {\"amount\": 0, \"currency\": \"USD\"}, \"updated_at\": \"2021-06-07T00:14:01.021Z\", \"version\": 1}}))\n",
       "        });</script>\n",
       "        "
      ],
      "text/plain": [
       "<IPython.core.display.HTML object>"
      ]
     },
     "metadata": {},
     "output_type": "display_data"
    }
   ],
   "source": [
    "# module create_order\n",
    "location_id = result_location.body.get(\"locations\")[0].get(\"id\")\n",
    "line_items\n",
    "\n",
    "result_create_order = client.orders.create_order(\n",
    "      body = {\n",
    "        \"order\": {\n",
    "          \"location_id\": location_id,\n",
    "#             \"customer_id\": customer_id,\n",
    "          \"state\": \"OPEN\",\n",
    "          \"line_items\": line_items\n",
    "        },\n",
    "        \"idempotency_key\": str(uuid.uuid4())\n",
    "      }\n",
    "    )\n",
    "\n",
    "RenderJSON(result_create_order.body)"
   ]
  },
  {
   "cell_type": "code",
   "execution_count": 55,
   "id": "5c6f84fd",
   "metadata": {},
   "outputs": [
    {
     "data": {
      "text/html": [
       "<div id=\"749aaa65-efa1-4dde-b844-d946bc59bba9\" style=\"height: auto; width:100%;\"></div>"
      ],
      "text/plain": [
       "<IPython.core.display.HTML object>"
      ]
     },
     "metadata": {},
     "output_type": "display_data"
    },
    {
     "data": {
      "text/html": [
       "<script>\n",
       "        require([\"https://rawgit.com/caldwell/renderjson/master/renderjson.js\"], function() {\n",
       "          renderjson.set_show_to_level(1)\n",
       "          document.getElementById('749aaa65-efa1-4dde-b844-d946bc59bba9').appendChild(renderjson({\"orders\": [{\"created_at\": \"2021-06-06T23:59:23.722Z\", \"id\": \"flAQ5xwmU8d2M11NzFuabFd8Xf4F\", \"line_items\": [{\"base_price_money\": {\"amount\": 700, \"currency\": \"USD\"}, \"catalog_object_id\": \"WG77ONG6TJ63MCVJSJT5XMFZ\", \"gross_sales_money\": {\"amount\": 2800, \"currency\": \"USD\"}, \"item_type\": \"ITEM\", \"name\": \"Scarf\", \"quantity\": \"4\", \"total_discount_money\": {\"amount\": 0, \"currency\": \"USD\"}, \"total_money\": {\"amount\": 2800, \"currency\": \"USD\"}, \"total_tax_money\": {\"amount\": 0, \"currency\": \"USD\"}, \"uid\": \"86TkNnuPvkkj8J8hnwXEY\", \"variation_name\": \"Red\", \"variation_total_price_money\": {\"amount\": 2800, \"currency\": \"USD\"}}, {\"base_price_money\": {\"amount\": 1500, \"currency\": \"USD\"}, \"catalog_object_id\": \"RROX5BQWFMGYR5BV444XRDG6\", \"gross_sales_money\": {\"amount\": 1500, \"currency\": \"USD\"}, \"item_type\": \"ITEM\", \"name\": \"Sunglasses\", \"quantity\": \"1\", \"total_discount_money\": {\"amount\": 0, \"currency\": \"USD\"}, \"total_money\": {\"amount\": 1500, \"currency\": \"USD\"}, \"total_tax_money\": {\"amount\": 0, \"currency\": \"USD\"}, \"uid\": \"IJJeAj0noi40OEDBqhP5xC\", \"variation_name\": \"Default\", \"variation_total_price_money\": {\"amount\": 1500, \"currency\": \"USD\"}}], \"location_id\": \"LMEZPE5D735NY\", \"net_amounts\": {\"discount_money\": {\"amount\": 0, \"currency\": \"USD\"}, \"service_charge_money\": {\"amount\": 0, \"currency\": \"USD\"}, \"tax_money\": {\"amount\": 0, \"currency\": \"USD\"}, \"tip_money\": {\"amount\": 0, \"currency\": \"USD\"}, \"total_money\": {\"amount\": 4300, \"currency\": \"USD\"}}, \"source\": {\"name\": \"Sandbox for sq0idp-q-jQNn-ZiEgDPmsbTDllhg\"}, \"state\": \"OPEN\", \"total_discount_money\": {\"amount\": 0, \"currency\": \"USD\"}, \"total_money\": {\"amount\": 4300, \"currency\": \"USD\"}, \"total_service_charge_money\": {\"amount\": 0, \"currency\": \"USD\"}, \"total_tax_money\": {\"amount\": 0, \"currency\": \"USD\"}, \"total_tip_money\": {\"amount\": 0, \"currency\": \"USD\"}, \"updated_at\": \"2021-06-06T23:59:23.722Z\", \"version\": 1}, {\"created_at\": \"2021-06-06T23:56:21.267Z\", \"id\": \"TXQoSQvNOug3snb645CAcXPSBg4F\", \"line_items\": [{\"base_price_money\": {\"amount\": 700, \"currency\": \"USD\"}, \"catalog_object_id\": \"WG77ONG6TJ63MCVJSJT5XMFZ\", \"gross_sales_money\": {\"amount\": 2800, \"currency\": \"USD\"}, \"item_type\": \"ITEM\", \"name\": \"Scarf\", \"quantity\": \"4\", \"total_discount_money\": {\"amount\": 0, \"currency\": \"USD\"}, \"total_money\": {\"amount\": 2800, \"currency\": \"USD\"}, \"total_tax_money\": {\"amount\": 0, \"currency\": \"USD\"}, \"uid\": \"qHnFxJAHMt0SHWry6wBUb\", \"variation_name\": \"Red\", \"variation_total_price_money\": {\"amount\": 2800, \"currency\": \"USD\"}}, {\"base_price_money\": {\"amount\": 1500, \"currency\": \"USD\"}, \"catalog_object_id\": \"RROX5BQWFMGYR5BV444XRDG6\", \"gross_sales_money\": {\"amount\": 1500, \"currency\": \"USD\"}, \"item_type\": \"ITEM\", \"name\": \"Sunglasses\", \"quantity\": \"1\", \"total_discount_money\": {\"amount\": 0, \"currency\": \"USD\"}, \"total_money\": {\"amount\": 1500, \"currency\": \"USD\"}, \"total_tax_money\": {\"amount\": 0, \"currency\": \"USD\"}, \"uid\": \"1XQZ5lAOPmoSmL8pQMSX8B\", \"variation_name\": \"Default\", \"variation_total_price_money\": {\"amount\": 1500, \"currency\": \"USD\"}}], \"location_id\": \"LMEZPE5D735NY\", \"net_amounts\": {\"discount_money\": {\"amount\": 0, \"currency\": \"USD\"}, \"service_charge_money\": {\"amount\": 0, \"currency\": \"USD\"}, \"tax_money\": {\"amount\": 0, \"currency\": \"USD\"}, \"tip_money\": {\"amount\": 0, \"currency\": \"USD\"}, \"total_money\": {\"amount\": 4300, \"currency\": \"USD\"}}, \"source\": {\"name\": \"Sandbox for sq0idp-q-jQNn-ZiEgDPmsbTDllhg\"}, \"state\": \"OPEN\", \"total_discount_money\": {\"amount\": 0, \"currency\": \"USD\"}, \"total_money\": {\"amount\": 4300, \"currency\": \"USD\"}, \"total_service_charge_money\": {\"amount\": 0, \"currency\": \"USD\"}, \"total_tax_money\": {\"amount\": 0, \"currency\": \"USD\"}, \"total_tip_money\": {\"amount\": 0, \"currency\": \"USD\"}, \"updated_at\": \"2021-06-06T23:56:21.267Z\", \"version\": 1}, {\"created_at\": \"2021-06-06T23:53:40.552Z\", \"id\": \"L5nUZFbvajIRR0HfRRYuFMAhTg4F\", \"line_items\": [{\"base_price_money\": {\"amount\": 1500, \"currency\": \"USD\"}, \"catalog_object_id\": \"RROX5BQWFMGYR5BV444XRDG6\", \"gross_sales_money\": {\"amount\": 1500, \"currency\": \"USD\"}, \"item_type\": \"ITEM\", \"name\": \"Sunglasses\", \"quantity\": \"1\", \"total_discount_money\": {\"amount\": 0, \"currency\": \"USD\"}, \"total_money\": {\"amount\": 1500, \"currency\": \"USD\"}, \"total_tax_money\": {\"amount\": 0, \"currency\": \"USD\"}, \"uid\": \"dQNKCnO97hwEqCi2PSlJo\", \"variation_name\": \"Default\", \"variation_total_price_money\": {\"amount\": 1500, \"currency\": \"USD\"}}], \"location_id\": \"LMEZPE5D735NY\", \"net_amounts\": {\"discount_money\": {\"amount\": 0, \"currency\": \"USD\"}, \"service_charge_money\": {\"amount\": 0, \"currency\": \"USD\"}, \"tax_money\": {\"amount\": 0, \"currency\": \"USD\"}, \"tip_money\": {\"amount\": 0, \"currency\": \"USD\"}, \"total_money\": {\"amount\": 1500, \"currency\": \"USD\"}}, \"source\": {\"name\": \"Sandbox for sq0idp-q-jQNn-ZiEgDPmsbTDllhg\"}, \"state\": \"OPEN\", \"total_discount_money\": {\"amount\": 0, \"currency\": \"USD\"}, \"total_money\": {\"amount\": 1500, \"currency\": \"USD\"}, \"total_service_charge_money\": {\"amount\": 0, \"currency\": \"USD\"}, \"total_tax_money\": {\"amount\": 0, \"currency\": \"USD\"}, \"total_tip_money\": {\"amount\": 0, \"currency\": \"USD\"}, \"updated_at\": \"2021-06-06T23:53:40.552Z\", \"version\": 1}, {\"created_at\": \"2021-06-06T23:48:32.970Z\", \"id\": \"zF5dMlGi7u3OjZxZG0Wo9GdCza4F\", \"location_id\": \"LMEZPE5D735NY\", \"net_amounts\": {\"discount_money\": {\"amount\": 0, \"currency\": \"USD\"}, \"service_charge_money\": {\"amount\": 0, \"currency\": \"USD\"}, \"tax_money\": {\"amount\": 0, \"currency\": \"USD\"}, \"tip_money\": {\"amount\": 0, \"currency\": \"USD\"}, \"total_money\": {\"amount\": 0, \"currency\": \"USD\"}}, \"source\": {\"name\": \"Sandbox for sq0idp-q-jQNn-ZiEgDPmsbTDllhg\"}, \"state\": \"OPEN\", \"total_discount_money\": {\"amount\": 0, \"currency\": \"USD\"}, \"total_money\": {\"amount\": 0, \"currency\": \"USD\"}, \"total_service_charge_money\": {\"amount\": 0, \"currency\": \"USD\"}, \"total_tax_money\": {\"amount\": 0, \"currency\": \"USD\"}, \"total_tip_money\": {\"amount\": 0, \"currency\": \"USD\"}, \"updated_at\": \"2021-06-06T23:48:32.970Z\", \"version\": 1}, {\"created_at\": \"2021-06-06T23:38:31.779Z\", \"id\": \"VcsrBmUxw8qDztzMZQUb6I1aTd4F\", \"location_id\": \"LMEZPE5D735NY\", \"net_amounts\": {\"discount_money\": {\"amount\": 0, \"currency\": \"USD\"}, \"service_charge_money\": {\"amount\": 0, \"currency\": \"USD\"}, \"tax_money\": {\"amount\": 0, \"currency\": \"USD\"}, \"tip_money\": {\"amount\": 0, \"currency\": \"USD\"}, \"total_money\": {\"amount\": 0, \"currency\": \"USD\"}}, \"source\": {\"name\": \"Sandbox for sq0idp-q-jQNn-ZiEgDPmsbTDllhg\"}, \"state\": \"OPEN\", \"total_discount_money\": {\"amount\": 0, \"currency\": \"USD\"}, \"total_money\": {\"amount\": 0, \"currency\": \"USD\"}, \"total_service_charge_money\": {\"amount\": 0, \"currency\": \"USD\"}, \"total_tax_money\": {\"amount\": 0, \"currency\": \"USD\"}, \"total_tip_money\": {\"amount\": 0, \"currency\": \"USD\"}, \"updated_at\": \"2021-06-06T23:38:31.779Z\", \"version\": 1}, {\"created_at\": \"2021-06-06T23:38:24.703Z\", \"id\": \"TvEUM5gJdnWY38qeT03uyGsxJi4F\", \"location_id\": \"LMEZPE5D735NY\", \"net_amounts\": {\"discount_money\": {\"amount\": 0, \"currency\": \"USD\"}, \"service_charge_money\": {\"amount\": 0, \"currency\": \"USD\"}, \"tax_money\": {\"amount\": 0, \"currency\": \"USD\"}, \"tip_money\": {\"amount\": 0, \"currency\": \"USD\"}, \"total_money\": {\"amount\": 0, \"currency\": \"USD\"}}, \"source\": {\"name\": \"Sandbox for sq0idp-q-jQNn-ZiEgDPmsbTDllhg\"}, \"state\": \"OPEN\", \"total_discount_money\": {\"amount\": 0, \"currency\": \"USD\"}, \"total_money\": {\"amount\": 0, \"currency\": \"USD\"}, \"total_service_charge_money\": {\"amount\": 0, \"currency\": \"USD\"}, \"total_tax_money\": {\"amount\": 0, \"currency\": \"USD\"}, \"total_tip_money\": {\"amount\": 0, \"currency\": \"USD\"}, \"updated_at\": \"2021-06-06T23:38:24.703Z\", \"version\": 1}, {\"created_at\": \"2021-06-06T23:38:19.098Z\", \"id\": \"fLJ3pywXRUorD69hjqN0Pyc0Mf4F\", \"location_id\": \"LMEZPE5D735NY\", \"net_amounts\": {\"discount_money\": {\"amount\": 0, \"currency\": \"USD\"}, \"service_charge_money\": {\"amount\": 0, \"currency\": \"USD\"}, \"tax_money\": {\"amount\": 0, \"currency\": \"USD\"}, \"tip_money\": {\"amount\": 0, \"currency\": \"USD\"}, \"total_money\": {\"amount\": 0, \"currency\": \"USD\"}}, \"source\": {\"name\": \"Sandbox for sq0idp-q-jQNn-ZiEgDPmsbTDllhg\"}, \"state\": \"OPEN\", \"total_discount_money\": {\"amount\": 0, \"currency\": \"USD\"}, \"total_money\": {\"amount\": 0, \"currency\": \"USD\"}, \"total_service_charge_money\": {\"amount\": 0, \"currency\": \"USD\"}, \"total_tax_money\": {\"amount\": 0, \"currency\": \"USD\"}, \"total_tip_money\": {\"amount\": 0, \"currency\": \"USD\"}, \"updated_at\": \"2021-06-06T23:38:19.098Z\", \"version\": 1}]}))\n",
       "        });</script>\n",
       "        "
      ],
      "text/plain": [
       "<IPython.core.display.HTML object>"
      ]
     },
     "metadata": {},
     "output_type": "display_data"
    }
   ],
   "source": [
    "# module: search order (based on location_id)\n",
    "result_search_order = client.orders.search_orders(\n",
    "  body = {\n",
    "    \"location_ids\": [\n",
    "      location_id\n",
    "    ]\n",
    "  }\n",
    ")\n",
    "\n",
    "RenderJSON(result_search_order.body)"
   ]
  },
  {
   "cell_type": "code",
   "execution_count": 70,
   "id": "8f466eb0",
   "metadata": {},
   "outputs": [
    {
     "data": {
      "text/html": [
       "<div id=\"c5813087-f389-4643-b9c5-0a4867eb2eca\" style=\"height: auto; width:100%;\"></div>"
      ],
      "text/plain": [
       "<IPython.core.display.HTML object>"
      ]
     },
     "metadata": {},
     "output_type": "display_data"
    },
    {
     "data": {
      "text/html": [
       "<script>\n",
       "        require([\"https://rawgit.com/caldwell/renderjson/master/renderjson.js\"], function() {\n",
       "          renderjson.set_show_to_level(1)\n",
       "          document.getElementById('c5813087-f389-4643-b9c5-0a4867eb2eca').appendChild(renderjson({\"order\": {\"created_at\": \"2021-06-06T23:59:23.722Z\", \"id\": \"flAQ5xwmU8d2M11NzFuabFd8Xf4F\", \"line_items\": [{\"base_price_money\": {\"amount\": 700, \"currency\": \"USD\"}, \"catalog_object_id\": \"WG77ONG6TJ63MCVJSJT5XMFZ\", \"gross_sales_money\": {\"amount\": 2800, \"currency\": \"USD\"}, \"item_type\": \"ITEM\", \"name\": \"Scarf\", \"quantity\": \"4\", \"total_discount_money\": {\"amount\": 0, \"currency\": \"USD\"}, \"total_money\": {\"amount\": 2800, \"currency\": \"USD\"}, \"total_tax_money\": {\"amount\": 0, \"currency\": \"USD\"}, \"uid\": \"86TkNnuPvkkj8J8hnwXEY\", \"variation_name\": \"Red\", \"variation_total_price_money\": {\"amount\": 2800, \"currency\": \"USD\"}}, {\"base_price_money\": {\"amount\": 1500, \"currency\": \"USD\"}, \"catalog_object_id\": \"RROX5BQWFMGYR5BV444XRDG6\", \"gross_sales_money\": {\"amount\": 1500, \"currency\": \"USD\"}, \"item_type\": \"ITEM\", \"name\": \"Sunglasses\", \"quantity\": \"1\", \"total_discount_money\": {\"amount\": 0, \"currency\": \"USD\"}, \"total_money\": {\"amount\": 1500, \"currency\": \"USD\"}, \"total_tax_money\": {\"amount\": 0, \"currency\": \"USD\"}, \"uid\": \"IJJeAj0noi40OEDBqhP5xC\", \"variation_name\": \"Default\", \"variation_total_price_money\": {\"amount\": 1500, \"currency\": \"USD\"}}], \"location_id\": \"LMEZPE5D735NY\", \"net_amounts\": {\"discount_money\": {\"amount\": 0, \"currency\": \"USD\"}, \"service_charge_money\": {\"amount\": 0, \"currency\": \"USD\"}, \"tax_money\": {\"amount\": 0, \"currency\": \"USD\"}, \"tip_money\": {\"amount\": 0, \"currency\": \"USD\"}, \"total_money\": {\"amount\": 4300, \"currency\": \"USD\"}}, \"source\": {\"name\": \"Sandbox for sq0idp-q-jQNn-ZiEgDPmsbTDllhg\"}, \"state\": \"OPEN\", \"total_discount_money\": {\"amount\": 0, \"currency\": \"USD\"}, \"total_money\": {\"amount\": 4300, \"currency\": \"USD\"}, \"total_service_charge_money\": {\"amount\": 0, \"currency\": \"USD\"}, \"total_tax_money\": {\"amount\": 0, \"currency\": \"USD\"}, \"total_tip_money\": {\"amount\": 0, \"currency\": \"USD\"}, \"updated_at\": \"2021-06-06T23:59:23.722Z\", \"version\": 1}}))\n",
       "        });</script>\n",
       "        "
      ],
      "text/plain": [
       "<IPython.core.display.HTML object>"
      ]
     },
     "metadata": {},
     "output_type": "display_data"
    }
   ],
   "source": [
    "# retrieve by order_id\n",
    "# o2QhPTMErWXvoxvwCfvDNuM8Nh4F\n",
    "# note: payment_id (appear as \"tenders\".\"id\": Ni0fotwm56cpIcV8kFMdqA3y8N6YY) is accessible if state: \"COMPLETED\"\n",
    "\n",
    "order_id = result_search_order.body.get(\"orders\")[0].get(\"id\")\n",
    "result = client.orders.retrieve_order(\n",
    "  order_id = order_id\n",
    ")\n",
    "RenderJSON(result.body)"
   ]
  },
  {
   "cell_type": "markdown",
   "id": "f5dc16ff",
   "metadata": {},
   "source": [
    "## 2.3 pay the orders\n",
    "we use payments.create_payment endpoint in this session. The key arguments are:\n",
    "* amount_money (amount and currency)\n",
    "* order_id\n",
    "* source_id"
   ]
  },
  {
   "cell_type": "code",
   "execution_count": 77,
   "id": "d6c927b4",
   "metadata": {},
   "outputs": [
    {
     "data": {
      "text/html": [
       "<div id=\"608b504e-c872-47b9-810c-a2fb1507dd40\" style=\"height: auto; width:100%;\"></div>"
      ],
      "text/plain": [
       "<IPython.core.display.HTML object>"
      ]
     },
     "metadata": {},
     "output_type": "display_data"
    },
    {
     "data": {
      "text/html": [
       "<script>\n",
       "        require([\"https://rawgit.com/caldwell/renderjson/master/renderjson.js\"], function() {\n",
       "          renderjson.set_show_to_level(1)\n",
       "          document.getElementById('608b504e-c872-47b9-810c-a2fb1507dd40').appendChild(renderjson({\"payment\": {\"amount_money\": {\"amount\": 4300, \"currency\": \"USD\"}, \"approved_money\": {\"amount\": 4300, \"currency\": \"USD\"}, \"card_details\": {\"avs_status\": \"AVS_ACCEPTED\", \"card\": {\"bin\": \"540988\", \"card_brand\": \"MASTERCARD\", \"card_type\": \"CREDIT\", \"exp_month\": 6, \"exp_year\": 2023, \"fingerprint\": \"sq-1-nzJktNeX6pi7SMV24B81VWo4yfqZCx3TZ3Cc7_mTx0L_UNCd3HQXCfy_tPNB2ZHwQw\", \"last_4\": \"9029\", \"prepaid_type\": \"NOT_PREPAID\"}, \"card_payment_timeline\": {\"authorized_at\": \"2021-06-07T00:16:18.099Z\", \"captured_at\": \"2021-06-07T00:16:18.188Z\"}, \"cvv_status\": \"CVV_ACCEPTED\", \"entry_method\": \"KEYED\", \"statement_description\": \"SQ *COFFEESUCRE GOSQ.COM\", \"status\": \"CAPTURED\"}, \"created_at\": \"2021-06-07T00:16:17.987Z\", \"delay_action\": \"CANCEL\", \"delay_duration\": \"PT168H\", \"delayed_until\": \"2021-06-14T00:16:17.987Z\", \"id\": \"HbG7lVSYQCwjUpso7kYFg0f6oD6YY\", \"location_id\": \"LMEZPE5D735NY\", \"order_id\": \"flAQ5xwmU8d2M11NzFuabFd8Xf4F\", \"receipt_number\": \"HbG7\", \"receipt_url\": \"https://squareupsandbox.com/receipt/preview/HbG7lVSYQCwjUpso7kYFg0f6oD6YY\", \"risk_evaluation\": {\"created_at\": \"2021-06-07T00:16:18.099Z\", \"risk_level\": \"NORMAL\"}, \"source_type\": \"CARD\", \"status\": \"COMPLETED\", \"total_money\": {\"amount\": 4300, \"currency\": \"USD\"}, \"updated_at\": \"2021-06-07T00:16:18.188Z\", \"version_token\": \"jLYpt84CkWqQFSAemqMDU0qRBi2mdgfw5mIX82mcBSv6o\"}}))\n",
       "        });</script>\n",
       "        "
      ],
      "text/plain": [
       "<IPython.core.display.HTML object>"
      ]
     },
     "metadata": {},
     "output_type": "display_data"
    }
   ],
   "source": [
    "# module pay order in pyments.create_payment entry\n",
    "# prerequiste: order_id is known (along with the total amount, \n",
    "# assocaited with the \"order\".get(\"total_money\").get(\"amount\") field)\n",
    "# note: \n",
    "# - only works on order that the state is \"OPEN\"\n",
    "# - the payment amount needs to match order amount\n",
    "# - the Orders session in dashboard seems still not working after completed. \n",
    "#   my guess is Order Session only deal with order with tags like Delivery, pickup, Shipment.\n",
    "# - The good news is in Transaction session in dashboard it appear a new transaction. \n",
    "#   and we can export orders and transactions in spread-sheet format (In sandbox and production)\n",
    "\n",
    "# Note: In this one, we need to feed in:\n",
    "#     source_id: ref: https://developer.squareup.com/docs/testing/test-values#payment-tokens-for-card-payments\n",
    "#     amount_money: amount, currency\n",
    "#     order_id\n",
    "#     idempotency_key (auto generated)\n",
    "\n",
    "\n",
    "\n",
    "idempotency_key = str(uuid.uuid4())\n",
    "\n",
    "order_id\n",
    "pay_amount = result_create_order.body.get(\"order\").get(\"total_money\").get(\"amount\")\n",
    "pay_currency = result_create_order.body.get(\"order\").get(\"total_money\").get(\"currency\")\n",
    "result = client.payments.create_payment(\n",
    "  body = {\n",
    "    \"source_id\": \"cnon:card-nonce-ok\",\n",
    "    \"idempotency_key\": idempotency_key,\n",
    "    \"amount_money\": {\n",
    "      \"amount\": pay_amount,\n",
    "      \"currency\": pay_currency\n",
    "    },\n",
    "    \"order_id\": order_id,\n",
    "  }\n",
    ")\n",
    "\n",
    "RenderJSON(result.body)"
   ]
  },
  {
   "cell_type": "markdown",
   "id": "6d96b8c5",
   "metadata": {},
   "source": [
    "### Go check the result at dashboard"
   ]
  },
  {
   "cell_type": "markdown",
   "id": "5a097ae8",
   "metadata": {},
   "source": [
    "# Now, all together"
   ]
  },
  {
   "cell_type": "code",
   "execution_count": 92,
   "id": "4b6455e1",
   "metadata": {},
   "outputs": [],
   "source": [
    "###############\n",
    "# module: wrapper order and pay in one go\n",
    "def create_order_then_pay_wrapper(line_items_list, location_id, customer_id=None):\n",
    "#     create_order\n",
    "    result_create_order = client.orders.create_order(\n",
    "      body = {\n",
    "        \"order\": {\n",
    "          \"location_id\": location_id,\n",
    "#             \"customer_id\": customer_id,  # In this stage, we will not focus on customer analysis\n",
    "#           \"state\": \"OPEN\", # by default \"state\": \"OPEN\"\n",
    "          \"line_items\": line_items_list\n",
    "        },\n",
    "        \"idempotency_key\": str(uuid.uuid4())\n",
    "      }\n",
    "    )\n",
    "# if create_order succeed then create_payment (using default source_id: cnon:card-nonce-ok)\n",
    "    if result_create_order.is_success():    \n",
    "        order_id = result_create_order.body.get(\"order\").get(\"id\")\n",
    "        amount = result_create_order.body.get(\"order\").get(\"total_money\").get(\"amount\")\n",
    "        print(\"create_order SUCCEED\")\n",
    "    elif result_create_order.is_error():\n",
    "        print(result_create_order.errors)\n",
    "\n",
    "    result_create_payment = client.payments.create_payment(\n",
    "      body = {\n",
    "        \"source_id\": \"cnon:card-nonce-ok\",\n",
    "        \"idempotency_key\": str(uuid.uuid4()),\n",
    "        \"amount_money\": {\n",
    "          \"amount\": amount,\n",
    "          \"currency\": \"USD\"\n",
    "        },\n",
    "        \"order_id\": order_id,\n",
    "#           \"note\": note_payment\n",
    "      }\n",
    "    )\n",
    "    if result_create_payment.is_success():\n",
    "        print(\"create_payment SUCCEED\")\n",
    "    elif result_create_payment.is_error():\n",
    "        print(result_create_payment.errors)\n",
    "        \n",
    "    return result_create_order, result_create_payment"
   ]
  },
  {
   "cell_type": "code",
   "execution_count": 37,
   "id": "83cf5099",
   "metadata": {},
   "outputs": [
    {
     "ename": "ValueError",
     "evalue": "No axis named 1 for object type Series",
     "output_type": "error",
     "traceback": [
      "\u001b[0;31m---------------------------------------------------------------------------\u001b[0m",
      "\u001b[0;31mKeyError\u001b[0m                                  Traceback (most recent call last)",
      "\u001b[0;32m~/anaconda3/envs/api/lib/python3.8/site-packages/pandas/core/generic.py\u001b[0m in \u001b[0;36m_get_axis_number\u001b[0;34m(cls, axis)\u001b[0m\n\u001b[1;32m    459\u001b[0m         \u001b[0;32mtry\u001b[0m\u001b[0;34m:\u001b[0m\u001b[0;34m\u001b[0m\u001b[0;34m\u001b[0m\u001b[0m\n\u001b[0;32m--> 460\u001b[0;31m             \u001b[0;32mreturn\u001b[0m \u001b[0mcls\u001b[0m\u001b[0;34m.\u001b[0m\u001b[0m_AXIS_TO_AXIS_NUMBER\u001b[0m\u001b[0;34m[\u001b[0m\u001b[0maxis\u001b[0m\u001b[0;34m]\u001b[0m\u001b[0;34m\u001b[0m\u001b[0;34m\u001b[0m\u001b[0m\n\u001b[0m\u001b[1;32m    461\u001b[0m         \u001b[0;32mexcept\u001b[0m \u001b[0mKeyError\u001b[0m\u001b[0;34m:\u001b[0m\u001b[0;34m\u001b[0m\u001b[0;34m\u001b[0m\u001b[0m\n",
      "\u001b[0;31mKeyError\u001b[0m: 1",
      "\nDuring handling of the above exception, another exception occurred:\n",
      "\u001b[0;31mValueError\u001b[0m                                Traceback (most recent call last)",
      "\u001b[0;32m<ipython-input-37-68ade9479b56>\u001b[0m in \u001b[0;36m<module>\u001b[0;34m\u001b[0m\n\u001b[1;32m      9\u001b[0m \u001b[0;31m#     return line_items\u001b[0m\u001b[0;34m\u001b[0m\u001b[0;34m\u001b[0m\u001b[0;34m\u001b[0m\u001b[0m\n\u001b[1;32m     10\u001b[0m     \u001b[0;32mreturn\u001b[0m \u001b[0mdf_row_to_exe\u001b[0m\u001b[0;34m[\u001b[0m\u001b[0mdf_row_to_exe\u001b[0m\u001b[0;34m>\u001b[0m\u001b[0;36m0\u001b[0m\u001b[0;34m]\u001b[0m\u001b[0;34m.\u001b[0m\u001b[0mdropna\u001b[0m\u001b[0;34m(\u001b[0m\u001b[0maxis\u001b[0m\u001b[0;34m=\u001b[0m\u001b[0;36m1\u001b[0m\u001b[0;34m)\u001b[0m\u001b[0;34m.\u001b[0m\u001b[0mto_dict\u001b[0m\u001b[0;34m(\u001b[0m\u001b[0;34m\"records\"\u001b[0m\u001b[0;34m)\u001b[0m\u001b[0;34m\u001b[0m\u001b[0;34m\u001b[0m\u001b[0m\n\u001b[0;32m---> 11\u001b[0;31m \u001b[0mline_items_constructor\u001b[0m\u001b[0;34m(\u001b[0m\u001b[0mdf_sim\u001b[0m\u001b[0;34m.\u001b[0m\u001b[0mloc\u001b[0m\u001b[0;34m[\u001b[0m\u001b[0;34m[\u001b[0m\u001b[0;36m2\u001b[0m\u001b[0;34m]\u001b[0m\u001b[0;34m,\u001b[0m\u001b[0;34m:\u001b[0m\u001b[0;34m]\u001b[0m\u001b[0;34m)\u001b[0m\u001b[0;34m\u001b[0m\u001b[0;34m\u001b[0m\u001b[0m\n\u001b[0m",
      "\u001b[0;32m<ipython-input-37-68ade9479b56>\u001b[0m in \u001b[0;36mline_items_constructor\u001b[0;34m(df_row)\u001b[0m\n\u001b[1;32m      8\u001b[0m \u001b[0;31m#     line_items = list(line_items)\u001b[0m\u001b[0;34m\u001b[0m\u001b[0;34m\u001b[0m\u001b[0;34m\u001b[0m\u001b[0m\n\u001b[1;32m      9\u001b[0m \u001b[0;31m#     return line_items\u001b[0m\u001b[0;34m\u001b[0m\u001b[0;34m\u001b[0m\u001b[0;34m\u001b[0m\u001b[0m\n\u001b[0;32m---> 10\u001b[0;31m     \u001b[0;32mreturn\u001b[0m \u001b[0mdf_row_to_exe\u001b[0m\u001b[0;34m[\u001b[0m\u001b[0mdf_row_to_exe\u001b[0m\u001b[0;34m>\u001b[0m\u001b[0;36m0\u001b[0m\u001b[0;34m]\u001b[0m\u001b[0;34m.\u001b[0m\u001b[0mdropna\u001b[0m\u001b[0;34m(\u001b[0m\u001b[0maxis\u001b[0m\u001b[0;34m=\u001b[0m\u001b[0;36m1\u001b[0m\u001b[0;34m)\u001b[0m\u001b[0;34m.\u001b[0m\u001b[0mto_dict\u001b[0m\u001b[0;34m(\u001b[0m\u001b[0;34m\"records\"\u001b[0m\u001b[0;34m)\u001b[0m\u001b[0;34m\u001b[0m\u001b[0;34m\u001b[0m\u001b[0m\n\u001b[0m\u001b[1;32m     11\u001b[0m \u001b[0mline_items_constructor\u001b[0m\u001b[0;34m(\u001b[0m\u001b[0mdf_sim\u001b[0m\u001b[0;34m.\u001b[0m\u001b[0mloc\u001b[0m\u001b[0;34m[\u001b[0m\u001b[0;34m[\u001b[0m\u001b[0;36m2\u001b[0m\u001b[0;34m]\u001b[0m\u001b[0;34m,\u001b[0m\u001b[0;34m:\u001b[0m\u001b[0;34m]\u001b[0m\u001b[0;34m)\u001b[0m\u001b[0;34m\u001b[0m\u001b[0;34m\u001b[0m\u001b[0m\n",
      "\u001b[0;32m~/anaconda3/envs/api/lib/python3.8/site-packages/pandas/core/series.py\u001b[0m in \u001b[0;36mdropna\u001b[0;34m(self, axis, inplace, how)\u001b[0m\n\u001b[1;32m   4865\u001b[0m         \u001b[0minplace\u001b[0m \u001b[0;34m=\u001b[0m \u001b[0mvalidate_bool_kwarg\u001b[0m\u001b[0;34m(\u001b[0m\u001b[0minplace\u001b[0m\u001b[0;34m,\u001b[0m \u001b[0;34m\"inplace\"\u001b[0m\u001b[0;34m)\u001b[0m\u001b[0;34m\u001b[0m\u001b[0;34m\u001b[0m\u001b[0m\n\u001b[1;32m   4866\u001b[0m         \u001b[0;31m# Validate the axis parameter\u001b[0m\u001b[0;34m\u001b[0m\u001b[0;34m\u001b[0m\u001b[0;34m\u001b[0m\u001b[0m\n\u001b[0;32m-> 4867\u001b[0;31m         \u001b[0mself\u001b[0m\u001b[0;34m.\u001b[0m\u001b[0m_get_axis_number\u001b[0m\u001b[0;34m(\u001b[0m\u001b[0maxis\u001b[0m \u001b[0;32mor\u001b[0m \u001b[0;36m0\u001b[0m\u001b[0;34m)\u001b[0m\u001b[0;34m\u001b[0m\u001b[0;34m\u001b[0m\u001b[0m\n\u001b[0m\u001b[1;32m   4868\u001b[0m \u001b[0;34m\u001b[0m\u001b[0m\n\u001b[1;32m   4869\u001b[0m         \u001b[0;32mif\u001b[0m \u001b[0mself\u001b[0m\u001b[0;34m.\u001b[0m\u001b[0m_can_hold_na\u001b[0m\u001b[0;34m:\u001b[0m\u001b[0;34m\u001b[0m\u001b[0;34m\u001b[0m\u001b[0m\n",
      "\u001b[0;32m~/anaconda3/envs/api/lib/python3.8/site-packages/pandas/core/generic.py\u001b[0m in \u001b[0;36m_get_axis_number\u001b[0;34m(cls, axis)\u001b[0m\n\u001b[1;32m    460\u001b[0m             \u001b[0;32mreturn\u001b[0m \u001b[0mcls\u001b[0m\u001b[0;34m.\u001b[0m\u001b[0m_AXIS_TO_AXIS_NUMBER\u001b[0m\u001b[0;34m[\u001b[0m\u001b[0maxis\u001b[0m\u001b[0;34m]\u001b[0m\u001b[0;34m\u001b[0m\u001b[0;34m\u001b[0m\u001b[0m\n\u001b[1;32m    461\u001b[0m         \u001b[0;32mexcept\u001b[0m \u001b[0mKeyError\u001b[0m\u001b[0;34m:\u001b[0m\u001b[0;34m\u001b[0m\u001b[0;34m\u001b[0m\u001b[0m\n\u001b[0;32m--> 462\u001b[0;31m             \u001b[0;32mraise\u001b[0m \u001b[0mValueError\u001b[0m\u001b[0;34m(\u001b[0m\u001b[0;34mf\"No axis named {axis} for object type {cls.__name__}\"\u001b[0m\u001b[0;34m)\u001b[0m\u001b[0;34m\u001b[0m\u001b[0;34m\u001b[0m\u001b[0m\n\u001b[0m\u001b[1;32m    463\u001b[0m \u001b[0;34m\u001b[0m\u001b[0m\n\u001b[1;32m    464\u001b[0m     \u001b[0;34m@\u001b[0m\u001b[0mfinal\u001b[0m\u001b[0;34m\u001b[0m\u001b[0;34m\u001b[0m\u001b[0m\n",
      "\u001b[0;31mValueError\u001b[0m: No axis named 1 for object type Series"
     ]
    }
   ],
   "source": [
    "# create line_items list from dataframe row ( modified with the one-line code)\n",
    "def line_items_constructor(df_row):\n",
    "#     df_row_to_exe = df_row.iloc[0, 2:]\n",
    "\n",
    "#     line_items = df_row_to_exe[df_row_to_exe>0].apply(str).reset_index()\n",
    "#     line_items.columns = [\"catalog_object_id\", \"quantity\"]\n",
    "#     line_items = line_items.apply(lambda x: x.to_dict(), axis=1).values\n",
    "#     line_items = list(line_items)\n",
    "#     return line_items\n",
    "    return df_row_to_exe[df_row_to_exe>0].dropna(axis=1).to_dict(\"records\")\n",
    "line_items_constructor(df_sim.loc[[2],:])"
   ]
  },
  {
   "cell_type": "code",
   "execution_count": 36,
   "id": "6a7930f7",
   "metadata": {},
   "outputs": [
    {
     "data": {
      "text/plain": [
       "[{'EMFBRVV54DDDQPVA32SUQUST': 2,\n",
       "  'WG77ONG6TJ63MCVJSJT5XMFZ': 3,\n",
       "  'RROX5BQWFMGYR5BV444XRDG6': 2}]"
      ]
     },
     "execution_count": 36,
     "metadata": {},
     "output_type": "execute_result"
    }
   ],
   "source": [
    "df_row_to_exe = df_sim.loc[[2],:].iloc[0, 2:]\n",
    "pd.DataFrame(df_row_to_exe[df_row_to_exe>0].apply(str)).T\n",
    "\n",
    "df_row_to_exe = df_sim.loc[[2],:].iloc[:,2:]\n",
    "(df_row_to_exe[df_row_to_exe>0]).dropna(axis=1).to_dict(\"records\")"
   ]
  },
  {
   "cell_type": "code",
   "execution_count": 93,
   "id": "dc665797",
   "metadata": {},
   "outputs": [
    {
     "name": "stdout",
     "output_type": "stream",
     "text": [
      "create_order SUCCEED\n",
      "create_payment SUCCEED\n"
     ]
    }
   ],
   "source": [
    "# test here\n",
    "# use row 2 to test\n",
    "\n",
    "location_id \n",
    "line_items_list = line_items_constructor(df_sim.loc[[2],:])\n",
    "result_create_order, result_create_payment = create_order_then_pay_wrapper(line_items_list, location_id)\n"
   ]
  },
  {
   "cell_type": "markdown",
   "id": "4f814b64",
   "metadata": {},
   "source": [
    "### adhoc"
   ]
  },
  {
   "cell_type": "code",
   "execution_count": 97,
   "id": "0febdf5d",
   "metadata": {},
   "outputs": [
    {
     "data": {
      "text/html": [
       "<div id=\"01fc6666-a417-45b9-9d07-b100346a9f3b\" style=\"height: auto; width:100%;\"></div>"
      ],
      "text/plain": [
       "<IPython.core.display.HTML object>"
      ]
     },
     "metadata": {},
     "output_type": "display_data"
    },
    {
     "data": {
      "text/html": [
       "<script>\n",
       "        require([\"https://rawgit.com/caldwell/renderjson/master/renderjson.js\"], function() {\n",
       "          renderjson.set_show_to_level(1)\n",
       "          document.getElementById('01fc6666-a417-45b9-9d07-b100346a9f3b').appendChild(renderjson({\"payment\": {\"amount_money\": {\"amount\": 6500, \"currency\": \"USD\"}, \"approved_money\": {\"amount\": 6500, \"currency\": \"USD\"}, \"card_details\": {\"avs_status\": \"AVS_ACCEPTED\", \"card\": {\"bin\": \"540988\", \"card_brand\": \"MASTERCARD\", \"card_type\": \"CREDIT\", \"exp_month\": 6, \"exp_year\": 2023, \"fingerprint\": \"sq-1-nzJktNeX6pi7SMV24B81VWo4yfqZCx3TZ3Cc7_mTx0L_UNCd3HQXCfy_tPNB2ZHwQw\", \"last_4\": \"9029\", \"prepaid_type\": \"NOT_PREPAID\"}, \"card_payment_timeline\": {\"authorized_at\": \"2021-06-07T00:43:18.749Z\", \"captured_at\": \"2021-06-07T00:43:18.842Z\"}, \"cvv_status\": \"CVV_ACCEPTED\", \"entry_method\": \"KEYED\", \"statement_description\": \"SQ *COFFEESUCRE GOSQ.COM\", \"status\": \"CAPTURED\"}, \"created_at\": \"2021-06-07T00:43:18.639Z\", \"delay_action\": \"CANCEL\", \"delay_duration\": \"PT168H\", \"delayed_until\": \"2021-06-14T00:43:18.639Z\", \"id\": \"5AiGdryRnWOKy2p9FB7eWE7Mn2AZY\", \"location_id\": \"LMEZPE5D735NY\", \"order_id\": \"lYgUjkmQstStBxEmhaF5BHuLUh4F\", \"processing_fee\": [{\"amount_money\": {\"amount\": 219, \"currency\": \"USD\"}, \"effective_at\": \"2021-06-07T02:43:19.000Z\", \"type\": \"INITIAL\"}], \"receipt_number\": \"5AiG\", \"receipt_url\": \"https://squareupsandbox.com/receipt/preview/5AiGdryRnWOKy2p9FB7eWE7Mn2AZY\", \"risk_evaluation\": {\"created_at\": \"2021-06-07T00:43:18.749Z\", \"risk_level\": \"NORMAL\"}, \"source_type\": \"CARD\", \"status\": \"COMPLETED\", \"total_money\": {\"amount\": 6500, \"currency\": \"USD\"}, \"updated_at\": \"2021-06-07T00:43:18.842Z\", \"version_token\": \"uwR6rHvB0zBE7rXI1nlnorXcUbm4STIvdTUlukflxsh6o\"}}))\n",
       "        });</script>\n",
       "        "
      ],
      "text/plain": [
       "<IPython.core.display.HTML object>"
      ]
     },
     "metadata": {},
     "output_type": "display_data"
    }
   ],
   "source": [
    "# how do we know which payments is associated with the order?\n",
    "# module retrive payment\n",
    "# note the order_id can be retrived from get_payment\n",
    "result = client.payments.get_payment(payment_id =result_create_payment.body.get(\"payment\").get(\"id\"))\n",
    "RenderJSON(result.body)"
   ]
  },
  {
   "cell_type": "code",
   "execution_count": 98,
   "id": "5f4e8194",
   "metadata": {},
   "outputs": [
    {
     "data": {
      "text/html": [
       "<div id=\"e8562f8f-a1cf-415f-a539-dc5012476d0f\" style=\"height: auto; width:100%;\"></div>"
      ],
      "text/plain": [
       "<IPython.core.display.HTML object>"
      ]
     },
     "metadata": {},
     "output_type": "display_data"
    },
    {
     "data": {
      "text/html": [
       "<script>\n",
       "        require([\"https://rawgit.com/caldwell/renderjson/master/renderjson.js\"], function() {\n",
       "          renderjson.set_show_to_level(1)\n",
       "          document.getElementById('e8562f8f-a1cf-415f-a539-dc5012476d0f').appendChild(renderjson({\"payments\": [{\"amount_money\": {\"amount\": 6500, \"currency\": \"USD\"}, \"approved_money\": {\"amount\": 6500, \"currency\": \"USD\"}, \"card_details\": {\"avs_status\": \"AVS_ACCEPTED\", \"card\": {\"bin\": \"540988\", \"card_brand\": \"MASTERCARD\", \"card_type\": \"CREDIT\", \"exp_month\": 6, \"exp_year\": 2023, \"fingerprint\": \"sq-1-nzJktNeX6pi7SMV24B81VWo4yfqZCx3TZ3Cc7_mTx0L_UNCd3HQXCfy_tPNB2ZHwQw\", \"last_4\": \"9029\", \"prepaid_type\": \"NOT_PREPAID\"}, \"card_payment_timeline\": {\"authorized_at\": \"2021-06-07T00:43:18.749Z\", \"captured_at\": \"2021-06-07T00:43:18.842Z\"}, \"cvv_status\": \"CVV_ACCEPTED\", \"entry_method\": \"KEYED\", \"statement_description\": \"SQ *COFFEESUCRE GOSQ.COM\", \"status\": \"CAPTURED\"}, \"created_at\": \"2021-06-07T00:43:18.639Z\", \"delay_action\": \"CANCEL\", \"delay_duration\": \"PT168H\", \"delayed_until\": \"2021-06-14T00:43:18.639Z\", \"id\": \"5AiGdryRnWOKy2p9FB7eWE7Mn2AZY\", \"location_id\": \"LMEZPE5D735NY\", \"order_id\": \"lYgUjkmQstStBxEmhaF5BHuLUh4F\", \"processing_fee\": [{\"amount_money\": {\"amount\": 219, \"currency\": \"USD\"}, \"effective_at\": \"2021-06-07T02:43:19.000Z\", \"type\": \"INITIAL\"}], \"receipt_number\": \"5AiG\", \"receipt_url\": \"https://squareupsandbox.com/receipt/preview/5AiGdryRnWOKy2p9FB7eWE7Mn2AZY\", \"risk_evaluation\": {\"created_at\": \"2021-06-07T00:43:18.749Z\", \"risk_level\": \"NORMAL\"}, \"source_type\": \"CARD\", \"status\": \"COMPLETED\", \"total_money\": {\"amount\": 6500, \"currency\": \"USD\"}, \"updated_at\": \"2021-06-07T00:43:19.729Z\", \"version_token\": \"HhJTUbsGS7d5p5R9D1xGvHJkoKs1A3MDSiihbaEencF6o\"}, {\"amount_money\": {\"amount\": 4300, \"currency\": \"USD\"}, \"approved_money\": {\"amount\": 4300, \"currency\": \"USD\"}, \"card_details\": {\"avs_status\": \"AVS_ACCEPTED\", \"card\": {\"bin\": \"540988\", \"card_brand\": \"MASTERCARD\", \"card_type\": \"CREDIT\", \"exp_month\": 6, \"exp_year\": 2023, \"fingerprint\": \"sq-1-nzJktNeX6pi7SMV24B81VWo4yfqZCx3TZ3Cc7_mTx0L_UNCd3HQXCfy_tPNB2ZHwQw\", \"last_4\": \"9029\", \"prepaid_type\": \"NOT_PREPAID\"}, \"card_payment_timeline\": {\"authorized_at\": \"2021-06-07T00:16:18.099Z\", \"captured_at\": \"2021-06-07T00:16:18.188Z\"}, \"cvv_status\": \"CVV_ACCEPTED\", \"entry_method\": \"KEYED\", \"statement_description\": \"SQ *COFFEESUCRE GOSQ.COM\", \"status\": \"CAPTURED\"}, \"created_at\": \"2021-06-07T00:16:17.987Z\", \"delay_action\": \"CANCEL\", \"delay_duration\": \"PT168H\", \"delayed_until\": \"2021-06-14T00:16:17.987Z\", \"id\": \"HbG7lVSYQCwjUpso7kYFg0f6oD6YY\", \"location_id\": \"LMEZPE5D735NY\", \"order_id\": \"flAQ5xwmU8d2M11NzFuabFd8Xf4F\", \"processing_fee\": [{\"amount_money\": {\"amount\": 155, \"currency\": \"USD\"}, \"effective_at\": \"2021-06-07T02:16:18.000Z\", \"type\": \"INITIAL\"}], \"receipt_number\": \"HbG7\", \"receipt_url\": \"https://squareupsandbox.com/receipt/preview/HbG7lVSYQCwjUpso7kYFg0f6oD6YY\", \"risk_evaluation\": {\"created_at\": \"2021-06-07T00:16:18.099Z\", \"risk_level\": \"NORMAL\"}, \"source_type\": \"CARD\", \"status\": \"COMPLETED\", \"total_money\": {\"amount\": 4300, \"currency\": \"USD\"}, \"updated_at\": \"2021-06-07T00:16:18.515Z\", \"version_token\": \"g3R3GqcBlDOqI9CqCzNR9mVKFquneY3AGxyuNCNaISK6o\"}, {\"amount_money\": {\"amount\": 4300, \"currency\": \"USD\"}, \"approved_money\": {\"amount\": 4300, \"currency\": \"USD\"}, \"card_details\": {\"avs_status\": \"AVS_ACCEPTED\", \"card\": {\"bin\": \"540988\", \"card_brand\": \"MASTERCARD\", \"card_type\": \"CREDIT\", \"exp_month\": 6, \"exp_year\": 2023, \"fingerprint\": \"sq-1-nzJktNeX6pi7SMV24B81VWo4yfqZCx3TZ3Cc7_mTx0L_UNCd3HQXCfy_tPNB2ZHwQw\", \"last_4\": \"9029\", \"prepaid_type\": \"NOT_PREPAID\"}, \"card_payment_timeline\": {\"authorized_at\": \"2021-06-07T00:11:51.558Z\", \"voided_at\": \"2021-06-07T00:11:51.714Z\"}, \"cvv_status\": \"CVV_ACCEPTED\", \"entry_method\": \"KEYED\", \"statement_description\": \"SQ *COFFEESUCRE GOSQ.COM\", \"status\": \"VOIDED\"}, \"created_at\": \"2021-06-07T00:11:51.415Z\", \"delay_action\": \"CANCEL\", \"delay_duration\": \"PT168H\", \"delayed_until\": \"2021-06-14T00:11:51.415Z\", \"id\": \"lGcDNQzBI9w7nDzEis5c3GONTraZY\", \"location_id\": \"LMEZPE5D735NY\", \"order_id\": \"VcsrBmUxw8qDztzMZQUb6I1aTd4F\", \"risk_evaluation\": {\"created_at\": \"2021-06-07T00:11:51.559Z\", \"risk_level\": \"NORMAL\"}, \"source_type\": \"CARD\", \"status\": \"CANCELED\", \"total_money\": {\"amount\": 4300, \"currency\": \"USD\"}, \"updated_at\": \"2021-06-07T00:11:53.132Z\", \"version_token\": \"BsKYHfnEQhp7agnFttvzTNSuuiBYgKEfmT1TKm6MPHY6o\"}]}))\n",
       "        });</script>\n",
       "        "
      ],
      "text/plain": [
       "<IPython.core.display.HTML object>"
      ]
     },
     "metadata": {},
     "output_type": "display_data"
    }
   ],
   "source": [
    "# list payments (vanilla version)\n",
    "result = client.payments.list_payments()\n",
    "RenderJSON(result.body)"
   ]
  },
  {
   "cell_type": "markdown",
   "id": "08d773b6",
   "metadata": {},
   "source": [
    "# 3. What's Next\n",
    "We have walked through the API injection workflow (create items, create orders, create payments). At this point the transactions (aka payments) are stored in Square database. Next we will talk about how to retrieve data from Square database using Square API. \n",
    "Note: we have already seen the end points (like payments.list_payments) to retrieve(aka list) such data. But we need to retrieve them in a more robust way. We will talk about that in another notebook"
   ]
  },
  {
   "cell_type": "code",
   "execution_count": null,
   "id": "b0ef9473",
   "metadata": {},
   "outputs": [],
   "source": []
  }
 ],
 "metadata": {
  "kernelspec": {
   "display_name": "Python 3",
   "language": "python",
   "name": "python3"
  },
  "language_info": {
   "codemirror_mode": {
    "name": "ipython",
    "version": 3
   },
   "file_extension": ".py",
   "mimetype": "text/x-python",
   "name": "python",
   "nbconvert_exporter": "python",
   "pygments_lexer": "ipython3",
   "version": "3.8.8"
  }
 },
 "nbformat": 4,
 "nbformat_minor": 5
}
