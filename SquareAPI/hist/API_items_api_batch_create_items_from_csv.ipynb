{
 "cells": [
  {
   "cell_type": "code",
   "execution_count": 186,
   "id": "2d0a3585",
   "metadata": {},
   "outputs": [],
   "source": [
    "# batch create items (with non-option) variations, categories from csv\n",
    "# work flow\n"
   ]
  },
  {
   "cell_type": "code",
   "execution_count": null,
   "id": "e9760e4e-b2de-49c9-9b41-1b564231155d",
   "metadata": {},
   "outputs": [],
   "source": []
  },
  {
   "cell_type": "code",
   "execution_count": null,
   "id": "187479fd",
   "metadata": {},
   "outputs": [],
   "source": [
    "# prerequiste squreup client package\n",
    "# https://pypi.org/project/squareup/\n",
    "# pip install squareup"
   ]
  },
  {
   "cell_type": "code",
   "execution_count": 187,
   "id": "6f9f0337",
   "metadata": {},
   "outputs": [],
   "source": [
    "## Add this to the first block in your note book to display json\n",
    "# another option: \n",
    "import uuid\n",
    "from IPython.core.display import display, HTML\n",
    "\n",
    "import json\n",
    "\n",
    "class RenderJSON(object):\n",
    "    def __init__(self, json_data):\n",
    "        if isinstance(json_data, dict):\n",
    "            self.json_str = json.dumps(json_data)\n",
    "        else:\n",
    "            self.json_str = json_data\n",
    "        self.uuid = str(uuid.uuid4())\n",
    "        # This line is missed out in most of the versions of this script across the web, it is essential for this to work interleaved with print statements\n",
    "        self._ipython_display_()\n",
    "        \n",
    "    def _ipython_display_(self):\n",
    "        display(HTML('<div id=\"{}\" style=\"height: auto; width:100%;\"></div>'.format(self.uuid)))\n",
    "        display(HTML(\"\"\"<script>\n",
    "        require([\"https://rawgit.com/caldwell/renderjson/master/renderjson.js\"], function() {\n",
    "          renderjson.set_show_to_level(1)\n",
    "          document.getElementById('%s').appendChild(renderjson(%s))\n",
    "        });</script>\n",
    "        \"\"\" % (self.uuid, self.json_str)))\n",
    "\n",
    "# Since this is copy-pasted wrongly(mostly) at a lot of places across the web, i'm putting the fixed, updated version here, mainly for self-reference\n",
    "\n",
    "\n",
    "## To use this function, call this, this now works even when you have a print statement before or after the RenderJSON call\n",
    "# RenderJSON(your_json)\n",
    "# RenderJSON(json.loads(result.text))"
   ]
  },
  {
   "cell_type": "code",
   "execution_count": 188,
   "id": "afa0937d",
   "metadata": {},
   "outputs": [],
   "source": [
    "import pandas as pd\n",
    "import json"
   ]
  },
  {
   "cell_type": "code",
   "execution_count": 189,
   "id": "5b2165df",
   "metadata": {},
   "outputs": [],
   "source": [
    "# module\n",
    "# sandbox connection to \"Square SandBox no2\"\n",
    "\n",
    "from square.client import Client\n",
    "sandbox_token = \"EAAAECCddSeDNsweJXdjNVux8FTfVgMUXAroCh7VcOuoPlgjYb7MrkULH8DZrZmJ\"\n",
    "\n",
    "client = Client(\n",
    "    access_token = sandbox_token,\n",
    "    environment='sandbox',\n",
    ")\n"
   ]
  },
  {
   "cell_type": "code",
   "execution_count": 190,
   "id": "c667a21d",
   "metadata": {},
   "outputs": [
    {
     "data": {
      "text/html": [
       "<div>\n",
       "<style scoped>\n",
       "    .dataframe tbody tr th:only-of-type {\n",
       "        vertical-align: middle;\n",
       "    }\n",
       "\n",
       "    .dataframe tbody tr th {\n",
       "        vertical-align: top;\n",
       "    }\n",
       "\n",
       "    .dataframe thead th {\n",
       "        text-align: right;\n",
       "    }\n",
       "</style>\n",
       "<table border=\"1\" class=\"dataframe\">\n",
       "  <thead>\n",
       "    <tr style=\"text-align: right;\">\n",
       "      <th></th>\n",
       "      <th>item</th>\n",
       "      <th>name_item</th>\n",
       "      <th>description_item</th>\n",
       "      <th>name_variation</th>\n",
       "      <th>amount_variation</th>\n",
       "      <th>currency_variation</th>\n",
       "    </tr>\n",
       "  </thead>\n",
       "  <tbody>\n",
       "    <tr>\n",
       "      <th>0</th>\n",
       "      <td>Shirt</td>\n",
       "      <td>Shirt</td>\n",
       "      <td>Shirt description</td>\n",
       "      <td>Small red shirt</td>\n",
       "      <td>2500</td>\n",
       "      <td>USD</td>\n",
       "    </tr>\n",
       "    <tr>\n",
       "      <th>1</th>\n",
       "      <td>NaN</td>\n",
       "      <td>Shirt</td>\n",
       "      <td>Shirt description</td>\n",
       "      <td>Large red shirt</td>\n",
       "      <td>3000</td>\n",
       "      <td>USD</td>\n",
       "    </tr>\n",
       "    <tr>\n",
       "      <th>2</th>\n",
       "      <td>hat</td>\n",
       "      <td>Hat</td>\n",
       "      <td>Hat description</td>\n",
       "      <td>Blu hat</td>\n",
       "      <td>1000</td>\n",
       "      <td>USD</td>\n",
       "    </tr>\n",
       "  </tbody>\n",
       "</table>\n",
       "</div>"
      ],
      "text/plain": [
       "    item name_item   description_item   name_variation  amount_variation  \\\n",
       "0  Shirt     Shirt  Shirt description  Small red shirt              2500   \n",
       "1    NaN     Shirt  Shirt description  Large red shirt              3000   \n",
       "2    hat       Hat    Hat description          Blu hat              1000   \n",
       "\n",
       "  currency_variation  \n",
       "0                USD  \n",
       "1                USD  \n",
       "2                USD  "
      ]
     },
     "execution_count": 190,
     "metadata": {},
     "output_type": "execute_result"
    }
   ],
   "source": [
    "df = pd.read_excel(\"/home/hadoop/Desktop/SharedFolder/item_input_0526.xlsx\")\n",
    "df.head()"
   ]
  },
  {
   "cell_type": "code",
   "execution_count": 191,
   "id": "125ec5af",
   "metadata": {},
   "outputs": [
    {
     "data": {
      "text/html": [
       "<div id=\"0857ad2d-b42b-466f-a686-371a6393df90\" style=\"height: auto; width:100%;\"></div>"
      ],
      "text/plain": [
       "<IPython.core.display.HTML object>"
      ]
     },
     "metadata": {},
     "output_type": "display_data"
    },
    {
     "data": {
      "text/html": [
       "<script>\n",
       "        require([\"https://rawgit.com/caldwell/renderjson/master/renderjson.js\"], function() {\n",
       "          renderjson.set_show_to_level(1)\n",
       "          document.getElementById('0857ad2d-b42b-466f-a686-371a6393df90').appendChild(renderjson({\"idempotency_key\": \"4d1e2a3b-58ec-4040-8eaa-12df7a2e6f5e\", \"object\": {\"type\": \"ITEM\", \"id\": \"#Hat\", \"item_data\": {\"name\": \"Hat\", \"description\": \"Hat description\", \"variations\": [{\"type\": \"ITEM_VARIATION\", \"id\": \"#Blu_hat\", \"item_variation_data\": {\"name\": \"Blu hat\", \"pricing_type\": \"FIXED_PRICING\", \"price_money\": {\"amount\": 1000, \"currency\": \"USD\"}}}], \"product_type\": \"REGULAR\"}}}))\n",
       "        });</script>\n",
       "        "
      ],
      "text/plain": [
       "<IPython.core.display.HTML object>"
      ]
     },
     "metadata": {},
     "output_type": "display_data"
    },
    {
     "data": {
      "text/html": [
       "<div id=\"41a79b70-1801-4d6c-9b25-00e05388baf8\" style=\"height: auto; width:100%;\"></div>"
      ],
      "text/plain": [
       "<IPython.core.display.HTML object>"
      ]
     },
     "metadata": {},
     "output_type": "display_data"
    },
    {
     "data": {
      "text/html": [
       "<script>\n",
       "        require([\"https://rawgit.com/caldwell/renderjson/master/renderjson.js\"], function() {\n",
       "          renderjson.set_show_to_level(1)\n",
       "          document.getElementById('41a79b70-1801-4d6c-9b25-00e05388baf8').appendChild(renderjson({\"idempotency_key\": \"f0704862-0b8a-4913-9633-d738c0554b31\", \"object\": {\"type\": \"ITEM\", \"id\": \"#Shirt\", \"item_data\": {\"name\": \"Shirt\", \"description\": \"Shirt description\", \"variations\": [{\"type\": \"ITEM_VARIATION\", \"id\": \"#Small_red_shirt\", \"item_variation_data\": {\"name\": \"Small red shirt\", \"pricing_type\": \"FIXED_PRICING\", \"price_money\": {\"amount\": 2500, \"currency\": \"USD\"}}}, {\"type\": \"ITEM_VARIATION\", \"id\": \"#Large_red_shirt\", \"item_variation_data\": {\"name\": \"Large red shirt\", \"pricing_type\": \"FIXED_PRICING\", \"price_money\": {\"amount\": 3000, \"currency\": \"USD\"}}}], \"product_type\": \"REGULAR\"}}}))\n",
       "        });</script>\n",
       "        "
      ],
      "text/plain": [
       "<IPython.core.display.HTML object>"
      ]
     },
     "metadata": {},
     "output_type": "display_data"
    }
   ],
   "source": [
    "import uuid\n",
    "import pandas as pd\n",
    "\n",
    "def reconstruct_body_variation(row):\n",
    "    dict_row = row.to_dict()\n",
    "    \n",
    "    name_variation = dict_row.get(\"name_variation\")\n",
    "    id_variation = \"#\" + name_variation.replace(\" \", \"_\")\n",
    "    amount_variation = dict_row.get(\"amount_variation\")\n",
    "    currency_variation = dict_row.get(\"currency_variation\")\n",
    "\n",
    "    variation_dict = {\n",
    "        \"type\": \"ITEM_VARIATION\",\n",
    "        \"id\": id_variation,\n",
    "        \"item_variation_data\": {\n",
    "            \"name\": name_variation,\n",
    "            \"pricing_type\": \"FIXED_PRICING\",\n",
    "            \"price_money\": {\n",
    "                \"amount\": amount_variation,\n",
    "                \"currency\": currency_variation\n",
    "            }\n",
    "        }\n",
    "    }\n",
    "    return variation_dict\n",
    "\n",
    "\n",
    "def body_constructor_for_item(df, uuid):\n",
    "    df_item_id_descr = df[[\"name_item\", \"description_item\"]].groupby(\"name_item\").first().reset_index() #ugly, change later\n",
    "    body_list = []\n",
    "    for item_name, item_descr in df_item_id_descr.apply(lambda x: (x[\"name_item\"], x[\"description_item\"]), axis=1):\n",
    "        name_item = item_name\n",
    "        id_item = \"#\" + name_item.replace(\" \", \"_\")\n",
    "        description_item = item_descr\n",
    "\n",
    "    #     construnct variation list\n",
    "        df_body_item = df[df[\"name_item\"] == name_item]\n",
    "        variations_list = list(df_body_item.apply(lambda x : reconstruct_body_variation(x), axis=1).values)\n",
    "    #     print(variations_list)\n",
    "\n",
    "        body = {\n",
    "        \"idempotency_key\": str(uuid.uuid4()),\n",
    "        \"object\": {\n",
    "            \"type\": \"ITEM\",\n",
    "            \"id\": id_item,\n",
    "            \"item_data\": {\n",
    "                \"name\": name_item,\n",
    "                \"description\": description_item,\n",
    "                \"variations\": variations_list,\n",
    "                \"product_type\": \"REGULAR\"\n",
    "                    }\n",
    "                }\n",
    "            }\n",
    "        body_list.append(body)\n",
    "    return body_list\n",
    "\n",
    "\n",
    "# test case\n",
    "df_test = pd.DataFrame.from_dict({'name_item': {0: 'Shirt', 1: 'Shirt', 2: 'Hat'},\n",
    " 'description_item': {0: 'Shirt description',\n",
    "  1: 'Shirt description',\n",
    "  2: 'Hat description'},\n",
    " 'name_variation': {0: 'Small red shirt', 1: 'Large red shirt', 2: 'Blu hat'},\n",
    " 'amount_variation': {0: 2500, 1: 3000, 2: 1000},\n",
    " 'currency_variation': {0: 'USD', 1: 'USD', 2: 'USD'}})\n",
    "body_list = body_constructor_for_item(df_test, uuid)\n",
    "for body in body_list:\n",
    "    RenderJSON(json.dumps(body))"
   ]
  },
  {
   "cell_type": "code",
   "execution_count": 217,
   "id": "f9ee1ab4",
   "metadata": {},
   "outputs": [
    {
     "name": "stdout",
     "output_type": "stream",
     "text": [
      "column \"name_item\" is missing from the dataframe\n",
      "require columns: ['name_item', 'description_item', 'name_variation', 'amount_variation', 'currency_variation']\n",
      "\"['name_item'] not in index\"\n",
      "\"['name_item'] not in index\"\n",
      "'NoneType' object is not iterable \n",
      " require columns: ['name_item', 'description_item', 'name_variation', 'amount_variation', 'currency_variation']\n"
     ]
    }
   ],
   "source": [
    "# make create_item as a class\n",
    "\n",
    "# import uuid\n",
    "# import pandas as pd\n",
    "\n",
    "class CreateItems:\n",
    "    def __init__(self, dataframe):\n",
    "        self.df = dataframe\n",
    "        self.COLUMNS = ['name_item', 'description_item', 'name_variation', \n",
    "                           'amount_variation', 'currency_variation']\n",
    "        self.COLUMN_REQUIRE = f\"require columns: {self.COLUMNS}\"\n",
    "#         check columns\n",
    "        for col in self.COLUMNS:\n",
    "            if col not in self.df.columns:\n",
    "                print(f\"column \\\"{col}\\\" is missing from the dataframe\")\n",
    "                print(self.COLUMN_REQUIRE)\n",
    "              \n",
    "        \n",
    "        \n",
    "    def __reconstruct_body_variation(row):        \n",
    "        dict_row = row.to_dict()\n",
    "\n",
    "        name_variation = dict_row.get(\"name_variation\")\n",
    "        id_variation = \"#\" + name_variation.replace(\" \", \"_\")\n",
    "        amount_variation = dict_row.get(\"amount_variation\")\n",
    "        currency_variation = dict_row.get(\"currency_variation\")\n",
    "\n",
    "        variation_dict = {\n",
    "            \"type\": \"ITEM_VARIATION\",\n",
    "            \"id\": id_variation,\n",
    "            \"item_variation_data\": {\n",
    "                \"name\": name_variation,\n",
    "                \"pricing_type\": \"FIXED_PRICING\",\n",
    "                \"price_money\": {\n",
    "                    \"amount\": amount_variation,\n",
    "                    \"currency\": currency_variation\n",
    "                }\n",
    "            }\n",
    "        }\n",
    "        return variation_dict\n",
    "        \n",
    "\n",
    "    def body_constructor_for_item(self):\n",
    "        try:\n",
    "            df = self.df\n",
    "            df_item_id_descr = df[[\"name_item\", \"description_item\"]].groupby(\"name_item\").first().reset_index() #ugly, change later\n",
    "            body_list = []\n",
    "            for item_name, item_descr in df_item_id_descr.apply(lambda x: (x[\"name_item\"], x[\"description_item\"]), axis=1):\n",
    "                name_item = item_name\n",
    "                id_item = \"#\" + name_item.replace(\" \", \"_\")\n",
    "                description_item = item_descr\n",
    "\n",
    "            #     construnct variation list\n",
    "                df_body_item = df[df[\"name_item\"] == name_item]\n",
    "                variations_list = list(df_body_item.apply(lambda x : reconstruct_body_variation(x), axis=1).values)\n",
    "            #     print(variations_list)\n",
    "\n",
    "                body = {\n",
    "                \"idempotency_key\": str(uuid.uuid4()),\n",
    "                \"object\": {\n",
    "                    \"type\": \"ITEM\",\n",
    "                    \"id\": id_item,\n",
    "                    \"item_data\": {\n",
    "                        \"name\": name_item,\n",
    "                        \"description\": description_item,\n",
    "                        \"variations\": variations_list,\n",
    "                        \"product_type\": \"REGULAR\"\n",
    "                            }\n",
    "                        }\n",
    "                    }\n",
    "                body_list.append(body)\n",
    "#             self.__body_list = body_list\n",
    "            return body_list\n",
    "        except Exception as e:\n",
    "            print (e)\n",
    "            \n",
    "    def create_item_with_variations(self):\n",
    "        reslut_list = []\n",
    "        try:\n",
    "            for body in self.body_constructor_for_item():\n",
    "                result = client.catalog.upsert_catalog_object(body)\n",
    "                reslut_list.append(result)\n",
    "            return reslut_list\n",
    "        except Exception as e:\n",
    "            print(e, \"\\n\", self.COLUMN_REQUIRE)\n",
    "            \n",
    "    \n",
    "df_test = df.drop([\"name_item\"], axis=1)\n",
    "object_create_item = CreateItems(df_test)\n",
    "object_create_item.df\n",
    "object_create_item.body_constructor_for_item()\n",
    "\n",
    "object_create_item.create_item_with_variations()"
   ]
  },
  {
   "cell_type": "code",
   "execution_count": 219,
   "id": "c255c73c",
   "metadata": {},
   "outputs": [],
   "source": [
    "reslut_list = CreateItems(df).create_item_with_variations()\n",
    "RenderJSON(json.loads(reslut_list[0].text))"
   ]
  },
  {
   "cell_type": "code",
   "execution_count": 133,
   "id": "890ad446",
   "metadata": {},
   "outputs": [
    {
     "data": {
      "text/html": [
       "<div id=\"e7a0dda4-aad0-4cf5-9d57-14fc0b182e94\" style=\"height: auto; width:100%;\"></div>"
      ],
      "text/plain": [
       "<IPython.core.display.HTML object>"
      ]
     },
     "metadata": {},
     "output_type": "display_data"
    },
    {
     "data": {
      "text/html": [
       "<script>\n",
       "        require([\"https://rawgit.com/caldwell/renderjson/master/renderjson.js\"], function() {\n",
       "          renderjson.set_show_to_level(1)\n",
       "          document.getElementById('e7a0dda4-aad0-4cf5-9d57-14fc0b182e94').appendChild(renderjson({\"catalog_object\": {\"type\": \"ITEM\", \"id\": \"PQGVGKBNVGWDSVI2NB546LT3\", \"updated_at\": \"2021-05-26T21:15:59.545Z\", \"version\": 1622063759545, \"is_deleted\": false, \"present_at_all_locations\": true, \"item_data\": {\"name\": \"Hat\", \"description\": \"Hat description\", \"variations\": [{\"type\": \"ITEM_VARIATION\", \"id\": \"IRC3NJWX5QBVIW7U736JPRCC\", \"updated_at\": \"2021-05-26T21:15:59.545Z\", \"version\": 1622063759545, \"is_deleted\": false, \"present_at_all_locations\": true, \"item_variation_data\": {\"item_id\": \"PQGVGKBNVGWDSVI2NB546LT3\", \"name\": \"Blu hat\", \"ordinal\": 0, \"pricing_type\": \"FIXED_PRICING\", \"price_money\": {\"amount\": 1000, \"currency\": \"USD\"}}}], \"product_type\": \"REGULAR\"}}, \"id_mappings\": [{\"client_object_id\": \"#Hat\", \"object_id\": \"PQGVGKBNVGWDSVI2NB546LT3\"}, {\"client_object_id\": \"#Blu_hat\", \"object_id\": \"IRC3NJWX5QBVIW7U736JPRCC\"}]}))\n",
       "        });</script>\n",
       "        "
      ],
      "text/plain": [
       "<IPython.core.display.HTML object>"
      ]
     },
     "metadata": {},
     "output_type": "display_data"
    },
    {
     "data": {
      "text/html": [
       "<div id=\"41bff0ac-4006-4dab-a3cf-e03ab2339ad5\" style=\"height: auto; width:100%;\"></div>"
      ],
      "text/plain": [
       "<IPython.core.display.HTML object>"
      ]
     },
     "metadata": {},
     "output_type": "display_data"
    },
    {
     "data": {
      "text/html": [
       "<script>\n",
       "        require([\"https://rawgit.com/caldwell/renderjson/master/renderjson.js\"], function() {\n",
       "          renderjson.set_show_to_level(1)\n",
       "          document.getElementById('41bff0ac-4006-4dab-a3cf-e03ab2339ad5').appendChild(renderjson({\"catalog_object\": {\"type\": \"ITEM\", \"id\": \"QOXB6YPMYQKI57HYVMOWNOCS\", \"updated_at\": \"2021-05-26T21:15:14.59Z\", \"version\": 1622063714590, \"is_deleted\": false, \"present_at_all_locations\": true, \"item_data\": {\"name\": \"Shirt\", \"description\": \"Shirt description\", \"variations\": [{\"type\": \"ITEM_VARIATION\", \"id\": \"VFOUAXKBWYK4SCOTGJUS5MWL\", \"updated_at\": \"2021-05-26T21:15:14.59Z\", \"version\": 1622063714590, \"is_deleted\": false, \"present_at_all_locations\": true, \"item_variation_data\": {\"item_id\": \"QOXB6YPMYQKI57HYVMOWNOCS\", \"name\": \"Small red shirt\", \"ordinal\": 0, \"pricing_type\": \"FIXED_PRICING\", \"price_money\": {\"amount\": 2500, \"currency\": \"USD\"}}}, {\"type\": \"ITEM_VARIATION\", \"id\": \"D4L54SZ4YQ4K4MCYPIO3HHWR\", \"updated_at\": \"2021-05-26T21:15:14.59Z\", \"version\": 1622063714590, \"is_deleted\": false, \"present_at_all_locations\": true, \"item_variation_data\": {\"item_id\": \"QOXB6YPMYQKI57HYVMOWNOCS\", \"name\": \"Large red shirt\", \"ordinal\": 1, \"pricing_type\": \"FIXED_PRICING\", \"price_money\": {\"amount\": 3000, \"currency\": \"USD\"}}}], \"product_type\": \"REGULAR\"}}, \"id_mappings\": [{\"client_object_id\": \"#Shirt\", \"object_id\": \"QOXB6YPMYQKI57HYVMOWNOCS\"}, {\"client_object_id\": \"#Small_red_shirt\", \"object_id\": \"VFOUAXKBWYK4SCOTGJUS5MWL\"}, {\"client_object_id\": \"#Large_red_shirt\", \"object_id\": \"D4L54SZ4YQ4K4MCYPIO3HHWR\"}]}))\n",
       "        });</script>\n",
       "        "
      ],
      "text/plain": [
       "<IPython.core.display.HTML object>"
      ]
     },
     "metadata": {},
     "output_type": "display_data"
    }
   ],
   "source": [
    "# module upsert items with variatons (non-option type) into Square\n",
    "# note: Square would NOT perform redundency check (so there will be multiple items with the same name)\n",
    "# note: need to parse body as a dict inside a loop, (i.e., one item at a time)\n",
    "for body in body_list:\n",
    "    \n",
    "    result = client.catalog.upsert_catalog_object(body)\n",
    "\n",
    "    if result.is_success():\n",
    "      RenderJSON(json.loads(result.text))\n",
    "    elif result.is_error():\n",
    "      print(result.errors)"
   ]
  },
  {
   "cell_type": "code",
   "execution_count": 35,
   "id": "6471d3ee",
   "metadata": {},
   "outputs": [
    {
     "data": {
      "text/html": [
       "<div id=\"922d6bdb-7137-4632-9f32-2f99977f0924\" style=\"height: auto; width:100%;\"></div>"
      ],
      "text/plain": [
       "<IPython.core.display.HTML object>"
      ]
     },
     "metadata": {},
     "output_type": "display_data"
    },
    {
     "data": {
      "text/html": [
       "<script>\n",
       "        require([\"https://rawgit.com/caldwell/renderjson/master/renderjson.js\"], function() {\n",
       "          renderjson.set_show_to_level(1)\n",
       "          document.getElementById('922d6bdb-7137-4632-9f32-2f99977f0924').appendChild(renderjson({\"objects\": [{\"type\": \"ITEM\", \"id\": \"EPDUTEFNLZKWZHSWAFLLOUCS\", \"updated_at\": \"2021-05-24T19:20:47.721Z\", \"version\": 1621884047721, \"is_deleted\": false, \"custom_attribute_values\": {\"Square:93f0645b-4da0-4279-84eb-f9850b596dea\": {\"name\": \"custom attribute holder text\", \"string_value\": \"custom attribute for item holder\", \"custom_attribute_definition_id\": \"ONL2RKTHGA7CVTYUWSSV5E5H\", \"type\": \"STRING\", \"key\": \"Square:93f0645b-4da0-4279-84eb-f9850b596dea\"}, \"Square:ab3fe3cb-554f-4f57-925d-26e5a6a88b46\": {\"name\": \"custom attribute holder selection\", \"custom_attribute_definition_id\": \"UDQ5TAUO7BPDWY5AUFHLOYOX\", \"type\": \"SELECTION\", \"selection_uid_values\": [\"DG4BBYHHZP6JHH2ENBWGAYHD\", \"7NAXAYXPP2WUU7NKYHA2YBPW\"], \"key\": \"Square:ab3fe3cb-554f-4f57-925d-26e5a6a88b46\"}}, \"present_at_all_locations\": true, \"item_data\": {\"name\": \"item holder\", \"description\": \"item holder description\", \"label_color\": \"b21212\", \"visibility\": \"PRIVATE\", \"category_id\": \"JBKHCQPV2MZL2LLDKWKROQBA\", \"variations\": [{\"type\": \"ITEM_VARIATION\", \"id\": \"6FJBUKNCMN4OWEKQKK77IVYH\", \"updated_at\": \"2021-05-24T19:20:47.721Z\", \"version\": 1621884047721, \"is_deleted\": false, \"present_at_all_locations\": true, \"item_variation_data\": {\"item_id\": \"EPDUTEFNLZKWZHSWAFLLOUCS\", \"name\": \"option holder 1-A, option holder 2-A, option holder 3-A\", \"ordinal\": 0, \"pricing_type\": \"VARIABLE_PRICING\", \"item_option_values\": [{\"item_option_id\": \"QLA5ZQQ7HRQRU6ASNL37O6ZT\", \"item_option_value_id\": \"GAEOHKJ3ANVGRM2LQMVO247A\"}, {\"item_option_id\": \"27OPF4USPPXHTBSFZTS7XFC2\", \"item_option_value_id\": \"YRQHNGYYZH4IMJBKZWDW5BZ3\"}, {\"item_option_id\": \"QVQBHHJUOJZ5MG3WQBPRVYO6\", \"item_option_value_id\": \"TS4LINPTKZUNM223HH4CHDOO\"}]}}, {\"type\": \"ITEM_VARIATION\", \"id\": \"2LSI6FKGCP3TFZ2QOVGJ27CI\", \"updated_at\": \"2021-05-24T19:20:47.721Z\", \"version\": 1621884047721, \"is_deleted\": false, \"present_at_all_locations\": true, \"item_variation_data\": {\"item_id\": \"EPDUTEFNLZKWZHSWAFLLOUCS\", \"name\": \"option holder 1-A, option holder 2-A, option holder 3-B\", \"ordinal\": 1, \"pricing_type\": \"VARIABLE_PRICING\", \"item_option_values\": [{\"item_option_id\": \"QLA5ZQQ7HRQRU6ASNL37O6ZT\", \"item_option_value_id\": \"GAEOHKJ3ANVGRM2LQMVO247A\"}, {\"item_option_id\": \"27OPF4USPPXHTBSFZTS7XFC2\", \"item_option_value_id\": \"YRQHNGYYZH4IMJBKZWDW5BZ3\"}, {\"item_option_id\": \"QVQBHHJUOJZ5MG3WQBPRVYO6\", \"item_option_value_id\": \"PD7VDJORRKCPD4AKYJXJ4LXQ\"}]}}, {\"type\": \"ITEM_VARIATION\", \"id\": \"AEQA4ZZ2E2H7GTIXK7QQL6WM\", \"updated_at\": \"2021-05-24T19:20:47.721Z\", \"version\": 1621884047721, \"is_deleted\": false, \"present_at_all_locations\": true, \"item_variation_data\": {\"item_id\": \"EPDUTEFNLZKWZHSWAFLLOUCS\", \"name\": \"option holder 1-A, option holder 2-A, option holder 3-C\", \"ordinal\": 2, \"pricing_type\": \"VARIABLE_PRICING\", \"item_option_values\": [{\"item_option_id\": \"QLA5ZQQ7HRQRU6ASNL37O6ZT\", \"item_option_value_id\": \"GAEOHKJ3ANVGRM2LQMVO247A\"}, {\"item_option_id\": \"27OPF4USPPXHTBSFZTS7XFC2\", \"item_option_value_id\": \"YRQHNGYYZH4IMJBKZWDW5BZ3\"}, {\"item_option_id\": \"QVQBHHJUOJZ5MG3WQBPRVYO6\", \"item_option_value_id\": \"5WJSBCZ6GM3JI7WBYL6K7222\"}]}}, {\"type\": \"ITEM_VARIATION\", \"id\": \"EKCFUVAP5QV5WNUM6AGPMHT6\", \"updated_at\": \"2021-05-24T19:20:47.721Z\", \"version\": 1621884047721, \"is_deleted\": false, \"present_at_all_locations\": true, \"item_variation_data\": {\"item_id\": \"EPDUTEFNLZKWZHSWAFLLOUCS\", \"name\": \"option holder 1-A, option holder 2-B, option holder 3-A\", \"ordinal\": 3, \"pricing_type\": \"VARIABLE_PRICING\", \"item_option_values\": [{\"item_option_id\": \"QLA5ZQQ7HRQRU6ASNL37O6ZT\", \"item_option_value_id\": \"GAEOHKJ3ANVGRM2LQMVO247A\"}, {\"item_option_id\": \"27OPF4USPPXHTBSFZTS7XFC2\", \"item_option_value_id\": \"FDXZZRVHFH3XWVBFAOSUVAGJ\"}, {\"item_option_id\": \"QVQBHHJUOJZ5MG3WQBPRVYO6\", \"item_option_value_id\": \"TS4LINPTKZUNM223HH4CHDOO\"}]}}, {\"type\": \"ITEM_VARIATION\", \"id\": \"YFJ4VJVUJMJHXV4I7UJ2U3SA\", \"updated_at\": \"2021-05-24T19:20:47.721Z\", \"version\": 1621884047721, \"is_deleted\": false, \"present_at_all_locations\": true, \"item_variation_data\": {\"item_id\": \"EPDUTEFNLZKWZHSWAFLLOUCS\", \"name\": \"option holder 1-A, option holder 2-B, option holder 3-B\", \"ordinal\": 4, \"pricing_type\": \"VARIABLE_PRICING\", \"item_option_values\": [{\"item_option_id\": \"QLA5ZQQ7HRQRU6ASNL37O6ZT\", \"item_option_value_id\": \"GAEOHKJ3ANVGRM2LQMVO247A\"}, {\"item_option_id\": \"27OPF4USPPXHTBSFZTS7XFC2\", \"item_option_value_id\": \"FDXZZRVHFH3XWVBFAOSUVAGJ\"}, {\"item_option_id\": \"QVQBHHJUOJZ5MG3WQBPRVYO6\", \"item_option_value_id\": \"PD7VDJORRKCPD4AKYJXJ4LXQ\"}]}}, {\"type\": \"ITEM_VARIATION\", \"id\": \"ZQ3SX4AXTCKTROHAJJ3LHOPV\", \"updated_at\": \"2021-05-24T19:20:47.721Z\", \"version\": 1621884047721, \"is_deleted\": false, \"present_at_all_locations\": true, \"item_variation_data\": {\"item_id\": \"EPDUTEFNLZKWZHSWAFLLOUCS\", \"name\": \"option holder 1-A, option holder 2-B, option holder 3-C\", \"ordinal\": 5, \"pricing_type\": \"VARIABLE_PRICING\", \"item_option_values\": [{\"item_option_id\": \"QLA5ZQQ7HRQRU6ASNL37O6ZT\", \"item_option_value_id\": \"GAEOHKJ3ANVGRM2LQMVO247A\"}, {\"item_option_id\": \"27OPF4USPPXHTBSFZTS7XFC2\", \"item_option_value_id\": \"FDXZZRVHFH3XWVBFAOSUVAGJ\"}, {\"item_option_id\": \"QVQBHHJUOJZ5MG3WQBPRVYO6\", \"item_option_value_id\": \"5WJSBCZ6GM3JI7WBYL6K7222\"}]}}, {\"type\": \"ITEM_VARIATION\", \"id\": \"72WPPLSSAYXUUMXPHMWRDPYS\", \"updated_at\": \"2021-05-24T19:20:47.721Z\", \"version\": 1621884047721, \"is_deleted\": false, \"present_at_all_locations\": true, \"item_variation_data\": {\"item_id\": \"EPDUTEFNLZKWZHSWAFLLOUCS\", \"name\": \"option holder 1-A, option holder 2-C, option holder 3-A\", \"ordinal\": 6, \"pricing_type\": \"VARIABLE_PRICING\", \"item_option_values\": [{\"item_option_id\": \"QLA5ZQQ7HRQRU6ASNL37O6ZT\", \"item_option_value_id\": \"GAEOHKJ3ANVGRM2LQMVO247A\"}, {\"item_option_id\": \"27OPF4USPPXHTBSFZTS7XFC2\", \"item_option_value_id\": \"5AJCGGTUTDFSQK63Z4SPFZCH\"}, {\"item_option_id\": \"QVQBHHJUOJZ5MG3WQBPRVYO6\", \"item_option_value_id\": \"TS4LINPTKZUNM223HH4CHDOO\"}]}}, {\"type\": \"ITEM_VARIATION\", \"id\": \"4H7ULVKSENQVGD6YZWLJ6C6F\", \"updated_at\": \"2021-05-24T19:20:47.721Z\", \"version\": 1621884047721, \"is_deleted\": false, \"present_at_all_locations\": true, \"item_variation_data\": {\"item_id\": \"EPDUTEFNLZKWZHSWAFLLOUCS\", \"name\": \"option holder 1-A, option holder 2-C, option holder 3-B\", \"ordinal\": 7, \"pricing_type\": \"VARIABLE_PRICING\", \"item_option_values\": [{\"item_option_id\": \"QLA5ZQQ7HRQRU6ASNL37O6ZT\", \"item_option_value_id\": \"GAEOHKJ3ANVGRM2LQMVO247A\"}, {\"item_option_id\": \"27OPF4USPPXHTBSFZTS7XFC2\", \"item_option_value_id\": \"5AJCGGTUTDFSQK63Z4SPFZCH\"}, {\"item_option_id\": \"QVQBHHJUOJZ5MG3WQBPRVYO6\", \"item_option_value_id\": \"PD7VDJORRKCPD4AKYJXJ4LXQ\"}]}}, {\"type\": \"ITEM_VARIATION\", \"id\": \"UZHK7OXLKDIYKPWNWVSPEDX6\", \"updated_at\": \"2021-05-24T19:20:47.721Z\", \"version\": 1621884047721, \"is_deleted\": false, \"present_at_all_locations\": true, \"item_variation_data\": {\"item_id\": \"EPDUTEFNLZKWZHSWAFLLOUCS\", \"name\": \"option holder 1-A, option holder 2-C, option holder 3-C\", \"ordinal\": 8, \"pricing_type\": \"VARIABLE_PRICING\", \"item_option_values\": [{\"item_option_id\": \"QLA5ZQQ7HRQRU6ASNL37O6ZT\", \"item_option_value_id\": \"GAEOHKJ3ANVGRM2LQMVO247A\"}, {\"item_option_id\": \"27OPF4USPPXHTBSFZTS7XFC2\", \"item_option_value_id\": \"5AJCGGTUTDFSQK63Z4SPFZCH\"}, {\"item_option_id\": \"QVQBHHJUOJZ5MG3WQBPRVYO6\", \"item_option_value_id\": \"5WJSBCZ6GM3JI7WBYL6K7222\"}]}}, {\"type\": \"ITEM_VARIATION\", \"id\": \"PJJ5LNSCSH2FFWNANAPYYE3W\", \"updated_at\": \"2021-05-24T19:20:47.721Z\", \"version\": 1621884047721, \"is_deleted\": false, \"present_at_all_locations\": true, \"item_variation_data\": {\"item_id\": \"EPDUTEFNLZKWZHSWAFLLOUCS\", \"name\": \"option holder 1-B, option holder 2-A, option holder 3-A\", \"ordinal\": 9, \"pricing_type\": \"VARIABLE_PRICING\", \"item_option_values\": [{\"item_option_id\": \"QLA5ZQQ7HRQRU6ASNL37O6ZT\", \"item_option_value_id\": \"7UM4JBB2EDVKD3GYHAADREX2\"}, {\"item_option_id\": \"27OPF4USPPXHTBSFZTS7XFC2\", \"item_option_value_id\": \"YRQHNGYYZH4IMJBKZWDW5BZ3\"}, {\"item_option_id\": \"QVQBHHJUOJZ5MG3WQBPRVYO6\", \"item_option_value_id\": \"TS4LINPTKZUNM223HH4CHDOO\"}]}}, {\"type\": \"ITEM_VARIATION\", \"id\": \"LVA5VFWV5WFUECA4EONSRNRE\", \"updated_at\": \"2021-05-24T19:20:47.721Z\", \"version\": 1621884047721, \"is_deleted\": false, \"present_at_all_locations\": true, \"item_variation_data\": {\"item_id\": \"EPDUTEFNLZKWZHSWAFLLOUCS\", \"name\": \"option holder 1-B, option holder 2-A, option holder 3-B\", \"ordinal\": 10, \"pricing_type\": \"VARIABLE_PRICING\", \"item_option_values\": [{\"item_option_id\": \"QLA5ZQQ7HRQRU6ASNL37O6ZT\", \"item_option_value_id\": \"7UM4JBB2EDVKD3GYHAADREX2\"}, {\"item_option_id\": \"27OPF4USPPXHTBSFZTS7XFC2\", \"item_option_value_id\": \"YRQHNGYYZH4IMJBKZWDW5BZ3\"}, {\"item_option_id\": \"QVQBHHJUOJZ5MG3WQBPRVYO6\", \"item_option_value_id\": \"PD7VDJORRKCPD4AKYJXJ4LXQ\"}]}}, {\"type\": \"ITEM_VARIATION\", \"id\": \"SDQV4IURGH5WJGJ42ZBWSIVK\", \"updated_at\": \"2021-05-24T19:20:47.721Z\", \"version\": 1621884047721, \"is_deleted\": false, \"present_at_all_locations\": true, \"item_variation_data\": {\"item_id\": \"EPDUTEFNLZKWZHSWAFLLOUCS\", \"name\": \"option holder 1-B, option holder 2-A, option holder 3-C\", \"ordinal\": 11, \"pricing_type\": \"VARIABLE_PRICING\", \"item_option_values\": [{\"item_option_id\": \"QLA5ZQQ7HRQRU6ASNL37O6ZT\", \"item_option_value_id\": \"7UM4JBB2EDVKD3GYHAADREX2\"}, {\"item_option_id\": \"27OPF4USPPXHTBSFZTS7XFC2\", \"item_option_value_id\": \"YRQHNGYYZH4IMJBKZWDW5BZ3\"}, {\"item_option_id\": \"QVQBHHJUOJZ5MG3WQBPRVYO6\", \"item_option_value_id\": \"5WJSBCZ6GM3JI7WBYL6K7222\"}]}}, {\"type\": \"ITEM_VARIATION\", \"id\": \"GHHLA4X4CGYPLFQQNNFRPHMQ\", \"updated_at\": \"2021-05-24T19:20:47.721Z\", \"version\": 1621884047721, \"is_deleted\": false, \"present_at_all_locations\": true, \"item_variation_data\": {\"item_id\": \"EPDUTEFNLZKWZHSWAFLLOUCS\", \"name\": \"option holder 1-B, option holder 2-B, option holder 3-A\", \"ordinal\": 12, \"pricing_type\": \"VARIABLE_PRICING\", \"item_option_values\": [{\"item_option_id\": \"QLA5ZQQ7HRQRU6ASNL37O6ZT\", \"item_option_value_id\": \"7UM4JBB2EDVKD3GYHAADREX2\"}, {\"item_option_id\": \"27OPF4USPPXHTBSFZTS7XFC2\", \"item_option_value_id\": \"FDXZZRVHFH3XWVBFAOSUVAGJ\"}, {\"item_option_id\": \"QVQBHHJUOJZ5MG3WQBPRVYO6\", \"item_option_value_id\": \"TS4LINPTKZUNM223HH4CHDOO\"}]}}, {\"type\": \"ITEM_VARIATION\", \"id\": \"JCYBHZKU2OISO5ACM7ESAMYX\", \"updated_at\": \"2021-05-24T19:20:47.721Z\", \"version\": 1621884047721, \"is_deleted\": false, \"present_at_all_locations\": true, \"item_variation_data\": {\"item_id\": \"EPDUTEFNLZKWZHSWAFLLOUCS\", \"name\": \"option holder 1-B, option holder 2-B, option holder 3-B\", \"ordinal\": 13, \"pricing_type\": \"VARIABLE_PRICING\", \"item_option_values\": [{\"item_option_id\": \"QLA5ZQQ7HRQRU6ASNL37O6ZT\", \"item_option_value_id\": \"7UM4JBB2EDVKD3GYHAADREX2\"}, {\"item_option_id\": \"27OPF4USPPXHTBSFZTS7XFC2\", \"item_option_value_id\": \"FDXZZRVHFH3XWVBFAOSUVAGJ\"}, {\"item_option_id\": \"QVQBHHJUOJZ5MG3WQBPRVYO6\", \"item_option_value_id\": \"PD7VDJORRKCPD4AKYJXJ4LXQ\"}]}}, {\"type\": \"ITEM_VARIATION\", \"id\": \"S4LJMPZNRKUQJEFXCWKO6TV7\", \"updated_at\": \"2021-05-24T19:20:47.721Z\", \"version\": 1621884047721, \"is_deleted\": false, \"present_at_all_locations\": true, \"item_variation_data\": {\"item_id\": \"EPDUTEFNLZKWZHSWAFLLOUCS\", \"name\": \"option holder 1-B, option holder 2-B, option holder 3-C\", \"ordinal\": 14, \"pricing_type\": \"VARIABLE_PRICING\", \"item_option_values\": [{\"item_option_id\": \"QLA5ZQQ7HRQRU6ASNL37O6ZT\", \"item_option_value_id\": \"7UM4JBB2EDVKD3GYHAADREX2\"}, {\"item_option_id\": \"27OPF4USPPXHTBSFZTS7XFC2\", \"item_option_value_id\": \"FDXZZRVHFH3XWVBFAOSUVAGJ\"}, {\"item_option_id\": \"QVQBHHJUOJZ5MG3WQBPRVYO6\", \"item_option_value_id\": \"5WJSBCZ6GM3JI7WBYL6K7222\"}]}}, {\"type\": \"ITEM_VARIATION\", \"id\": \"VVLUPZHUQIQHQVZTCDQPSFDU\", \"updated_at\": \"2021-05-24T19:20:47.721Z\", \"version\": 1621884047721, \"is_deleted\": false, \"present_at_all_locations\": true, \"item_variation_data\": {\"item_id\": \"EPDUTEFNLZKWZHSWAFLLOUCS\", \"name\": \"option holder 1-B, option holder 2-C, option holder 3-A\", \"ordinal\": 15, \"pricing_type\": \"VARIABLE_PRICING\", \"item_option_values\": [{\"item_option_id\": \"QLA5ZQQ7HRQRU6ASNL37O6ZT\", \"item_option_value_id\": \"7UM4JBB2EDVKD3GYHAADREX2\"}, {\"item_option_id\": \"27OPF4USPPXHTBSFZTS7XFC2\", \"item_option_value_id\": \"5AJCGGTUTDFSQK63Z4SPFZCH\"}, {\"item_option_id\": \"QVQBHHJUOJZ5MG3WQBPRVYO6\", \"item_option_value_id\": \"TS4LINPTKZUNM223HH4CHDOO\"}]}}, {\"type\": \"ITEM_VARIATION\", \"id\": \"FN2URP4R4QYCTKAUKYDUPF2J\", \"updated_at\": \"2021-05-24T19:20:47.721Z\", \"version\": 1621884047721, \"is_deleted\": false, \"present_at_all_locations\": true, \"item_variation_data\": {\"item_id\": \"EPDUTEFNLZKWZHSWAFLLOUCS\", \"name\": \"option holder 1-B, option holder 2-C, option holder 3-B\", \"ordinal\": 16, \"pricing_type\": \"VARIABLE_PRICING\", \"item_option_values\": [{\"item_option_id\": \"QLA5ZQQ7HRQRU6ASNL37O6ZT\", \"item_option_value_id\": \"7UM4JBB2EDVKD3GYHAADREX2\"}, {\"item_option_id\": \"27OPF4USPPXHTBSFZTS7XFC2\", \"item_option_value_id\": \"5AJCGGTUTDFSQK63Z4SPFZCH\"}, {\"item_option_id\": \"QVQBHHJUOJZ5MG3WQBPRVYO6\", \"item_option_value_id\": \"PD7VDJORRKCPD4AKYJXJ4LXQ\"}]}}, {\"type\": \"ITEM_VARIATION\", \"id\": \"PJKMH5P3M3ZUD43HCJNVOMB5\", \"updated_at\": \"2021-05-24T19:20:47.721Z\", \"version\": 1621884047721, \"is_deleted\": false, \"present_at_all_locations\": true, \"item_variation_data\": {\"item_id\": \"EPDUTEFNLZKWZHSWAFLLOUCS\", \"name\": \"option holder 1-B, option holder 2-C, option holder 3-C\", \"ordinal\": 17, \"pricing_type\": \"VARIABLE_PRICING\", \"item_option_values\": [{\"item_option_id\": \"QLA5ZQQ7HRQRU6ASNL37O6ZT\", \"item_option_value_id\": \"7UM4JBB2EDVKD3GYHAADREX2\"}, {\"item_option_id\": \"27OPF4USPPXHTBSFZTS7XFC2\", \"item_option_value_id\": \"5AJCGGTUTDFSQK63Z4SPFZCH\"}, {\"item_option_id\": \"QVQBHHJUOJZ5MG3WQBPRVYO6\", \"item_option_value_id\": \"5WJSBCZ6GM3JI7WBYL6K7222\"}]}}, {\"type\": \"ITEM_VARIATION\", \"id\": \"OGWK5UU7LSVOV3FLRG7DMAAK\", \"updated_at\": \"2021-05-24T19:20:47.721Z\", \"version\": 1621884047721, \"is_deleted\": false, \"present_at_all_locations\": true, \"item_variation_data\": {\"item_id\": \"EPDUTEFNLZKWZHSWAFLLOUCS\", \"name\": \"option holder 1-C, option holder 2-A, option holder 3-A\", \"ordinal\": 18, \"pricing_type\": \"VARIABLE_PRICING\", \"item_option_values\": [{\"item_option_id\": \"QLA5ZQQ7HRQRU6ASNL37O6ZT\", \"item_option_value_id\": \"EJE22A5BNZKULXI7BB2BRUNK\"}, {\"item_option_id\": \"27OPF4USPPXHTBSFZTS7XFC2\", \"item_option_value_id\": \"YRQHNGYYZH4IMJBKZWDW5BZ3\"}, {\"item_option_id\": \"QVQBHHJUOJZ5MG3WQBPRVYO6\", \"item_option_value_id\": \"TS4LINPTKZUNM223HH4CHDOO\"}]}}, {\"type\": \"ITEM_VARIATION\", \"id\": \"5NJUVVMHTN4KFBWLSQBMU3TX\", \"updated_at\": \"2021-05-24T19:20:47.721Z\", \"version\": 1621884047721, \"is_deleted\": false, \"present_at_all_locations\": true, \"item_variation_data\": {\"item_id\": \"EPDUTEFNLZKWZHSWAFLLOUCS\", \"name\": \"option holder 1-C, option holder 2-A, option holder 3-B\", \"ordinal\": 19, \"pricing_type\": \"VARIABLE_PRICING\", \"item_option_values\": [{\"item_option_id\": \"QLA5ZQQ7HRQRU6ASNL37O6ZT\", \"item_option_value_id\": \"EJE22A5BNZKULXI7BB2BRUNK\"}, {\"item_option_id\": \"27OPF4USPPXHTBSFZTS7XFC2\", \"item_option_value_id\": \"YRQHNGYYZH4IMJBKZWDW5BZ3\"}, {\"item_option_id\": \"QVQBHHJUOJZ5MG3WQBPRVYO6\", \"item_option_value_id\": \"PD7VDJORRKCPD4AKYJXJ4LXQ\"}]}}, {\"type\": \"ITEM_VARIATION\", \"id\": \"MFYQ5NBK7L23JHGNEZUV7BBE\", \"updated_at\": \"2021-05-24T19:20:47.721Z\", \"version\": 1621884047721, \"is_deleted\": false, \"present_at_all_locations\": true, \"item_variation_data\": {\"item_id\": \"EPDUTEFNLZKWZHSWAFLLOUCS\", \"name\": \"option holder 1-C, option holder 2-A, option holder 3-C\", \"ordinal\": 20, \"pricing_type\": \"VARIABLE_PRICING\", \"item_option_values\": [{\"item_option_id\": \"QLA5ZQQ7HRQRU6ASNL37O6ZT\", \"item_option_value_id\": \"EJE22A5BNZKULXI7BB2BRUNK\"}, {\"item_option_id\": \"27OPF4USPPXHTBSFZTS7XFC2\", \"item_option_value_id\": \"YRQHNGYYZH4IMJBKZWDW5BZ3\"}, {\"item_option_id\": \"QVQBHHJUOJZ5MG3WQBPRVYO6\", \"item_option_value_id\": \"5WJSBCZ6GM3JI7WBYL6K7222\"}]}}, {\"type\": \"ITEM_VARIATION\", \"id\": \"KKOZZ3MRGH43KP3EJM3L3UG2\", \"updated_at\": \"2021-05-24T19:20:47.721Z\", \"version\": 1621884047721, \"is_deleted\": false, \"present_at_all_locations\": true, \"item_variation_data\": {\"item_id\": \"EPDUTEFNLZKWZHSWAFLLOUCS\", \"name\": \"option holder 1-C, option holder 2-B, option holder 3-A\", \"ordinal\": 21, \"pricing_type\": \"VARIABLE_PRICING\", \"item_option_values\": [{\"item_option_id\": \"QLA5ZQQ7HRQRU6ASNL37O6ZT\", \"item_option_value_id\": \"EJE22A5BNZKULXI7BB2BRUNK\"}, {\"item_option_id\": \"27OPF4USPPXHTBSFZTS7XFC2\", \"item_option_value_id\": \"FDXZZRVHFH3XWVBFAOSUVAGJ\"}, {\"item_option_id\": \"QVQBHHJUOJZ5MG3WQBPRVYO6\", \"item_option_value_id\": \"TS4LINPTKZUNM223HH4CHDOO\"}]}}, {\"type\": \"ITEM_VARIATION\", \"id\": \"LMLNCIYASABZRA5NOM5P7OCY\", \"updated_at\": \"2021-05-24T19:20:47.721Z\", \"version\": 1621884047721, \"is_deleted\": false, \"present_at_all_locations\": true, \"item_variation_data\": {\"item_id\": \"EPDUTEFNLZKWZHSWAFLLOUCS\", \"name\": \"option holder 1-C, option holder 2-B, option holder 3-B\", \"ordinal\": 22, \"pricing_type\": \"VARIABLE_PRICING\", \"item_option_values\": [{\"item_option_id\": \"QLA5ZQQ7HRQRU6ASNL37O6ZT\", \"item_option_value_id\": \"EJE22A5BNZKULXI7BB2BRUNK\"}, {\"item_option_id\": \"27OPF4USPPXHTBSFZTS7XFC2\", \"item_option_value_id\": \"FDXZZRVHFH3XWVBFAOSUVAGJ\"}, {\"item_option_id\": \"QVQBHHJUOJZ5MG3WQBPRVYO6\", \"item_option_value_id\": \"PD7VDJORRKCPD4AKYJXJ4LXQ\"}]}}, {\"type\": \"ITEM_VARIATION\", \"id\": \"IYXHD4W6AKHME4GXQ2GWMGYK\", \"updated_at\": \"2021-05-24T19:20:47.721Z\", \"version\": 1621884047721, \"is_deleted\": false, \"present_at_all_locations\": true, \"item_variation_data\": {\"item_id\": \"EPDUTEFNLZKWZHSWAFLLOUCS\", \"name\": \"option holder 1-C, option holder 2-B, option holder 3-C\", \"ordinal\": 23, \"pricing_type\": \"VARIABLE_PRICING\", \"item_option_values\": [{\"item_option_id\": \"QLA5ZQQ7HRQRU6ASNL37O6ZT\", \"item_option_value_id\": \"EJE22A5BNZKULXI7BB2BRUNK\"}, {\"item_option_id\": \"27OPF4USPPXHTBSFZTS7XFC2\", \"item_option_value_id\": \"FDXZZRVHFH3XWVBFAOSUVAGJ\"}, {\"item_option_id\": \"QVQBHHJUOJZ5MG3WQBPRVYO6\", \"item_option_value_id\": \"5WJSBCZ6GM3JI7WBYL6K7222\"}]}}, {\"type\": \"ITEM_VARIATION\", \"id\": \"6HCV2XXHCU2CTUQLBP3PTRHM\", \"updated_at\": \"2021-05-24T19:20:47.721Z\", \"version\": 1621884047721, \"is_deleted\": false, \"present_at_all_locations\": true, \"item_variation_data\": {\"item_id\": \"EPDUTEFNLZKWZHSWAFLLOUCS\", \"name\": \"option holder 1-C, option holder 2-C, option holder 3-A\", \"ordinal\": 24, \"pricing_type\": \"VARIABLE_PRICING\", \"item_option_values\": [{\"item_option_id\": \"QLA5ZQQ7HRQRU6ASNL37O6ZT\", \"item_option_value_id\": \"EJE22A5BNZKULXI7BB2BRUNK\"}, {\"item_option_id\": \"27OPF4USPPXHTBSFZTS7XFC2\", \"item_option_value_id\": \"5AJCGGTUTDFSQK63Z4SPFZCH\"}, {\"item_option_id\": \"QVQBHHJUOJZ5MG3WQBPRVYO6\", \"item_option_value_id\": \"TS4LINPTKZUNM223HH4CHDOO\"}]}}, {\"type\": \"ITEM_VARIATION\", \"id\": \"3HH53MYIPJLOHT5SLV5IEGLL\", \"updated_at\": \"2021-05-24T19:20:47.721Z\", \"version\": 1621884047721, \"is_deleted\": false, \"present_at_all_locations\": true, \"item_variation_data\": {\"item_id\": \"EPDUTEFNLZKWZHSWAFLLOUCS\", \"name\": \"option holder 1-C, option holder 2-C, option holder 3-B\", \"ordinal\": 25, \"pricing_type\": \"VARIABLE_PRICING\", \"item_option_values\": [{\"item_option_id\": \"QLA5ZQQ7HRQRU6ASNL37O6ZT\", \"item_option_value_id\": \"EJE22A5BNZKULXI7BB2BRUNK\"}, {\"item_option_id\": \"27OPF4USPPXHTBSFZTS7XFC2\", \"item_option_value_id\": \"5AJCGGTUTDFSQK63Z4SPFZCH\"}, {\"item_option_id\": \"QVQBHHJUOJZ5MG3WQBPRVYO6\", \"item_option_value_id\": \"PD7VDJORRKCPD4AKYJXJ4LXQ\"}]}}, {\"type\": \"ITEM_VARIATION\", \"id\": \"DL3OGU6SULFNJMPJHH3M7ATI\", \"updated_at\": \"2021-05-24T19:20:47.721Z\", \"version\": 1621884047721, \"is_deleted\": false, \"present_at_all_locations\": true, \"item_variation_data\": {\"item_id\": \"EPDUTEFNLZKWZHSWAFLLOUCS\", \"name\": \"option holder 1-C, option holder 2-C, option holder 3-C\", \"ordinal\": 26, \"pricing_type\": \"VARIABLE_PRICING\", \"item_option_values\": [{\"item_option_id\": \"QLA5ZQQ7HRQRU6ASNL37O6ZT\", \"item_option_value_id\": \"EJE22A5BNZKULXI7BB2BRUNK\"}, {\"item_option_id\": \"27OPF4USPPXHTBSFZTS7XFC2\", \"item_option_value_id\": \"5AJCGGTUTDFSQK63Z4SPFZCH\"}, {\"item_option_id\": \"QVQBHHJUOJZ5MG3WQBPRVYO6\", \"item_option_value_id\": \"5WJSBCZ6GM3JI7WBYL6K7222\"}]}}], \"product_type\": \"REGULAR\", \"skip_modifier_screen\": false, \"item_options\": [{\"item_option_id\": \"QLA5ZQQ7HRQRU6ASNL37O6ZT\"}, {\"item_option_id\": \"27OPF4USPPXHTBSFZTS7XFC2\"}, {\"item_option_id\": \"QVQBHHJUOJZ5MG3WQBPRVYO6\"}], \"ecom_visibility\": \"UNINDEXED\"}}, {\"type\": \"ITEM\", \"id\": \"FAMS4CZC3ECN2WMZOPXGYF4J\", \"updated_at\": \"2021-05-25T17:25:25.048Z\", \"version\": 1621963525048, \"is_deleted\": false, \"present_at_all_locations\": true, \"item_data\": {\"name\": \"item_test2\", \"category_id\": \"JBKHCQPV2MZL2LLDKWKROQBA\", \"variations\": [{\"type\": \"ITEM_VARIATION\", \"id\": \"FU4C5B6NT37SHGZ7NMN5BZJZ\", \"updated_at\": \"2021-05-25T17:25:25.048Z\", \"version\": 1621963525048, \"is_deleted\": false, \"present_at_all_locations\": true, \"item_variation_data\": {\"item_id\": \"FAMS4CZC3ECN2WMZOPXGYF4J\", \"name\": \"Regular\", \"ordinal\": 0, \"pricing_type\": \"VARIABLE_PRICING\"}}], \"product_type\": \"REGULAR\"}}, {\"type\": \"ITEM\", \"id\": \"TMDEWJMDPSVUKUROJSVXXBX4\", \"updated_at\": \"2021-05-25T17:33:16.619Z\", \"version\": 1621963996619, \"is_deleted\": false, \"present_at_all_locations\": true, \"item_data\": {\"name\": \"item_test2\", \"description\": \"description of item test\", \"category_id\": \"JBKHCQPV2MZL2LLDKWKROQBA\", \"variations\": [{\"type\": \"ITEM_VARIATION\", \"id\": \"RC6347XW7YZO6X6OFQSR7THT\", \"updated_at\": \"2021-05-25T17:33:16.619Z\", \"version\": 1621963996619, \"is_deleted\": false, \"present_at_all_locations\": true, \"item_variation_data\": {\"item_id\": \"TMDEWJMDPSVUKUROJSVXXBX4\", \"name\": \"Regular\", \"ordinal\": 0, \"pricing_type\": \"VARIABLE_PRICING\"}}], \"product_type\": \"REGULAR\"}}, {\"type\": \"ITEM\", \"id\": \"CNKM7JWGLCXBBDAFNXJSQZ6F\", \"updated_at\": \"2021-05-26T03:06:27.313Z\", \"version\": 1621998387313, \"is_deleted\": false, \"custom_attribute_values\": {\"Square:ab3fe3cb-554f-4f57-925d-26e5a6a88b46\": {\"name\": \"custom attribute holder selection\", \"custom_attribute_definition_id\": \"UDQ5TAUO7BPDWY5AUFHLOYOX\", \"type\": \"SELECTION\", \"selection_uid_values\": [\"DG4BBYHHZP6JHH2ENBWGAYHD\", \"7NAXAYXPP2WUU7NKYHA2YBPW\"], \"key\": \"Square:ab3fe3cb-554f-4f57-925d-26e5a6a88b46\"}}, \"present_at_all_locations\": true, \"item_data\": {\"name\": \"Shirt\", \"description\": \"Shirt\", \"visibility\": \"PRIVATE\", \"modifier_list_info\": [{\"modifier_list_id\": \"4D6JH53P272CUWBAUWP5LHVP\", \"visibility\": \"PUBLIC\", \"modifier_overrides\": [{\"modifier_id\": \"6DDIJZV7LENBONR5FAVYDIGS\", \"on_by_default\": true}, {\"modifier_id\": \"GTPICMHUOC52QV35ALWOQC3M\", \"on_by_default\": true}], \"min_selected_modifiers\": -1, \"max_selected_modifiers\": -1, \"enabled\": true}], \"variations\": [{\"type\": \"ITEM_VARIATION\", \"id\": \"D43R3RK22UNNHKNYD5MT6JRS\", \"updated_at\": \"2021-05-25T19:28:15.919Z\", \"version\": 1621970895919, \"is_deleted\": false, \"present_at_all_locations\": true, \"item_variation_data\": {\"item_id\": \"CNKM7JWGLCXBBDAFNXJSQZ6F\", \"name\": \"Small red shirt\", \"ordinal\": 0, \"pricing_type\": \"FIXED_PRICING\", \"price_money\": {\"amount\": 2500, \"currency\": \"USD\"}}}, {\"type\": \"ITEM_VARIATION\", \"id\": \"PUH7WIQFJOIGML2D3GIYGNGN\", \"updated_at\": \"2021-05-25T19:28:15.919Z\", \"version\": 1621970895919, \"is_deleted\": false, \"present_at_all_locations\": true, \"item_variation_data\": {\"item_id\": \"CNKM7JWGLCXBBDAFNXJSQZ6F\", \"name\": \"Medium red shirt\", \"ordinal\": 1, \"pricing_type\": \"FIXED_PRICING\", \"price_money\": {\"amount\": 3000, \"currency\": \"USD\"}}}, {\"type\": \"ITEM_VARIATION\", \"id\": \"MWGEB7DRPLPUQUB6PYBB2YX7\", \"updated_at\": \"2021-05-25T19:28:15.919Z\", \"version\": 1621970895919, \"is_deleted\": false, \"present_at_all_locations\": true, \"item_variation_data\": {\"item_id\": \"CNKM7JWGLCXBBDAFNXJSQZ6F\", \"name\": \"Large red shirt\", \"ordinal\": 2, \"pricing_type\": \"FIXED_PRICING\", \"price_money\": {\"amount\": 3500, \"currency\": \"USD\"}}}, {\"type\": \"ITEM_VARIATION\", \"id\": \"2FEVNHFUWXIDP5WS3DS7GCOS\", \"updated_at\": \"2021-05-25T19:28:15.919Z\", \"version\": 1621970895919, \"is_deleted\": false, \"present_at_all_locations\": true, \"item_variation_data\": {\"item_id\": \"CNKM7JWGLCXBBDAFNXJSQZ6F\", \"name\": \"Small blue shirt\", \"ordinal\": 3, \"pricing_type\": \"FIXED_PRICING\", \"price_money\": {\"amount\": 2500, \"currency\": \"USD\"}}}, {\"type\": \"ITEM_VARIATION\", \"id\": \"KQESUDT5KHLMQVMXUBXXGD4Z\", \"updated_at\": \"2021-05-25T19:28:15.919Z\", \"version\": 1621970895919, \"is_deleted\": false, \"present_at_all_locations\": true, \"item_variation_data\": {\"item_id\": \"CNKM7JWGLCXBBDAFNXJSQZ6F\", \"name\": \"Medium blue shirt\", \"ordinal\": 4, \"pricing_type\": \"FIXED_PRICING\", \"price_money\": {\"amount\": 3000, \"currency\": \"USD\"}}}, {\"type\": \"ITEM_VARIATION\", \"id\": \"Q5HPPCKM2LXH5ZYVAIZTYBZK\", \"updated_at\": \"2021-05-25T19:28:15.919Z\", \"version\": 1621970895919, \"is_deleted\": false, \"present_at_all_locations\": true, \"item_variation_data\": {\"item_id\": \"CNKM7JWGLCXBBDAFNXJSQZ6F\", \"name\": \"Large blue shirt\", \"ordinal\": 5, \"pricing_type\": \"FIXED_PRICING\", \"price_money\": {\"amount\": 3500, \"currency\": \"USD\"}}}], \"product_type\": \"REGULAR\", \"skip_modifier_screen\": false, \"ecom_visibility\": \"UNINDEXED\"}}, {\"type\": \"ITEM\", \"id\": \"KNANBJUSA6GQMYZSAONESLH4\", \"updated_at\": \"2021-05-25T21:29:21.396Z\", \"version\": 1621978161396, \"is_deleted\": false, \"present_at_all_locations\": true, \"item_data\": {\"name\": \"Shirt\", \"variations\": [{\"type\": \"ITEM_VARIATION\", \"id\": \"TEPVBK5OSXRQUJ3ERNSH6ALV\", \"updated_at\": \"2021-05-25T21:29:21.396Z\", \"version\": 1621978161396, \"is_deleted\": false, \"present_at_all_locations\": true, \"item_variation_data\": {\"item_id\": \"KNANBJUSA6GQMYZSAONESLH4\", \"name\": \"Small, RED\", \"ordinal\": 0, \"pricing_type\": \"FIXED_PRICING\", \"price_money\": {\"amount\": 2500, \"currency\": \"USD\"}, \"item_option_values\": [{\"item_option_id\": \"OSWYNPBW3EMRSQMWZMSDSZ2N\", \"item_option_value_id\": \"5MWSIZGPUGBRNODVLKDNFSUU\"}, {\"item_option_id\": \"OIGNZFFYOOTUJL43ENK36H2I\", \"item_option_value_id\": \"K6XJK5RW7UAI56D4MSZRR5M2\"}]}}, {\"type\": \"ITEM_VARIATION\", \"id\": \"MV2QGFGNUZQTXF3Z47PLJKP7\", \"updated_at\": \"2021-05-25T21:29:21.396Z\", \"version\": 1621978161396, \"is_deleted\": false, \"present_at_all_locations\": true, \"item_variation_data\": {\"item_id\": \"KNANBJUSA6GQMYZSAONESLH4\", \"name\": \"Small, Blue\", \"ordinal\": 1, \"pricing_type\": \"FIXED_PRICING\", \"price_money\": {\"amount\": 2500, \"currency\": \"USD\"}, \"item_option_values\": [{\"item_option_id\": \"OSWYNPBW3EMRSQMWZMSDSZ2N\", \"item_option_value_id\": \"5MWSIZGPUGBRNODVLKDNFSUU\"}, {\"item_option_id\": \"OIGNZFFYOOTUJL43ENK36H2I\", \"item_option_value_id\": \"WITVXF2BT2PJRLRI3PZSJXTU\"}]}}, {\"type\": \"ITEM_VARIATION\", \"id\": \"2P2HPGHTUG4JB77GT6PFJU3K\", \"updated_at\": \"2021-05-25T21:29:21.396Z\", \"version\": 1621978161396, \"is_deleted\": false, \"present_at_all_locations\": true, \"item_variation_data\": {\"item_id\": \"KNANBJUSA6GQMYZSAONESLH4\", \"name\": \"Medium, RED\", \"ordinal\": 2, \"pricing_type\": \"FIXED_PRICING\", \"price_money\": {\"amount\": 3000, \"currency\": \"USD\"}, \"item_option_values\": [{\"item_option_id\": \"OSWYNPBW3EMRSQMWZMSDSZ2N\", \"item_option_value_id\": \"TWAZK3ISIWQFUA4P2J7IN6JB\"}, {\"item_option_id\": \"OIGNZFFYOOTUJL43ENK36H2I\", \"item_option_value_id\": \"K6XJK5RW7UAI56D4MSZRR5M2\"}]}}, {\"type\": \"ITEM_VARIATION\", \"id\": \"URTFKTPPKFFWOQWBWEURWMPW\", \"updated_at\": \"2021-05-25T21:29:21.396Z\", \"version\": 1621978161396, \"is_deleted\": false, \"present_at_all_locations\": true, \"item_variation_data\": {\"item_id\": \"KNANBJUSA6GQMYZSAONESLH4\", \"name\": \"Medium, Blue\", \"ordinal\": 3, \"pricing_type\": \"FIXED_PRICING\", \"price_money\": {\"amount\": 3000, \"currency\": \"USD\"}, \"item_option_values\": [{\"item_option_id\": \"OSWYNPBW3EMRSQMWZMSDSZ2N\", \"item_option_value_id\": \"TWAZK3ISIWQFUA4P2J7IN6JB\"}, {\"item_option_id\": \"OIGNZFFYOOTUJL43ENK36H2I\", \"item_option_value_id\": \"WITVXF2BT2PJRLRI3PZSJXTU\"}]}}, {\"type\": \"ITEM_VARIATION\", \"id\": \"4WLQMAP4WISN2BOAMS4QT5OV\", \"updated_at\": \"2021-05-25T21:29:21.396Z\", \"version\": 1621978161396, \"is_deleted\": false, \"present_at_all_locations\": true, \"item_variation_data\": {\"item_id\": \"KNANBJUSA6GQMYZSAONESLH4\", \"name\": \"Large, RED\", \"ordinal\": 4, \"pricing_type\": \"FIXED_PRICING\", \"price_money\": {\"amount\": 3500, \"currency\": \"USD\"}, \"item_option_values\": [{\"item_option_id\": \"OSWYNPBW3EMRSQMWZMSDSZ2N\", \"item_option_value_id\": \"TW2Y3ZGWMQAXGPRDEAYWALPV\"}, {\"item_option_id\": \"OIGNZFFYOOTUJL43ENK36H2I\", \"item_option_value_id\": \"K6XJK5RW7UAI56D4MSZRR5M2\"}]}}, {\"type\": \"ITEM_VARIATION\", \"id\": \"QLB5RNC3ZUSAD3OBALPNUCPZ\", \"updated_at\": \"2021-05-25T21:29:21.396Z\", \"version\": 1621978161396, \"is_deleted\": false, \"present_at_all_locations\": true, \"item_variation_data\": {\"item_id\": \"KNANBJUSA6GQMYZSAONESLH4\", \"name\": \"Large, Blue\", \"ordinal\": 5, \"pricing_type\": \"FIXED_PRICING\", \"price_money\": {\"amount\": 3500, \"currency\": \"USD\"}, \"item_option_values\": [{\"item_option_id\": \"OSWYNPBW3EMRSQMWZMSDSZ2N\", \"item_option_value_id\": \"TW2Y3ZGWMQAXGPRDEAYWALPV\"}, {\"item_option_id\": \"OIGNZFFYOOTUJL43ENK36H2I\", \"item_option_value_id\": \"WITVXF2BT2PJRLRI3PZSJXTU\"}]}}], \"product_type\": \"REGULAR\", \"item_options\": [{\"item_option_id\": \"OSWYNPBW3EMRSQMWZMSDSZ2N\"}, {\"item_option_id\": \"OIGNZFFYOOTUJL43ENK36H2I\"}]}}]}))\n",
       "        });</script>\n",
       "        "
      ],
      "text/plain": [
       "<IPython.core.display.HTML object>"
      ]
     },
     "metadata": {},
     "output_type": "display_data"
    }
   ],
   "source": [
    "# module\n",
    "# list catalog to inspect the item library\n",
    "result = client.catalog.list_catalog()\n",
    "\n",
    "result = client.catalog.list_catalog(\n",
    "  types = \"ITEM\"\n",
    ")\n",
    "\n",
    "if result.is_success():\n",
    "  RenderJSON(json.loads(result.text))\n",
    "elif result.is_error():\n",
    "  print(result.errors)"
   ]
  }
 ],
 "metadata": {
  "kernelspec": {
   "display_name": "Python 3",
   "language": "python",
   "name": "python3"
  },
  "language_info": {
   "codemirror_mode": {
    "name": "ipython",
    "version": 3
   },
   "file_extension": ".py",
   "mimetype": "text/x-python",
   "name": "python",
   "nbconvert_exporter": "python",
   "pygments_lexer": "ipython3",
   "version": "3.8.8"
  }
 },
 "nbformat": 4,
 "nbformat_minor": 5
}
