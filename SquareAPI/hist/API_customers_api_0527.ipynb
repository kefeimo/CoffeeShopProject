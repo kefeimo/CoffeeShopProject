{
 "cells": [
  {
   "cell_type": "code",
   "execution_count": 1,
   "id": "e5937856",
   "metadata": {},
   "outputs": [],
   "source": [
    "from square.client import Client\n",
    "import pandas as pd"
   ]
  },
  {
   "cell_type": "code",
   "execution_count": 2,
   "id": "c4ed69c4",
   "metadata": {},
   "outputs": [],
   "source": [
    "## Add this to the first block in your note book to display json\n",
    "# another option: \n",
    "import uuid\n",
    "from IPython.core.display import display, HTML\n",
    "\n",
    "import json\n",
    "\n",
    "class RenderJSON(object):\n",
    "    def __init__(self, json_data):\n",
    "        if isinstance(json_data, dict):\n",
    "            self.json_str = json.dumps(json_data)\n",
    "        else:\n",
    "            self.json_str = json_data\n",
    "        self.uuid = str(uuid.uuid4())\n",
    "        # This line is missed out in most of the versions of this script across the web, it is essential for this to work interleaved with print statements\n",
    "        self._ipython_display_()\n",
    "        \n",
    "    def _ipython_display_(self):\n",
    "        display(HTML('<div id=\"{}\" style=\"height: auto; width:100%;\"></div>'.format(self.uuid)))\n",
    "        display(HTML(\"\"\"<script>\n",
    "        require([\"https://rawgit.com/caldwell/renderjson/master/renderjson.js\"], function() {\n",
    "          renderjson.set_show_to_level(1)\n",
    "          document.getElementById('%s').appendChild(renderjson(%s))\n",
    "        });</script>\n",
    "        \"\"\" % (self.uuid, self.json_str)))\n",
    "\n",
    "# Since this is copy-pasted wrongly(mostly) at a lot of places across the web, i'm putting the fixed, updated version here, mainly for self-reference\n",
    "\n",
    "\n",
    "## To use this function, call this, this now works even when you have a print statement before or after the RenderJSON call\n",
    "# RenderJSON(your_json)\n",
    "# RenderJSON(json.loads(result.text))"
   ]
  },
  {
   "cell_type": "code",
   "execution_count": 3,
   "id": "bf963e63",
   "metadata": {},
   "outputs": [],
   "source": [
    "# module\n",
    "# sandbox connection to \"Square SandBox no2\"\n",
    "\n",
    "from square.client import Client\n",
    "sandbox_token = \"EAAAECCddSeDNsweJXdjNVux8FTfVgMUXAroCh7VcOuoPlgjYb7MrkULH8DZrZmJ\"\n",
    "\n",
    "client = Client(\n",
    "    access_token = sandbox_token,\n",
    "    environment='sandbox',\n",
    ")"
   ]
  },
  {
   "cell_type": "code",
   "execution_count": 4,
   "id": "f4a8e759",
   "metadata": {},
   "outputs": [
    {
     "name": "stdout",
     "output_type": "stream",
     "text": [
      "{'customer': {'created_at': '2021-05-28T05:39:46.357Z', 'creation_source': 'THIRD_PARTY', 'family_name': 'Smith', 'given_name': 'Jack', 'id': 'RAWRMY0ZRWZVKC51JH2JQT2PKW', 'preferences': {'email_unsubscribed': False}, 'updated_at': '2021-05-28T05:39:46Z', 'version': 0}}\n"
     ]
    }
   ],
   "source": [
    "result = client.customers.create_customer(\n",
    "  body = {\n",
    "    \"idempotency_key\": str(uuid.uuid1()),\n",
    "    \"given_name\": \"Jack\",\n",
    "    \"family_name\": \"Smith\"\n",
    "  }\n",
    ")\n",
    "\n",
    "if result.is_success():\n",
    "  RenderJSON(result.body)\n",
    "elif result.is_error():\n",
    "  print(result.errors)\n",
    "\n",
    "result\n",
    "# \"customer\": ⊖{\n",
    "#         \"created_at\": \"2021-05-28T05:39:46.357Z\",\n",
    "#         \"creation_source\": \"THIRD_PARTY\",\n",
    "#         \"family_name\": \"Smith\",\n",
    "#         \"given_name\": \"Jack\",\n",
    "#         \"id\": \"RAWRMY0ZRWZVKC51JH2JQT2PKW\",\n",
    "#         \"preferences\": ⊕{1 item},\n",
    "#         \"updated_at\": \"2021-05-28T05:39:46Z\",\n",
    "#         \"version\": 0\n",
    "#     }"
   ]
  },
  {
   "cell_type": "code",
   "execution_count": 7,
   "id": "dca31abd",
   "metadata": {},
   "outputs": [
    {
     "data": {
      "text/html": [
       "<div id=\"fdd6a9de-313c-4d88-9d3b-71c3a04bad48\" style=\"height: auto; width:100%;\"></div>"
      ],
      "text/plain": [
       "<IPython.core.display.HTML object>"
      ]
     },
     "metadata": {},
     "output_type": "display_data"
    },
    {
     "data": {
      "text/html": [
       "<script>\n",
       "        require([\"https://rawgit.com/caldwell/renderjson/master/renderjson.js\"], function() {\n",
       "          renderjson.set_show_to_level(1)\n",
       "          document.getElementById('fdd6a9de-313c-4d88-9d3b-71c3a04bad48').appendChild(renderjson({\"customers\": [{\"created_at\": \"2021-05-28T05:39:46.357Z\", \"creation_source\": \"THIRD_PARTY\", \"family_name\": \"Smith\", \"given_name\": \"Jack\", \"id\": \"RAWRMY0ZRWZVKC51JH2JQT2PKW\", \"preferences\": {\"email_unsubscribed\": false}, \"updated_at\": \"2021-05-28T05:39:46Z\", \"version\": 0}]}))\n",
       "        });</script>\n",
       "        "
      ],
      "text/plain": [
       "<IPython.core.display.HTML object>"
      ]
     },
     "metadata": {},
     "output_type": "display_data"
    }
   ],
   "source": [
    "# module: list customer\n",
    "# note: ??using cursor in a loop style to avoid hitting respond record limit (maybe no need)\n",
    "result = client.customers.list_customers()\n",
    "\n",
    "if result.is_success():\n",
    "  RenderJSON(result.body)\n",
    "elif result.is_error():\n",
    "  print(result.errors)"
   ]
  },
  {
   "cell_type": "code",
   "execution_count": null,
   "id": "4af4fcd6",
   "metadata": {},
   "outputs": [],
   "source": []
  }
 ],
 "metadata": {
  "kernelspec": {
   "display_name": "Python 3",
   "language": "python",
   "name": "python3"
  },
  "language_info": {
   "codemirror_mode": {
    "name": "ipython",
    "version": 3
   },
   "file_extension": ".py",
   "mimetype": "text/x-python",
   "name": "python",
   "nbconvert_exporter": "python",
   "pygments_lexer": "ipython3",
   "version": "3.8.8"
  }
 },
 "nbformat": 4,
 "nbformat_minor": 5
}
