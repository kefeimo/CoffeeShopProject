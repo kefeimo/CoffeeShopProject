{
 "cells": [
  {
   "cell_type": "code",
   "execution_count": 2,
   "id": "28cda246",
   "metadata": {},
   "outputs": [],
   "source": [
    "from square.client import Client"
   ]
  },
  {
   "cell_type": "code",
   "execution_count": 3,
   "id": "a1c7f96b",
   "metadata": {},
   "outputs": [],
   "source": [
    "## Add this to the first block in your note book to display json\n",
    "# another option: \n",
    "import uuid\n",
    "from IPython.core.display import display, HTML\n",
    "\n",
    "import json\n",
    "\n",
    "class RenderJSON(object):\n",
    "    def __init__(self, json_data):\n",
    "        if isinstance(json_data, dict):\n",
    "            self.json_str = json.dumps(json_data)\n",
    "        else:\n",
    "            self.json_str = json_data\n",
    "        self.uuid = str(uuid.uuid4())\n",
    "        # This line is missed out in most of the versions of this script across the web, it is essential for this to work interleaved with print statements\n",
    "        self._ipython_display_()\n",
    "        \n",
    "    def _ipython_display_(self):\n",
    "        display(HTML('<div id=\"{}\" style=\"height: auto; width:100%;\"></div>'.format(self.uuid)))\n",
    "        display(HTML(\"\"\"<script>\n",
    "        require([\"https://rawgit.com/caldwell/renderjson/master/renderjson.js\"], function() {\n",
    "          renderjson.set_show_to_level(1)\n",
    "          document.getElementById('%s').appendChild(renderjson(%s))\n",
    "        });</script>\n",
    "        \"\"\" % (self.uuid, self.json_str)))\n",
    "\n",
    "# Since this is copy-pasted wrongly(mostly) at a lot of places across the web, i'm putting the fixed, updated version here, mainly for self-reference\n",
    "\n",
    "\n",
    "## To use this function, call this, this now works even when you have a print statement before or after the RenderJSON call\n",
    "# RenderJSON(your_json)\n",
    "# RenderJSON(json.loads(result.text))"
   ]
  },
  {
   "cell_type": "code",
   "execution_count": 4,
   "id": "edc943e9",
   "metadata": {},
   "outputs": [],
   "source": [
    "# from square.client import Client\n",
    "sandbox_token = \"EAAAECCddSeDNsweJXdjNVux8FTfVgMUXAroCh7VcOuoPlgjYb7MrkULH8DZrZmJ\"\n",
    "\n",
    "client_sandbox = Client(\n",
    "    access_token = sandbox_token,\n",
    "    environment='sandbox',\n",
    ")"
   ]
  },
  {
   "cell_type": "code",
   "execution_count": 5,
   "id": "02bbadf0",
   "metadata": {},
   "outputs": [],
   "source": [
    "production_token = \"EAAAEfz2MN9eAPDmBIuiC4ZT2ulokQjU3JIKHtBxm-R4TCAZgh4QWM2Svb0pRQNH\"\n",
    "\n",
    "client_production = Client(\n",
    "    access_token = production_token,\n",
    "    environment='production',\n",
    ")"
   ]
  },
  {
   "cell_type": "code",
   "execution_count": null,
   "id": "1b13d2b8",
   "metadata": {},
   "outputs": [],
   "source": [
    "# Date\tTime\tTime Zone\tCategory\tItem\tQty\tPrice Point Name\tSKU\tModifiers Applied\tGross Sales\tDiscounts\tNet Sales\tTax\tTransaction ID\tPayment ID\tDevice Name\tNotes\tDetails\tEvent Type\tLocation\tDining Option\tCustomer ID\tCustomer Name\tCustomer Reference ID\tUnit\tCount\n",
    "# 5/25/2021\t21:06:24\tPacific Time (US & Canada)\tNone\tItem3\t-1\tOption3, Option-a\tIT3-OP3-OPA\tModifier-2-a, Modifier-2-b\t($0.04)\t$0.00 \t($0.04)\t$0.00 \t0sK8Iho9oL51s1LfCKafbFpeV\t909TXFi142qGDSQu9IU882pZuaB\tKefei\tAccidental Charge\thttps://squareup.com/dashboard/sales/transactions/0sK8Iho9oL51s1LfCKafbFpeV/by-unit/L242FZF9SMX3M\tRefund\tKefei\t\t\t\t\tea\t-1\n",
    "# 5/25/2021\t21:06:24\tPacific Time (US & Canada)\tCategory2\tItem1\t-2\tOption-b\tIT1-OPB\t\t$0.00 \t$0.00 \t$0.00 \t$0.00 \t0sK8Iho9oL51s1LfCKafbFpeV\t909TXFi142qGDSQu9IU882pZuaB\tKefei\tAccidental Charge\thttps://squareup.com/dashboard/sales/transactions/0sK8Iho9oL51s1LfCKafbFpeV/by-unit/L242FZF9SMX3M\tRefund\tKefei\t\t\t\t\tea\t-2\n",
    "# 5/25/2021\t20:19:43\tPacific Time (US & Canada)\tNone\tItem3\t1\tOption3, Option-a\tIT3-OP3-OPA\tModifier-2-a, Modifier-2-b\t$0.04 \t$0.00 \t$0.04 \t$0.00 \teNoEUg2BhPI7WB9I1msBjZyeV\t909TXFi142qGDSQu9IU882pZuaB\tKefei\tItem333 \thttps://squareup.com/dashboard/sales/transactions/eNoEUg2BhPI7WB9I1msBjZyeV/by-unit/L242FZF9SMX3M\tPayment\tKefei\t\tRM2A7BX6DX7219W65Y4EPEV4Z0\tkefeimo@gmail.com\t\tea\t1\n",
    "# 5/25/2021\t20:19:43\tPacific Time (US & Canada)\tCategory2\tItem1\t3\tOption-b\tIT1-OPB\t\t$0.00 \t$0.00 \t$0.00 \t$0.00 \teNoEUg2BhPI7WB9I1msBjZyeV\t909TXFi142qGDSQu9IU882pZuaB\tKefei\tNotes for item 1\thttps://squareup.com/dashboard/sales/transactions/eNoEUg2BhPI7WB9I1msBjZyeV/by-unit/L242FZF9SMX3M\tPayment\tKefei\t\tRM2A7BX6DX7219W65Y4EPEV4Z0\tkefeimo@gmail.com\t\tea\t3\n"
   ]
  },
  {
   "cell_type": "code",
   "execution_count": 6,
   "id": "5dbfbf34",
   "metadata": {},
   "outputs": [
    {
     "data": {
      "text/html": [
       "<div id=\"2ae5e1a4-968b-481c-8fb8-20c95a6fd80e\" style=\"height: auto; width:100%;\"></div>"
      ],
      "text/plain": [
       "<IPython.core.display.HTML object>"
      ]
     },
     "metadata": {},
     "output_type": "display_data"
    },
    {
     "data": {
      "text/html": [
       "<script>\n",
       "        require([\"https://rawgit.com/caldwell/renderjson/master/renderjson.js\"], function() {\n",
       "          renderjson.set_show_to_level(1)\n",
       "          document.getElementById('2ae5e1a4-968b-481c-8fb8-20c95a6fd80e').appendChild(renderjson({\"payment\": {\"amount_money\": {\"amount\": 4, \"currency\": \"USD\"}, \"cash_details\": {\"buyer_supplied_money\": {\"amount\": 4, \"currency\": \"USD\"}, \"change_back_money\": {\"amount\": 0, \"currency\": \"USD\"}}, \"created_at\": \"2021-05-26T03:19:43.469Z\", \"id\": \"909TXFi142qGDSQu9IU882pZuaB\", \"location_id\": \"L242FZF9SMX3M\", \"order_id\": \"eNoEUg2BhPI7WB9I1msBjZyeV\", \"receipt_number\": \"909T\", \"receipt_url\": \"https://squareup.com/receipt/preview/909TXFi142qGDSQu9IU882pZuaB\", \"refund_ids\": [\"909TXFi142qGDSQu9IU882pZuaB_aQ4vEz5jREXtbcJyB275S\"], \"refunded_money\": {\"amount\": 4, \"currency\": \"USD\"}, \"source_type\": \"CASH\", \"status\": \"COMPLETED\", \"total_money\": {\"amount\": 4, \"currency\": \"USD\"}, \"version_token\": \"fk4nKCaWOq8Q4l61djOuncz6TOCm5rU5tHA7tz2imc85o\"}}))\n",
       "        });</script>\n",
       "        "
      ],
      "text/plain": [
       "<IPython.core.display.HTML object>"
      ]
     },
     "metadata": {},
     "output_type": "display_data"
    },
    {
     "data": {
      "text/html": [
       "<div id=\"2ae5e1a4-968b-481c-8fb8-20c95a6fd80e\" style=\"height: auto; width:100%;\"></div>"
      ],
      "text/plain": [
       "<IPython.core.display.HTML object>"
      ]
     },
     "metadata": {},
     "output_type": "display_data"
    },
    {
     "data": {
      "text/html": [
       "<script>\n",
       "        require([\"https://rawgit.com/caldwell/renderjson/master/renderjson.js\"], function() {\n",
       "          renderjson.set_show_to_level(1)\n",
       "          document.getElementById('2ae5e1a4-968b-481c-8fb8-20c95a6fd80e').appendChild(renderjson({\"payment\": {\"amount_money\": {\"amount\": 4, \"currency\": \"USD\"}, \"cash_details\": {\"buyer_supplied_money\": {\"amount\": 4, \"currency\": \"USD\"}, \"change_back_money\": {\"amount\": 0, \"currency\": \"USD\"}}, \"created_at\": \"2021-05-26T03:19:43.469Z\", \"id\": \"909TXFi142qGDSQu9IU882pZuaB\", \"location_id\": \"L242FZF9SMX3M\", \"order_id\": \"eNoEUg2BhPI7WB9I1msBjZyeV\", \"receipt_number\": \"909T\", \"receipt_url\": \"https://squareup.com/receipt/preview/909TXFi142qGDSQu9IU882pZuaB\", \"refund_ids\": [\"909TXFi142qGDSQu9IU882pZuaB_aQ4vEz5jREXtbcJyB275S\"], \"refunded_money\": {\"amount\": 4, \"currency\": \"USD\"}, \"source_type\": \"CASH\", \"status\": \"COMPLETED\", \"total_money\": {\"amount\": 4, \"currency\": \"USD\"}, \"version_token\": \"fk4nKCaWOq8Q4l61djOuncz6TOCm5rU5tHA7tz2imc85o\"}}))\n",
       "        });</script>\n",
       "        "
      ],
      "text/plain": [
       "<IPython.core.display.HTML object>"
      ]
     },
     "metadata": {},
     "output_type": "display_data"
    }
   ],
   "source": [
    "result = client_production.payments.get_payment(\"909TXFi142qGDSQu9IU882pZuaB\")\n",
    "\n",
    "RenderJSON(result.body)"
   ]
  },
  {
   "cell_type": "code",
   "execution_count": 11,
   "id": "99d1ad41",
   "metadata": {},
   "outputs": [
    {
     "data": {
      "text/html": [
       "<div id=\"5260d142-fce2-49e6-b664-14d6b2869bcb\" style=\"height: auto; width:100%;\"></div>"
      ],
      "text/plain": [
       "<IPython.core.display.HTML object>"
      ]
     },
     "metadata": {},
     "output_type": "display_data"
    },
    {
     "data": {
      "text/html": [
       "<script>\n",
       "        require([\"https://rawgit.com/caldwell/renderjson/master/renderjson.js\"], function() {\n",
       "          renderjson.set_show_to_level(1)\n",
       "          document.getElementById('5260d142-fce2-49e6-b664-14d6b2869bcb').appendChild(renderjson({\"order\": {\"closed_at\": \"2021-05-26T03:19:43Z\", \"created_at\": \"2021-05-26T03:19:43Z\", \"id\": \"eNoEUg2BhPI7WB9I1msBjZyeV\", \"line_items\": [{\"base_price_money\": {\"amount\": 1, \"currency\": \"USD\"}, \"catalog_object_id\": \"R6ZC5T5TSC5SW235UYMIWLSU\", \"gross_sales_money\": {\"amount\": 4, \"currency\": \"USD\"}, \"modifiers\": [{\"base_price_money\": {\"amount\": 1, \"currency\": \"USD\"}, \"catalog_object_id\": \"GBFCS5B7EL53OVQ4RQ25YRNJ\", \"name\": \"Modifier-2-a\", \"total_price_money\": {\"amount\": 1, \"currency\": \"USD\"}, \"uid\": \"4BEB24E3-8341-46C1-BF12-DF6C035FE692\"}, {\"base_price_money\": {\"amount\": 2, \"currency\": \"USD\"}, \"catalog_object_id\": \"RGZADJEK3VINFE3CZJSRQGR4\", \"name\": \"Modifier-2-b\", \"total_price_money\": {\"amount\": 2, \"currency\": \"USD\"}, \"uid\": \"EF329F0B-5ADD-41A4-A31B-168E916005E2\"}], \"name\": \"Item3\", \"quantity\": \"1\", \"total_discount_money\": {\"amount\": 0, \"currency\": \"USD\"}, \"total_money\": {\"amount\": 4, \"currency\": \"USD\"}, \"total_tax_money\": {\"amount\": 0, \"currency\": \"USD\"}, \"uid\": \"B4FAE045-407E-4885-A2BC-C5B6A3D72006\", \"variation_name\": \"Option3, Option-a\", \"variation_total_price_money\": {\"amount\": 1, \"currency\": \"USD\"}}, {\"base_price_money\": {\"amount\": 0, \"currency\": \"USD\"}, \"catalog_object_id\": \"MCAAJAZQYAMGODG5CZHKKRGT\", \"gross_sales_money\": {\"amount\": 0, \"currency\": \"USD\"}, \"name\": \"Item1\", \"note\": \"Notes for item 1\", \"quantity\": \"3\", \"total_discount_money\": {\"amount\": 0, \"currency\": \"USD\"}, \"total_money\": {\"amount\": 0, \"currency\": \"USD\"}, \"total_tax_money\": {\"amount\": 0, \"currency\": \"USD\"}, \"uid\": \"09AF0343-A6CD-4628-A1A4-5C9CFFAE6766\", \"variation_name\": \"Option-b\", \"variation_total_price_money\": {\"amount\": 0, \"currency\": \"USD\"}}], \"location_id\": \"L242FZF9SMX3M\", \"net_amounts\": {\"discount_money\": {\"amount\": 0, \"currency\": \"USD\"}, \"service_charge_money\": {\"amount\": 0, \"currency\": \"USD\"}, \"tax_money\": {\"amount\": 0, \"currency\": \"USD\"}, \"tip_money\": {\"amount\": 0, \"currency\": \"USD\"}, \"total_money\": {\"amount\": 4, \"currency\": \"USD\"}}, \"return_amounts\": {\"discount_money\": {\"amount\": 0, \"currency\": \"USD\"}, \"service_charge_money\": {\"amount\": 0, \"currency\": \"USD\"}, \"tax_money\": {\"amount\": 0, \"currency\": \"USD\"}, \"tip_money\": {\"amount\": 0, \"currency\": \"USD\"}, \"total_money\": {\"amount\": 0, \"currency\": \"USD\"}}, \"state\": \"COMPLETED\", \"tenders\": [{\"amount_money\": {\"amount\": 4, \"currency\": \"USD\"}, \"cash_details\": {\"buyer_tendered_money\": {\"amount\": 4, \"currency\": \"USD\"}, \"change_back_money\": {\"amount\": 0, \"currency\": \"USD\"}}, \"created_at\": \"2021-05-26T03:19:43Z\", \"customer_id\": \"RM2A7BX6DX7219W65Y4EPEV4Z0\", \"id\": \"909TXFi142qGDSQu9IU882pZuaB\", \"location_id\": \"L242FZF9SMX3M\", \"processing_fee_money\": {\"amount\": 0, \"currency\": \"USD\"}, \"transaction_id\": \"eNoEUg2BhPI7WB9I1msBjZyeV\", \"type\": \"CASH\"}], \"total_discount_money\": {\"amount\": 0, \"currency\": \"USD\"}, \"total_money\": {\"amount\": 4, \"currency\": \"USD\"}, \"total_service_charge_money\": {\"amount\": 0, \"currency\": \"USD\"}, \"total_tax_money\": {\"amount\": 0, \"currency\": \"USD\"}, \"total_tip_money\": {\"amount\": 0, \"currency\": \"USD\"}, \"updated_at\": \"2021-05-26T03:19:43Z\"}}))\n",
       "        });</script>\n",
       "        "
      ],
      "text/plain": [
       "<IPython.core.display.HTML object>"
      ]
     },
     "metadata": {},
     "output_type": "display_data"
    },
    {
     "data": {
      "text/html": [
       "<div id=\"5260d142-fce2-49e6-b664-14d6b2869bcb\" style=\"height: auto; width:100%;\"></div>"
      ],
      "text/plain": [
       "<IPython.core.display.HTML object>"
      ]
     },
     "metadata": {},
     "output_type": "display_data"
    },
    {
     "data": {
      "text/html": [
       "<script>\n",
       "        require([\"https://rawgit.com/caldwell/renderjson/master/renderjson.js\"], function() {\n",
       "          renderjson.set_show_to_level(1)\n",
       "          document.getElementById('5260d142-fce2-49e6-b664-14d6b2869bcb').appendChild(renderjson({\"order\": {\"closed_at\": \"2021-05-26T03:19:43Z\", \"created_at\": \"2021-05-26T03:19:43Z\", \"id\": \"eNoEUg2BhPI7WB9I1msBjZyeV\", \"line_items\": [{\"base_price_money\": {\"amount\": 1, \"currency\": \"USD\"}, \"catalog_object_id\": \"R6ZC5T5TSC5SW235UYMIWLSU\", \"gross_sales_money\": {\"amount\": 4, \"currency\": \"USD\"}, \"modifiers\": [{\"base_price_money\": {\"amount\": 1, \"currency\": \"USD\"}, \"catalog_object_id\": \"GBFCS5B7EL53OVQ4RQ25YRNJ\", \"name\": \"Modifier-2-a\", \"total_price_money\": {\"amount\": 1, \"currency\": \"USD\"}, \"uid\": \"4BEB24E3-8341-46C1-BF12-DF6C035FE692\"}, {\"base_price_money\": {\"amount\": 2, \"currency\": \"USD\"}, \"catalog_object_id\": \"RGZADJEK3VINFE3CZJSRQGR4\", \"name\": \"Modifier-2-b\", \"total_price_money\": {\"amount\": 2, \"currency\": \"USD\"}, \"uid\": \"EF329F0B-5ADD-41A4-A31B-168E916005E2\"}], \"name\": \"Item3\", \"quantity\": \"1\", \"total_discount_money\": {\"amount\": 0, \"currency\": \"USD\"}, \"total_money\": {\"amount\": 4, \"currency\": \"USD\"}, \"total_tax_money\": {\"amount\": 0, \"currency\": \"USD\"}, \"uid\": \"B4FAE045-407E-4885-A2BC-C5B6A3D72006\", \"variation_name\": \"Option3, Option-a\", \"variation_total_price_money\": {\"amount\": 1, \"currency\": \"USD\"}}, {\"base_price_money\": {\"amount\": 0, \"currency\": \"USD\"}, \"catalog_object_id\": \"MCAAJAZQYAMGODG5CZHKKRGT\", \"gross_sales_money\": {\"amount\": 0, \"currency\": \"USD\"}, \"name\": \"Item1\", \"note\": \"Notes for item 1\", \"quantity\": \"3\", \"total_discount_money\": {\"amount\": 0, \"currency\": \"USD\"}, \"total_money\": {\"amount\": 0, \"currency\": \"USD\"}, \"total_tax_money\": {\"amount\": 0, \"currency\": \"USD\"}, \"uid\": \"09AF0343-A6CD-4628-A1A4-5C9CFFAE6766\", \"variation_name\": \"Option-b\", \"variation_total_price_money\": {\"amount\": 0, \"currency\": \"USD\"}}], \"location_id\": \"L242FZF9SMX3M\", \"net_amounts\": {\"discount_money\": {\"amount\": 0, \"currency\": \"USD\"}, \"service_charge_money\": {\"amount\": 0, \"currency\": \"USD\"}, \"tax_money\": {\"amount\": 0, \"currency\": \"USD\"}, \"tip_money\": {\"amount\": 0, \"currency\": \"USD\"}, \"total_money\": {\"amount\": 4, \"currency\": \"USD\"}}, \"return_amounts\": {\"discount_money\": {\"amount\": 0, \"currency\": \"USD\"}, \"service_charge_money\": {\"amount\": 0, \"currency\": \"USD\"}, \"tax_money\": {\"amount\": 0, \"currency\": \"USD\"}, \"tip_money\": {\"amount\": 0, \"currency\": \"USD\"}, \"total_money\": {\"amount\": 0, \"currency\": \"USD\"}}, \"state\": \"COMPLETED\", \"tenders\": [{\"amount_money\": {\"amount\": 4, \"currency\": \"USD\"}, \"cash_details\": {\"buyer_tendered_money\": {\"amount\": 4, \"currency\": \"USD\"}, \"change_back_money\": {\"amount\": 0, \"currency\": \"USD\"}}, \"created_at\": \"2021-05-26T03:19:43Z\", \"customer_id\": \"RM2A7BX6DX7219W65Y4EPEV4Z0\", \"id\": \"909TXFi142qGDSQu9IU882pZuaB\", \"location_id\": \"L242FZF9SMX3M\", \"processing_fee_money\": {\"amount\": 0, \"currency\": \"USD\"}, \"transaction_id\": \"eNoEUg2BhPI7WB9I1msBjZyeV\", \"type\": \"CASH\"}], \"total_discount_money\": {\"amount\": 0, \"currency\": \"USD\"}, \"total_money\": {\"amount\": 4, \"currency\": \"USD\"}, \"total_service_charge_money\": {\"amount\": 0, \"currency\": \"USD\"}, \"total_tax_money\": {\"amount\": 0, \"currency\": \"USD\"}, \"total_tip_money\": {\"amount\": 0, \"currency\": \"USD\"}, \"updated_at\": \"2021-05-26T03:19:43Z\"}}))\n",
       "        });</script>\n",
       "        "
      ],
      "text/plain": [
       "<IPython.core.display.HTML object>"
      ]
     },
     "metadata": {},
     "output_type": "display_data"
    }
   ],
   "source": [
    "# original order\n",
    "result = client_production.orders.retrieve_order(\"eNoEUg2BhPI7WB9I1msBjZyeV\")\n",
    "\n",
    "RenderJSON(result.body)"
   ]
  },
  {
   "cell_type": "code",
   "execution_count": 10,
   "id": "05aec5a4",
   "metadata": {},
   "outputs": [
    {
     "data": {
      "text/html": [
       "<div id=\"06f9b6dd-cfb7-4572-9bb5-43211d22799a\" style=\"height: auto; width:100%;\"></div>"
      ],
      "text/plain": [
       "<IPython.core.display.HTML object>"
      ]
     },
     "metadata": {},
     "output_type": "display_data"
    },
    {
     "data": {
      "text/html": [
       "<script>\n",
       "        require([\"https://rawgit.com/caldwell/renderjson/master/renderjson.js\"], function() {\n",
       "          renderjson.set_show_to_level(1)\n",
       "          document.getElementById('06f9b6dd-cfb7-4572-9bb5-43211d22799a').appendChild(renderjson({\"order\": {\"closed_at\": \"2021-05-26T04:06:24.000Z\", \"created_at\": \"2021-05-26T04:06:24.000Z\", \"id\": \"0sK8Iho9oL51s1LfCKafbFpeV\", \"location_id\": \"L242FZF9SMX3M\", \"net_amounts\": {\"discount_money\": {\"amount\": 0, \"currency\": \"USD\"}, \"service_charge_money\": {\"amount\": 0, \"currency\": \"USD\"}, \"tax_money\": {\"amount\": 0, \"currency\": \"USD\"}, \"tip_money\": {\"amount\": 0, \"currency\": \"USD\"}, \"total_money\": {\"amount\": -4, \"currency\": \"USD\"}}, \"refunds\": [{\"amount_money\": {\"amount\": 4, \"currency\": \"USD\"}, \"created_at\": \"2021-05-26T04:06:24Z\", \"id\": \"aQ4vEz5jREXtbcJyB275S\", \"location_id\": \"L242FZF9SMX3M\", \"reason\": \"Accidental Charge\", \"status\": \"APPROVED\", \"tender_id\": \"909TXFi142qGDSQu9IU882pZuaB\", \"transaction_id\": \"eNoEUg2BhPI7WB9I1msBjZyeV\"}], \"return_amounts\": {\"discount_money\": {\"amount\": 0, \"currency\": \"USD\"}, \"service_charge_money\": {\"amount\": 0, \"currency\": \"USD\"}, \"tax_money\": {\"amount\": 0, \"currency\": \"USD\"}, \"tip_money\": {\"amount\": 0, \"currency\": \"USD\"}, \"total_money\": {\"amount\": 4, \"currency\": \"USD\"}}, \"returns\": [{\"return_line_items\": [{\"base_price_money\": {\"amount\": 1, \"currency\": \"USD\"}, \"catalog_object_id\": \"R6ZC5T5TSC5SW235UYMIWLSU\", \"name\": \"Item3\", \"quantity\": \"1\", \"return_modifiers\": [{\"base_price_money\": {\"amount\": 1, \"currency\": \"USD\"}, \"catalog_object_id\": \"GBFCS5B7EL53OVQ4RQ25YRNJ\", \"name\": \"Modifier-2-a\", \"total_price_money\": {\"amount\": 1, \"currency\": \"USD\"}, \"uid\": \"4BEB24E3-8341-46C1-BF12-DF6C035FE692\"}, {\"base_price_money\": {\"amount\": 2, \"currency\": \"USD\"}, \"catalog_object_id\": \"RGZADJEK3VINFE3CZJSRQGR4\", \"name\": \"Modifier-2-b\", \"total_price_money\": {\"amount\": 2, \"currency\": \"USD\"}, \"uid\": \"EF329F0B-5ADD-41A4-A31B-168E916005E2\"}], \"source_line_item_uid\": \"B4FAE045-407E-4885-A2BC-C5B6A3D72006\", \"total_discount_money\": {\"amount\": 0, \"currency\": \"USD\"}, \"total_money\": {\"amount\": 4, \"currency\": \"USD\"}, \"total_tax_money\": {\"amount\": 0, \"currency\": \"USD\"}, \"uid\": \"B97026B1-AFAB-4F95-B860-7CD1E1F1DED9\", \"variation_name\": \"Option3, Option-a\", \"variation_total_price_money\": {\"amount\": 1, \"currency\": \"USD\"}}, {\"base_price_money\": {\"amount\": 0, \"currency\": \"USD\"}, \"catalog_object_id\": \"MCAAJAZQYAMGODG5CZHKKRGT\", \"name\": \"Item1\", \"note\": \"Notes for item 1\", \"quantity\": \"2\", \"source_line_item_uid\": \"09AF0343-A6CD-4628-A1A4-5C9CFFAE6766\", \"total_discount_money\": {\"amount\": 0, \"currency\": \"USD\"}, \"total_money\": {\"amount\": 0, \"currency\": \"USD\"}, \"total_tax_money\": {\"amount\": 0, \"currency\": \"USD\"}, \"uid\": \"3868F530-7E2A-4A6B-9EE7-A41106E057D0\", \"variation_name\": \"Option-b\", \"variation_total_price_money\": {\"amount\": 0, \"currency\": \"USD\"}}], \"source_order_id\": \"eNoEUg2BhPI7WB9I1msBjZyeV\"}], \"state\": \"COMPLETED\", \"total_discount_money\": {\"amount\": 0, \"currency\": \"USD\"}, \"total_money\": {\"amount\": 0, \"currency\": \"USD\"}, \"total_service_charge_money\": {\"amount\": 0, \"currency\": \"USD\"}, \"total_tax_money\": {\"amount\": 0, \"currency\": \"USD\"}, \"total_tip_money\": {\"amount\": 0, \"currency\": \"USD\"}, \"updated_at\": \"2021-05-26T04:06:24.000Z\"}}))\n",
       "        });</script>\n",
       "        "
      ],
      "text/plain": [
       "<IPython.core.display.HTML object>"
      ]
     },
     "metadata": {},
     "output_type": "display_data"
    },
    {
     "data": {
      "text/html": [
       "<div id=\"06f9b6dd-cfb7-4572-9bb5-43211d22799a\" style=\"height: auto; width:100%;\"></div>"
      ],
      "text/plain": [
       "<IPython.core.display.HTML object>"
      ]
     },
     "metadata": {},
     "output_type": "display_data"
    },
    {
     "data": {
      "text/html": [
       "<script>\n",
       "        require([\"https://rawgit.com/caldwell/renderjson/master/renderjson.js\"], function() {\n",
       "          renderjson.set_show_to_level(1)\n",
       "          document.getElementById('06f9b6dd-cfb7-4572-9bb5-43211d22799a').appendChild(renderjson({\"order\": {\"closed_at\": \"2021-05-26T04:06:24.000Z\", \"created_at\": \"2021-05-26T04:06:24.000Z\", \"id\": \"0sK8Iho9oL51s1LfCKafbFpeV\", \"location_id\": \"L242FZF9SMX3M\", \"net_amounts\": {\"discount_money\": {\"amount\": 0, \"currency\": \"USD\"}, \"service_charge_money\": {\"amount\": 0, \"currency\": \"USD\"}, \"tax_money\": {\"amount\": 0, \"currency\": \"USD\"}, \"tip_money\": {\"amount\": 0, \"currency\": \"USD\"}, \"total_money\": {\"amount\": -4, \"currency\": \"USD\"}}, \"refunds\": [{\"amount_money\": {\"amount\": 4, \"currency\": \"USD\"}, \"created_at\": \"2021-05-26T04:06:24Z\", \"id\": \"aQ4vEz5jREXtbcJyB275S\", \"location_id\": \"L242FZF9SMX3M\", \"reason\": \"Accidental Charge\", \"status\": \"APPROVED\", \"tender_id\": \"909TXFi142qGDSQu9IU882pZuaB\", \"transaction_id\": \"eNoEUg2BhPI7WB9I1msBjZyeV\"}], \"return_amounts\": {\"discount_money\": {\"amount\": 0, \"currency\": \"USD\"}, \"service_charge_money\": {\"amount\": 0, \"currency\": \"USD\"}, \"tax_money\": {\"amount\": 0, \"currency\": \"USD\"}, \"tip_money\": {\"amount\": 0, \"currency\": \"USD\"}, \"total_money\": {\"amount\": 4, \"currency\": \"USD\"}}, \"returns\": [{\"return_line_items\": [{\"base_price_money\": {\"amount\": 1, \"currency\": \"USD\"}, \"catalog_object_id\": \"R6ZC5T5TSC5SW235UYMIWLSU\", \"name\": \"Item3\", \"quantity\": \"1\", \"return_modifiers\": [{\"base_price_money\": {\"amount\": 1, \"currency\": \"USD\"}, \"catalog_object_id\": \"GBFCS5B7EL53OVQ4RQ25YRNJ\", \"name\": \"Modifier-2-a\", \"total_price_money\": {\"amount\": 1, \"currency\": \"USD\"}, \"uid\": \"4BEB24E3-8341-46C1-BF12-DF6C035FE692\"}, {\"base_price_money\": {\"amount\": 2, \"currency\": \"USD\"}, \"catalog_object_id\": \"RGZADJEK3VINFE3CZJSRQGR4\", \"name\": \"Modifier-2-b\", \"total_price_money\": {\"amount\": 2, \"currency\": \"USD\"}, \"uid\": \"EF329F0B-5ADD-41A4-A31B-168E916005E2\"}], \"source_line_item_uid\": \"B4FAE045-407E-4885-A2BC-C5B6A3D72006\", \"total_discount_money\": {\"amount\": 0, \"currency\": \"USD\"}, \"total_money\": {\"amount\": 4, \"currency\": \"USD\"}, \"total_tax_money\": {\"amount\": 0, \"currency\": \"USD\"}, \"uid\": \"B97026B1-AFAB-4F95-B860-7CD1E1F1DED9\", \"variation_name\": \"Option3, Option-a\", \"variation_total_price_money\": {\"amount\": 1, \"currency\": \"USD\"}}, {\"base_price_money\": {\"amount\": 0, \"currency\": \"USD\"}, \"catalog_object_id\": \"MCAAJAZQYAMGODG5CZHKKRGT\", \"name\": \"Item1\", \"note\": \"Notes for item 1\", \"quantity\": \"2\", \"source_line_item_uid\": \"09AF0343-A6CD-4628-A1A4-5C9CFFAE6766\", \"total_discount_money\": {\"amount\": 0, \"currency\": \"USD\"}, \"total_money\": {\"amount\": 0, \"currency\": \"USD\"}, \"total_tax_money\": {\"amount\": 0, \"currency\": \"USD\"}, \"uid\": \"3868F530-7E2A-4A6B-9EE7-A41106E057D0\", \"variation_name\": \"Option-b\", \"variation_total_price_money\": {\"amount\": 0, \"currency\": \"USD\"}}], \"source_order_id\": \"eNoEUg2BhPI7WB9I1msBjZyeV\"}], \"state\": \"COMPLETED\", \"total_discount_money\": {\"amount\": 0, \"currency\": \"USD\"}, \"total_money\": {\"amount\": 0, \"currency\": \"USD\"}, \"total_service_charge_money\": {\"amount\": 0, \"currency\": \"USD\"}, \"total_tax_money\": {\"amount\": 0, \"currency\": \"USD\"}, \"total_tip_money\": {\"amount\": 0, \"currency\": \"USD\"}, \"updated_at\": \"2021-05-26T04:06:24.000Z\"}}))\n",
       "        });</script>\n",
       "        "
      ],
      "text/plain": [
       "<IPython.core.display.HTML object>"
      ]
     },
     "metadata": {},
     "output_type": "display_data"
    }
   ],
   "source": [
    "# refund ad hoc order\n",
    "result = client_production.orders.retrieve_order(\"0sK8Iho9oL51s1LfCKafbFpeV\")\n",
    "\n",
    "RenderJSON(result.body)"
   ]
  },
  {
   "cell_type": "code",
   "execution_count": 9,
   "id": "5e8b9707",
   "metadata": {},
   "outputs": [
    {
     "data": {
      "text/html": [
       "<div id=\"b33452c3-0ea5-454e-be94-bdc024f53b04\" style=\"height: auto; width:100%;\"></div>"
      ],
      "text/plain": [
       "<IPython.core.display.HTML object>"
      ]
     },
     "metadata": {},
     "output_type": "display_data"
    },
    {
     "data": {
      "text/html": [
       "<script>\n",
       "        require([\"https://rawgit.com/caldwell/renderjson/master/renderjson.js\"], function() {\n",
       "          renderjson.set_show_to_level(1)\n",
       "          document.getElementById('b33452c3-0ea5-454e-be94-bdc024f53b04').appendChild(renderjson({\"refund\": {\"amount_money\": {\"amount\": 4, \"currency\": \"USD\"}, \"created_at\": \"2021-05-26T04:06:24.585Z\", \"id\": \"909TXFi142qGDSQu9IU882pZuaB_aQ4vEz5jREXtbcJyB275S\", \"location_id\": \"L242FZF9SMX3M\", \"order_id\": \"0sK8Iho9oL51s1LfCKafbFpeV\", \"payment_id\": \"909TXFi142qGDSQu9IU882pZuaB\", \"reason\": \"Accidental Charge\", \"status\": \"COMPLETED\", \"updated_at\": \"2021-05-26T04:06:24.585Z\"}}))\n",
       "        });</script>\n",
       "        "
      ],
      "text/plain": [
       "<IPython.core.display.HTML object>"
      ]
     },
     "metadata": {},
     "output_type": "display_data"
    },
    {
     "data": {
      "text/html": [
       "<div id=\"b33452c3-0ea5-454e-be94-bdc024f53b04\" style=\"height: auto; width:100%;\"></div>"
      ],
      "text/plain": [
       "<IPython.core.display.HTML object>"
      ]
     },
     "metadata": {},
     "output_type": "display_data"
    },
    {
     "data": {
      "text/html": [
       "<script>\n",
       "        require([\"https://rawgit.com/caldwell/renderjson/master/renderjson.js\"], function() {\n",
       "          renderjson.set_show_to_level(1)\n",
       "          document.getElementById('b33452c3-0ea5-454e-be94-bdc024f53b04').appendChild(renderjson({\"refund\": {\"amount_money\": {\"amount\": 4, \"currency\": \"USD\"}, \"created_at\": \"2021-05-26T04:06:24.585Z\", \"id\": \"909TXFi142qGDSQu9IU882pZuaB_aQ4vEz5jREXtbcJyB275S\", \"location_id\": \"L242FZF9SMX3M\", \"order_id\": \"0sK8Iho9oL51s1LfCKafbFpeV\", \"payment_id\": \"909TXFi142qGDSQu9IU882pZuaB\", \"reason\": \"Accidental Charge\", \"status\": \"COMPLETED\", \"updated_at\": \"2021-05-26T04:06:24.585Z\"}}))\n",
       "        });</script>\n",
       "        "
      ],
      "text/plain": [
       "<IPython.core.display.HTML object>"
      ]
     },
     "metadata": {},
     "output_type": "display_data"
    }
   ],
   "source": [
    "# refund info\n",
    "result = client_production.refunds.get_payment_refund(\"909TXFi142qGDSQu9IU882pZuaB_aQ4vEz5jREXtbcJyB275S\")\n",
    "\n",
    "RenderJSON(result.body)"
   ]
  },
  {
   "cell_type": "code",
   "execution_count": null,
   "id": "feb614f1",
   "metadata": {},
   "outputs": [],
   "source": []
  }
 ],
 "metadata": {
  "kernelspec": {
   "display_name": "Python 3",
   "language": "python",
   "name": "python3"
  },
  "language_info": {
   "codemirror_mode": {
    "name": "ipython",
    "version": 3
   },
   "file_extension": ".py",
   "mimetype": "text/x-python",
   "name": "python",
   "nbconvert_exporter": "python",
   "pygments_lexer": "ipython3",
   "version": "3.8.8"
  }
 },
 "nbformat": 4,
 "nbformat_minor": 5
}
