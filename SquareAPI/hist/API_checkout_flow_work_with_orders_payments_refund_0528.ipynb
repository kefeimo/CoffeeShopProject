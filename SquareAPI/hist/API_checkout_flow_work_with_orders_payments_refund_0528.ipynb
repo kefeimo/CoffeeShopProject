{
 "cells": [
  {
   "cell_type": "code",
   "execution_count": 1,
   "id": "778212c8",
   "metadata": {},
   "outputs": [],
   "source": [
    "from square.client import Client"
   ]
  },
  {
   "cell_type": "code",
   "execution_count": 2,
   "id": "6b9489d0",
   "metadata": {},
   "outputs": [],
   "source": [
    "## Add this to the first block in your note book to display json\n",
    "# another option: \n",
    "import uuid\n",
    "from IPython.core.display import display, HTML\n",
    "\n",
    "import json\n",
    "\n",
    "class RenderJSON(object):\n",
    "    def __init__(self, json_data):\n",
    "        if isinstance(json_data, dict):\n",
    "            self.json_str = json.dumps(json_data)\n",
    "        else:\n",
    "            self.json_str = json_data\n",
    "        self.uuid = str(uuid.uuid4())\n",
    "        # This line is missed out in most of the versions of this script across the web, it is essential for this to work interleaved with print statements\n",
    "        self._ipython_display_()\n",
    "        \n",
    "    def _ipython_display_(self):\n",
    "        display(HTML('<div id=\"{}\" style=\"height: auto; width:100%;\"></div>'.format(self.uuid)))\n",
    "        display(HTML(\"\"\"<script>\n",
    "        require([\"https://rawgit.com/caldwell/renderjson/master/renderjson.js\"], function() {\n",
    "          renderjson.set_show_to_level(1)\n",
    "          document.getElementById('%s').appendChild(renderjson(%s))\n",
    "        });</script>\n",
    "        \"\"\" % (self.uuid, self.json_str)))\n",
    "\n",
    "# Since this is copy-pasted wrongly(mostly) at a lot of places across the web, i'm putting the fixed, updated version here, mainly for self-reference\n",
    "\n",
    "\n",
    "## To use this function, call this, this now works even when you have a print statement before or after the RenderJSON call\n",
    "# RenderJSON(your_json)\n",
    "# RenderJSON(json.loads(result.text))"
   ]
  },
  {
   "cell_type": "code",
   "execution_count": 4,
   "id": "78de6482",
   "metadata": {},
   "outputs": [],
   "source": [
    "# from square.client import Client\n",
    "sandbox_token = \"EAAAECCddSeDNsweJXdjNVux8FTfVgMUXAroCh7VcOuoPlgjYb7MrkULH8DZrZmJ\"\n",
    "\n",
    "client_sandbox = Client(\n",
    "    access_token = sandbox_token,\n",
    "    environment='sandbox',\n",
    ")"
   ]
  },
  {
   "cell_type": "code",
   "execution_count": 3,
   "id": "53686514",
   "metadata": {},
   "outputs": [],
   "source": [
    "production_token = \"EAAAEfz2MN9eAPDmBIuiC4ZT2ulokQjU3JIKHtBxm-R4TCAZgh4QWM2Svb0pRQNH\"\n",
    "\n",
    "client_production = Client(\n",
    "    access_token = production_token,\n",
    "    environment='production',\n",
    ")"
   ]
  },
  {
   "cell_type": "code",
   "execution_count": 7,
   "id": "5eff72d7",
   "metadata": {},
   "outputs": [
    {
     "data": {
      "text/html": [
       "<div id=\"a3b52bad-abc6-4eaa-b393-335d183ad400\" style=\"height: auto; width:100%;\"></div>"
      ],
      "text/plain": [
       "<IPython.core.display.HTML object>"
      ]
     },
     "metadata": {},
     "output_type": "display_data"
    },
    {
     "data": {
      "text/html": [
       "<script>\n",
       "        require([\"https://rawgit.com/caldwell/renderjson/master/renderjson.js\"], function() {\n",
       "          renderjson.set_show_to_level(1)\n",
       "          document.getElementById('a3b52bad-abc6-4eaa-b393-335d183ad400').appendChild(renderjson({\"checkout\": {\"ask_for_shipping_address\": false, \"checkout_page_url\": \"https://connect.squareupsandbox.com/v2/checkout?c=CBASEMPr6CC8C56PpScFi5Yie2I&l=LCN0KMDE4Y5WR\", \"created_at\": \"2021-05-28T18:40:08Z\", \"id\": \"CBASEMPr6CC8C56PpScFi5Yie2I\", \"order\": {\"created_at\": \"2021-05-28T18:40:08.229Z\", \"customer_id\": \"RAWRMY0ZRWZVKC51JH2JQT2PKW\", \"id\": \"mZQcvAkRHb2bDQPHp1jmBY96cg4F\", \"line_items\": [{\"base_price_money\": {\"amount\": 1000, \"currency\": \"USD\"}, \"catalog_object_id\": \"IRC3NJWX5QBVIW7U736JPRCC\", \"gross_sales_money\": {\"amount\": 3000, \"currency\": \"USD\"}, \"item_type\": \"ITEM\", \"name\": \"Hat\", \"quantity\": \"3\", \"total_discount_money\": {\"amount\": 0, \"currency\": \"USD\"}, \"total_money\": {\"amount\": 3000, \"currency\": \"USD\"}, \"total_tax_money\": {\"amount\": 0, \"currency\": \"USD\"}, \"uid\": \"LacKm0sHQjCV2Y6Gu57CcD\", \"variation_name\": \"Blu hat\", \"variation_total_price_money\": {\"amount\": 3000, \"currency\": \"USD\"}}, {\"base_price_money\": {\"amount\": 2500, \"currency\": \"USD\"}, \"catalog_object_id\": \"KYZZN57QA5JHS6CWZBMWMEE6\", \"gross_sales_money\": {\"amount\": 12500, \"currency\": \"USD\"}, \"item_type\": \"ITEM\", \"name\": \"Shirt\", \"quantity\": \"5\", \"total_discount_money\": {\"amount\": 0, \"currency\": \"USD\"}, \"total_money\": {\"amount\": 12500, \"currency\": \"USD\"}, \"total_tax_money\": {\"amount\": 0, \"currency\": \"USD\"}, \"uid\": \"fw0nV410SxMBdCXZzh72YD\", \"variation_name\": \"Small red shirt\", \"variation_total_price_money\": {\"amount\": 12500, \"currency\": \"USD\"}}], \"location_id\": \"LCN0KMDE4Y5WR\", \"net_amounts\": {\"discount_money\": {\"amount\": 0, \"currency\": \"USD\"}, \"service_charge_money\": {\"amount\": 0, \"currency\": \"USD\"}, \"tax_money\": {\"amount\": 0, \"currency\": \"USD\"}, \"tip_money\": {\"amount\": 0, \"currency\": \"USD\"}, \"total_money\": {\"amount\": 15500, \"currency\": \"USD\"}}, \"source\": {\"name\": \"Sandbox for sq0idp-GR3pOcojbOkjVWWHR5YCyA\"}, \"state\": \"OPEN\", \"total_discount_money\": {\"amount\": 0, \"currency\": \"USD\"}, \"total_money\": {\"amount\": 15500, \"currency\": \"USD\"}, \"total_service_charge_money\": {\"amount\": 0, \"currency\": \"USD\"}, \"total_tax_money\": {\"amount\": 0, \"currency\": \"USD\"}, \"total_tip_money\": {\"amount\": 0, \"currency\": \"USD\"}, \"updated_at\": \"2021-05-28T18:40:08.229Z\", \"version\": 1}}}))\n",
       "        });</script>\n",
       "        "
      ],
      "text/plain": [
       "<IPython.core.display.HTML object>"
      ]
     },
     "metadata": {},
     "output_type": "display_data"
    }
   ],
   "source": [
    "location_id = \"LCN0KMDE4Y5WR\"\n",
    "customer_id = \"RAWRMY0ZRWZVKC51JH2JQT2PKW\"\n",
    "\n",
    "line_items_list = [\n",
    "        {\n",
    "          \"quantity\": \"3\",\n",
    "          \"catalog_object_id\": \"IRC3NJWX5QBVIW7U736JPRCC\"\n",
    "        },\n",
    "          {\n",
    "          \"quantity\": \"5\",\n",
    "          \"catalog_object_id\": \"KYZZN57QA5JHS6CWZBMWMEE6\"\n",
    "        }\n",
    "      ]\n",
    "\n",
    "result = client_sandbox.checkout.create_checkout(\n",
    "  location_id = location_id,\n",
    "  body = {\n",
    "    \"idempotency_key\": str(uuid.uuid1()),\n",
    "    \"order\": {\n",
    "      \"order\": {\n",
    "        \"location_id\": location_id,\n",
    "        \"customer_id\": customer_id,\n",
    "        \"line_items\": line_items_list        \n",
    "      }\n",
    "    }\n",
    "  }\n",
    ")\n",
    "\n",
    "if result.is_success():\n",
    "  RenderJSON(result.body)\n",
    "elif result.is_error():\n",
    "  print(result.errors)"
   ]
  },
  {
   "cell_type": "code",
   "execution_count": 8,
   "id": "683ce93d",
   "metadata": {},
   "outputs": [
    {
     "data": {
      "text/html": [
       "<div id=\"c9f00882-ff60-49b5-b4fc-9a48b6fad3e3\" style=\"height: auto; width:100%;\"></div>"
      ],
      "text/plain": [
       "<IPython.core.display.HTML object>"
      ]
     },
     "metadata": {},
     "output_type": "display_data"
    },
    {
     "data": {
      "text/html": [
       "<script>\n",
       "        require([\"https://rawgit.com/caldwell/renderjson/master/renderjson.js\"], function() {\n",
       "          renderjson.set_show_to_level(1)\n",
       "          document.getElementById('c9f00882-ff60-49b5-b4fc-9a48b6fad3e3').appendChild(renderjson({\"order\": {\"created_at\": \"2021-05-28T18:40:08.229Z\", \"customer_id\": \"RAWRMY0ZRWZVKC51JH2JQT2PKW\", \"id\": \"mZQcvAkRHb2bDQPHp1jmBY96cg4F\", \"line_items\": [{\"base_price_money\": {\"amount\": 1000, \"currency\": \"USD\"}, \"catalog_object_id\": \"IRC3NJWX5QBVIW7U736JPRCC\", \"gross_sales_money\": {\"amount\": 3000, \"currency\": \"USD\"}, \"name\": \"Hat\", \"quantity\": \"3\", \"total_discount_money\": {\"amount\": 0, \"currency\": \"USD\"}, \"total_money\": {\"amount\": 3000, \"currency\": \"USD\"}, \"total_tax_money\": {\"amount\": 0, \"currency\": \"USD\"}, \"uid\": \"LacKm0sHQjCV2Y6Gu57CcD\", \"variation_name\": \"Blu hat\", \"variation_total_price_money\": {\"amount\": 3000, \"currency\": \"USD\"}}, {\"base_price_money\": {\"amount\": 2500, \"currency\": \"USD\"}, \"catalog_object_id\": \"KYZZN57QA5JHS6CWZBMWMEE6\", \"gross_sales_money\": {\"amount\": 12500, \"currency\": \"USD\"}, \"name\": \"Shirt\", \"quantity\": \"5\", \"total_discount_money\": {\"amount\": 0, \"currency\": \"USD\"}, \"total_money\": {\"amount\": 12500, \"currency\": \"USD\"}, \"total_tax_money\": {\"amount\": 0, \"currency\": \"USD\"}, \"uid\": \"fw0nV410SxMBdCXZzh72YD\", \"variation_name\": \"Small red shirt\", \"variation_total_price_money\": {\"amount\": 12500, \"currency\": \"USD\"}}], \"location_id\": \"LCN0KMDE4Y5WR\", \"net_amounts\": {\"discount_money\": {\"amount\": 0, \"currency\": \"USD\"}, \"service_charge_money\": {\"amount\": 0, \"currency\": \"USD\"}, \"tax_money\": {\"amount\": 0, \"currency\": \"USD\"}, \"tip_money\": {\"amount\": 0, \"currency\": \"USD\"}, \"total_money\": {\"amount\": 15500, \"currency\": \"USD\"}}, \"source\": {\"name\": \"Sandbox for sq0idp-GR3pOcojbOkjVWWHR5YCyA\"}, \"state\": \"OPEN\", \"total_discount_money\": {\"amount\": 0, \"currency\": \"USD\"}, \"total_money\": {\"amount\": 15500, \"currency\": \"USD\"}, \"total_service_charge_money\": {\"amount\": 0, \"currency\": \"USD\"}, \"total_tax_money\": {\"amount\": 0, \"currency\": \"USD\"}, \"total_tip_money\": {\"amount\": 0, \"currency\": \"USD\"}, \"updated_at\": \"2021-05-28T18:40:08.229Z\", \"version\": 1}}))\n",
       "        });</script>\n",
       "        "
      ],
      "text/plain": [
       "<IPython.core.display.HTML object>"
      ]
     },
     "metadata": {},
     "output_type": "display_data"
    },
    {
     "data": {
      "text/html": [
       "<div id=\"c9f00882-ff60-49b5-b4fc-9a48b6fad3e3\" style=\"height: auto; width:100%;\"></div>"
      ],
      "text/plain": [
       "<IPython.core.display.HTML object>"
      ]
     },
     "metadata": {},
     "output_type": "display_data"
    },
    {
     "data": {
      "text/html": [
       "<script>\n",
       "        require([\"https://rawgit.com/caldwell/renderjson/master/renderjson.js\"], function() {\n",
       "          renderjson.set_show_to_level(1)\n",
       "          document.getElementById('c9f00882-ff60-49b5-b4fc-9a48b6fad3e3').appendChild(renderjson({\"order\": {\"created_at\": \"2021-05-28T18:40:08.229Z\", \"customer_id\": \"RAWRMY0ZRWZVKC51JH2JQT2PKW\", \"id\": \"mZQcvAkRHb2bDQPHp1jmBY96cg4F\", \"line_items\": [{\"base_price_money\": {\"amount\": 1000, \"currency\": \"USD\"}, \"catalog_object_id\": \"IRC3NJWX5QBVIW7U736JPRCC\", \"gross_sales_money\": {\"amount\": 3000, \"currency\": \"USD\"}, \"name\": \"Hat\", \"quantity\": \"3\", \"total_discount_money\": {\"amount\": 0, \"currency\": \"USD\"}, \"total_money\": {\"amount\": 3000, \"currency\": \"USD\"}, \"total_tax_money\": {\"amount\": 0, \"currency\": \"USD\"}, \"uid\": \"LacKm0sHQjCV2Y6Gu57CcD\", \"variation_name\": \"Blu hat\", \"variation_total_price_money\": {\"amount\": 3000, \"currency\": \"USD\"}}, {\"base_price_money\": {\"amount\": 2500, \"currency\": \"USD\"}, \"catalog_object_id\": \"KYZZN57QA5JHS6CWZBMWMEE6\", \"gross_sales_money\": {\"amount\": 12500, \"currency\": \"USD\"}, \"name\": \"Shirt\", \"quantity\": \"5\", \"total_discount_money\": {\"amount\": 0, \"currency\": \"USD\"}, \"total_money\": {\"amount\": 12500, \"currency\": \"USD\"}, \"total_tax_money\": {\"amount\": 0, \"currency\": \"USD\"}, \"uid\": \"fw0nV410SxMBdCXZzh72YD\", \"variation_name\": \"Small red shirt\", \"variation_total_price_money\": {\"amount\": 12500, \"currency\": \"USD\"}}], \"location_id\": \"LCN0KMDE4Y5WR\", \"net_amounts\": {\"discount_money\": {\"amount\": 0, \"currency\": \"USD\"}, \"service_charge_money\": {\"amount\": 0, \"currency\": \"USD\"}, \"tax_money\": {\"amount\": 0, \"currency\": \"USD\"}, \"tip_money\": {\"amount\": 0, \"currency\": \"USD\"}, \"total_money\": {\"amount\": 15500, \"currency\": \"USD\"}}, \"source\": {\"name\": \"Sandbox for sq0idp-GR3pOcojbOkjVWWHR5YCyA\"}, \"state\": \"OPEN\", \"total_discount_money\": {\"amount\": 0, \"currency\": \"USD\"}, \"total_money\": {\"amount\": 15500, \"currency\": \"USD\"}, \"total_service_charge_money\": {\"amount\": 0, \"currency\": \"USD\"}, \"total_tax_money\": {\"amount\": 0, \"currency\": \"USD\"}, \"total_tip_money\": {\"amount\": 0, \"currency\": \"USD\"}, \"updated_at\": \"2021-05-28T18:40:08.229Z\", \"version\": 1}}))\n",
       "        });</script>\n",
       "        "
      ],
      "text/plain": [
       "<IPython.core.display.HTML object>"
      ]
     },
     "metadata": {},
     "output_type": "display_data"
    }
   ],
   "source": [
    "result = client_sandbox.orders.retrieve_order(\"mZQcvAkRHb2bDQPHp1jmBY96cg4F\")\n",
    "RenderJSON(result.body)"
   ]
  },
  {
   "cell_type": "code",
   "execution_count": 11,
   "id": "fdb7cb45",
   "metadata": {},
   "outputs": [
    {
     "data": {
      "text/html": [
       "<div id=\"b132f6e0-4e00-4672-b30c-36f9ce54750c\" style=\"height: auto; width:100%;\"></div>"
      ],
      "text/plain": [
       "<IPython.core.display.HTML object>"
      ]
     },
     "metadata": {},
     "output_type": "display_data"
    },
    {
     "data": {
      "text/html": [
       "<script>\n",
       "        require([\"https://rawgit.com/caldwell/renderjson/master/renderjson.js\"], function() {\n",
       "          renderjson.set_show_to_level(1)\n",
       "          document.getElementById('b132f6e0-4e00-4672-b30c-36f9ce54750c').appendChild(renderjson({\"payment\": {\"amount_money\": {\"amount\": 15500, \"currency\": \"USD\"}, \"approved_money\": {\"amount\": 15500, \"currency\": \"USD\"}, \"card_details\": {\"avs_status\": \"AVS_ACCEPTED\", \"card\": {\"bin\": \"540988\", \"card_brand\": \"MASTERCARD\", \"card_type\": \"CREDIT\", \"exp_month\": 5, \"exp_year\": 2023, \"fingerprint\": \"sq-1-7fcVk-Ggytsmj1IYgAMoKocTW6FzLYk8caCVduYXiBPyeuXdGSYctKvVU0DqO-zoAw\", \"last_4\": \"9029\", \"prepaid_type\": \"NOT_PREPAID\"}, \"card_payment_timeline\": {\"authorized_at\": \"2021-05-28T18:59:58.960Z\", \"captured_at\": \"2021-05-28T18:59:59.146Z\"}, \"cvv_status\": \"CVV_ACCEPTED\", \"entry_method\": \"KEYED\", \"statement_description\": \"SQ *SQUARE SANDBOX NO2 G\", \"status\": \"CAPTURED\"}, \"created_at\": \"2021-05-28T18:59:58.854Z\", \"delay_action\": \"CANCEL\", \"delay_duration\": \"PT168H\", \"delayed_until\": \"2021-06-04T18:59:58.854Z\", \"id\": \"dIjp7s8hSKlhEtN80vQeL5hJCU9YY\", \"location_id\": \"LCN0KMDE4Y5WR\", \"order_id\": \"mZQcvAkRHb2bDQPHp1jmBY96cg4F\", \"receipt_number\": \"dIjp\", \"receipt_url\": \"https://squareupsandbox.com/receipt/preview/dIjp7s8hSKlhEtN80vQeL5hJCU9YY\", \"risk_evaluation\": {\"created_at\": \"2021-05-28T18:59:58.960Z\", \"risk_level\": \"NORMAL\"}, \"source_type\": \"CARD\", \"status\": \"COMPLETED\", \"total_money\": {\"amount\": 15500, \"currency\": \"USD\"}, \"updated_at\": \"2021-05-28T18:59:59.146Z\", \"version_token\": \"DoDkTDFYrrovnOW82xlOQT2l58M2xTrL4BuRz68I1qi6o\"}}))\n",
       "        });</script>\n",
       "        "
      ],
      "text/plain": [
       "<IPython.core.display.HTML object>"
      ]
     },
     "metadata": {},
     "output_type": "display_data"
    },
    {
     "data": {
      "text/html": [
       "<div id=\"b132f6e0-4e00-4672-b30c-36f9ce54750c\" style=\"height: auto; width:100%;\"></div>"
      ],
      "text/plain": [
       "<IPython.core.display.HTML object>"
      ]
     },
     "metadata": {},
     "output_type": "display_data"
    },
    {
     "data": {
      "text/html": [
       "<script>\n",
       "        require([\"https://rawgit.com/caldwell/renderjson/master/renderjson.js\"], function() {\n",
       "          renderjson.set_show_to_level(1)\n",
       "          document.getElementById('b132f6e0-4e00-4672-b30c-36f9ce54750c').appendChild(renderjson({\"payment\": {\"amount_money\": {\"amount\": 15500, \"currency\": \"USD\"}, \"approved_money\": {\"amount\": 15500, \"currency\": \"USD\"}, \"card_details\": {\"avs_status\": \"AVS_ACCEPTED\", \"card\": {\"bin\": \"540988\", \"card_brand\": \"MASTERCARD\", \"card_type\": \"CREDIT\", \"exp_month\": 5, \"exp_year\": 2023, \"fingerprint\": \"sq-1-7fcVk-Ggytsmj1IYgAMoKocTW6FzLYk8caCVduYXiBPyeuXdGSYctKvVU0DqO-zoAw\", \"last_4\": \"9029\", \"prepaid_type\": \"NOT_PREPAID\"}, \"card_payment_timeline\": {\"authorized_at\": \"2021-05-28T18:59:58.960Z\", \"captured_at\": \"2021-05-28T18:59:59.146Z\"}, \"cvv_status\": \"CVV_ACCEPTED\", \"entry_method\": \"KEYED\", \"statement_description\": \"SQ *SQUARE SANDBOX NO2 G\", \"status\": \"CAPTURED\"}, \"created_at\": \"2021-05-28T18:59:58.854Z\", \"delay_action\": \"CANCEL\", \"delay_duration\": \"PT168H\", \"delayed_until\": \"2021-06-04T18:59:58.854Z\", \"id\": \"dIjp7s8hSKlhEtN80vQeL5hJCU9YY\", \"location_id\": \"LCN0KMDE4Y5WR\", \"order_id\": \"mZQcvAkRHb2bDQPHp1jmBY96cg4F\", \"receipt_number\": \"dIjp\", \"receipt_url\": \"https://squareupsandbox.com/receipt/preview/dIjp7s8hSKlhEtN80vQeL5hJCU9YY\", \"risk_evaluation\": {\"created_at\": \"2021-05-28T18:59:58.960Z\", \"risk_level\": \"NORMAL\"}, \"source_type\": \"CARD\", \"status\": \"COMPLETED\", \"total_money\": {\"amount\": 15500, \"currency\": \"USD\"}, \"updated_at\": \"2021-05-28T18:59:59.146Z\", \"version_token\": \"DoDkTDFYrrovnOW82xlOQT2l58M2xTrL4BuRz68I1qi6o\"}}))\n",
       "        });</script>\n",
       "        "
      ],
      "text/plain": [
       "<IPython.core.display.HTML object>"
      ]
     },
     "metadata": {},
     "output_type": "display_data"
    }
   ],
   "source": [
    "# pay the order\n",
    "order_id =\"mZQcvAkRHb2bDQPHp1jmBY96cg4F\"\n",
    "amount = 15500\n",
    "\n",
    "result_create_payment = client_sandbox.payments.create_payment(\n",
    "      body = {\n",
    "        \"source_id\": \"cnon:card-nonce-ok\",\n",
    "        \"idempotency_key\": str(uuid.uuid4()),\n",
    "        \"amount_money\": {\n",
    "          \"amount\": amount,\n",
    "          \"currency\": \"USD\"\n",
    "        },\n",
    "        \"order_id\": order_id,\n",
    "#           \"note\": note_payment\n",
    "      }\n",
    "    )\n",
    "RenderJSON(result_create_payment.body)"
   ]
  },
  {
   "cell_type": "code",
   "execution_count": 12,
   "id": "cb3449e1",
   "metadata": {},
   "outputs": [
    {
     "data": {
      "text/html": [
       "<div id=\"06626930-8371-4f99-acc8-619646a7e1f4\" style=\"height: auto; width:100%;\"></div>"
      ],
      "text/plain": [
       "<IPython.core.display.HTML object>"
      ]
     },
     "metadata": {},
     "output_type": "display_data"
    },
    {
     "data": {
      "text/html": [
       "<script>\n",
       "        require([\"https://rawgit.com/caldwell/renderjson/master/renderjson.js\"], function() {\n",
       "          renderjson.set_show_to_level(1)\n",
       "          document.getElementById('06626930-8371-4f99-acc8-619646a7e1f4').appendChild(renderjson({\"payment\": {\"amount_money\": {\"amount\": 15500, \"currency\": \"USD\"}, \"approved_money\": {\"amount\": 15500, \"currency\": \"USD\"}, \"card_details\": {\"avs_status\": \"AVS_ACCEPTED\", \"card\": {\"bin\": \"540988\", \"card_brand\": \"MASTERCARD\", \"card_type\": \"CREDIT\", \"exp_month\": 5, \"exp_year\": 2023, \"fingerprint\": \"sq-1-7fcVk-Ggytsmj1IYgAMoKocTW6FzLYk8caCVduYXiBPyeuXdGSYctKvVU0DqO-zoAw\", \"last_4\": \"9029\", \"prepaid_type\": \"NOT_PREPAID\"}, \"card_payment_timeline\": {\"authorized_at\": \"2021-05-28T18:59:58.960Z\", \"captured_at\": \"2021-05-28T18:59:59.146Z\"}, \"cvv_status\": \"CVV_ACCEPTED\", \"entry_method\": \"KEYED\", \"statement_description\": \"SQ *SQUARE SANDBOX NO2 G\", \"status\": \"CAPTURED\"}, \"created_at\": \"2021-05-28T18:59:58.854Z\", \"delay_action\": \"CANCEL\", \"delay_duration\": \"PT168H\", \"delayed_until\": \"2021-06-04T18:59:58.854Z\", \"id\": \"dIjp7s8hSKlhEtN80vQeL5hJCU9YY\", \"location_id\": \"LCN0KMDE4Y5WR\", \"order_id\": \"mZQcvAkRHb2bDQPHp1jmBY96cg4F\", \"processing_fee\": [{\"amount_money\": {\"amount\": 480, \"currency\": \"USD\"}, \"effective_at\": \"2021-05-28T20:59:59.000Z\", \"type\": \"INITIAL\"}], \"receipt_number\": \"dIjp\", \"receipt_url\": \"https://squareupsandbox.com/receipt/preview/dIjp7s8hSKlhEtN80vQeL5hJCU9YY\", \"risk_evaluation\": {\"created_at\": \"2021-05-28T18:59:58.960Z\", \"risk_level\": \"NORMAL\"}, \"source_type\": \"CARD\", \"status\": \"COMPLETED\", \"total_money\": {\"amount\": 15500, \"currency\": \"USD\"}, \"updated_at\": \"2021-05-28T18:59:59.146Z\", \"version_token\": \"XCl7ziqNCE67G3PR4QiFLptK5feAhn6qUdr6cqqnc8E6o\"}}))\n",
       "        });</script>\n",
       "        "
      ],
      "text/plain": [
       "<IPython.core.display.HTML object>"
      ]
     },
     "metadata": {},
     "output_type": "display_data"
    },
    {
     "data": {
      "text/html": [
       "<div id=\"06626930-8371-4f99-acc8-619646a7e1f4\" style=\"height: auto; width:100%;\"></div>"
      ],
      "text/plain": [
       "<IPython.core.display.HTML object>"
      ]
     },
     "metadata": {},
     "output_type": "display_data"
    },
    {
     "data": {
      "text/html": [
       "<script>\n",
       "        require([\"https://rawgit.com/caldwell/renderjson/master/renderjson.js\"], function() {\n",
       "          renderjson.set_show_to_level(1)\n",
       "          document.getElementById('06626930-8371-4f99-acc8-619646a7e1f4').appendChild(renderjson({\"payment\": {\"amount_money\": {\"amount\": 15500, \"currency\": \"USD\"}, \"approved_money\": {\"amount\": 15500, \"currency\": \"USD\"}, \"card_details\": {\"avs_status\": \"AVS_ACCEPTED\", \"card\": {\"bin\": \"540988\", \"card_brand\": \"MASTERCARD\", \"card_type\": \"CREDIT\", \"exp_month\": 5, \"exp_year\": 2023, \"fingerprint\": \"sq-1-7fcVk-Ggytsmj1IYgAMoKocTW6FzLYk8caCVduYXiBPyeuXdGSYctKvVU0DqO-zoAw\", \"last_4\": \"9029\", \"prepaid_type\": \"NOT_PREPAID\"}, \"card_payment_timeline\": {\"authorized_at\": \"2021-05-28T18:59:58.960Z\", \"captured_at\": \"2021-05-28T18:59:59.146Z\"}, \"cvv_status\": \"CVV_ACCEPTED\", \"entry_method\": \"KEYED\", \"statement_description\": \"SQ *SQUARE SANDBOX NO2 G\", \"status\": \"CAPTURED\"}, \"created_at\": \"2021-05-28T18:59:58.854Z\", \"delay_action\": \"CANCEL\", \"delay_duration\": \"PT168H\", \"delayed_until\": \"2021-06-04T18:59:58.854Z\", \"id\": \"dIjp7s8hSKlhEtN80vQeL5hJCU9YY\", \"location_id\": \"LCN0KMDE4Y5WR\", \"order_id\": \"mZQcvAkRHb2bDQPHp1jmBY96cg4F\", \"processing_fee\": [{\"amount_money\": {\"amount\": 480, \"currency\": \"USD\"}, \"effective_at\": \"2021-05-28T20:59:59.000Z\", \"type\": \"INITIAL\"}], \"receipt_number\": \"dIjp\", \"receipt_url\": \"https://squareupsandbox.com/receipt/preview/dIjp7s8hSKlhEtN80vQeL5hJCU9YY\", \"risk_evaluation\": {\"created_at\": \"2021-05-28T18:59:58.960Z\", \"risk_level\": \"NORMAL\"}, \"source_type\": \"CARD\", \"status\": \"COMPLETED\", \"total_money\": {\"amount\": 15500, \"currency\": \"USD\"}, \"updated_at\": \"2021-05-28T18:59:59.146Z\", \"version_token\": \"XCl7ziqNCE67G3PR4QiFLptK5feAhn6qUdr6cqqnc8E6o\"}}))\n",
       "        });</script>\n",
       "        "
      ],
      "text/plain": [
       "<IPython.core.display.HTML object>"
      ]
     },
     "metadata": {},
     "output_type": "display_data"
    }
   ],
   "source": [
    "result = client_sandbox.payments.get_payment(\"dIjp7s8hSKlhEtN80vQeL5hJCU9YY\")\n",
    "RenderJSON(result.body)"
   ]
  },
  {
   "cell_type": "code",
   "execution_count": 14,
   "id": "6f0d22f5",
   "metadata": {},
   "outputs": [
    {
     "name": "stdout",
     "output_type": "stream",
     "text": [
      "[{'category': 'INVALID_REQUEST_ERROR', 'code': 'BAD_REQUEST', 'detail': 'The order is already paid.'}]\n"
     ]
    }
   ],
   "source": [
    "# pay order\n",
    "result = client_sandbox.orders.pay_order(\n",
    "  order_id = \"mZQcvAkRHb2bDQPHp1jmBY96cg4F\",\n",
    "  body = {\n",
    "    \"idempotency_key\": str(uuid.uuid1()),\n",
    "      \"payment_ids\": [\n",
    "      \"dIjp7s8hSKlhEtN80vQeL5hJCU9YY\"\n",
    "    ]\n",
    "  }\n",
    ")\n",
    "\n",
    "if result.is_success():\n",
    "  print(result.body)\n",
    "elif result.is_error():\n",
    "  print(result.errors)\n",
    "\n",
    "result\n",
    "# [{'category': 'INVALID_REQUEST_ERROR', 'code': 'BAD_REQUEST', 'detail': 'The order is already paid.'}]\n"
   ]
  },
  {
   "cell_type": "code",
   "execution_count": 17,
   "id": "2de90f13",
   "metadata": {},
   "outputs": [
    {
     "data": {
      "text/html": [
       "<div id=\"331d200a-cedb-441c-a318-80a1e8da18f6\" style=\"height: auto; width:100%;\"></div>"
      ],
      "text/plain": [
       "<IPython.core.display.HTML object>"
      ]
     },
     "metadata": {},
     "output_type": "display_data"
    },
    {
     "data": {
      "text/html": [
       "<script>\n",
       "        require([\"https://rawgit.com/caldwell/renderjson/master/renderjson.js\"], function() {\n",
       "          renderjson.set_show_to_level(1)\n",
       "          document.getElementById('331d200a-cedb-441c-a318-80a1e8da18f6').appendChild(renderjson({\"refund\": {\"amount_money\": {\"amount\": 1, \"currency\": \"USD\"}, \"created_at\": \"2021-05-28T19:50:49.651Z\", \"id\": \"dIjp7s8hSKlhEtN80vQeL5hJCU9YY_TA24APiTljapc7SPhIdnfqf8XhB6dfXWGV7nSsNMwlb\", \"location_id\": \"LCN0KMDE4Y5WR\", \"order_id\": \"0KvZLkJy6QWp6QGpKTrEg3CIth4F\", \"payment_id\": \"dIjp7s8hSKlhEtN80vQeL5hJCU9YY\", \"reason\": \"REFUND TEST\", \"status\": \"PENDING\", \"updated_at\": \"2021-05-28T19:50:49.651Z\"}}))\n",
       "        });</script>\n",
       "        "
      ],
      "text/plain": [
       "<IPython.core.display.HTML object>"
      ]
     },
     "metadata": {},
     "output_type": "display_data"
    }
   ],
   "source": [
    "result = client_sandbox.refunds.refund_payment(\n",
    "body = {\n",
    "    \"idempotency_key\": str(uuid.uuid4()),\n",
    "    \"amount_money\": {\n",
    "      \"amount\": 1,\n",
    "      \"currency\": \"USD\"\n",
    "    },\n",
    "    \"payment_id\": \"dIjp7s8hSKlhEtN80vQeL5hJCU9YY\",\n",
    "    \"reason\": \"REFUND TEST\"\n",
    "  }\n",
    ")\n",
    "\n",
    "if result.is_success():\n",
    "  RenderJSON(result.body)\n",
    "elif result.is_error():\n",
    "  print(result.errors)\n",
    "\n",
    "\n",
    "# result\n",
    "# ⊖{\n",
    "#     \"refund\": ⊖{\n",
    "#         \"amount_money\": ⊖{\n",
    "#             \"amount\": 1,\n",
    "#             \"currency\": \"USD\"\n",
    "#         },\n",
    "#         \"created_at\": \"2021-05-28T19:50:49.651Z\",\n",
    "#         \"id\": \"dIjp7s8hSKlhEtN80vQeL5hJCU9YY_TA24APiTljapc7SPhIdnfqf8XhB6dfXWGV7nSsNMwlb\",\n",
    "#         \"location_id\": \"LCN0KMDE4Y5WR\",\n",
    "#         \"order_id\": \"0KvZLkJy6QWp6QGpKTrEg3CIth4F\",\n",
    "#         \"payment_id\": \"dIjp7s8hSKlhEtN80vQeL5hJCU9YY\",\n",
    "#         \"reason\": \"REFUND TEST\",\n",
    "#         \"status\": \"PENDING\",\n",
    "#         \"updated_at\": \"2021-05-28T19:50:49.651Z\"\n",
    "#     }\n",
    "# }"
   ]
  },
  {
   "cell_type": "code",
   "execution_count": 19,
   "id": "fb005496",
   "metadata": {},
   "outputs": [
    {
     "data": {
      "text/html": [
       "<div id=\"df34bf33-ea3b-44aa-889d-dbbc534bc84f\" style=\"height: auto; width:100%;\"></div>"
      ],
      "text/plain": [
       "<IPython.core.display.HTML object>"
      ]
     },
     "metadata": {},
     "output_type": "display_data"
    },
    {
     "data": {
      "text/html": [
       "<script>\n",
       "        require([\"https://rawgit.com/caldwell/renderjson/master/renderjson.js\"], function() {\n",
       "          renderjson.set_show_to_level(1)\n",
       "          document.getElementById('df34bf33-ea3b-44aa-889d-dbbc534bc84f').appendChild(renderjson({\"refund\": {\"amount_money\": {\"amount\": 1, \"currency\": \"USD\"}, \"created_at\": \"2021-05-28T19:50:49.651Z\", \"id\": \"dIjp7s8hSKlhEtN80vQeL5hJCU9YY_TA24APiTljapc7SPhIdnfqf8XhB6dfXWGV7nSsNMwlb\", \"location_id\": \"LCN0KMDE4Y5WR\", \"order_id\": \"0KvZLkJy6QWp6QGpKTrEg3CIth4F\", \"payment_id\": \"dIjp7s8hSKlhEtN80vQeL5hJCU9YY\", \"processing_fee\": [{\"amount_money\": {\"amount\": -1, \"currency\": \"USD\"}, \"effective_at\": \"2021-05-28T20:59:59.000Z\", \"type\": \"INITIAL\"}], \"reason\": \"REFUND TEST\", \"status\": \"COMPLETED\", \"updated_at\": \"2021-05-28T19:50:52.554Z\"}}))\n",
       "        });</script>\n",
       "        "
      ],
      "text/plain": [
       "<IPython.core.display.HTML object>"
      ]
     },
     "metadata": {},
     "output_type": "display_data"
    }
   ],
   "source": [
    "# complete now\n",
    "result = client_sandbox.refunds.get_payment_refund(\"dIjp7s8hSKlhEtN80vQeL5hJCU9YY_TA24APiTljapc7SPhIdnfqf8XhB6dfXWGV7nSsNMwlb\")\n",
    "\n",
    "if result.is_success():\n",
    "  RenderJSON(result.body)\n",
    "elif result.is_error():\n",
    "  print(result.errors)"
   ]
  },
  {
   "cell_type": "code",
   "execution_count": 20,
   "id": "adcc0d3f",
   "metadata": {},
   "outputs": [
    {
     "data": {
      "text/html": [
       "<div id=\"3656d8db-4700-49b1-b72d-66c8b23b15ce\" style=\"height: auto; width:100%;\"></div>"
      ],
      "text/plain": [
       "<IPython.core.display.HTML object>"
      ]
     },
     "metadata": {},
     "output_type": "display_data"
    },
    {
     "data": {
      "text/html": [
       "<script>\n",
       "        require([\"https://rawgit.com/caldwell/renderjson/master/renderjson.js\"], function() {\n",
       "          renderjson.set_show_to_level(1)\n",
       "          document.getElementById('3656d8db-4700-49b1-b72d-66c8b23b15ce').appendChild(renderjson({\"refund\": {\"amount_money\": {\"amount\": 1, \"currency\": \"USD\"}, \"created_at\": \"2021-05-28T19:53:07.816Z\", \"id\": \"dIjp7s8hSKlhEtN80vQeL5hJCU9YY_gL45RFnmwjhBM0hPTsVhYaj2DfMUBsAxHLew16y2ilO\", \"location_id\": \"LCN0KMDE4Y5WR\", \"order_id\": \"Q4vvqaplA4lRsyu23OSSapRAHc4F\", \"payment_id\": \"dIjp7s8hSKlhEtN80vQeL5hJCU9YY\", \"reason\": \"REFUND TEST\", \"status\": \"PENDING\", \"updated_at\": \"2021-05-28T19:53:07.816Z\"}}))\n",
       "        });</script>\n",
       "        "
      ],
      "text/plain": [
       "<IPython.core.display.HTML object>"
      ]
     },
     "metadata": {},
     "output_type": "display_data"
    }
   ],
   "source": [
    "# multiple times ask for refund\n",
    "# it works\n",
    "result = client_sandbox.refunds.refund_payment(\n",
    "body = {\n",
    "    \"idempotency_key\": str(uuid.uuid4()),\n",
    "    \"amount_money\": {\n",
    "      \"amount\": 1,\n",
    "      \"currency\": \"USD\"\n",
    "    },\n",
    "    \"payment_id\": \"dIjp7s8hSKlhEtN80vQeL5hJCU9YY\",\n",
    "    \"reason\": \"REFUND TEST\"\n",
    "  }\n",
    ")\n",
    "\n",
    "if result.is_success():\n",
    "  RenderJSON(result.body)\n",
    "elif result.is_error():\n",
    "  print(result.errors)\n",
    "\n",
    "\n",
    "# result\n",
    "# ⊖{\n",
    "#     \"refund\": ⊖{\n",
    "#         \"amount_money\": ⊖{\n",
    "#             \"amount\": 1,\n",
    "#             \"currency\": \"USD\"\n",
    "#         },\n",
    "#         \"created_at\": \"2021-05-28T19:53:07.816Z\",\n",
    "#         \"id\": \"dIjp7s8hSKlhEtN80vQeL5hJCU9YY_gL45RFnmwjhBM0hPTsVhYaj2DfMUBsAxHLew16y2ilO\",\n",
    "#         \"location_id\": \"LCN0KMDE4Y5WR\",\n",
    "#         \"order_id\": \"Q4vvqaplA4lRsyu23OSSapRAHc4F\",\n",
    "#         \"payment_id\": \"dIjp7s8hSKlhEtN80vQeL5hJCU9YY\",\n",
    "#         \"reason\": \"REFUND TEST\",\n",
    "#         \"status\": \"PENDING\",\n",
    "#         \"updated_at\": \"2021-05-28T19:53:07.816Z\"\n",
    "#     }\n",
    "# }"
   ]
  },
  {
   "cell_type": "code",
   "execution_count": 30,
   "id": "a1ae438c",
   "metadata": {},
   "outputs": [
    {
     "data": {
      "text/html": [
       "<div id=\"3bf87377-b535-426e-92d6-e2cc9b10f5b7\" style=\"height: auto; width:100%;\"></div>"
      ],
      "text/plain": [
       "<IPython.core.display.HTML object>"
      ]
     },
     "metadata": {},
     "output_type": "display_data"
    },
    {
     "data": {
      "text/html": [
       "<script>\n",
       "        require([\"https://rawgit.com/caldwell/renderjson/master/renderjson.js\"], function() {\n",
       "          renderjson.set_show_to_level(1)\n",
       "          document.getElementById('3bf87377-b535-426e-92d6-e2cc9b10f5b7').appendChild(renderjson({\"payment\": {\"amount_money\": {\"amount\": 15500, \"currency\": \"USD\"}, \"approved_money\": {\"amount\": 15500, \"currency\": \"USD\"}, \"card_details\": {\"avs_status\": \"AVS_ACCEPTED\", \"card\": {\"bin\": \"540988\", \"card_brand\": \"MASTERCARD\", \"card_type\": \"CREDIT\", \"exp_month\": 5, \"exp_year\": 2023, \"fingerprint\": \"sq-1-7fcVk-Ggytsmj1IYgAMoKocTW6FzLYk8caCVduYXiBPyeuXdGSYctKvVU0DqO-zoAw\", \"last_4\": \"9029\", \"prepaid_type\": \"NOT_PREPAID\"}, \"card_payment_timeline\": {\"authorized_at\": \"2021-05-28T18:59:58.960Z\", \"captured_at\": \"2021-05-28T18:59:59.146Z\"}, \"cvv_status\": \"CVV_ACCEPTED\", \"entry_method\": \"KEYED\", \"statement_description\": \"SQ *SQUARE SANDBOX NO2 G\", \"status\": \"CAPTURED\"}, \"created_at\": \"2021-05-28T18:59:58.854Z\", \"delay_action\": \"CANCEL\", \"delay_duration\": \"PT168H\", \"delayed_until\": \"2021-06-04T18:59:58.854Z\", \"id\": \"dIjp7s8hSKlhEtN80vQeL5hJCU9YY\", \"location_id\": \"LCN0KMDE4Y5WR\", \"order_id\": \"mZQcvAkRHb2bDQPHp1jmBY96cg4F\", \"processing_fee\": [{\"amount_money\": {\"amount\": 480, \"currency\": \"USD\"}, \"effective_at\": \"2021-05-28T20:59:59.000Z\", \"type\": \"INITIAL\"}], \"receipt_number\": \"dIjp\", \"receipt_url\": \"https://squareupsandbox.com/receipt/preview/dIjp7s8hSKlhEtN80vQeL5hJCU9YY\", \"refund_ids\": [\"dIjp7s8hSKlhEtN80vQeL5hJCU9YY_TA24APiTljapc7SPhIdnfqf8XhB6dfXWGV7nSsNMwlb\", \"dIjp7s8hSKlhEtN80vQeL5hJCU9YY_gL45RFnmwjhBM0hPTsVhYaj2DfMUBsAxHLew16y2ilO\", \"dIjp7s8hSKlhEtN80vQeL5hJCU9YY_19sty2kiuUF9kNzhBRWOGgVwAbsSQ9yrlrnpaeQvf1W\", \"dIjp7s8hSKlhEtN80vQeL5hJCU9YY_laMhNmju2hPt9kDSGzcRxKnCp4iTrZ3JQs9x7UqOvbV\", \"dIjp7s8hSKlhEtN80vQeL5hJCU9YY_5oYhFfADB5sI8BAu5792hb4jfiaSdkFpIzyqnvGc9BT\", \"dIjp7s8hSKlhEtN80vQeL5hJCU9YY_PvsutUPtwEVYGXWQVMhmGC2FvCLrGcfIaw7KQOnQqvF\"], \"refunded_money\": {\"amount\": 30, \"currency\": \"USD\"}, \"risk_evaluation\": {\"created_at\": \"2021-05-28T18:59:58.960Z\", \"risk_level\": \"NORMAL\"}, \"source_type\": \"CARD\", \"status\": \"COMPLETED\", \"total_money\": {\"amount\": 15500, \"currency\": \"USD\"}, \"updated_at\": \"2021-05-28T20:30:23.176Z\", \"version_token\": \"waySMEo9sCm4Nr9KEP2JmWLWwocp4w8CE07zE8tEKNH6o\"}}))\n",
       "        });</script>\n",
       "        "
      ],
      "text/plain": [
       "<IPython.core.display.HTML object>"
      ]
     },
     "metadata": {},
     "output_type": "display_data"
    },
    {
     "data": {
      "text/html": [
       "<div id=\"3bf87377-b535-426e-92d6-e2cc9b10f5b7\" style=\"height: auto; width:100%;\"></div>"
      ],
      "text/plain": [
       "<IPython.core.display.HTML object>"
      ]
     },
     "metadata": {},
     "output_type": "display_data"
    },
    {
     "data": {
      "text/html": [
       "<script>\n",
       "        require([\"https://rawgit.com/caldwell/renderjson/master/renderjson.js\"], function() {\n",
       "          renderjson.set_show_to_level(1)\n",
       "          document.getElementById('3bf87377-b535-426e-92d6-e2cc9b10f5b7').appendChild(renderjson({\"payment\": {\"amount_money\": {\"amount\": 15500, \"currency\": \"USD\"}, \"approved_money\": {\"amount\": 15500, \"currency\": \"USD\"}, \"card_details\": {\"avs_status\": \"AVS_ACCEPTED\", \"card\": {\"bin\": \"540988\", \"card_brand\": \"MASTERCARD\", \"card_type\": \"CREDIT\", \"exp_month\": 5, \"exp_year\": 2023, \"fingerprint\": \"sq-1-7fcVk-Ggytsmj1IYgAMoKocTW6FzLYk8caCVduYXiBPyeuXdGSYctKvVU0DqO-zoAw\", \"last_4\": \"9029\", \"prepaid_type\": \"NOT_PREPAID\"}, \"card_payment_timeline\": {\"authorized_at\": \"2021-05-28T18:59:58.960Z\", \"captured_at\": \"2021-05-28T18:59:59.146Z\"}, \"cvv_status\": \"CVV_ACCEPTED\", \"entry_method\": \"KEYED\", \"statement_description\": \"SQ *SQUARE SANDBOX NO2 G\", \"status\": \"CAPTURED\"}, \"created_at\": \"2021-05-28T18:59:58.854Z\", \"delay_action\": \"CANCEL\", \"delay_duration\": \"PT168H\", \"delayed_until\": \"2021-06-04T18:59:58.854Z\", \"id\": \"dIjp7s8hSKlhEtN80vQeL5hJCU9YY\", \"location_id\": \"LCN0KMDE4Y5WR\", \"order_id\": \"mZQcvAkRHb2bDQPHp1jmBY96cg4F\", \"processing_fee\": [{\"amount_money\": {\"amount\": 480, \"currency\": \"USD\"}, \"effective_at\": \"2021-05-28T20:59:59.000Z\", \"type\": \"INITIAL\"}], \"receipt_number\": \"dIjp\", \"receipt_url\": \"https://squareupsandbox.com/receipt/preview/dIjp7s8hSKlhEtN80vQeL5hJCU9YY\", \"refund_ids\": [\"dIjp7s8hSKlhEtN80vQeL5hJCU9YY_TA24APiTljapc7SPhIdnfqf8XhB6dfXWGV7nSsNMwlb\", \"dIjp7s8hSKlhEtN80vQeL5hJCU9YY_gL45RFnmwjhBM0hPTsVhYaj2DfMUBsAxHLew16y2ilO\", \"dIjp7s8hSKlhEtN80vQeL5hJCU9YY_19sty2kiuUF9kNzhBRWOGgVwAbsSQ9yrlrnpaeQvf1W\", \"dIjp7s8hSKlhEtN80vQeL5hJCU9YY_laMhNmju2hPt9kDSGzcRxKnCp4iTrZ3JQs9x7UqOvbV\", \"dIjp7s8hSKlhEtN80vQeL5hJCU9YY_5oYhFfADB5sI8BAu5792hb4jfiaSdkFpIzyqnvGc9BT\", \"dIjp7s8hSKlhEtN80vQeL5hJCU9YY_PvsutUPtwEVYGXWQVMhmGC2FvCLrGcfIaw7KQOnQqvF\"], \"refunded_money\": {\"amount\": 30, \"currency\": \"USD\"}, \"risk_evaluation\": {\"created_at\": \"2021-05-28T18:59:58.960Z\", \"risk_level\": \"NORMAL\"}, \"source_type\": \"CARD\", \"status\": \"COMPLETED\", \"total_money\": {\"amount\": 15500, \"currency\": \"USD\"}, \"updated_at\": \"2021-05-28T20:30:23.176Z\", \"version_token\": \"waySMEo9sCm4Nr9KEP2JmWLWwocp4w8CE07zE8tEKNH6o\"}}))\n",
       "        });</script>\n",
       "        "
      ],
      "text/plain": [
       "<IPython.core.display.HTML object>"
      ]
     },
     "metadata": {},
     "output_type": "display_data"
    }
   ],
   "source": [
    "# now the payment record has several refund history\n",
    "result = client_sandbox.payments.get_payment(\"dIjp7s8hSKlhEtN80vQeL5hJCU9YY\")\n",
    "RenderJSON(result.body)\n",
    "\n",
    "\n",
    "# result\n",
    "# ⊖{\n",
    "#     \"payment\": ⊖{\n",
    "#         \"amount_money\": ⊕{2 items},\n",
    "#         \"approved_money\": ⊕{2 items},\n",
    "#         \"card_details\": ⊕{7 items},\n",
    "#         \"created_at\": \"2021-05-28T18:59:58.854Z\",\n",
    "#         \"delay_action\": \"CANCEL\",\n",
    "#         \"delay_duration\": \"PT168H\",\n",
    "#         \"delayed_until\": \"2021-06-04T18:59:58.854Z\",\n",
    "#         \"id\": \"dIjp7s8hSKlhEtN80vQeL5hJCU9YY\",\n",
    "#         \"location_id\": \"LCN0KMDE4Y5WR\",\n",
    "#         \"order_id\": \"mZQcvAkRHb2bDQPHp1jmBY96cg4F\",\n",
    "#         \"processing_fee\": ⊕[1 item],\n",
    "#         \"receipt_number\": \"dIjp\",\n",
    "#         \"receipt_url\": \"https://squareupsandbox.com/receipt/preview/dIjp7s8hSKlhEtN80vQeL5hJCU9YY\",\n",
    "#         \"refund_ids\": ⊖[\n",
    "#             \"dIjp7s8hSKlhEtN80vQeL5hJCU9YY_TA24APiTljapc7SPhIdnfqf8XhB6dfXWGV7nSsNMwlb\",\n",
    "#             \"dIjp7s8hSKlhEtN80vQeL5hJCU9YY_gL45RFnmwjhBM0hPTsVhYaj2DfMUBsAxHLew16y2ilO\"\n",
    "#         ],\n",
    "#         \"refunded_money\": ⊕{2 items},\n",
    "#         \"risk_evaluation\": ⊕{2 items},\n",
    "#         \"source_type\": \"CARD\",\n",
    "#         \"status\": \"COMPLETED\",\n",
    "#         \"total_money\": ⊕{2 items},\n",
    "#         \"updated_at\": \"2021-05-28T19:53:07.816Z\",\n",
    "#         \"version_token\": \"qH81L5POgKtL33C4OH2S8JnlqbVJ5hZWdiJIMwJoFxk6o\"\n",
    "#     }\n",
    "# }"
   ]
  },
  {
   "cell_type": "code",
   "execution_count": 31,
   "id": "89a491b8",
   "metadata": {},
   "outputs": [
    {
     "data": {
      "text/html": [
       "<div id=\"ddfaca8a-b8c0-4dfb-8d2a-2a3d85568387\" style=\"height: auto; width:100%;\"></div>"
      ],
      "text/plain": [
       "<IPython.core.display.HTML object>"
      ]
     },
     "metadata": {},
     "output_type": "display_data"
    },
    {
     "data": {
      "text/html": [
       "<script>\n",
       "        require([\"https://rawgit.com/caldwell/renderjson/master/renderjson.js\"], function() {\n",
       "          renderjson.set_show_to_level(1)\n",
       "          document.getElementById('ddfaca8a-b8c0-4dfb-8d2a-2a3d85568387').appendChild(renderjson({\"refund\": {\"amount_money\": {\"amount\": 10, \"currency\": \"USD\"}, \"created_at\": \"2021-05-28T20:38:25.884Z\", \"id\": \"dIjp7s8hSKlhEtN80vQeL5hJCU9YY_a6BLC27P4b0zo52HJd8AqbbuTAygOxacef5rXZJq6mJ\", \"location_id\": \"LCN0KMDE4Y5WR\", \"order_id\": \"QqSS1OwLESUetzKpVnaI2nd6Eb4F\", \"payment_id\": \"dIjp7s8hSKlhEtN80vQeL5hJCU9YY\", \"reason\": \"REFUND TEST UPDATE ORDER\", \"status\": \"PENDING\", \"updated_at\": \"2021-05-28T20:38:25.884Z\"}}))\n",
       "        });</script>\n",
       "        "
      ],
      "text/plain": [
       "<IPython.core.display.HTML object>"
      ]
     },
     "metadata": {},
     "output_type": "display_data"
    },
    {
     "data": {
      "text/html": [
       "<div id=\"f2428f65-fb8f-4152-b419-0b55062cb774\" style=\"height: auto; width:100%;\"></div>"
      ],
      "text/plain": [
       "<IPython.core.display.HTML object>"
      ]
     },
     "metadata": {},
     "output_type": "display_data"
    },
    {
     "data": {
      "text/html": [
       "<script>\n",
       "        require([\"https://rawgit.com/caldwell/renderjson/master/renderjson.js\"], function() {\n",
       "          renderjson.set_show_to_level(1)\n",
       "          document.getElementById('f2428f65-fb8f-4152-b419-0b55062cb774').appendChild(renderjson({\"errors\": [{\"category\": \"INVALID_REQUEST_ERROR\", \"code\": \"BAD_REQUEST\", \"detail\": \"Order with id `QqSS1OwLESUetzKpVnaI2nd6Eb4F` has status `COMPLETED` and cannot be updated.\"}]}))\n",
       "        });</script>\n",
       "        "
      ],
      "text/plain": [
       "<IPython.core.display.HTML object>"
      ]
     },
     "metadata": {},
     "output_type": "display_data"
    },
    {
     "data": {
      "text/html": [
       "<div id=\"f2428f65-fb8f-4152-b419-0b55062cb774\" style=\"height: auto; width:100%;\"></div>"
      ],
      "text/plain": [
       "<IPython.core.display.HTML object>"
      ]
     },
     "metadata": {},
     "output_type": "display_data"
    },
    {
     "data": {
      "text/html": [
       "<script>\n",
       "        require([\"https://rawgit.com/caldwell/renderjson/master/renderjson.js\"], function() {\n",
       "          renderjson.set_show_to_level(1)\n",
       "          document.getElementById('f2428f65-fb8f-4152-b419-0b55062cb774').appendChild(renderjson({\"errors\": [{\"category\": \"INVALID_REQUEST_ERROR\", \"code\": \"BAD_REQUEST\", \"detail\": \"Order with id `QqSS1OwLESUetzKpVnaI2nd6Eb4F` has status `COMPLETED` and cannot be updated.\"}]}))\n",
       "        });</script>\n",
       "        "
      ],
      "text/plain": [
       "<IPython.core.display.HTML object>"
      ]
     },
     "metadata": {},
     "output_type": "display_data"
    }
   ],
   "source": [
    "# try something bold (failed)\n",
    "\n",
    "# first create a refund\n",
    "result_refund = client_sandbox.refunds.refund_payment(\n",
    "body = {\n",
    "    \"idempotency_key\": str(uuid.uuid4()),\n",
    "    \"amount_money\": {\n",
    "      \"amount\": 10,\n",
    "      \"currency\": \"USD\"\n",
    "    },\n",
    "    \"payment_id\": \"dIjp7s8hSKlhEtN80vQeL5hJCU9YY\",\n",
    "    \"reason\": \"REFUND TEST UPDATE ORDER\"\n",
    "  }\n",
    ")\n",
    "RenderJSON(result_refund.body)\n",
    "\n",
    "# try to \"immediately update the ad hoc order\"\n",
    "order_id = result_refund.body.get(\"refund\").get(\"order_id\")\n",
    "result_adhoc_order = client_sandbox.orders.retrieve_order(order_id)\n",
    "version = result_adhoc_order.body.get(\"order\").get(\"version\")\n",
    "result_order_update = client_sandbox.orders.update_order(\n",
    "    order_id=order_id,\n",
    "    body={\n",
    "    \"order\": {\n",
    "      \"location_id\": location_id,\n",
    "      \"reference_id\": \"UPDATE TEST\",\n",
    "        \"version\": version\n",
    "    }\n",
    "    }\n",
    ")\n",
    "                                                 \n",
    "RenderJSON(result_order_update.body)\n",
    "\n",
    "\n",
    "# result\n",
    "# {\n",
    "#     \"refund\": ⊕{9 items}\n",
    "# }\n",
    "\n",
    "# ⊖{\n",
    "#     \"errors\": ⊖[\n",
    "#        ⊖{\n",
    "#             \"category\": \"INVALID_REQUEST_ERROR\",\n",
    "#             \"code\": \"BAD_REQUEST\",\n",
    "#             \"detail\": \"Order with id `QqSS1OwLESUetzKpVnaI2nd6Eb4F` has status `COMPLETED` and cannot be updated.\"\n",
    "#         }\n",
    "#     ]\n",
    "# }"
   ]
  },
  {
   "cell_type": "code",
   "execution_count": null,
   "id": "fc0ef330",
   "metadata": {},
   "outputs": [],
   "source": []
  }
 ],
 "metadata": {
  "kernelspec": {
   "display_name": "Python 3",
   "language": "python",
   "name": "python3"
  },
  "language_info": {
   "codemirror_mode": {
    "name": "ipython",
    "version": 3
   },
   "file_extension": ".py",
   "mimetype": "text/x-python",
   "name": "python",
   "nbconvert_exporter": "python",
   "pygments_lexer": "ipython3",
   "version": "3.8.8"
  }
 },
 "nbformat": 4,
 "nbformat_minor": 5
}
