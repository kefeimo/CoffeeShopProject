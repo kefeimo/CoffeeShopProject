{
 "cells": [
  {
   "cell_type": "code",
   "execution_count": 6,
   "id": "eef6b5c1",
   "metadata": {},
   "outputs": [],
   "source": [
    "from square.client import Client\n",
    "import pandas as pd"
   ]
  },
  {
   "cell_type": "code",
   "execution_count": 7,
   "id": "d926f7ee",
   "metadata": {},
   "outputs": [],
   "source": [
    "## Add this to the first block in your note book to display json\n",
    "# another option: \n",
    "import uuid\n",
    "from IPython.core.display import display, HTML\n",
    "\n",
    "import json\n",
    "\n",
    "class RenderJSON(object):\n",
    "    def __init__(self, json_data):\n",
    "        if isinstance(json_data, dict):\n",
    "            self.json_str = json.dumps(json_data)\n",
    "        else:\n",
    "            self.json_str = json_data\n",
    "        self.uuid = str(uuid.uuid4())\n",
    "        # This line is missed out in most of the versions of this script across the web, it is essential for this to work interleaved with print statements\n",
    "        self._ipython_display_()\n",
    "        \n",
    "    def _ipython_display_(self):\n",
    "        display(HTML('<div id=\"{}\" style=\"height: auto; width:100%;\"></div>'.format(self.uuid)))\n",
    "        display(HTML(\"\"\"<script>\n",
    "        require([\"https://rawgit.com/caldwell/renderjson/master/renderjson.js\"], function() {\n",
    "          renderjson.set_show_to_level(1)\n",
    "          document.getElementById('%s').appendChild(renderjson(%s))\n",
    "        });</script>\n",
    "        \"\"\" % (self.uuid, self.json_str)))\n",
    "\n",
    "# Since this is copy-pasted wrongly(mostly) at a lot of places across the web, i'm putting the fixed, updated version here, mainly for self-reference\n",
    "\n",
    "\n",
    "## To use this function, call this, this now works even when you have a print statement before or after the RenderJSON call\n",
    "# RenderJSON(your_json)\n",
    "# RenderJSON(json.loads(result.text))"
   ]
  },
  {
   "cell_type": "code",
   "execution_count": 8,
   "id": "fde5fe6a",
   "metadata": {},
   "outputs": [],
   "source": [
    "# module\n",
    "# sandbox connection to \"Square SandBox no2\"\n",
    "\n",
    "from square.client import Client\n",
    "sandbox_token = \"EAAAECCddSeDNsweJXdjNVux8FTfVgMUXAroCh7VcOuoPlgjYb7MrkULH8DZrZmJ\"\n",
    "\n",
    "client = Client(\n",
    "    access_token = sandbox_token,\n",
    "    environment='sandbox',\n",
    ")"
   ]
  },
  {
   "cell_type": "code",
   "execution_count": 31,
   "id": "ff03d004",
   "metadata": {},
   "outputs": [
    {
     "data": {
      "text/html": [
       "<div id=\"bddcae1e-42c1-4a51-86ab-b720b1fb09fc\" style=\"height: auto; width:100%;\"></div>"
      ],
      "text/plain": [
       "<IPython.core.display.HTML object>"
      ]
     },
     "metadata": {},
     "output_type": "display_data"
    },
    {
     "data": {
      "text/html": [
       "<script>\n",
       "        require([\"https://rawgit.com/caldwell/renderjson/master/renderjson.js\"], function() {\n",
       "          renderjson.set_show_to_level(1)\n",
       "          document.getElementById('bddcae1e-42c1-4a51-86ab-b720b1fb09fc').appendChild(renderjson({\"order\": {\"id\": \"o2QhPTMErWXvoxvwCfvDNuM8Nh4F\", \"location_id\": \"LCN0KMDE4Y5WR\", \"line_items\": [{\"uid\": \"WEuHkuawNH82ZBOYE5SfZ\", \"catalog_object_id\": \"IRC3NJWX5QBVIW7U736JPRCC\", \"quantity\": \"1\", \"name\": \"Hat\", \"variation_name\": \"Blu hat\", \"base_price_money\": {\"amount\": 1000, \"currency\": \"USD\"}, \"gross_sales_money\": {\"amount\": 1000, \"currency\": \"USD\"}, \"total_tax_money\": {\"amount\": 0, \"currency\": \"USD\"}, \"total_discount_money\": {\"amount\": 0, \"currency\": \"USD\"}, \"total_money\": {\"amount\": 1000, \"currency\": \"USD\"}, \"variation_total_price_money\": {\"amount\": 1000, \"currency\": \"USD\"}}, {\"uid\": \"xFx7Kqm2m6BgaJ5qnLlQU\", \"catalog_object_id\": \"KYZZN57QA5JHS6CWZBMWMEE6\", \"quantity\": \"2\", \"name\": \"Shirt\", \"variation_name\": \"Small red shirt\", \"base_price_money\": {\"amount\": 2500, \"currency\": \"USD\"}, \"gross_sales_money\": {\"amount\": 5000, \"currency\": \"USD\"}, \"total_tax_money\": {\"amount\": 0, \"currency\": \"USD\"}, \"total_discount_money\": {\"amount\": 0, \"currency\": \"USD\"}, \"total_money\": {\"amount\": 5000, \"currency\": \"USD\"}, \"variation_total_price_money\": {\"amount\": 5000, \"currency\": \"USD\"}}], \"created_at\": \"2021-05-27T16:59:29.609Z\", \"updated_at\": \"2021-05-27T16:59:29.609Z\", \"state\": \"OPEN\", \"version\": 1, \"total_tax_money\": {\"amount\": 0, \"currency\": \"USD\"}, \"total_discount_money\": {\"amount\": 0, \"currency\": \"USD\"}, \"total_tip_money\": {\"amount\": 0, \"currency\": \"USD\"}, \"total_money\": {\"amount\": 6000, \"currency\": \"USD\"}, \"total_service_charge_money\": {\"amount\": 0, \"currency\": \"USD\"}, \"net_amounts\": {\"total_money\": {\"amount\": 6000, \"currency\": \"USD\"}, \"tax_money\": {\"amount\": 0, \"currency\": \"USD\"}, \"discount_money\": {\"amount\": 0, \"currency\": \"USD\"}, \"tip_money\": {\"amount\": 0, \"currency\": \"USD\"}, \"service_charge_money\": {\"amount\": 0, \"currency\": \"USD\"}}, \"source\": {\"name\": \"Sandbox for sq0idp-GR3pOcojbOkjVWWHR5YCyA\"}}}))\n",
       "        });</script>\n",
       "        "
      ],
      "text/plain": [
       "<IPython.core.display.HTML object>"
      ]
     },
     "metadata": {},
     "output_type": "display_data"
    }
   ],
   "source": [
    "# module: create order based on item_id (i.e., catalog_object_id)\n",
    "# prerequisite: catalog_object_id is known\n",
    "# note: by default the state is \"OPEN\", which would not shown in the dashboard order session \n",
    "# (only shown \"Acitve\", \"Completed\", \"Upcoming\")\n",
    "idempotency_key = str(uuid.uuid4())\n",
    "result = client.orders.create_order(\n",
    "  body = {\n",
    "    \"order\": {\n",
    "      \"location_id\": \"LCN0KMDE4Y5WR\",\n",
    "      \"state\": \"OPEN\"\n",
    "      \"line_items\": [\n",
    "        {\n",
    "          \"quantity\": \"1\",\n",
    "          \"catalog_object_id\": \"IRC3NJWX5QBVIW7U736JPRCC\"\n",
    "        },\n",
    "          {\n",
    "          \"quantity\": \"2\",\n",
    "          \"catalog_object_id\": \"KYZZN57QA5JHS6CWZBMWMEE6\"\n",
    "        }\n",
    "      ]\n",
    "    },\n",
    "    \"idempotency_key\": idempotency_key\n",
    "  }\n",
    ")\n",
    "\n",
    "if result.is_success():\n",
    "  RenderJSON(json.loads(result.text))\n",
    "elif result.is_error():\n",
    "  print(result.errors)"
   ]
  },
  {
   "cell_type": "code",
   "execution_count": 30,
   "id": "5c6f84fd",
   "metadata": {},
   "outputs": [
    {
     "data": {
      "text/html": [
       "<div id=\"c400de8e-8bcd-45c1-92b4-0b16f9586027\" style=\"height: auto; width:100%;\"></div>"
      ],
      "text/plain": [
       "<IPython.core.display.HTML object>"
      ]
     },
     "metadata": {},
     "output_type": "display_data"
    },
    {
     "data": {
      "text/html": [
       "<script>\n",
       "        require([\"https://rawgit.com/caldwell/renderjson/master/renderjson.js\"], function() {\n",
       "          renderjson.set_show_to_level(1)\n",
       "          document.getElementById('c400de8e-8bcd-45c1-92b4-0b16f9586027').appendChild(renderjson({\"orders\": [{\"id\": \"aRRF3y4pvBOPJONMd9rWPdMIuh4F\", \"location_id\": \"LCN0KMDE4Y5WR\", \"line_items\": [{\"uid\": \"zYQy9JtDsd2HzoIxpMDa\", \"catalog_object_id\": \"IRC3NJWX5QBVIW7U736JPRCC\", \"quantity\": \"1\", \"name\": \"Hat\", \"variation_name\": \"Blu hat\", \"base_price_money\": {\"amount\": 1000, \"currency\": \"USD\"}, \"gross_sales_money\": {\"amount\": 1000, \"currency\": \"USD\"}, \"total_tax_money\": {\"amount\": 0, \"currency\": \"USD\"}, \"total_discount_money\": {\"amount\": 0, \"currency\": \"USD\"}, \"total_money\": {\"amount\": 1000, \"currency\": \"USD\"}, \"variation_total_price_money\": {\"amount\": 1000, \"currency\": \"USD\"}}], \"created_at\": \"2021-05-27T16:53:46.084Z\", \"updated_at\": \"2021-05-27T16:53:46.084Z\", \"state\": \"OPEN\", \"version\": 1, \"total_tax_money\": {\"amount\": 0, \"currency\": \"USD\"}, \"total_discount_money\": {\"amount\": 0, \"currency\": \"USD\"}, \"total_tip_money\": {\"amount\": 0, \"currency\": \"USD\"}, \"total_money\": {\"amount\": 1000, \"currency\": \"USD\"}, \"total_service_charge_money\": {\"amount\": 0, \"currency\": \"USD\"}, \"net_amounts\": {\"total_money\": {\"amount\": 1000, \"currency\": \"USD\"}, \"tax_money\": {\"amount\": 0, \"currency\": \"USD\"}, \"discount_money\": {\"amount\": 0, \"currency\": \"USD\"}, \"tip_money\": {\"amount\": 0, \"currency\": \"USD\"}, \"service_charge_money\": {\"amount\": 0, \"currency\": \"USD\"}}, \"source\": {\"name\": \"Sandbox for sq0idp-GR3pOcojbOkjVWWHR5YCyA\"}}, {\"id\": \"UIoEWFZT8ppoU0iLV1wrYmqNhe4F\", \"location_id\": \"LCN0KMDE4Y5WR\", \"line_items\": [{\"uid\": \"bNMc8qUOMro9GTkXX7hbPB\", \"catalog_object_id\": \"IRC3NJWX5QBVIW7U736JPRCC\", \"quantity\": \"1\", \"name\": \"Hat\", \"variation_name\": \"Blu hat\", \"base_price_money\": {\"amount\": 1000, \"currency\": \"USD\"}, \"gross_sales_money\": {\"amount\": 1000, \"currency\": \"USD\"}, \"total_tax_money\": {\"amount\": 0, \"currency\": \"USD\"}, \"total_discount_money\": {\"amount\": 0, \"currency\": \"USD\"}, \"total_money\": {\"amount\": 1000, \"currency\": \"USD\"}, \"variation_total_price_money\": {\"amount\": 1000, \"currency\": \"USD\"}}], \"created_at\": \"2021-05-27T16:51:49.551Z\", \"updated_at\": \"2021-05-27T16:51:49.551Z\", \"state\": \"OPEN\", \"version\": 1, \"total_tax_money\": {\"amount\": 0, \"currency\": \"USD\"}, \"total_discount_money\": {\"amount\": 0, \"currency\": \"USD\"}, \"total_tip_money\": {\"amount\": 0, \"currency\": \"USD\"}, \"total_money\": {\"amount\": 1000, \"currency\": \"USD\"}, \"total_service_charge_money\": {\"amount\": 0, \"currency\": \"USD\"}, \"net_amounts\": {\"total_money\": {\"amount\": 1000, \"currency\": \"USD\"}, \"tax_money\": {\"amount\": 0, \"currency\": \"USD\"}, \"discount_money\": {\"amount\": 0, \"currency\": \"USD\"}, \"tip_money\": {\"amount\": 0, \"currency\": \"USD\"}, \"service_charge_money\": {\"amount\": 0, \"currency\": \"USD\"}}, \"source\": {\"name\": \"Sandbox for sq0idp-GR3pOcojbOkjVWWHR5YCyA\"}}, {\"id\": \"wyUpf8ZsNEDUzpkWEh1a0D6WRd4F\", \"location_id\": \"LCN0KMDE4Y5WR\", \"line_items\": [{\"uid\": \"QO7vVK4HEdkX0iMdJ579rD\", \"catalog_object_id\": \"IRC3NJWX5QBVIW7U736JPRCC\", \"quantity\": \"1\", \"name\": \"Hat\", \"variation_name\": \"Blu hat\", \"base_price_money\": {\"amount\": 1000, \"currency\": \"USD\"}, \"gross_sales_money\": {\"amount\": 1000, \"currency\": \"USD\"}, \"total_tax_money\": {\"amount\": 0, \"currency\": \"USD\"}, \"total_discount_money\": {\"amount\": 0, \"currency\": \"USD\"}, \"total_money\": {\"amount\": 1000, \"currency\": \"USD\"}, \"variation_total_price_money\": {\"amount\": 1000, \"currency\": \"USD\"}}], \"created_at\": \"2021-05-27T16:49:38.826Z\", \"updated_at\": \"2021-05-27T16:49:38.826Z\", \"state\": \"OPEN\", \"version\": 1, \"total_tax_money\": {\"amount\": 0, \"currency\": \"USD\"}, \"total_discount_money\": {\"amount\": 0, \"currency\": \"USD\"}, \"total_tip_money\": {\"amount\": 0, \"currency\": \"USD\"}, \"total_money\": {\"amount\": 1000, \"currency\": \"USD\"}, \"total_service_charge_money\": {\"amount\": 0, \"currency\": \"USD\"}, \"net_amounts\": {\"total_money\": {\"amount\": 1000, \"currency\": \"USD\"}, \"tax_money\": {\"amount\": 0, \"currency\": \"USD\"}, \"discount_money\": {\"amount\": 0, \"currency\": \"USD\"}, \"tip_money\": {\"amount\": 0, \"currency\": \"USD\"}, \"service_charge_money\": {\"amount\": 0, \"currency\": \"USD\"}}, \"source\": {\"name\": \"Sandbox for sq0idp-GR3pOcojbOkjVWWHR5YCyA\"}}, {\"id\": \"wa4JneF4iJGE8XhoNjNF81ceSb4F\", \"location_id\": \"LCN0KMDE4Y5WR\", \"line_items\": [{\"uid\": \"B8027R3KzrZ1ZXxnZM1w2B\", \"catalog_object_id\": \"IRC3NJWX5QBVIW7U736JPRCC\", \"quantity\": \"1\", \"name\": \"Hat\", \"variation_name\": \"Blu hat\", \"base_price_money\": {\"amount\": 1000, \"currency\": \"USD\"}, \"gross_sales_money\": {\"amount\": 1000, \"currency\": \"USD\"}, \"total_tax_money\": {\"amount\": 0, \"currency\": \"USD\"}, \"total_discount_money\": {\"amount\": 0, \"currency\": \"USD\"}, \"total_money\": {\"amount\": 1000, \"currency\": \"USD\"}, \"variation_total_price_money\": {\"amount\": 1000, \"currency\": \"USD\"}}], \"created_at\": \"2021-05-27T16:46:05.532Z\", \"updated_at\": \"2021-05-27T16:46:05.532Z\", \"state\": \"OPEN\", \"version\": 1, \"total_tax_money\": {\"amount\": 0, \"currency\": \"USD\"}, \"total_discount_money\": {\"amount\": 0, \"currency\": \"USD\"}, \"total_tip_money\": {\"amount\": 0, \"currency\": \"USD\"}, \"total_money\": {\"amount\": 1000, \"currency\": \"USD\"}, \"total_service_charge_money\": {\"amount\": 0, \"currency\": \"USD\"}, \"net_amounts\": {\"total_money\": {\"amount\": 1000, \"currency\": \"USD\"}, \"tax_money\": {\"amount\": 0, \"currency\": \"USD\"}, \"discount_money\": {\"amount\": 0, \"currency\": \"USD\"}, \"tip_money\": {\"amount\": 0, \"currency\": \"USD\"}, \"service_charge_money\": {\"amount\": 0, \"currency\": \"USD\"}}, \"source\": {\"name\": \"Sandbox for sq0idp-GR3pOcojbOkjVWWHR5YCyA\"}}, {\"id\": \"0G9jgu3RlFz1NRz4Cv0H6o36jg4F\", \"location_id\": \"LCN0KMDE4Y5WR\", \"line_items\": [{\"uid\": \"IRC3NJWX5QBVIW7U736JPRCC\", \"quantity\": \"1\", \"name\": \"Blu hat\", \"base_price_money\": {\"amount\": 500, \"currency\": \"USD\"}, \"gross_sales_money\": {\"amount\": 500, \"currency\": \"USD\"}, \"total_tax_money\": {\"amount\": 0, \"currency\": \"USD\"}, \"total_discount_money\": {\"amount\": 0, \"currency\": \"USD\"}, \"total_money\": {\"amount\": 500, \"currency\": \"USD\"}, \"variation_total_price_money\": {\"amount\": 500, \"currency\": \"USD\"}}], \"created_at\": \"2021-05-27T16:43:50.039Z\", \"updated_at\": \"2021-05-27T16:43:50.039Z\", \"state\": \"OPEN\", \"version\": 1, \"total_tax_money\": {\"amount\": 0, \"currency\": \"USD\"}, \"total_discount_money\": {\"amount\": 0, \"currency\": \"USD\"}, \"total_tip_money\": {\"amount\": 0, \"currency\": \"USD\"}, \"total_money\": {\"amount\": 500, \"currency\": \"USD\"}, \"total_service_charge_money\": {\"amount\": 0, \"currency\": \"USD\"}, \"net_amounts\": {\"total_money\": {\"amount\": 500, \"currency\": \"USD\"}, \"tax_money\": {\"amount\": 0, \"currency\": \"USD\"}, \"discount_money\": {\"amount\": 0, \"currency\": \"USD\"}, \"tip_money\": {\"amount\": 0, \"currency\": \"USD\"}, \"service_charge_money\": {\"amount\": 0, \"currency\": \"USD\"}}, \"source\": {\"name\": \"Sandbox for sq0idp-GR3pOcojbOkjVWWHR5YCyA\"}}, {\"id\": \"4oP6zUYcqu86NS8Jxio7CZeZEi4F\", \"location_id\": \"LCN0KMDE4Y5WR\", \"line_items\": [{\"uid\": \"IRC3NJWX5QBVIW7U736JPRCC\", \"quantity\": \"1\", \"name\": \"Blu hat\", \"base_price_money\": {\"amount\": 500, \"currency\": \"USD\"}, \"gross_sales_money\": {\"amount\": 500, \"currency\": \"USD\"}, \"total_tax_money\": {\"amount\": 0, \"currency\": \"USD\"}, \"total_discount_money\": {\"amount\": 0, \"currency\": \"USD\"}, \"total_money\": {\"amount\": 500, \"currency\": \"USD\"}, \"variation_total_price_money\": {\"amount\": 500, \"currency\": \"USD\"}}], \"created_at\": \"2021-05-27T16:25:20.159Z\", \"updated_at\": \"2021-05-27T16:25:20.159Z\", \"state\": \"OPEN\", \"version\": 1, \"total_tax_money\": {\"amount\": 0, \"currency\": \"USD\"}, \"total_discount_money\": {\"amount\": 0, \"currency\": \"USD\"}, \"total_tip_money\": {\"amount\": 0, \"currency\": \"USD\"}, \"total_money\": {\"amount\": 500, \"currency\": \"USD\"}, \"total_service_charge_money\": {\"amount\": 0, \"currency\": \"USD\"}, \"net_amounts\": {\"total_money\": {\"amount\": 500, \"currency\": \"USD\"}, \"tax_money\": {\"amount\": 0, \"currency\": \"USD\"}, \"discount_money\": {\"amount\": 0, \"currency\": \"USD\"}, \"tip_money\": {\"amount\": 0, \"currency\": \"USD\"}, \"service_charge_money\": {\"amount\": 0, \"currency\": \"USD\"}}, \"source\": {\"name\": \"Sandbox for sq0idp-GR3pOcojbOkjVWWHR5YCyA\"}}, {\"id\": \"OFeXQQggbWYFCtxKJ5SsXPXh1d4F\", \"location_id\": \"LCN0KMDE4Y5WR\", \"line_items\": [{\"uid\": \"small_coffee_uid\", \"quantity\": \"1\", \"name\": \"Small Coffee\", \"base_price_money\": {\"amount\": 500, \"currency\": \"USD\"}, \"gross_sales_money\": {\"amount\": 500, \"currency\": \"USD\"}, \"total_tax_money\": {\"amount\": 0, \"currency\": \"USD\"}, \"total_discount_money\": {\"amount\": 0, \"currency\": \"USD\"}, \"total_money\": {\"amount\": 500, \"currency\": \"USD\"}, \"variation_total_price_money\": {\"amount\": 500, \"currency\": \"USD\"}}], \"created_at\": \"2021-05-27T15:59:05.111Z\", \"updated_at\": \"2021-05-27T15:59:05.111Z\", \"state\": \"OPEN\", \"version\": 1, \"total_tax_money\": {\"amount\": 0, \"currency\": \"USD\"}, \"total_discount_money\": {\"amount\": 0, \"currency\": \"USD\"}, \"total_tip_money\": {\"amount\": 0, \"currency\": \"USD\"}, \"total_money\": {\"amount\": 500, \"currency\": \"USD\"}, \"total_service_charge_money\": {\"amount\": 0, \"currency\": \"USD\"}, \"net_amounts\": {\"total_money\": {\"amount\": 500, \"currency\": \"USD\"}, \"tax_money\": {\"amount\": 0, \"currency\": \"USD\"}, \"discount_money\": {\"amount\": 0, \"currency\": \"USD\"}, \"tip_money\": {\"amount\": 0, \"currency\": \"USD\"}, \"service_charge_money\": {\"amount\": 0, \"currency\": \"USD\"}}, \"source\": {\"name\": \"Sandbox for sq0idp-GR3pOcojbOkjVWWHR5YCyA\"}}, {\"id\": \"UORltPspQJLi7gizuvxuHxyIWg4F\", \"location_id\": \"LCN0KMDE4Y5WR\", \"line_items\": [{\"uid\": \"small_coffee_uid\", \"quantity\": \"1\", \"name\": \"Small Coffee\", \"base_price_money\": {\"amount\": 500, \"currency\": \"USD\"}, \"gross_sales_money\": {\"amount\": 500, \"currency\": \"USD\"}, \"total_tax_money\": {\"amount\": 0, \"currency\": \"USD\"}, \"total_discount_money\": {\"amount\": 100, \"currency\": \"USD\"}, \"total_money\": {\"amount\": 400, \"currency\": \"USD\"}, \"variation_total_price_money\": {\"amount\": 500, \"currency\": \"USD\"}, \"applied_discounts\": [{\"uid\": \"dollar_off_coffee_uid\", \"discount_uid\": \"dollar_discount_uid\", \"applied_money\": {\"amount\": 100, \"currency\": \"USD\"}}]}], \"discounts\": [{\"uid\": \"dollar_discount_uid\", \"name\": \"Sale - $1.00 off\", \"amount_money\": {\"amount\": 100, \"currency\": \"USD\"}, \"applied_money\": {\"amount\": 100, \"currency\": \"USD\"}, \"type\": \"FIXED_AMOUNT\", \"scope\": \"LINE_ITEM\"}], \"created_at\": \"2021-05-27T15:58:03.686Z\", \"updated_at\": \"2021-05-27T15:58:03.686Z\", \"state\": \"OPEN\", \"version\": 1, \"total_tax_money\": {\"amount\": 0, \"currency\": \"USD\"}, \"total_discount_money\": {\"amount\": 100, \"currency\": \"USD\"}, \"total_tip_money\": {\"amount\": 0, \"currency\": \"USD\"}, \"total_money\": {\"amount\": 400, \"currency\": \"USD\"}, \"total_service_charge_money\": {\"amount\": 0, \"currency\": \"USD\"}, \"net_amounts\": {\"total_money\": {\"amount\": 400, \"currency\": \"USD\"}, \"tax_money\": {\"amount\": 0, \"currency\": \"USD\"}, \"discount_money\": {\"amount\": 100, \"currency\": \"USD\"}, \"tip_money\": {\"amount\": 0, \"currency\": \"USD\"}, \"service_charge_money\": {\"amount\": 0, \"currency\": \"USD\"}}, \"source\": {\"name\": \"Sandbox for sq0idp-GR3pOcojbOkjVWWHR5YCyA\"}}, {\"id\": \"EEWQ7EUIbsDepfZfrqzhotn4Dg4F\", \"location_id\": \"LCN0KMDE4Y5WR\", \"created_at\": \"2021-05-27T15:51:02.825Z\", \"updated_at\": \"2021-05-27T15:51:02.825Z\", \"state\": \"OPEN\", \"version\": 1, \"total_tax_money\": {\"amount\": 0, \"currency\": \"USD\"}, \"total_discount_money\": {\"amount\": 0, \"currency\": \"USD\"}, \"total_tip_money\": {\"amount\": 0, \"currency\": \"USD\"}, \"total_money\": {\"amount\": 0, \"currency\": \"USD\"}, \"total_service_charge_money\": {\"amount\": 0, \"currency\": \"USD\"}, \"net_amounts\": {\"total_money\": {\"amount\": 0, \"currency\": \"USD\"}, \"tax_money\": {\"amount\": 0, \"currency\": \"USD\"}, \"discount_money\": {\"amount\": 0, \"currency\": \"USD\"}, \"tip_money\": {\"amount\": 0, \"currency\": \"USD\"}, \"service_charge_money\": {\"amount\": 0, \"currency\": \"USD\"}}, \"source\": {\"name\": \"Sandbox for sq0idp-GR3pOcojbOkjVWWHR5YCyA\"}}]}))\n",
       "        });</script>\n",
       "        "
      ],
      "text/plain": [
       "<IPython.core.display.HTML object>"
      ]
     },
     "metadata": {},
     "output_type": "display_data"
    }
   ],
   "source": [
    "# module: search order (based on location_id)\n",
    "result = client.orders.search_orders(\n",
    "  body = {\n",
    "    \"location_ids\": [\n",
    "      \"LCN0KMDE4Y5WR\"\n",
    "    ]\n",
    "  }\n",
    ")\n",
    "\n",
    "if result.is_success():\n",
    "  RenderJSON(json.loads(result.text))\n",
    "elif result.is_error():\n",
    "  print(result.errors)"
   ]
  },
  {
   "cell_type": "code",
   "execution_count": 36,
   "id": "8f466eb0",
   "metadata": {},
   "outputs": [
    {
     "data": {
      "text/html": [
       "<div id=\"1a66bb83-ebed-4280-8ea6-da8d34758579\" style=\"height: auto; width:100%;\"></div>"
      ],
      "text/plain": [
       "<IPython.core.display.HTML object>"
      ]
     },
     "metadata": {},
     "output_type": "display_data"
    },
    {
     "data": {
      "text/html": [
       "<script>\n",
       "        require([\"https://rawgit.com/caldwell/renderjson/master/renderjson.js\"], function() {\n",
       "          renderjson.set_show_to_level(1)\n",
       "          document.getElementById('1a66bb83-ebed-4280-8ea6-da8d34758579').appendChild(renderjson({\"order\": {\"id\": \"o2QhPTMErWXvoxvwCfvDNuM8Nh4F\", \"location_id\": \"LCN0KMDE4Y5WR\", \"line_items\": [{\"uid\": \"WEuHkuawNH82ZBOYE5SfZ\", \"catalog_object_id\": \"IRC3NJWX5QBVIW7U736JPRCC\", \"quantity\": \"1\", \"name\": \"Hat\", \"variation_name\": \"Blu hat\", \"base_price_money\": {\"amount\": 1000, \"currency\": \"USD\"}, \"gross_sales_money\": {\"amount\": 1000, \"currency\": \"USD\"}, \"total_tax_money\": {\"amount\": 0, \"currency\": \"USD\"}, \"total_discount_money\": {\"amount\": 0, \"currency\": \"USD\"}, \"total_money\": {\"amount\": 1000, \"currency\": \"USD\"}, \"variation_total_price_money\": {\"amount\": 1000, \"currency\": \"USD\"}}, {\"uid\": \"xFx7Kqm2m6BgaJ5qnLlQU\", \"catalog_object_id\": \"KYZZN57QA5JHS6CWZBMWMEE6\", \"quantity\": \"2\", \"name\": \"Shirt\", \"variation_name\": \"Small red shirt\", \"base_price_money\": {\"amount\": 2500, \"currency\": \"USD\"}, \"gross_sales_money\": {\"amount\": 5000, \"currency\": \"USD\"}, \"total_tax_money\": {\"amount\": 0, \"currency\": \"USD\"}, \"total_discount_money\": {\"amount\": 0, \"currency\": \"USD\"}, \"total_money\": {\"amount\": 5000, \"currency\": \"USD\"}, \"variation_total_price_money\": {\"amount\": 5000, \"currency\": \"USD\"}}], \"created_at\": \"2021-05-27T16:59:29.609Z\", \"updated_at\": \"2021-05-27T17:31:49.000Z\", \"state\": \"COMPLETED\", \"version\": 4, \"total_tax_money\": {\"amount\": 0, \"currency\": \"USD\"}, \"total_discount_money\": {\"amount\": 0, \"currency\": \"USD\"}, \"total_tip_money\": {\"amount\": 0, \"currency\": \"USD\"}, \"total_money\": {\"amount\": 6000, \"currency\": \"USD\"}, \"closed_at\": \"2021-05-27T17:31:46.881Z\", \"tenders\": [{\"id\": \"Ni0fotwm56cpIcV8kFMdqA3y8N6YY\", \"location_id\": \"LCN0KMDE4Y5WR\", \"transaction_id\": \"o2QhPTMErWXvoxvwCfvDNuM8Nh4F\", \"created_at\": \"2021-05-27T17:31:46Z\", \"amount_money\": {\"amount\": 6000, \"currency\": \"USD\"}, \"type\": \"CARD\", \"card_details\": {\"status\": \"CAPTURED\", \"card\": {\"card_brand\": \"VISA\", \"last_4\": \"5858\", \"fingerprint\": \"sq-1-8GfB5DbWfI0TLLeFutEnasRHjltOm6-xCguYHuKmVaM0zfa7lqO7BQUotqmSZfbYUA\"}, \"entry_method\": \"KEYED\"}, \"payment_id\": \"Ni0fotwm56cpIcV8kFMdqA3y8N6YY\"}], \"total_service_charge_money\": {\"amount\": 0, \"currency\": \"USD\"}, \"net_amounts\": {\"total_money\": {\"amount\": 6000, \"currency\": \"USD\"}, \"tax_money\": {\"amount\": 0, \"currency\": \"USD\"}, \"discount_money\": {\"amount\": 0, \"currency\": \"USD\"}, \"tip_money\": {\"amount\": 0, \"currency\": \"USD\"}, \"service_charge_money\": {\"amount\": 0, \"currency\": \"USD\"}}, \"source\": {\"name\": \"Sandbox for sq0idp-GR3pOcojbOkjVWWHR5YCyA\"}}}))\n",
       "        });</script>\n",
       "        "
      ],
      "text/plain": [
       "<IPython.core.display.HTML object>"
      ]
     },
     "metadata": {},
     "output_type": "display_data"
    }
   ],
   "source": [
    "# retrieve by order_id\n",
    "# o2QhPTMErWXvoxvwCfvDNuM8Nh4F\n",
    "# note: payment_id (appear as \"tenders\".\"id\": Ni0fotwm56cpIcV8kFMdqA3y8N6YY) is accessible if state: \"COMPLETED\"\n",
    "result = client.orders.retrieve_order(\n",
    "  order_id = \"o2QhPTMErWXvoxvwCfvDNuM8Nh4F\"\n",
    ")\n",
    "\n",
    "if result.is_success():\n",
    "  RenderJSON(json.loads(result.text))\n",
    "elif result.is_error():\n",
    "  print(result.errors)"
   ]
  },
  {
   "cell_type": "code",
   "execution_count": null,
   "id": "b869db26",
   "metadata": {},
   "outputs": [],
   "source": []
  },
  {
   "cell_type": "code",
   "execution_count": 37,
   "id": "d6c927b4",
   "metadata": {},
   "outputs": [
    {
     "name": "stdout",
     "output_type": "stream",
     "text": [
      "[{'category': 'INVALID_REQUEST_ERROR', 'code': 'BAD_REQUEST', 'detail': 'The order is already paid.'}]\n"
     ]
    }
   ],
   "source": [
    "# module pay order in pyments.create_payment entry\n",
    "# prerequiste: order_id is known (along with the total amount, \n",
    "# assocaited with the \"order\".get(\"total_money\").get(\"amount\") field)\n",
    "# note: \n",
    "# - only works on order that the state is \"OPEN\"\n",
    "# - the payment amount needs to match order amount\n",
    "# - the Orders session in dashboard seems still not working after completed. \n",
    "#   my guess is Order Session only deal with order with tags like Delivery, pickup, Shipment.\n",
    "# - The good news is in Transaction session in dashboard it appear a new transaction. \n",
    "#   and we can export orders and transactions in spread-sheet format (In sandbox and production)\n",
    "idempotency_key = str(uuid.uuid4())\n",
    "\n",
    "order_id = \"o2QhPTMErWXvoxvwCfvDNuM8Nh4F\"\n",
    "result = client.payments.create_payment(\n",
    "  body = {\n",
    "    \"source_id\": \"cnon:card-nonce-ok\",\n",
    "    \"idempotency_key\": idempotency_key,\n",
    "    \"amount_money\": {\n",
    "      \"amount\": 6000,\n",
    "      \"currency\": \"USD\"\n",
    "    },\n",
    "    \"order_id\": order_id,\n",
    "#     \"reference_id\": \"123456\"\n",
    "  }\n",
    ")\n",
    "\n",
    "if result.is_success():\n",
    "  RenderJSON(json.loads(result.text))\n",
    "elif result.is_error():\n",
    "  print(result.errors)"
   ]
  },
  {
   "cell_type": "code",
   "execution_count": 95,
   "id": "4b6455e1",
   "metadata": {},
   "outputs": [
    {
     "name": "stdout",
     "output_type": "stream",
     "text": [
      "create_order SUCCEED\n",
      "create_payment SUCCEED\n"
     ]
    }
   ],
   "source": [
    "###############\n",
    "# module: wrapper order and pay in one go\n",
    "\n",
    "\n",
    "def create_order_then_pay_wrapper(line_items_list, location_id, customer_id=None):\n",
    "#     create_order\n",
    "    result_create_order = client.orders.create_order(\n",
    "      body = {\n",
    "        \"order\": {\n",
    "          \"location_id\": location_id,\n",
    "            \"customer_id\": customer_id,\n",
    "          \"state\": \"OPEN\",\n",
    "          \"line_items\": line_items_list\n",
    "        },\n",
    "        \"idempotency_key\": str(uuid.uuid4())\n",
    "      }\n",
    "    )\n",
    "# if create_order succeed then create_payment (using default source_id: cnon:card-nonce-ok)\n",
    "    if result_create_order.is_success():    \n",
    "        order_id = result_create_order.body.get(\"order\").get(\"id\")\n",
    "        amount = result_create_order.body.get(\"order\").get(\"total_money\").get(\"amount\")\n",
    "        print(\"create_order SUCCEED\")\n",
    "    elif result_create_order.is_error():\n",
    "        print(result_create_order.errors)\n",
    "# #  create a automatically created note here, e.g., [2 x hat, 3 x shirt]\n",
    "#     def line_items_trim(line_items):\n",
    "#         return [[item.get(\"catalog_object_id\"), \n",
    "#                            item.get(\"base_price_money\").get(\"amount\"),\n",
    "#                            item.get(\"quantity\"),\n",
    "#                            item.get(\"name\"),\n",
    "#                            item.get(\"variation_name\")] for item in line_items]\n",
    "#     line_items_trim(result_create_order.body.get(\"order\").get(\"line_items\"))\n",
    "#     note_payment = \",\".join([f\"{item_order[2]} x {item_order[4]}\" for item_order in line_items_trim(result_tmp)])\n",
    "# #     note_payment\n",
    "\n",
    "    result_create_payment = client.payments.create_payment(\n",
    "      body = {\n",
    "        \"source_id\": \"cnon:card-nonce-ok\",\n",
    "        \"idempotency_key\": str(uuid.uuid4()),\n",
    "        \"amount_money\": {\n",
    "          \"amount\": amount,\n",
    "          \"currency\": \"USD\"\n",
    "        },\n",
    "        \"order_id\": order_id,\n",
    "#           \"note\": note_payment\n",
    "      }\n",
    "    )\n",
    "\n",
    "    if result_create_payment.is_success():\n",
    "        print(\"create_payment SUCCEED\")\n",
    "    elif result_create_payment.is_error():\n",
    "        print(result_create_payment.errors)\n",
    "    return result_create_order, result_create_payment\n",
    "\n",
    "\n",
    "# test here\n",
    "line_items_list = [\n",
    "        {\n",
    "          \"quantity\": \"10\",\n",
    "          \"catalog_object_id\": \"IRC3NJWX5QBVIW7U736JPRCC\"\n",
    "        },\n",
    "          {\n",
    "          \"quantity\": \"11\",\n",
    "          \"catalog_object_id\": \"KYZZN57QA5JHS6CWZBMWMEE6\"\n",
    "        }\n",
    "      ]\n",
    "location_id = \"LCN0KMDE4Y5WR\"\n",
    "customer_id = \"RAWRMY0ZRWZVKC51JH2JQT2PKW\"\n",
    "\n",
    "result_create_order, result_create_payment = create_order_then_pay_wrapper(line_items_list, location_id, customer_id)\n"
   ]
  },
  {
   "cell_type": "code",
   "execution_count": 93,
   "id": "5b900c7a",
   "metadata": {},
   "outputs": [
    {
     "data": {
      "text/plain": [
       "['3 x Blu hat', '6 x Small red shirt']"
      ]
     },
     "execution_count": 93,
     "metadata": {},
     "output_type": "execute_result"
    }
   ],
   "source": [
    "result_tmp = result_create_order.body.get(\"order\").get(\"line_items\")\n",
    "result_tmp\n",
    "def line_items_trim(line_items):\n",
    "    return [[item.get(\"catalog_object_id\"), \n",
    "                       item.get(\"base_price_money\").get(\"amount\"),\n",
    "                       item.get(\"quantity\"),\n",
    "                       item.get(\"name\"),\n",
    "                       item.get(\"variation_name\")] for item in line_items]\n",
    "line_items_trim(result_create_order.body.get(\"order\").get(\"line_items\"))\n",
    "note_payment = [f\"{item_order[2]} x {item_order[4]}\" for item_order in line_items_trim(result_tmp)]\n",
    "note_payment"
   ]
  },
  {
   "cell_type": "code",
   "execution_count": 85,
   "id": "9948e5dc",
   "metadata": {},
   "outputs": [
    {
     "data": {
      "text/html": [
       "<div id=\"5a84e726-62d3-4f9e-b760-74ea1d5fea58\" style=\"height: auto; width:100%;\"></div>"
      ],
      "text/plain": [
       "<IPython.core.display.HTML object>"
      ]
     },
     "metadata": {},
     "output_type": "display_data"
    },
    {
     "data": {
      "text/html": [
       "<script>\n",
       "        require([\"https://rawgit.com/caldwell/renderjson/master/renderjson.js\"], function() {\n",
       "          renderjson.set_show_to_level(1)\n",
       "          document.getElementById('5a84e726-62d3-4f9e-b760-74ea1d5fea58').appendChild(renderjson({\"order\": {\"created_at\": \"2021-05-28T05:53:11.334Z\", \"customer_id\": \"RAWRMY0ZRWZVKC51JH2JQT2PKW\", \"id\": \"W5SDFdTFSEPQuPATz4mLwkHEta4F\", \"line_items\": [{\"base_price_money\": {\"amount\": 1000, \"currency\": \"USD\"}, \"catalog_object_id\": \"IRC3NJWX5QBVIW7U736JPRCC\", \"gross_sales_money\": {\"amount\": 3000, \"currency\": \"USD\"}, \"name\": \"Hat\", \"quantity\": \"3\", \"total_discount_money\": {\"amount\": 0, \"currency\": \"USD\"}, \"total_money\": {\"amount\": 3000, \"currency\": \"USD\"}, \"total_tax_money\": {\"amount\": 0, \"currency\": \"USD\"}, \"uid\": \"SulJXWsZwrvc5iTUEVRqgB\", \"variation_name\": \"Blu hat\", \"variation_total_price_money\": {\"amount\": 3000, \"currency\": \"USD\"}}, {\"base_price_money\": {\"amount\": 2500, \"currency\": \"USD\"}, \"catalog_object_id\": \"KYZZN57QA5JHS6CWZBMWMEE6\", \"gross_sales_money\": {\"amount\": 15000, \"currency\": \"USD\"}, \"name\": \"Shirt\", \"quantity\": \"6\", \"total_discount_money\": {\"amount\": 0, \"currency\": \"USD\"}, \"total_money\": {\"amount\": 15000, \"currency\": \"USD\"}, \"total_tax_money\": {\"amount\": 0, \"currency\": \"USD\"}, \"uid\": \"YNBHSYqozL1Y5A8DtxdkNC\", \"variation_name\": \"Small red shirt\", \"variation_total_price_money\": {\"amount\": 15000, \"currency\": \"USD\"}}], \"location_id\": \"LCN0KMDE4Y5WR\", \"net_amounts\": {\"discount_money\": {\"amount\": 0, \"currency\": \"USD\"}, \"service_charge_money\": {\"amount\": 0, \"currency\": \"USD\"}, \"tax_money\": {\"amount\": 0, \"currency\": \"USD\"}, \"tip_money\": {\"amount\": 0, \"currency\": \"USD\"}, \"total_money\": {\"amount\": 18000, \"currency\": \"USD\"}}, \"source\": {\"name\": \"Sandbox for sq0idp-GR3pOcojbOkjVWWHR5YCyA\"}, \"state\": \"OPEN\", \"total_discount_money\": {\"amount\": 0, \"currency\": \"USD\"}, \"total_money\": {\"amount\": 18000, \"currency\": \"USD\"}, \"total_service_charge_money\": {\"amount\": 0, \"currency\": \"USD\"}, \"total_tax_money\": {\"amount\": 0, \"currency\": \"USD\"}, \"total_tip_money\": {\"amount\": 0, \"currency\": \"USD\"}, \"updated_at\": \"2021-05-28T05:53:11.334Z\", \"version\": 1}}))\n",
       "        });</script>\n",
       "        "
      ],
      "text/plain": [
       "<IPython.core.display.HTML object>"
      ]
     },
     "metadata": {},
     "output_type": "display_data"
    },
    {
     "data": {
      "text/html": [
       "<div id=\"4a372bb7-b028-4038-9028-97211bdf901c\" style=\"height: auto; width:100%;\"></div>"
      ],
      "text/plain": [
       "<IPython.core.display.HTML object>"
      ]
     },
     "metadata": {},
     "output_type": "display_data"
    },
    {
     "data": {
      "text/html": [
       "<script>\n",
       "        require([\"https://rawgit.com/caldwell/renderjson/master/renderjson.js\"], function() {\n",
       "          renderjson.set_show_to_level(1)\n",
       "          document.getElementById('4a372bb7-b028-4038-9028-97211bdf901c').appendChild(renderjson({\"order\": {\"closed_at\": \"2021-05-28T05:53:11.769Z\", \"created_at\": \"2021-05-28T05:53:11.334Z\", \"customer_id\": \"RAWRMY0ZRWZVKC51JH2JQT2PKW\", \"id\": \"W5SDFdTFSEPQuPATz4mLwkHEta4F\", \"line_items\": [{\"base_price_money\": {\"amount\": 1000, \"currency\": \"USD\"}, \"catalog_object_id\": \"IRC3NJWX5QBVIW7U736JPRCC\", \"gross_sales_money\": {\"amount\": 3000, \"currency\": \"USD\"}, \"name\": \"Hat\", \"quantity\": \"3\", \"total_discount_money\": {\"amount\": 0, \"currency\": \"USD\"}, \"total_money\": {\"amount\": 3000, \"currency\": \"USD\"}, \"total_tax_money\": {\"amount\": 0, \"currency\": \"USD\"}, \"uid\": \"SulJXWsZwrvc5iTUEVRqgB\", \"variation_name\": \"Blu hat\", \"variation_total_price_money\": {\"amount\": 3000, \"currency\": \"USD\"}}, {\"base_price_money\": {\"amount\": 2500, \"currency\": \"USD\"}, \"catalog_object_id\": \"KYZZN57QA5JHS6CWZBMWMEE6\", \"gross_sales_money\": {\"amount\": 15000, \"currency\": \"USD\"}, \"name\": \"Shirt\", \"quantity\": \"6\", \"total_discount_money\": {\"amount\": 0, \"currency\": \"USD\"}, \"total_money\": {\"amount\": 15000, \"currency\": \"USD\"}, \"total_tax_money\": {\"amount\": 0, \"currency\": \"USD\"}, \"uid\": \"YNBHSYqozL1Y5A8DtxdkNC\", \"variation_name\": \"Small red shirt\", \"variation_total_price_money\": {\"amount\": 15000, \"currency\": \"USD\"}}], \"location_id\": \"LCN0KMDE4Y5WR\", \"net_amounts\": {\"discount_money\": {\"amount\": 0, \"currency\": \"USD\"}, \"service_charge_money\": {\"amount\": 0, \"currency\": \"USD\"}, \"tax_money\": {\"amount\": 0, \"currency\": \"USD\"}, \"tip_money\": {\"amount\": 0, \"currency\": \"USD\"}, \"total_money\": {\"amount\": 18000, \"currency\": \"USD\"}}, \"source\": {\"name\": \"Sandbox for sq0idp-GR3pOcojbOkjVWWHR5YCyA\"}, \"state\": \"COMPLETED\", \"tenders\": [{\"amount_money\": {\"amount\": 18000, \"currency\": \"USD\"}, \"card_details\": {\"card\": {\"card_brand\": \"MASTERCARD\", \"fingerprint\": \"sq-1-7fcVk-Ggytsmj1IYgAMoKocTW6FzLYk8caCVduYXiBPyeuXdGSYctKvVU0DqO-zoAw\", \"last_4\": \"9029\"}, \"entry_method\": \"KEYED\", \"status\": \"CAPTURED\"}, \"created_at\": \"2021-05-28T05:53:11Z\", \"id\": \"HLW3H2q1I5glQXgchhXDhAc1A95YY\", \"location_id\": \"LCN0KMDE4Y5WR\", \"payment_id\": \"HLW3H2q1I5glQXgchhXDhAc1A95YY\", \"transaction_id\": \"W5SDFdTFSEPQuPATz4mLwkHEta4F\", \"type\": \"CARD\"}], \"total_discount_money\": {\"amount\": 0, \"currency\": \"USD\"}, \"total_money\": {\"amount\": 18000, \"currency\": \"USD\"}, \"total_service_charge_money\": {\"amount\": 0, \"currency\": \"USD\"}, \"total_tax_money\": {\"amount\": 0, \"currency\": \"USD\"}, \"total_tip_money\": {\"amount\": 0, \"currency\": \"USD\"}, \"updated_at\": \"2021-05-28T05:53:13.000Z\", \"version\": 4}}))\n",
       "        });</script>\n",
       "        "
      ],
      "text/plain": [
       "<IPython.core.display.HTML object>"
      ]
     },
     "metadata": {},
     "output_type": "display_data"
    },
    {
     "data": {
      "text/html": [
       "<div id=\"4a372bb7-b028-4038-9028-97211bdf901c\" style=\"height: auto; width:100%;\"></div>"
      ],
      "text/plain": [
       "<IPython.core.display.HTML object>"
      ]
     },
     "metadata": {},
     "output_type": "display_data"
    },
    {
     "data": {
      "text/html": [
       "<script>\n",
       "        require([\"https://rawgit.com/caldwell/renderjson/master/renderjson.js\"], function() {\n",
       "          renderjson.set_show_to_level(1)\n",
       "          document.getElementById('4a372bb7-b028-4038-9028-97211bdf901c').appendChild(renderjson({\"order\": {\"closed_at\": \"2021-05-28T05:53:11.769Z\", \"created_at\": \"2021-05-28T05:53:11.334Z\", \"customer_id\": \"RAWRMY0ZRWZVKC51JH2JQT2PKW\", \"id\": \"W5SDFdTFSEPQuPATz4mLwkHEta4F\", \"line_items\": [{\"base_price_money\": {\"amount\": 1000, \"currency\": \"USD\"}, \"catalog_object_id\": \"IRC3NJWX5QBVIW7U736JPRCC\", \"gross_sales_money\": {\"amount\": 3000, \"currency\": \"USD\"}, \"name\": \"Hat\", \"quantity\": \"3\", \"total_discount_money\": {\"amount\": 0, \"currency\": \"USD\"}, \"total_money\": {\"amount\": 3000, \"currency\": \"USD\"}, \"total_tax_money\": {\"amount\": 0, \"currency\": \"USD\"}, \"uid\": \"SulJXWsZwrvc5iTUEVRqgB\", \"variation_name\": \"Blu hat\", \"variation_total_price_money\": {\"amount\": 3000, \"currency\": \"USD\"}}, {\"base_price_money\": {\"amount\": 2500, \"currency\": \"USD\"}, \"catalog_object_id\": \"KYZZN57QA5JHS6CWZBMWMEE6\", \"gross_sales_money\": {\"amount\": 15000, \"currency\": \"USD\"}, \"name\": \"Shirt\", \"quantity\": \"6\", \"total_discount_money\": {\"amount\": 0, \"currency\": \"USD\"}, \"total_money\": {\"amount\": 15000, \"currency\": \"USD\"}, \"total_tax_money\": {\"amount\": 0, \"currency\": \"USD\"}, \"uid\": \"YNBHSYqozL1Y5A8DtxdkNC\", \"variation_name\": \"Small red shirt\", \"variation_total_price_money\": {\"amount\": 15000, \"currency\": \"USD\"}}], \"location_id\": \"LCN0KMDE4Y5WR\", \"net_amounts\": {\"discount_money\": {\"amount\": 0, \"currency\": \"USD\"}, \"service_charge_money\": {\"amount\": 0, \"currency\": \"USD\"}, \"tax_money\": {\"amount\": 0, \"currency\": \"USD\"}, \"tip_money\": {\"amount\": 0, \"currency\": \"USD\"}, \"total_money\": {\"amount\": 18000, \"currency\": \"USD\"}}, \"source\": {\"name\": \"Sandbox for sq0idp-GR3pOcojbOkjVWWHR5YCyA\"}, \"state\": \"COMPLETED\", \"tenders\": [{\"amount_money\": {\"amount\": 18000, \"currency\": \"USD\"}, \"card_details\": {\"card\": {\"card_brand\": \"MASTERCARD\", \"fingerprint\": \"sq-1-7fcVk-Ggytsmj1IYgAMoKocTW6FzLYk8caCVduYXiBPyeuXdGSYctKvVU0DqO-zoAw\", \"last_4\": \"9029\"}, \"entry_method\": \"KEYED\", \"status\": \"CAPTURED\"}, \"created_at\": \"2021-05-28T05:53:11Z\", \"id\": \"HLW3H2q1I5glQXgchhXDhAc1A95YY\", \"location_id\": \"LCN0KMDE4Y5WR\", \"payment_id\": \"HLW3H2q1I5glQXgchhXDhAc1A95YY\", \"transaction_id\": \"W5SDFdTFSEPQuPATz4mLwkHEta4F\", \"type\": \"CARD\"}], \"total_discount_money\": {\"amount\": 0, \"currency\": \"USD\"}, \"total_money\": {\"amount\": 18000, \"currency\": \"USD\"}, \"total_service_charge_money\": {\"amount\": 0, \"currency\": \"USD\"}, \"total_tax_money\": {\"amount\": 0, \"currency\": \"USD\"}, \"total_tip_money\": {\"amount\": 0, \"currency\": \"USD\"}, \"updated_at\": \"2021-05-28T05:53:13.000Z\", \"version\": 4}}))\n",
       "        });</script>\n",
       "        "
      ],
      "text/plain": [
       "<IPython.core.display.HTML object>"
      ]
     },
     "metadata": {},
     "output_type": "display_data"
    }
   ],
   "source": [
    "RenderJSON(result_create_order.body)\n",
    "\n",
    "RenderJSON((client.orders.retrieve_order(\"W5SDFdTFSEPQuPATz4mLwkHEta4F\")).body)"
   ]
  },
  {
   "cell_type": "code",
   "execution_count": 39,
   "id": "0febdf5d",
   "metadata": {},
   "outputs": [
    {
     "data": {
      "text/html": [
       "<div id=\"4e54d739-f186-4a2e-a92f-81db3e55dcf3\" style=\"height: auto; width:100%;\"></div>"
      ],
      "text/plain": [
       "<IPython.core.display.HTML object>"
      ]
     },
     "metadata": {},
     "output_type": "display_data"
    },
    {
     "data": {
      "text/html": [
       "<script>\n",
       "        require([\"https://rawgit.com/caldwell/renderjson/master/renderjson.js\"], function() {\n",
       "          renderjson.set_show_to_level(1)\n",
       "          document.getElementById('4e54d739-f186-4a2e-a92f-81db3e55dcf3').appendChild(renderjson({\"payment\": {\"id\": \"Ni0fotwm56cpIcV8kFMdqA3y8N6YY\", \"created_at\": \"2021-05-27T17:31:46.646Z\", \"updated_at\": \"2021-05-27T17:31:46.834Z\", \"amount_money\": {\"amount\": 6000, \"currency\": \"USD\"}, \"status\": \"COMPLETED\", \"delay_duration\": \"PT168H\", \"source_type\": \"CARD\", \"card_details\": {\"status\": \"CAPTURED\", \"card\": {\"card_brand\": \"VISA\", \"last_4\": \"5858\", \"exp_month\": 5, \"exp_year\": 2023, \"fingerprint\": \"sq-1-8GfB5DbWfI0TLLeFutEnasRHjltOm6-xCguYHuKmVaM0zfa7lqO7BQUotqmSZfbYUA\", \"card_type\": \"DEBIT\", \"prepaid_type\": \"NOT_PREPAID\", \"bin\": \"453275\"}, \"entry_method\": \"KEYED\", \"cvv_status\": \"CVV_ACCEPTED\", \"avs_status\": \"AVS_ACCEPTED\", \"statement_description\": \"SQ *SQUARE SANDBOX NO2 G\", \"card_payment_timeline\": {\"authorized_at\": \"2021-05-27T17:31:46.754Z\", \"captured_at\": \"2021-05-27T17:31:46.834Z\"}}, \"location_id\": \"LCN0KMDE4Y5WR\", \"order_id\": \"o2QhPTMErWXvoxvwCfvDNuM8Nh4F\", \"risk_evaluation\": {\"created_at\": \"2021-05-27T17:31:46.754Z\", \"risk_level\": \"NORMAL\"}, \"processing_fee\": [{\"effective_at\": \"2021-05-27T19:31:47.000Z\", \"type\": \"INITIAL\", \"amount_money\": {\"amount\": 204, \"currency\": \"USD\"}}], \"total_money\": {\"amount\": 6000, \"currency\": \"USD\"}, \"approved_money\": {\"amount\": 6000, \"currency\": \"USD\"}, \"receipt_number\": \"Ni0f\", \"receipt_url\": \"https://squareupsandbox.com/receipt/preview/Ni0fotwm56cpIcV8kFMdqA3y8N6YY\", \"delay_action\": \"CANCEL\", \"delayed_until\": \"2021-06-03T17:31:46.646Z\", \"version_token\": \"QuzOuzdAKQjajM9EETb3Om4Cdnx11Or1IkPuLHfsO0k6o\"}}))\n",
       "        });</script>\n",
       "        "
      ],
      "text/plain": [
       "<IPython.core.display.HTML object>"
      ]
     },
     "metadata": {},
     "output_type": "display_data"
    }
   ],
   "source": [
    "# how do we know which payments is associated with the order?\n",
    "# module retrive payment\n",
    "# note the order_id can be retrived from get_payment\n",
    "result = client.payments.get_payment(payment_id =\"Ni0fotwm56cpIcV8kFMdqA3y8N6YY\")\n",
    "\n",
    "if result.is_success():\n",
    "  RenderJSON(json.loads(result.text))\n",
    "elif result.is_error():\n",
    "  print(result.errors)"
   ]
  },
  {
   "cell_type": "code",
   "execution_count": 40,
   "id": "c16fac0e",
   "metadata": {},
   "outputs": [
    {
     "name": "stderr",
     "output_type": "stream",
     "text": [
      "<ipython-input-40-aeb7951d9269>:2: DeprecatedWarning: retrieve_transaction is deprecated\n",
      "  result = client.transactions.retrieve_transaction(\n"
     ]
    },
    {
     "data": {
      "text/html": [
       "<div id=\"7358858a-fc8c-4266-ade6-98c055d74dc6\" style=\"height: auto; width:100%;\"></div>"
      ],
      "text/plain": [
       "<IPython.core.display.HTML object>"
      ]
     },
     "metadata": {},
     "output_type": "display_data"
    },
    {
     "data": {
      "text/html": [
       "<script>\n",
       "        require([\"https://rawgit.com/caldwell/renderjson/master/renderjson.js\"], function() {\n",
       "          renderjson.set_show_to_level(1)\n",
       "          document.getElementById('7358858a-fc8c-4266-ade6-98c055d74dc6').appendChild(renderjson({\"transaction\": {\"id\": \"o2QhPTMErWXvoxvwCfvDNuM8Nh4F\", \"location_id\": \"LCN0KMDE4Y5WR\", \"created_at\": \"2021-05-27T17:31:46Z\", \"tenders\": [{\"id\": \"Ni0fotwm56cpIcV8kFMdqA3y8N6YY\", \"location_id\": \"LCN0KMDE4Y5WR\", \"transaction_id\": \"o2QhPTMErWXvoxvwCfvDNuM8Nh4F\", \"created_at\": \"2021-05-27T17:31:46Z\", \"amount_money\": {\"amount\": 6000, \"currency\": \"USD\"}, \"processing_fee_money\": {\"amount\": 204, \"currency\": \"USD\"}, \"customer_id\": \"GZQVMW39FN4A7AXZY7B4J2TAYM\", \"type\": \"CARD\", \"card_details\": {\"status\": \"CAPTURED\", \"card\": {\"card_brand\": \"VISA\", \"last_4\": \"5858\", \"fingerprint\": \"sq-1-8GfB5DbWfI0TLLeFutEnasRHjltOm6-xCguYHuKmVaM0zfa7lqO7BQUotqmSZfbYUA\"}, \"entry_method\": \"KEYED\"}}], \"product\": \"EXTERNAL_API\", \"order_id\": \"o2QhPTMErWXvoxvwCfvDNuM8Nh4F\"}}))\n",
       "        });</script>\n",
       "        "
      ],
      "text/plain": [
       "<IPython.core.display.HTML object>"
      ]
     },
     "metadata": {},
     "output_type": "display_data"
    }
   ],
   "source": [
    "# transaction (deprecated)\n",
    "result = client.transactions.retrieve_transaction(\n",
    "  location_id = \"LCN0KMDE4Y5WR\",\n",
    "  transaction_id = \"o2QhPTMErWXvoxvwCfvDNuM8Nh4F\"\n",
    ")\n",
    "\n",
    "if result.is_success():\n",
    "  RenderJSON(json.loads(result.text))\n",
    "elif result.is_error():\n",
    "  print(result.errors)"
   ]
  },
  {
   "cell_type": "code",
   "execution_count": null,
   "id": "c2b9cde4",
   "metadata": {},
   "outputs": [],
   "source": [
    "# refund\n",
    "# ref: https://developer.squareup.com/explorer/square/refunds-api/refund-payment\n",
    "# so far, the API only support refund based on amount\n",
    "# i.e., the itemized refund require further develpment to wrap the chosen item as a totoal amount\n",
    "# and write a note (or some other tracking method) to point to the refund items. \n",
    "# Note: Square terminal already implement itemized refund using similar wrapper idea mentioned above.\n",
    "\n",
    "# Note: the implementation of refund in real world scenario can be much more complicated.\n",
    "# e.g., a customer comes with a latte and claim it has been too much sugar and asks for refund.\n",
    "# the barista might just process the request anyways without asking about proof of purchase, like receipt or\n",
    "# card information. While it is suggested that to always trace back the purchase information (e.g., payment_id).\n",
    "# So, the workflow is more intact.\n",
    "\n",
    "# In this demo, assuming:\n",
    "# - the occurance of return is very little that to affect the overall transactions.\n",
    "# - the casher can always trace back the original payment_id (using receipt, or tender info).\n",
    "\n",
    "# module refund:"
   ]
  },
  {
   "cell_type": "code",
   "execution_count": 56,
   "id": "a4d091f3",
   "metadata": {},
   "outputs": [
    {
     "data": {
      "text/html": [
       "<div id=\"a1cfbda7-90c5-449e-9307-8252f150c4a0\" style=\"height: auto; width:100%;\"></div>"
      ],
      "text/plain": [
       "<IPython.core.display.HTML object>"
      ]
     },
     "metadata": {},
     "output_type": "display_data"
    },
    {
     "data": {
      "text/html": [
       "<script>\n",
       "        require([\"https://rawgit.com/caldwell/renderjson/master/renderjson.js\"], function() {\n",
       "          renderjson.set_show_to_level(1)\n",
       "          document.getElementById('a1cfbda7-90c5-449e-9307-8252f150c4a0').appendChild(renderjson({\"order\": {\"id\": \"wYxuBFr3Z2sq65QpNuzWBImRZc4F\", \"location_id\": \"LCN0KMDE4Y5WR\", \"line_items\": [{\"uid\": \"RoY6zr3fO5yNWyXbZlgGK\", \"catalog_object_id\": \"IRC3NJWX5QBVIW7U736JPRCC\", \"quantity\": \"4\", \"name\": \"Hat\", \"variation_name\": \"Blu hat\", \"base_price_money\": {\"amount\": 1000, \"currency\": \"USD\"}, \"gross_sales_money\": {\"amount\": 4000, \"currency\": \"USD\"}, \"total_tax_money\": {\"amount\": 0, \"currency\": \"USD\"}, \"total_discount_money\": {\"amount\": 0, \"currency\": \"USD\"}, \"total_money\": {\"amount\": 4000, \"currency\": \"USD\"}, \"variation_total_price_money\": {\"amount\": 4000, \"currency\": \"USD\"}}, {\"uid\": \"pe6hyAh97ZuxDCZRSo0C0C\", \"catalog_object_id\": \"KYZZN57QA5JHS6CWZBMWMEE6\", \"quantity\": \"5\", \"name\": \"Shirt\", \"variation_name\": \"Small red shirt\", \"base_price_money\": {\"amount\": 2500, \"currency\": \"USD\"}, \"gross_sales_money\": {\"amount\": 12500, \"currency\": \"USD\"}, \"total_tax_money\": {\"amount\": 0, \"currency\": \"USD\"}, \"total_discount_money\": {\"amount\": 0, \"currency\": \"USD\"}, \"total_money\": {\"amount\": 12500, \"currency\": \"USD\"}, \"variation_total_price_money\": {\"amount\": 12500, \"currency\": \"USD\"}}], \"created_at\": \"2021-05-27T23:41:47.782Z\", \"updated_at\": \"2021-05-27T23:41:50.000Z\", \"state\": \"COMPLETED\", \"version\": 4, \"total_tax_money\": {\"amount\": 0, \"currency\": \"USD\"}, \"total_discount_money\": {\"amount\": 0, \"currency\": \"USD\"}, \"total_tip_money\": {\"amount\": 0, \"currency\": \"USD\"}, \"total_money\": {\"amount\": 16500, \"currency\": \"USD\"}, \"closed_at\": \"2021-05-27T23:41:48.223Z\", \"tenders\": [{\"id\": \"7Z2gqg12ldVdymOHio9uwRKVFxNZY\", \"location_id\": \"LCN0KMDE4Y5WR\", \"transaction_id\": \"wYxuBFr3Z2sq65QpNuzWBImRZc4F\", \"created_at\": \"2021-05-27T23:41:48Z\", \"amount_money\": {\"amount\": 16500, \"currency\": \"USD\"}, \"type\": \"CARD\", \"card_details\": {\"status\": \"CAPTURED\", \"card\": {\"card_brand\": \"MASTERCARD\", \"last_4\": \"9029\", \"fingerprint\": \"sq-1-7fcVk-Ggytsmj1IYgAMoKocTW6FzLYk8caCVduYXiBPyeuXdGSYctKvVU0DqO-zoAw\"}, \"entry_method\": \"KEYED\"}, \"payment_id\": \"7Z2gqg12ldVdymOHio9uwRKVFxNZY\"}], \"total_service_charge_money\": {\"amount\": 0, \"currency\": \"USD\"}, \"net_amounts\": {\"total_money\": {\"amount\": 16500, \"currency\": \"USD\"}, \"tax_money\": {\"amount\": 0, \"currency\": \"USD\"}, \"discount_money\": {\"amount\": 0, \"currency\": \"USD\"}, \"tip_money\": {\"amount\": 0, \"currency\": \"USD\"}, \"service_charge_money\": {\"amount\": 0, \"currency\": \"USD\"}}, \"source\": {\"name\": \"Sandbox for sq0idp-GR3pOcojbOkjVWWHR5YCyA\"}}}))\n",
       "        });</script>\n",
       "        "
      ],
      "text/plain": [
       "<IPython.core.display.HTML object>"
      ]
     },
     "metadata": {},
     "output_type": "display_data"
    }
   ],
   "source": [
    "from datetime import date\n",
    "\n",
    "result = client.payments.list_payments(begin_time=\"2021-01-01T00:00:00.007Z\",\n",
    "                             end_time=\"2021-06-01T00:00:00.007Z\")\n",
    "if result.is_success():\n",
    "#   RenderJSON(json.loads(result.text))\n",
    "    pass\n",
    "elif result.is_error():\n",
    "  print(result.errors)\n",
    "\n",
    "\n",
    "result = client.payments.get_payment(payment_id=\"7Z2gqg12ldVdymOHio9uwRKVFxNZY\")\n",
    "if result.is_success():\n",
    "#   RenderJSON(json.loads(result.text))\n",
    "    pass\n",
    "elif result.is_error():\n",
    "  print(result.errors)\n",
    "order_id = result.body.get(\"payment\").get(\"order_id\")\n",
    "\n",
    "result = client.orders.retrieve_order(order_id=order_id)\n",
    "if result.is_success():\n",
    "  RenderJSON(json.loads(result.text))\n",
    "elif result.is_error():\n",
    "  print(result.errors)\n",
    "\n",
    "# result\n",
    "# \"order\": ⊖{\n",
    "#         \"id\": \"wYxuBFr3Z2sq65QpNuzWBImRZc4F\",\n",
    "#         \"location_id\": \"LCN0KMDE4Y5WR\",\n",
    "#         \"line_items\": ⊕[2 items],\n",
    "#         \"created_at\": \"2021-05-27T23:41:47.782Z\",\n",
    "#         \"updated_at\": \"2021-05-27T23:41:50.000Z\",\n",
    "#         \"state\": \"COMPLETED\",\n",
    "#         \"version\": 4,\n",
    "#         \"total_tax_money\": ⊕{2 items},\n",
    "#         \"total_discount_money\": ⊕{2 items},\n",
    "#         \"total_tip_money\": ⊕{2 items},\n",
    "#         \"total_money\": ⊕{2 items},\n",
    "#         \"closed_at\": \"2021-05-27T23:41:48.223Z\",\n",
    "#         \"tenders\": ⊕[1 item],\n",
    "#         \"total_service_charge_money\": ⊕{2 items},\n",
    "#         \"net_amounts\": ⊕{5 items},\n",
    "#         \"source\": ⊕{1 item}\n",
    "#     }\n",
    "\n",
    "# continue"
   ]
  },
  {
   "cell_type": "code",
   "execution_count": 75,
   "id": "ae617c20",
   "metadata": {},
   "outputs": [
    {
     "data": {
      "text/plain": [
       "6000"
      ]
     },
     "execution_count": 75,
     "metadata": {},
     "output_type": "execute_result"
    }
   ],
   "source": [
    "# prep items to return\n",
    "# require\n",
    "# - payment id (from earlier)\n",
    "# - line_items info (catalog_object_id, base_price_money.amount, quantity(as max refunable))\n",
    "# - quatity of line_items to return \n",
    "\n",
    "# line_items, (log this)\n",
    "line_items = result.body.get(\"order\").get(\"line_items\")\n",
    "quantity_to_refund_list = [1, 2]\n",
    "\n",
    "def line_items_trim(line_items):\n",
    "    return [[item.get(\"catalog_object_id\"), \n",
    "                       item.get(\"base_price_money\").get(\"amount\"),\n",
    "                       item.get(\"quantity\"),\n",
    "                       item.get(\"name\"),\n",
    "                       item.get(\"variation_name\")] for item in line_items]\n",
    "line_items_refunds = [item_info for item_info in zip(line_items_trim(line_items), quantity_to_refund_list)]\n",
    "# note_refunds, (log this)\n",
    "note_refunds = [f\"{item_refunds[1]} x {item_refunds[0][4]}\" for item_refunds in line_items_refunds]\n",
    "amount_refunds = sum([item_refunds[0][1] * item_refunds[1] for item_refunds in line_items_refunds])\n",
    "\n"
   ]
  },
  {
   "cell_type": "code",
   "execution_count": 107,
   "id": "01b3dcde",
   "metadata": {},
   "outputs": [
    {
     "data": {
      "text/plain": [
       "6000"
      ]
     },
     "execution_count": 107,
     "metadata": {},
     "output_type": "execute_result"
    }
   ],
   "source": [
    "# prep items to return V2\n",
    "line_items = result.body.get(\"order\").get(\"line_items\")\n",
    "line_items_refund = line_items\n",
    "\n",
    "quantity_to_refund_list = [1,2]\n",
    "for (item, quant) in zip(line_items_new, quantity_to_refund_list):\n",
    "    item[\"quantity\"] = quant\n",
    "line_items_refund\n",
    "\n",
    "amount_refunds = sum(\n",
    "    [amount*quant for (amount,quant) in \n",
    "     zip([item.get(\"base_price_money\").get(\"amount\") for item in line_items], quantity_to_refund_list)])\n",
    "amount_refunds"
   ]
  },
  {
   "cell_type": "code",
   "execution_count": 104,
   "id": "c2815930",
   "metadata": {},
   "outputs": [
    {
     "data": {
      "text/plain": [
       "[{'base_price_money': {'amount': 1000, 'currency': 'USD'},\n",
       "  'catalog_object_id': 'IRC3NJWX5QBVIW7U736JPRCC',\n",
       "  'gross_sales_money': {'amount': 4000, 'currency': 'USD'},\n",
       "  'name': 'Hat',\n",
       "  'quantity': 2,\n",
       "  'total_discount_money': {'amount': 0, 'currency': 'USD'},\n",
       "  'total_money': {'amount': 4000, 'currency': 'USD'},\n",
       "  'total_tax_money': {'amount': 0, 'currency': 'USD'},\n",
       "  'uid': 'RoY6zr3fO5yNWyXbZlgGK',\n",
       "  'variation_name': 'Blu hat',\n",
       "  'variation_total_price_money': {'amount': 4000, 'currency': 'USD'}},\n",
       " {'base_price_money': {'amount': 2500, 'currency': 'USD'},\n",
       "  'catalog_object_id': 'KYZZN57QA5JHS6CWZBMWMEE6',\n",
       "  'gross_sales_money': {'amount': 12500, 'currency': 'USD'},\n",
       "  'name': 'Shirt',\n",
       "  'quantity': 1,\n",
       "  'total_discount_money': {'amount': 0, 'currency': 'USD'},\n",
       "  'total_money': {'amount': 12500, 'currency': 'USD'},\n",
       "  'total_tax_money': {'amount': 0, 'currency': 'USD'},\n",
       "  'uid': 'pe6hyAh97ZuxDCZRSo0C0C',\n",
       "  'variation_name': 'Small red shirt',\n",
       "  'variation_total_price_money': {'amount': 12500, 'currency': 'USD'}}]"
      ]
     },
     "execution_count": 104,
     "metadata": {},
     "output_type": "execute_result"
    }
   ],
   "source": [
    "line_items_refund = line_items\n",
    "quantity_to_refund_list = [2,1]\n",
    "for (item, quant) in zip(line_items_new, quantity_to_refund_list):\n",
    "    item[\"quantity\"] = quant\n",
    "line_items_refund"
   ]
  },
  {
   "cell_type": "code",
   "execution_count": 76,
   "id": "19427b28",
   "metadata": {},
   "outputs": [
    {
     "data": {
      "text/html": [
       "<div id=\"7a7b793b-0ae1-42d1-8c52-3ebe6486bcd4\" style=\"height: auto; width:100%;\"></div>"
      ],
      "text/plain": [
       "<IPython.core.display.HTML object>"
      ]
     },
     "metadata": {},
     "output_type": "display_data"
    },
    {
     "data": {
      "text/html": [
       "<script>\n",
       "        require([\"https://rawgit.com/caldwell/renderjson/master/renderjson.js\"], function() {\n",
       "          renderjson.set_show_to_level(1)\n",
       "          document.getElementById('7a7b793b-0ae1-42d1-8c52-3ebe6486bcd4').appendChild(renderjson({\"refund\": {\"id\": \"7Z2gqg12ldVdymOHio9uwRKVFxNZY_hiuXsma0FNoYKZMidDSsryrrCnNgcvPzZUdgR5vYhDS\", \"status\": \"PENDING\", \"amount_money\": {\"amount\": 6000, \"currency\": \"USD\"}, \"payment_id\": \"7Z2gqg12ldVdymOHio9uwRKVFxNZY\", \"order_id\": \"mJIcrOIJY5D9CD7gLk5xm24iWe4F\", \"created_at\": \"2021-05-28T04:46:20.393Z\", \"updated_at\": \"2021-05-28T04:46:20.393Z\", \"location_id\": \"LCN0KMDE4Y5WR\", \"reason\": \"REFOND REASON\"}}))\n",
       "        });</script>\n",
       "        "
      ],
      "text/plain": [
       "<IPython.core.display.HTML object>"
      ]
     },
     "metadata": {},
     "output_type": "display_data"
    }
   ],
   "source": [
    "# module: refunds.refund_payment\n",
    "result = client.refunds.refund_payment(\n",
    "  body = {\n",
    "    \"idempotency_key\": str(uuid.uuid4()),\n",
    "    \"amount_money\": {\n",
    "      \"amount\": amount_refunds,\n",
    "      \"currency\": \"USD\"\n",
    "    },\n",
    "    \"payment_id\": \"7Z2gqg12ldVdymOHio9uwRKVFxNZY\",\n",
    "    \"reason\": \"REFUND REASON\"\n",
    "  }\n",
    ")\n",
    "\n",
    "if result.is_success():\n",
    "  RenderJSON(json.loads(result.text))\n",
    "elif result.is_error():\n",
    "  print(result.errors)\n",
    "\n",
    "# result\n",
    "# \"refund\": ⊖{\n",
    "#         \"id\": \"7Z2gqg12ldVdymOHio9uwRKVFxNZY_hiuXsma0FNoYKZMidDSsryrrCnNgcvPzZUdgR5vYhDS\",\n",
    "#         \"status\": \"PENDING\",\n",
    "#         \"amount_money\": ⊖{\n",
    "#             \"amount\": 6000,\n",
    "#             \"currency\": \"USD\"\n",
    "#         },\n",
    "#         \"payment_id\": \"7Z2gqg12ldVdymOHio9uwRKVFxNZY\",\n",
    "#         \"order_id\": \"mJIcrOIJY5D9CD7gLk5xm24iWe4F\",\n",
    "#         \"created_at\": \"2021-05-28T04:46:20.393Z\",\n",
    "#         \"updated_at\": \"2021-05-28T04:46:20.393Z\",\n",
    "#         \"location_id\": \"LCN0KMDE4Y5WR\",\n",
    "#         \"reason\": \"REFOND REASON\"\n",
    "#     }"
   ]
  },
  {
   "cell_type": "code",
   "execution_count": null,
   "id": "12397f7d",
   "metadata": {},
   "outputs": [],
   "source": []
  },
  {
   "cell_type": "code",
   "execution_count": null,
   "id": "301e0a1c",
   "metadata": {},
   "outputs": [],
   "source": []
  },
  {
   "cell_type": "code",
   "execution_count": 79,
   "id": "5ca00b1c",
   "metadata": {},
   "outputs": [
    {
     "data": {
      "text/html": [
       "<div id=\"64735fc8-f3dd-40de-afcc-397f5abbfd1a\" style=\"height: auto; width:100%;\"></div>"
      ],
      "text/plain": [
       "<IPython.core.display.HTML object>"
      ]
     },
     "metadata": {},
     "output_type": "display_data"
    },
    {
     "data": {
      "text/html": [
       "<script>\n",
       "        require([\"https://rawgit.com/caldwell/renderjson/master/renderjson.js\"], function() {\n",
       "          renderjson.set_show_to_level(1)\n",
       "          document.getElementById('64735fc8-f3dd-40de-afcc-397f5abbfd1a').appendChild(renderjson({\"payment\": {\"id\": \"7Z2gqg12ldVdymOHio9uwRKVFxNZY\", \"created_at\": \"2021-05-27T23:41:48.029Z\", \"updated_at\": \"2021-05-28T04:46:20.393Z\", \"amount_money\": {\"amount\": 16500, \"currency\": \"USD\"}, \"refunded_money\": {\"amount\": 6000, \"currency\": \"USD\"}, \"status\": \"COMPLETED\", \"delay_duration\": \"PT168H\", \"source_type\": \"CARD\", \"card_details\": {\"status\": \"CAPTURED\", \"card\": {\"card_brand\": \"MASTERCARD\", \"last_4\": \"9029\", \"exp_month\": 5, \"exp_year\": 2023, \"fingerprint\": \"sq-1-7fcVk-Ggytsmj1IYgAMoKocTW6FzLYk8caCVduYXiBPyeuXdGSYctKvVU0DqO-zoAw\", \"card_type\": \"CREDIT\", \"prepaid_type\": \"NOT_PREPAID\", \"bin\": \"540988\"}, \"entry_method\": \"KEYED\", \"cvv_status\": \"CVV_ACCEPTED\", \"avs_status\": \"AVS_ACCEPTED\", \"statement_description\": \"SQ *SQUARE SANDBOX NO2 G\", \"card_payment_timeline\": {\"authorized_at\": \"2021-05-27T23:41:48.136Z\", \"captured_at\": \"2021-05-27T23:41:48.212Z\"}}, \"location_id\": \"LCN0KMDE4Y5WR\", \"order_id\": \"wYxuBFr3Z2sq65QpNuzWBImRZc4F\", \"refund_ids\": [\"7Z2gqg12ldVdymOHio9uwRKVFxNZY_hiuXsma0FNoYKZMidDSsryrrCnNgcvPzZUdgR5vYhDS\"], \"risk_evaluation\": {\"created_at\": \"2021-05-27T23:41:48.136Z\", \"risk_level\": \"NORMAL\"}, \"processing_fee\": [{\"effective_at\": \"2021-05-28T01:41:49.000Z\", \"type\": \"INITIAL\", \"amount_money\": {\"amount\": 509, \"currency\": \"USD\"}}], \"total_money\": {\"amount\": 16500, \"currency\": \"USD\"}, \"approved_money\": {\"amount\": 16500, \"currency\": \"USD\"}, \"receipt_number\": \"7Z2g\", \"receipt_url\": \"https://squareupsandbox.com/receipt/preview/7Z2gqg12ldVdymOHio9uwRKVFxNZY\", \"delay_action\": \"CANCEL\", \"delayed_until\": \"2021-06-03T23:41:48.029Z\", \"version_token\": \"7iQJDqm8rVVnq07iyJWgORFWia95Nbir0qHMeieqUrs6o\"}}))\n",
       "        });</script>\n",
       "        "
      ],
      "text/plain": [
       "<IPython.core.display.HTML object>"
      ]
     },
     "metadata": {},
     "output_type": "display_data"
    },
    {
     "data": {
      "text/html": [
       "<div id=\"83336bbd-7650-4cb9-867b-c0045c34a3bc\" style=\"height: auto; width:100%;\"></div>"
      ],
      "text/plain": [
       "<IPython.core.display.HTML object>"
      ]
     },
     "metadata": {},
     "output_type": "display_data"
    },
    {
     "data": {
      "text/html": [
       "<script>\n",
       "        require([\"https://rawgit.com/caldwell/renderjson/master/renderjson.js\"], function() {\n",
       "          renderjson.set_show_to_level(1)\n",
       "          document.getElementById('83336bbd-7650-4cb9-867b-c0045c34a3bc').appendChild(renderjson({\"order\": {\"id\": \"mJIcrOIJY5D9CD7gLk5xm24iWe4F\", \"location_id\": \"LCN0KMDE4Y5WR\", \"created_at\": \"2021-05-28T04:46:20.409Z\", \"updated_at\": \"2021-05-28T04:46:23.000Z\", \"state\": \"COMPLETED\", \"version\": 4, \"closed_at\": \"2021-05-28T04:46:22.234Z\", \"returns\": [{\"uid\": \"eEfPnchFIT5BeKqEM523LB\", \"source_order_id\": \"wYxuBFr3Z2sq65QpNuzWBImRZc4F\", \"return_line_items\": [{\"uid\": \"1XD5cp6HFUUv3WrxmrdGVD\", \"quantity\": \"1\", \"base_price_money\": {\"amount\": 6000, \"currency\": \"USD\"}, \"variation_total_price_money\": {\"amount\": 6000, \"currency\": \"USD\"}, \"gross_return_money\": {\"amount\": 6000, \"currency\": \"USD\"}, \"total_tax_money\": {\"amount\": 0, \"currency\": \"USD\"}, \"total_discount_money\": {\"amount\": 0, \"currency\": \"USD\"}, \"total_money\": {\"amount\": 6000, \"currency\": \"USD\"}}]}], \"return_amounts\": {\"total_money\": {\"amount\": 6000, \"currency\": \"USD\"}, \"tax_money\": {\"amount\": 0, \"currency\": \"USD\"}, \"discount_money\": {\"amount\": 0, \"currency\": \"USD\"}, \"tip_money\": {\"amount\": 0, \"currency\": \"USD\"}, \"service_charge_money\": {\"amount\": 0, \"currency\": \"USD\"}}, \"refunds\": [{\"id\": \"hiuXsma0FNoYKZMidDSsryrrCnNgcvPzZUdgR5vYhDS\", \"location_id\": \"LCN0KMDE4Y5WR\", \"transaction_id\": \"wYxuBFr3Z2sq65QpNuzWBImRZc4F\", \"tender_id\": \"7Z2gqg12ldVdymOHio9uwRKVFxNZY\", \"created_at\": \"2021-05-28T04:46:20Z\", \"reason\": \"REFOND REASON\", \"amount_money\": {\"amount\": 6000, \"currency\": \"USD\"}, \"status\": \"APPROVED\"}], \"source\": {}}}))\n",
       "        });</script>\n",
       "        "
      ],
      "text/plain": [
       "<IPython.core.display.HTML object>"
      ]
     },
     "metadata": {},
     "output_type": "display_data"
    },
    {
     "data": {
      "text/html": [
       "<div id=\"23ca38c3-7739-413d-a452-6ac0fa026aad\" style=\"height: auto; width:100%;\"></div>"
      ],
      "text/plain": [
       "<IPython.core.display.HTML object>"
      ]
     },
     "metadata": {},
     "output_type": "display_data"
    },
    {
     "data": {
      "text/html": [
       "<script>\n",
       "        require([\"https://rawgit.com/caldwell/renderjson/master/renderjson.js\"], function() {\n",
       "          renderjson.set_show_to_level(1)\n",
       "          document.getElementById('23ca38c3-7739-413d-a452-6ac0fa026aad').appendChild(renderjson({\"order\": {\"id\": \"wYxuBFr3Z2sq65QpNuzWBImRZc4F\", \"location_id\": \"LCN0KMDE4Y5WR\", \"line_items\": [{\"uid\": \"RoY6zr3fO5yNWyXbZlgGK\", \"catalog_object_id\": \"IRC3NJWX5QBVIW7U736JPRCC\", \"quantity\": \"4\", \"name\": \"Hat\", \"variation_name\": \"Blu hat\", \"base_price_money\": {\"amount\": 1000, \"currency\": \"USD\"}, \"gross_sales_money\": {\"amount\": 4000, \"currency\": \"USD\"}, \"total_tax_money\": {\"amount\": 0, \"currency\": \"USD\"}, \"total_discount_money\": {\"amount\": 0, \"currency\": \"USD\"}, \"total_money\": {\"amount\": 4000, \"currency\": \"USD\"}, \"variation_total_price_money\": {\"amount\": 4000, \"currency\": \"USD\"}}, {\"uid\": \"pe6hyAh97ZuxDCZRSo0C0C\", \"catalog_object_id\": \"KYZZN57QA5JHS6CWZBMWMEE6\", \"quantity\": \"5\", \"name\": \"Shirt\", \"variation_name\": \"Small red shirt\", \"base_price_money\": {\"amount\": 2500, \"currency\": \"USD\"}, \"gross_sales_money\": {\"amount\": 12500, \"currency\": \"USD\"}, \"total_tax_money\": {\"amount\": 0, \"currency\": \"USD\"}, \"total_discount_money\": {\"amount\": 0, \"currency\": \"USD\"}, \"total_money\": {\"amount\": 12500, \"currency\": \"USD\"}, \"variation_total_price_money\": {\"amount\": 12500, \"currency\": \"USD\"}}], \"created_at\": \"2021-05-27T23:41:47.782Z\", \"updated_at\": \"2021-05-28T04:46:25.170Z\", \"state\": \"COMPLETED\", \"version\": 9, \"total_tax_money\": {\"amount\": 0, \"currency\": \"USD\"}, \"total_discount_money\": {\"amount\": 0, \"currency\": \"USD\"}, \"total_tip_money\": {\"amount\": 0, \"currency\": \"USD\"}, \"total_money\": {\"amount\": 16500, \"currency\": \"USD\"}, \"closed_at\": \"2021-05-27T23:41:48.223Z\", \"tenders\": [{\"id\": \"7Z2gqg12ldVdymOHio9uwRKVFxNZY\", \"location_id\": \"LCN0KMDE4Y5WR\", \"transaction_id\": \"wYxuBFr3Z2sq65QpNuzWBImRZc4F\", \"created_at\": \"2021-05-27T23:41:48Z\", \"amount_money\": {\"amount\": 16500, \"currency\": \"USD\"}, \"type\": \"CARD\", \"card_details\": {\"status\": \"CAPTURED\", \"card\": {\"card_brand\": \"MASTERCARD\", \"last_4\": \"9029\", \"fingerprint\": \"sq-1-7fcVk-Ggytsmj1IYgAMoKocTW6FzLYk8caCVduYXiBPyeuXdGSYctKvVU0DqO-zoAw\"}, \"entry_method\": \"KEYED\"}, \"payment_id\": \"7Z2gqg12ldVdymOHio9uwRKVFxNZY\"}], \"total_service_charge_money\": {\"amount\": 0, \"currency\": \"USD\"}, \"net_amounts\": {\"total_money\": {\"amount\": 16500, \"currency\": \"USD\"}, \"tax_money\": {\"amount\": 0, \"currency\": \"USD\"}, \"discount_money\": {\"amount\": 0, \"currency\": \"USD\"}, \"tip_money\": {\"amount\": 0, \"currency\": \"USD\"}, \"service_charge_money\": {\"amount\": 0, \"currency\": \"USD\"}}, \"source\": {\"name\": \"Sandbox for sq0idp-GR3pOcojbOkjVWWHR5YCyA\"}}}))\n",
       "        });</script>\n",
       "        "
      ],
      "text/plain": [
       "<IPython.core.display.HTML object>"
      ]
     },
     "metadata": {},
     "output_type": "display_data"
    }
   ],
   "source": [
    "# before going further, it is a good time to check the status of \n",
    "# order_id(a new one) \n",
    "# payment_id(same one)\n",
    "\n",
    "# note: Square immediately create an ad hoc order after refund COMPLETED\n",
    "# however, the line_items in the ad hoc order (mJIcrOIJY5D9CD7gLk5xm24iWe4F) does not reflect itermized info\n",
    "# consider using orders.update_order\n",
    "\n",
    "result = client.payments.get_payment(payment_id=\"7Z2gqg12ldVdymOHio9uwRKVFxNZY\")\n",
    "if result.is_success():\n",
    "  RenderJSON(json.loads(result.text))\n",
    "#     pass\n",
    "elif result.is_error():\n",
    "  print(result.errors)\n",
    "# order_id = result.body.get(\"payment\").get(\"order_id\")\n",
    "\n",
    "# this order is the \"new\" order associated cooresponding to the refund\n",
    "result = client.orders.retrieve_order(order_id=\"mJIcrOIJY5D9CD7gLk5xm24iWe4F\")\n",
    "if result.is_success():\n",
    "  RenderJSON(json.loads(result.text))\n",
    "elif result.is_error():\n",
    "  print(result.errors)\n",
    "\n",
    "# this is the original order\n",
    "result = client.orders.retrieve_order(order_id=\"wYxuBFr3Z2sq65QpNuzWBImRZc4F\")\n",
    "if result.is_success():\n",
    "  RenderJSON(json.loads(result.text))\n",
    "elif result.is_error():\n",
    "  print(result.errors)"
   ]
  },
  {
   "cell_type": "code",
   "execution_count": 123,
   "id": "7869beb2",
   "metadata": {},
   "outputs": [
    {
     "name": "stdout",
     "output_type": "stream",
     "text": [
      "[{'category': 'INVALID_REQUEST_ERROR', 'code': 'BAD_REQUEST', 'detail': 'Order with id `mJIcrOIJY5D9CD7gLk5xm24iWe4F` has status `COMPLETED` and cannot be updated.'}]\n"
     ]
    }
   ],
   "source": [
    "# module: update ad hoc refund order, orders.update_order\n",
    "# get the adhoc order to update\n",
    "result_adhoc = client.orders.retrieve_order(order_id=\"mJIcrOIJY5D9CD7gLk5xm24iWe4F\")\n",
    "# RenderJSON(result_adhoc.body)\n",
    "# update body part from \"prep items to return V2\"\n",
    "result_adhoc.body[\"order\"][\"returns\"][0][\"return_line_items\"] = line_items_refund\n",
    "\n",
    "result = client.orders.update_order(\n",
    "  order_id = \"mJIcrOIJY5D9CD7gLk5xm24iWe4F\",\n",
    "  body = result_adhoc.body\n",
    ")\n",
    "\n",
    "if result.is_success():\n",
    "  RenderJSON(result.body)\n",
    "elif result.is_error():\n",
    "  print(result.errors)\n",
    "\n",
    "# [{'category': 'INVALID_REQUEST_ERROR', 'code': 'BAD_REQUEST', \n",
    "#   'detail': 'Order with id `mJIcrOIJY5D9CD7gLk5xm24iWe4F` has status `COMPLETED` and cannot be updated.'}]\n"
   ]
  },
  {
   "cell_type": "code",
   "execution_count": null,
   "id": "3e1461de",
   "metadata": {},
   "outputs": [],
   "source": [
    "# last part"
   ]
  },
  {
   "cell_type": "code",
   "execution_count": 78,
   "id": "19b2bac5",
   "metadata": {},
   "outputs": [
    {
     "data": {
      "text/html": [
       "<div id=\"7af4fc06-e822-419b-be6a-5e4f7406d561\" style=\"height: auto; width:100%;\"></div>"
      ],
      "text/plain": [
       "<IPython.core.display.HTML object>"
      ]
     },
     "metadata": {},
     "output_type": "display_data"
    },
    {
     "data": {
      "text/html": [
       "<script>\n",
       "        require([\"https://rawgit.com/caldwell/renderjson/master/renderjson.js\"], function() {\n",
       "          renderjson.set_show_to_level(1)\n",
       "          document.getElementById('7af4fc06-e822-419b-be6a-5e4f7406d561').appendChild(renderjson({\"refund\": {\"id\": \"7Z2gqg12ldVdymOHio9uwRKVFxNZY_hiuXsma0FNoYKZMidDSsryrrCnNgcvPzZUdgR5vYhDS\", \"status\": \"COMPLETED\", \"amount_money\": {\"amount\": 6000, \"currency\": \"USD\"}, \"payment_id\": \"7Z2gqg12ldVdymOHio9uwRKVFxNZY\", \"order_id\": \"mJIcrOIJY5D9CD7gLk5xm24iWe4F\", \"created_at\": \"2021-05-28T04:46:20.393Z\", \"updated_at\": \"2021-05-28T04:46:23.783Z\", \"processing_fee\": [{\"effective_at\": \"2021-05-28T01:41:49.000Z\", \"type\": \"INITIAL\", \"amount_money\": {\"amount\": -174, \"currency\": \"USD\"}}], \"location_id\": \"LCN0KMDE4Y5WR\", \"reason\": \"REFOND REASON\"}}))\n",
       "        });</script>\n",
       "        "
      ],
      "text/plain": [
       "<IPython.core.display.HTML object>"
      ]
     },
     "metadata": {},
     "output_type": "display_data"
    }
   ],
   "source": [
    "# module: get refund info\n",
    "result = client.refunds.get_payment_refund(refund_id=\"7Z2gqg12ldVdymOHio9uwRKVFxNZY_hiuXsma0FNoYKZMidDSsryrrCnNgcvPzZUdgR5vYhDS\")\n",
    "if result.is_success():\n",
    "  RenderJSON(json.loads(result.text))\n",
    "elif result.is_error():\n",
    "  print(result.errors)"
   ]
  },
  {
   "cell_type": "code",
   "execution_count": null,
   "id": "d0fba51f",
   "metadata": {},
   "outputs": [],
   "source": []
  }
 ],
 "metadata": {
  "kernelspec": {
   "display_name": "Python 3",
   "language": "python",
   "name": "python3"
  },
  "language_info": {
   "codemirror_mode": {
    "name": "ipython",
    "version": 3
   },
   "file_extension": ".py",
   "mimetype": "text/x-python",
   "name": "python",
   "nbconvert_exporter": "python",
   "pygments_lexer": "ipython3",
   "version": "3.8.8"
  }
 },
 "nbformat": 4,
 "nbformat_minor": 5
}
